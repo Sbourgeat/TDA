{
 "cells": [
  {
   "cell_type": "code",
   "execution_count": null,
   "id": "3fe94ebd",
   "metadata": {},
   "outputs": [],
   "source": [
    "#import packages\n",
    "import pyvista as pv\n",
    "import gudhi\n",
    "import numpy as np\n",
    "import matplotlib.pyplot as plt\n",
    "import velour\n",
    "\n",
    "\n",
    "from gtda.homology import WeakAlphaPersistence, VietorisRipsPersistence\n",
    "from gtda.diagrams import Scaler, Filtering, PersistenceEntropy, BettiCurve, PairwiseDistance\n",
    "from gtda.graphs import KNeighborsGraph, GraphGeodesicDistance\n",
    "\n",
    "\n",
    "\n",
    "from sklearn.metrics import pairwise_distances\n",
    "\n",
    "import plotly.express as px\n",
    "from plotly.offline import init_notebook_mode, iplot\n",
    "\n",
    "\n",
    "# gtda plotting functions\n",
    "from gtda.plotting import plot_heatmap\n",
    "\n",
    "from gtda.pipeline import Pipeline\n"
   ]
  },
  {
   "cell_type": "code",
   "execution_count": null,
   "id": "30679beb",
   "metadata": {},
   "outputs": [],
   "source": [
    "import pyvista as pv\n",
    "import ipywidgets \n",
    "import igraph\n",
    "import gudhi\n",
    "import numpy as np\n",
    "import matplotlib.pyplot as plt\n",
    "import velour"
   ]
  },
  {
   "cell_type": "code",
   "execution_count": 36,
   "id": "5d593b65",
   "metadata": {},
   "outputs": [
    {
     "name": "stdout",
     "output_type": "stream",
     "text": [
      "/Users/skumar/TDA/Mesh\n"
     ]
    }
   ],
   "source": [
    "cd Mesh/"
   ]
  },
  {
   "cell_type": "code",
   "execution_count": 39,
   "id": "942e24ae",
   "metadata": {},
   "outputs": [
    {
     "data": {
      "text/plain": [
       "['859_female.ply',\n",
       " '26_male.ply',\n",
       " '517_female.ply',\n",
       " '850_male.ply',\n",
       " '439_female.ply',\n",
       " '705_female.ply',\n",
       " '195_female.ply',\n",
       " '176_female.ply',\n",
       " '439_male.ply',\n",
       " '59_female.ply',\n",
       " '787_male.ply',\n",
       " '91_male.ply',\n",
       " '900_male.ply',\n",
       " '359_female.ply',\n",
       " '853_female.ply',\n",
       " '359_male.ply',\n",
       " '796_male.ply',\n",
       " '705_male.ply',\n",
       " '176_male.ply',\n",
       " '595_male.ply',\n",
       " '321_female.ply',\n",
       " '26_female.ply',\n",
       " '365_female.ply',\n",
       " '900_female.ply',\n",
       " '853_male.ply',\n",
       " '362_male.ply',\n",
       " '59_male.ply',\n",
       " '321_male.ply',\n",
       " '859_male.ply',\n",
       " '365_male.ply',\n",
       " '739_male.ply',\n",
       " '395_female.ply',\n",
       " '517_male.ply',\n",
       " '405_female.ply',\n",
       " '439_male_2.ply',\n",
       " '796_female.ply',\n",
       " '362_female.ply',\n",
       " '595_female.ply',\n",
       " '304_male.ply',\n",
       " '787_female.ply',\n",
       " 'peanut',\n",
       " 'sphere',\n",
       " 'cylinder',\n",
       " 'croisant']"
      ]
     },
     "execution_count": 39,
     "metadata": {},
     "output_type": "execute_result"
    }
   ],
   "source": [
    "import os\n",
    "\n",
    "arr = os.listdir()\n",
    "arr\n",
    "\n",
    "arr.append(\"peanut\")\n",
    "arr.append(\"sphere\")\n",
    "arr.append(\"cylinder\")\n",
    "arr.append(\"croisant\")\n",
    "\n",
    "arr"
   ]
  },
  {
   "cell_type": "code",
   "execution_count": null,
   "id": "61b9107c",
   "metadata": {},
   "outputs": [],
   "source": [
    "len(arr)"
   ]
  },
  {
   "cell_type": "code",
   "execution_count": null,
   "id": "421c9b21",
   "metadata": {},
   "outputs": [],
   "source": [
    "A = []\n",
    "mypath = \"/Users/skumar/TDA/Mesh/\"\n",
    "for i in arr:\n",
    "    print(mypath + i)\n",
    "    A.append(mypath + i)\n",
    "    \n",
    "    "
   ]
  },
  {
   "cell_type": "code",
   "execution_count": null,
   "id": "04df5343",
   "metadata": {},
   "outputs": [],
   "source": [
    "A"
   ]
  },
  {
   "cell_type": "code",
   "execution_count": null,
   "id": "4755212b",
   "metadata": {},
   "outputs": [],
   "source": [
    "Mesh = []"
   ]
  },
  {
   "cell_type": "code",
   "execution_count": null,
   "id": "b6f69658",
   "metadata": {},
   "outputs": [],
   "source": [
    "for i in A:\n",
    "    mesh = pv.read(i)\n",
    "    x = mesh.points\n",
    "    N = 1000\n",
    "    x=x[np.random.choice(len(x), size=N, replace=False)]\n",
    "    #x= x.reshape(1, *x.shape)\n",
    "    Mesh.append(x)\n",
    "    "
   ]
  },
  {
   "cell_type": "code",
   "execution_count": null,
   "id": "ed448a5d",
   "metadata": {},
   "outputs": [],
   "source": [
    "X=[]\n",
    "for i in Mesh:\n",
    "    X.append(i)\n",
    "    print(i)"
   ]
  },
  {
   "cell_type": "code",
   "execution_count": null,
   "id": "a43b293d",
   "metadata": {},
   "outputs": [],
   "source": []
  },
  {
   "cell_type": "code",
   "execution_count": null,
   "id": "4086d913",
   "metadata": {},
   "outputs": [],
   "source": [
    "X = np.array(X)"
   ]
  },
  {
   "cell_type": "code",
   "execution_count": null,
   "id": "77cafe58",
   "metadata": {},
   "outputs": [],
   "source": [
    "X.shape"
   ]
  },
  {
   "cell_type": "code",
   "execution_count": null,
   "id": "ecca8b54",
   "metadata": {},
   "outputs": [],
   "source": [
    "\n",
    "from gtda.homology import VietorisRipsPersistence\n",
    "\n",
    "print(\"Computing VietorisRips persistence\")\n",
    "\n",
    "\n",
    "VR = VietorisRipsPersistence(homology_dimensions=[0, 1, 2])  # Connected components, holes, void\n",
    "#WA = WeakAlphaPersistence(homology_dimensions=(0, 1, 2))\n",
    "#X_reshaped= X[0].reshape(1, *X[0].shape)\n",
    "diagrams = VR.fit_transform(X)\n",
    "diagrams.shape"
   ]
  },
  {
   "cell_type": "code",
   "execution_count": null,
   "id": "4d17e1b6",
   "metadata": {},
   "outputs": [],
   "source": []
  },
  {
   "cell_type": "code",
   "execution_count": null,
   "id": "11a631e6",
   "metadata": {},
   "outputs": [],
   "source": [
    "from gtda.plotting import plot_diagram\n",
    "\n",
    "i = 0\n",
    "\n",
    "plot = plot_diagram(diagrams[i])\n",
    "\n",
    "plot.show()"
   ]
  },
  {
   "cell_type": "code",
   "execution_count": null,
   "id": "f2884846",
   "metadata": {},
   "outputs": [],
   "source": [
    "from gtda.homology import WeakAlphaPersistence, VietorisRipsPersistence\n",
    "from gtda.diagrams import Scaler, Filtering, PersistenceEntropy, BettiCurve, PairwiseDistance\n",
    "from gtda.graphs import KNeighborsGraph, GraphGeodesicDistance\n"
   ]
  },
  {
   "cell_type": "code",
   "execution_count": null,
   "id": "54a54535",
   "metadata": {},
   "outputs": [],
   "source": [
    "'Rescaling diagrams'\n",
    "\n",
    "window_number =  28\n",
    "\n",
    "diagramScaler = Scaler()\n",
    "\n",
    "X_scaled = diagramScaler.fit_transform(diagrams)\n",
    "\n",
    "print(\"scaled diagram\")\n",
    "plot = diagramScaler.plot(X_scaled, sample=window_number)\n",
    "\n",
    "plot.show()\n"
   ]
  },
  {
   "cell_type": "code",
   "execution_count": null,
   "id": "8de02bcd",
   "metadata": {},
   "outputs": [],
   "source": [
    "from gtda.diagrams import PersistenceLandscape\n",
    "window_number =  28\n",
    "\n",
    "PL = PersistenceLandscape()\n",
    "\n",
    "X_PL = PL.fit_transform(X_scaled)\n",
    "\n",
    "fig= PL.plot(X_PL, sample=window_number)\n",
    "fig.show()"
   ]
  },
  {
   "cell_type": "code",
   "execution_count": null,
   "id": "06d24fa3",
   "metadata": {},
   "outputs": [],
   "source": [
    "'Betti curve'\n",
    "\n",
    "window_number =  13\n",
    "\n",
    "BC = BettiCurve()\n",
    "\n",
    "X_betti_curves = BC.fit_transform(X_scaled)\n",
    "\n",
    "fig = BC.plot(X_betti_curves, sample=window_number)\n",
    "fig.show()\n",
    "\n"
   ]
  },
  {
   "cell_type": "code",
   "execution_count": null,
   "id": "8fe27235",
   "metadata": {},
   "outputs": [],
   "source": [
    "from gtda.diagrams import PairwiseDistance\n",
    "\n",
    "PD = PairwiseDistance(metric='bottleneck',\n",
    "                      order=None)\n",
    "\n",
    "X_distance_L = PD.fit_transform(X_scaled)\n",
    "X_distance_L.shape\n",
    "\n",
    "\n",
    "fig = plot_heatmap(X_distance_L[:, :, 0], colorscale='reds')\n",
    "fig.show()"
   ]
  },
  {
   "cell_type": "code",
   "execution_count": null,
   "id": "6c113f31",
   "metadata": {},
   "outputs": [],
   "source": [
    "\n",
    "#2-Wasserstein distances\n",
    "\n",
    "p_W = 2\n",
    "PD = PairwiseDistance(metric='wasserstein',\n",
    "                      metric_params={'p': p_W, 'delta': 0.1},\n",
    "                      order=None)\n",
    "\n",
    "X_distance_W = PD.fit_transform(X_scaled)\n",
    "\n",
    "fig = plot_heatmap(X_distance_W[:, :, 0], colorscale='greens')\n",
    "fig.show()"
   ]
  },
  {
   "cell_type": "code",
   "execution_count": null,
   "id": "0b185a21",
   "metadata": {},
   "outputs": [],
   "source": [
    "from gtda.diagrams import PersistenceEntropy\n",
    "from gtda.plotting import plot_point_cloud\n",
    "PE = PersistenceEntropy()\n",
    "features = PE.fit_transform(diagrams)\n",
    "\n",
    "# expect shape - (n_point_clouds, n_homology_dims)\n",
    "print(\"n_point_clouds, n_homology_dims\",features)\n",
    "\n",
    "\n",
    "fig = plot_point_cloud(features)\n",
    "fig.show()\n"
   ]
  },
  {
   "cell_type": "code",
   "execution_count": null,
   "id": "5914a722",
   "metadata": {},
   "outputs": [],
   "source": [
    "PE = PersistenceEntropy()\n",
    "\n",
    "X_persistence_entropy = PE.fit_transform(X_scaled)\n",
    "\n",
    "print(\"n_point_clouds, n_homology_dims\",X_persistence_entropy)\n",
    "\n",
    "\n",
    "fig = plot_point_cloud(X_persistence_entropy)\n",
    "fig.show()"
   ]
  },
  {
   "cell_type": "code",
   "execution_count": 32,
   "id": "113af2ba",
   "metadata": {},
   "outputs": [
    {
     "data": {
      "image/png": "[encoded data removed]",
      "text/plain": [
       "<Figure size 432x288 with 1 Axes>"
      ]
     },
     "metadata": {
      "needs_background": "light"
     },
     "output_type": "display_data"
    }
   ],
   "source": [
    "import numpy as np\n",
    "\n",
    "from matplotlib import pyplot as plt\n",
    "from scipy.cluster.hierarchy import dendrogram\n",
    "from sklearn.datasets import load_iris\n",
    "from sklearn.cluster import AgglomerativeClustering\n",
    "\n",
    "\n",
    "def plot_dendrogram(model, **kwargs):\n",
    "    # Create linkage matrix and then plot the dendrogram\n",
    "\n",
    "    # create the counts of samples under each node\n",
    "    counts = np.zeros(model.children_.shape[0])\n",
    "    n_samples = len(model.labels_)\n",
    "    for i, merge in enumerate(model.children_):\n",
    "        current_count = 0\n",
    "        for child_idx in merge:\n",
    "            if child_idx < n_samples:\n",
    "                current_count += 1  # leaf node\n",
    "            else:\n",
    "                current_count += counts[child_idx - n_samples]\n",
    "        counts[i] = current_count\n",
    "\n",
    "    linkage_matrix = np.column_stack(\n",
    "        [model.children_, model.distances_, counts]\n",
    "    ).astype(float)\n",
    "\n",
    "    # Plot the corresponding dendrogram\n",
    "    dendrogram(linkage_matrix, **kwargs)\n",
    "\n",
    "\n",
    "#iris = load_iris()\n",
    "X = PE_X\n",
    "\n",
    "# setting distance_threshold=0 ensures we compute the full tree.\n",
    "model = AgglomerativeClustering(distance_threshold=0, n_clusters=None)\n",
    "\n",
    "model = model.fit(X)\n",
    "plt.title(\"Hierarchical Clustering Dendrogram\")\n",
    "# plot the top three levels of the dendrogram\n",
    "plot_dendrogram(model, truncate_mode=\"level\", p=3)\n",
    "plt.xlabel(\"Number of points in node (or index of point if no parenthesis).\")\n",
    "plt.show()"
   ]
  },
  {
   "cell_type": "code",
   "execution_count": null,
   "id": "bc2c3dcd",
   "metadata": {},
   "outputs": [],
   "source": [
    "D[:,0]"
   ]
  },
  {
   "cell_type": "code",
   "execution_count": null,
   "id": "e0072eee",
   "metadata": {},
   "outputs": [],
   "source": [
    "X_persistence_entropy.shape"
   ]
  },
  {
   "cell_type": "code",
   "execution_count": null,
   "id": "ce4f48de",
   "metadata": {},
   "outputs": [],
   "source": [
    "X_persistence_entropy"
   ]
  },
  {
   "cell_type": "code",
   "execution_count": 33,
   "id": "e1619d81",
   "metadata": {},
   "outputs": [
    {
     "data": {
      "application/vnd.plotly.v1+json": {
       "config": {
        "plotlyServerURL": "https://plot.ly"
       },
       "data": [
        {
         "hoverinfo": "text",
         "marker": {
          "color": "rgb(61,153,112)"
         },
         "mode": "lines",
         "type": "scatter",
         "x": [
          15,
          15,
          25,
          25
         ],
         "xaxis": "x",
         "y": [
          0,
          0.07372826220429785,
          0.07372826220429785,
          0
         ],
         "yaxis": "y"
        },
        {
         "hoverinfo": "text",
         "marker": {
          "color": "rgb(61,153,112)"
         },
         "mode": "lines",
         "type": "scatter",
         "x": [
          45,
          45,
          55,
          55
         ],
         "xaxis": "x",
         "y": [
          0,
          0.06266256701783636,
          0.06266256701783636,
          0
         ],
         "yaxis": "y"
        },
        {
         "hoverinfo": "text",
         "marker": {
          "color": "rgb(61,153,112)"
         },
         "mode": "lines",
         "type": "scatter",
         "x": [
          35,
          35,
          50,
          50
         ],
         "xaxis": "x",
         "y": [
          0,
          0.08721178305557771,
          0.08721178305557771,
          0.06266256701783636
         ],
         "yaxis": "y"
        },
        {
         "hoverinfo": "text",
         "marker": {
          "color": "rgb(61,153,112)"
         },
         "mode": "lines",
         "type": "scatter",
         "x": [
          20,
          20,
          42.5,
          42.5
         ],
         "xaxis": "x",
         "y": [
          0.07372826220429785,
          0.20432377095796853,
          0.20432377095796853,
          0.08721178305557771
         ],
         "yaxis": "y"
        },
        {
         "hoverinfo": "text",
         "marker": {
          "color": "rgb(61,153,112)"
         },
         "mode": "lines",
         "type": "scatter",
         "x": [
          5,
          5,
          31.25,
          31.25
         ],
         "xaxis": "x",
         "y": [
          0,
          0.3482302553309121,
          0.3482302553309121,
          0.20432377095796853
         ],
         "yaxis": "y"
        },
        {
         "hoverinfo": "text",
         "marker": {
          "color": "rgb(61,153,112)"
         },
         "mode": "lines",
         "type": "scatter",
         "x": [
          65,
          65,
          75,
          75
         ],
         "xaxis": "x",
         "y": [
          0,
          0.06440642752064867,
          0.06440642752064867,
          0
         ],
         "yaxis": "y"
        },
        {
         "hoverinfo": "text",
         "marker": {
          "color": "rgb(61,153,112)"
         },
         "mode": "lines",
         "type": "scatter",
         "x": [
          85,
          85,
          95,
          95
         ],
         "xaxis": "x",
         "y": [
          0,
          0.019617734204800792,
          0.019617734204800792,
          0
         ],
         "yaxis": "y"
        },
        {
         "hoverinfo": "text",
         "marker": {
          "color": "rgb(61,153,112)"
         },
         "mode": "lines",
         "type": "scatter",
         "x": [
          115,
          115,
          125,
          125
         ],
         "xaxis": "x",
         "y": [
          0,
          0.017071804579935304,
          0.017071804579935304,
          0
         ],
         "yaxis": "y"
        },
        {
         "hoverinfo": "text",
         "marker": {
          "color": "rgb(61,153,112)"
         },
         "mode": "lines",
         "type": "scatter",
         "x": [
          105,
          105,
          120,
          120
         ],
         "xaxis": "x",
         "y": [
          0,
          0.03935848279651384,
          0.03935848279651384,
          0.017071804579935304
         ],
         "yaxis": "y"
        },
        {
         "hoverinfo": "text",
         "marker": {
          "color": "rgb(61,153,112)"
         },
         "mode": "lines",
         "type": "scatter",
         "x": [
          135,
          135,
          145,
          145
         ],
         "xaxis": "x",
         "y": [
          0,
          0.04702805123240061,
          0.04702805123240061,
          0
         ],
         "yaxis": "y"
        },
        {
         "hoverinfo": "text",
         "marker": {
          "color": "rgb(61,153,112)"
         },
         "mode": "lines",
         "type": "scatter",
         "x": [
          112.5,
          112.5,
          140,
          140
         ],
         "xaxis": "x",
         "y": [
          0.03935848279651384,
          0.09294069447240891,
          0.09294069447240891,
          0.04702805123240061
         ],
         "yaxis": "y"
        },
        {
         "hoverinfo": "text",
         "marker": {
          "color": "rgb(61,153,112)"
         },
         "mode": "lines",
         "type": "scatter",
         "x": [
          90,
          90,
          126.25,
          126.25
         ],
         "xaxis": "x",
         "y": [
          0.019617734204800792,
          0.146629315249943,
          0.146629315249943,
          0.09294069447240891
         ],
         "yaxis": "y"
        },
        {
         "hoverinfo": "text",
         "marker": {
          "color": "rgb(61,153,112)"
         },
         "mode": "lines",
         "type": "scatter",
         "x": [
          70,
          70,
          108.125,
          108.125
         ],
         "xaxis": "x",
         "y": [
          0.06440642752064867,
          0.24018975043777308,
          0.24018975043777308,
          0.146629315249943
         ],
         "yaxis": "y"
        },
        {
         "hoverinfo": "text",
         "marker": {
          "color": "rgb(61,153,112)"
         },
         "mode": "lines",
         "type": "scatter",
         "x": [
          165,
          165,
          175,
          175
         ],
         "xaxis": "x",
         "y": [
          0,
          0.02072938097719513,
          0.02072938097719513,
          0
         ],
         "yaxis": "y"
        },
        {
         "hoverinfo": "text",
         "marker": {
          "color": "rgb(61,153,112)"
         },
         "mode": "lines",
         "type": "scatter",
         "x": [
          155,
          155,
          170,
          170
         ],
         "xaxis": "x",
         "y": [
          0,
          0.10109122773172366,
          0.10109122773172366,
          0.02072938097719513
         ],
         "yaxis": "y"
        },
        {
         "hoverinfo": "text",
         "marker": {
          "color": "rgb(61,153,112)"
         },
         "mode": "lines",
         "type": "scatter",
         "x": [
          195,
          195,
          205,
          205
         ],
         "xaxis": "x",
         "y": [
          0,
          0.10587653494007289,
          0.10587653494007289,
          0
         ],
         "yaxis": "y"
        },
        {
         "hoverinfo": "text",
         "marker": {
          "color": "rgb(61,153,112)"
         },
         "mode": "lines",
         "type": "scatter",
         "x": [
          185,
          185,
          200,
          200
         ],
         "xaxis": "x",
         "y": [
          0,
          0.16542040320643916,
          0.16542040320643916,
          0.10587653494007289
         ],
         "yaxis": "y"
        },
        {
         "hoverinfo": "text",
         "marker": {
          "color": "rgb(61,153,112)"
         },
         "mode": "lines",
         "type": "scatter",
         "x": [
          162.5,
          162.5,
          192.5,
          192.5
         ],
         "xaxis": "x",
         "y": [
          0.10109122773172366,
          0.27301319150219583,
          0.27301319150219583,
          0.16542040320643916
         ],
         "yaxis": "y"
        },
        {
         "hoverinfo": "text",
         "marker": {
          "color": "rgb(61,153,112)"
         },
         "mode": "lines",
         "type": "scatter",
         "x": [
          89.0625,
          89.0625,
          177.5,
          177.5
         ],
         "xaxis": "x",
         "y": [
          0.24018975043777308,
          0.4547509934858433,
          0.4547509934858433,
          0.27301319150219583
         ],
         "yaxis": "y"
        },
        {
         "hoverinfo": "text",
         "marker": {
          "color": "rgb(61,153,112)"
         },
         "mode": "lines",
         "type": "scatter",
         "x": [
          225,
          225,
          235,
          235
         ],
         "xaxis": "x",
         "y": [
          0,
          0.042559267199116464,
          0.042559267199116464,
          0
         ],
         "yaxis": "y"
        },
        {
         "hoverinfo": "text",
         "marker": {
          "color": "rgb(61,153,112)"
         },
         "mode": "lines",
         "type": "scatter",
         "x": [
          215,
          215,
          230,
          230
         ],
         "xaxis": "x",
         "y": [
          0,
          0.09301092943441225,
          0.09301092943441225,
          0.042559267199116464
         ],
         "yaxis": "y"
        },
        {
         "hoverinfo": "text",
         "marker": {
          "color": "rgb(61,153,112)"
         },
         "mode": "lines",
         "type": "scatter",
         "x": [
          255,
          255,
          265,
          265
         ],
         "xaxis": "x",
         "y": [
          0,
          0.04508053623785442,
          0.04508053623785442,
          0
         ],
         "yaxis": "y"
        },
        {
         "hoverinfo": "text",
         "marker": {
          "color": "rgb(61,153,112)"
         },
         "mode": "lines",
         "type": "scatter",
         "x": [
          245,
          245,
          260,
          260
         ],
         "xaxis": "x",
         "y": [
          0,
          0.0955931657010525,
          0.0955931657010525,
          0.04508053623785442
         ],
         "yaxis": "y"
        },
        {
         "hoverinfo": "text",
         "marker": {
          "color": "rgb(61,153,112)"
         },
         "mode": "lines",
         "type": "scatter",
         "x": [
          222.5,
          222.5,
          252.5,
          252.5
         ],
         "xaxis": "x",
         "y": [
          0.09301092943441225,
          0.19063475579403724,
          0.19063475579403724,
          0.0955931657010525
         ],
         "yaxis": "y"
        },
        {
         "hoverinfo": "text",
         "marker": {
          "color": "rgb(61,153,112)"
         },
         "mode": "lines",
         "type": "scatter",
         "x": [
          295,
          295,
          305,
          305
         ],
         "xaxis": "x",
         "y": [
          0,
          0.01511911356414138,
          0.01511911356414138,
          0
         ],
         "yaxis": "y"
        },
        {
         "hoverinfo": "text",
         "marker": {
          "color": "rgb(61,153,112)"
         },
         "mode": "lines",
         "type": "scatter",
         "x": [
          285,
          285,
          300,
          300
         ],
         "xaxis": "x",
         "y": [
          0,
          0.04513763582732667,
          0.04513763582732667,
          0.01511911356414138
         ],
         "yaxis": "y"
        },
        {
         "hoverinfo": "text",
         "marker": {
          "color": "rgb(61,153,112)"
         },
         "mode": "lines",
         "type": "scatter",
         "x": [
          315,
          315,
          325,
          325
         ],
         "xaxis": "x",
         "y": [
          0,
          0.04975017826771256,
          0.04975017826771256,
          0
         ],
         "yaxis": "y"
        },
        {
         "hoverinfo": "text",
         "marker": {
          "color": "rgb(61,153,112)"
         },
         "mode": "lines",
         "type": "scatter",
         "x": [
          292.5,
          292.5,
          320,
          320
         ],
         "xaxis": "x",
         "y": [
          0.04513763582732667,
          0.10973140097408311,
          0.10973140097408311,
          0.04975017826771256
         ],
         "yaxis": "y"
        },
        {
         "hoverinfo": "text",
         "marker": {
          "color": "rgb(61,153,112)"
         },
         "mode": "lines",
         "type": "scatter",
         "x": [
          275,
          275,
          306.25,
          306.25
         ],
         "xaxis": "x",
         "y": [
          0,
          0.22401504736680541,
          0.22401504736680541,
          0.10973140097408311
         ],
         "yaxis": "y"
        },
        {
         "hoverinfo": "text",
         "marker": {
          "color": "rgb(61,153,112)"
         },
         "mode": "lines",
         "type": "scatter",
         "x": [
          237.5,
          237.5,
          290.625,
          290.625
         ],
         "xaxis": "x",
         "y": [
          0.19063475579403724,
          0.26185463896932154,
          0.26185463896932154,
          0.22401504736680541
         ],
         "yaxis": "y"
        },
        {
         "hoverinfo": "text",
         "marker": {
          "color": "rgb(61,153,112)"
         },
         "mode": "lines",
         "type": "scatter",
         "x": [
          335,
          335,
          345,
          345
         ],
         "xaxis": "x",
         "y": [
          0,
          0.09264108569657332,
          0.09264108569657332,
          0
         ],
         "yaxis": "y"
        },
        {
         "hoverinfo": "text",
         "marker": {
          "color": "rgb(61,153,112)"
         },
         "mode": "lines",
         "type": "scatter",
         "x": [
          375,
          375,
          385,
          385
         ],
         "xaxis": "x",
         "y": [
          0,
          0.02538250125709032,
          0.02538250125709032,
          0
         ],
         "yaxis": "y"
        },
        {
         "hoverinfo": "text",
         "marker": {
          "color": "rgb(61,153,112)"
         },
         "mode": "lines",
         "type": "scatter",
         "x": [
          365,
          365,
          380,
          380
         ],
         "xaxis": "x",
         "y": [
          0,
          0.053660265425598305,
          0.053660265425598305,
          0.02538250125709032
         ],
         "yaxis": "y"
        },
        {
         "hoverinfo": "text",
         "marker": {
          "color": "rgb(61,153,112)"
         },
         "mode": "lines",
         "type": "scatter",
         "x": [
          395,
          395,
          405,
          405
         ],
         "xaxis": "x",
         "y": [
          0,
          0.07390874069796212,
          0.07390874069796212,
          0
         ],
         "yaxis": "y"
        },
        {
         "hoverinfo": "text",
         "marker": {
          "color": "rgb(61,153,112)"
         },
         "mode": "lines",
         "type": "scatter",
         "x": [
          372.5,
          372.5,
          400,
          400
         ],
         "xaxis": "x",
         "y": [
          0.053660265425598305,
          0.11617829613888692,
          0.11617829613888692,
          0.07390874069796212
         ],
         "yaxis": "y"
        },
        {
         "hoverinfo": "text",
         "marker": {
          "color": "rgb(61,153,112)"
         },
         "mode": "lines",
         "type": "scatter",
         "x": [
          355,
          355,
          386.25,
          386.25
         ],
         "xaxis": "x",
         "y": [
          0,
          0.17267105545052353,
          0.17267105545052353,
          0.11617829613888692
         ],
         "yaxis": "y"
        },
        {
         "hoverinfo": "text",
         "marker": {
          "color": "rgb(61,153,112)"
         },
         "mode": "lines",
         "type": "scatter",
         "x": [
          340,
          340,
          370.625,
          370.625
         ],
         "xaxis": "x",
         "y": [
          0.09264108569657332,
          0.29396815778781926,
          0.29396815778781926,
          0.17267105545052353
         ],
         "yaxis": "y"
        },
        {
         "hoverinfo": "text",
         "marker": {
          "color": "rgb(61,153,112)"
         },
         "mode": "lines",
         "type": "scatter",
         "x": [
          264.0625,
          264.0625,
          355.3125,
          355.3125
         ],
         "xaxis": "x",
         "y": [
          0.26185463896932154,
          0.4950182287959614,
          0.4950182287959614,
          0.29396815778781926
         ],
         "yaxis": "y"
        },
        {
         "hoverinfo": "text",
         "marker": {
          "color": "rgb(61,153,112)"
         },
         "mode": "lines",
         "type": "scatter",
         "x": [
          133.28125,
          133.28125,
          309.6875,
          309.6875
         ],
         "xaxis": "x",
         "y": [
          0.4547509934858433,
          0.9872650166842097,
          0.9872650166842097,
          0.4950182287959614
         ],
         "yaxis": "y"
        },
        {
         "hoverinfo": "text",
         "marker": {
          "color": "rgb(61,153,112)"
         },
         "mode": "lines",
         "type": "scatter",
         "x": [
          18.125,
          18.125,
          221.484375,
          221.484375
         ],
         "xaxis": "x",
         "y": [
          0.3482302553309121,
          1.5602070518005668,
          1.5602070518005668,
          0.9872650166842097
         ],
         "yaxis": "y"
        },
        {
         "hoverinfo": "text",
         "marker": {
          "color": "rgb(255,65,54)"
         },
         "mode": "lines",
         "type": "scatter",
         "x": [
          425,
          425,
          435,
          435
         ],
         "xaxis": "x",
         "y": [
          0,
          1.1915146065862374,
          1.1915146065862374,
          0
         ],
         "yaxis": "y"
        },
        {
         "hoverinfo": "text",
         "marker": {
          "color": "rgb(0,116,217)"
         },
         "mode": "lines",
         "type": "scatter",
         "x": [
          415,
          415,
          430,
          430
         ],
         "xaxis": "x",
         "y": [
          0,
          2.5182572824684764,
          2.5182572824684764,
          1.1915146065862374
         ],
         "yaxis": "y"
        },
        {
         "hoverinfo": "text",
         "marker": {
          "color": "rgb(0,116,217)"
         },
         "mode": "lines",
         "type": "scatter",
         "x": [
          119.8046875,
          119.8046875,
          422.5,
          422.5
         ],
         "xaxis": "x",
         "y": [
          1.5602070518005668,
          2.8075431843681695,
          2.8075431843681695,
          2.5182572824684764
         ],
         "yaxis": "y"
        }
       ],
       "layout": {
        "autosize": false,
        "height": 500,
        "hovermode": "closest",
        "showlegend": false,
        "template": {
         "data": {
          "bar": [
           {
            "error_x": {
             "color": "#2a3f5f"
            },
            "error_y": {
             "color": "#2a3f5f"
            },
            "marker": {
             "line": {
              "color": "#E5ECF6",
              "width": 0.5
             },
             "pattern": {
              "fillmode": "overlay",
              "size": 10,
              "solidity": 0.2
             }
            },
            "type": "bar"
           }
          ],
          "barpolar": [
           {
            "marker": {
             "line": {
              "color": "#E5ECF6",
              "width": 0.5
             },
             "pattern": {
              "fillmode": "overlay",
              "size": 10,
              "solidity": 0.2
             }
            },
            "type": "barpolar"
           }
          ],
          "carpet": [
           {
            "aaxis": {
             "endlinecolor": "#2a3f5f",
             "gridcolor": "white",
             "linecolor": "white",
             "minorgridcolor": "white",
             "startlinecolor": "#2a3f5f"
            },
            "baxis": {
             "endlinecolor": "#2a3f5f",
             "gridcolor": "white",
             "linecolor": "white",
             "minorgridcolor": "white",
             "startlinecolor": "#2a3f5f"
            },
            "type": "carpet"
           }
          ],
          "choropleth": [
           {
            "colorbar": {
             "outlinewidth": 0,
             "ticks": ""
            },
            "type": "choropleth"
           }
          ],
          "contour": [
           {
            "colorbar": {
             "outlinewidth": 0,
             "ticks": ""
            },
            "colorscale": [
             [
              0,
              "#0d0887"
             ],
             [
              0.1111111111111111,
              "#46039f"
             ],
             [
              0.2222222222222222,
              "#7201a8"
             ],
             [
              0.3333333333333333,
              "#9c179e"
             ],
             [
              0.4444444444444444,
              "#bd3786"
             ],
             [
              0.5555555555555556,
              "#d8576b"
             ],
             [
              0.6666666666666666,
              "#ed7953"
             ],
             [
              0.7777777777777778,
              "#fb9f3a"
             ],
             [
              0.8888888888888888,
              "#fdca26"
             ],
             [
              1,
              "#f0f921"
             ]
            ],
            "type": "contour"
           }
          ],
          "contourcarpet": [
           {
            "colorbar": {
             "outlinewidth": 0,
             "ticks": ""
            },
            "type": "contourcarpet"
           }
          ],
          "heatmap": [
           {
            "colorbar": {
             "outlinewidth": 0,
             "ticks": ""
            },
            "colorscale": [
             [
              0,
              "#0d0887"
             ],
             [
              0.1111111111111111,
              "#46039f"
             ],
             [
              0.2222222222222222,
              "#7201a8"
             ],
             [
              0.3333333333333333,
              "#9c179e"
             ],
             [
              0.4444444444444444,
              "#bd3786"
             ],
             [
              0.5555555555555556,
              "#d8576b"
             ],
             [
              0.6666666666666666,
              "#ed7953"
             ],
             [
              0.7777777777777778,
              "#fb9f3a"
             ],
             [
              0.8888888888888888,
              "#fdca26"
             ],
             [
              1,
              "#f0f921"
             ]
            ],
            "type": "heatmap"
           }
          ],
          "heatmapgl": [
           {
            "colorbar": {
             "outlinewidth": 0,
             "ticks": ""
            },
            "colorscale": [
             [
              0,
              "#0d0887"
             ],
             [
              0.1111111111111111,
              "#46039f"
             ],
             [
              0.2222222222222222,
              "#7201a8"
             ],
             [
              0.3333333333333333,
              "#9c179e"
             ],
             [
              0.4444444444444444,
              "#bd3786"
             ],
             [
              0.5555555555555556,
              "#d8576b"
             ],
             [
              0.6666666666666666,
              "#ed7953"
             ],
             [
              0.7777777777777778,
              "#fb9f3a"
             ],
             [
              0.8888888888888888,
              "#fdca26"
             ],
             [
              1,
              "#f0f921"
             ]
            ],
            "type": "heatmapgl"
           }
          ],
          "histogram": [
           {
            "marker": {
             "pattern": {
              "fillmode": "overlay",
              "size": 10,
              "solidity": 0.2
             }
            },
            "type": "histogram"
           }
          ],
          "histogram2d": [
           {
            "colorbar": {
             "outlinewidth": 0,
             "ticks": ""
            },
            "colorscale": [
             [
              0,
              "#0d0887"
             ],
             [
              0.1111111111111111,
              "#46039f"
             ],
             [
              0.2222222222222222,
              "#7201a8"
             ],
             [
              0.3333333333333333,
              "#9c179e"
             ],
             [
              0.4444444444444444,
              "#bd3786"
             ],
             [
              0.5555555555555556,
              "#d8576b"
             ],
             [
              0.6666666666666666,
              "#ed7953"
             ],
             [
              0.7777777777777778,
              "#fb9f3a"
             ],
             [
              0.8888888888888888,
              "#fdca26"
             ],
             [
              1,
              "#f0f921"
             ]
            ],
            "type": "histogram2d"
           }
          ],
          "histogram2dcontour": [
           {
            "colorbar": {
             "outlinewidth": 0,
             "ticks": ""
            },
            "colorscale": [
             [
              0,
              "#0d0887"
             ],
             [
              0.1111111111111111,
              "#46039f"
             ],
             [
              0.2222222222222222,
              "#7201a8"
             ],
             [
              0.3333333333333333,
              "#9c179e"
             ],
             [
              0.4444444444444444,
              "#bd3786"
             ],
             [
              0.5555555555555556,
              "#d8576b"
             ],
             [
              0.6666666666666666,
              "#ed7953"
             ],
             [
              0.7777777777777778,
              "#fb9f3a"
             ],
             [
              0.8888888888888888,
              "#fdca26"
             ],
             [
              1,
              "#f0f921"
             ]
            ],
            "type": "histogram2dcontour"
           }
          ],
          "mesh3d": [
           {
            "colorbar": {
             "outlinewidth": 0,
             "ticks": ""
            },
            "type": "mesh3d"
           }
          ],
          "parcoords": [
           {
            "line": {
             "colorbar": {
              "outlinewidth": 0,
              "ticks": ""
             }
            },
            "type": "parcoords"
           }
          ],
          "pie": [
           {
            "automargin": true,
            "type": "pie"
           }
          ],
          "scatter": [
           {
            "fillpattern": {
             "fillmode": "overlay",
             "size": 10,
             "solidity": 0.2
            },
            "type": "scatter"
           }
          ],
          "scatter3d": [
           {
            "line": {
             "colorbar": {
              "outlinewidth": 0,
              "ticks": ""
             }
            },
            "marker": {
             "colorbar": {
              "outlinewidth": 0,
              "ticks": ""
             }
            },
            "type": "scatter3d"
           }
          ],
          "scattercarpet": [
           {
            "marker": {
             "colorbar": {
              "outlinewidth": 0,
              "ticks": ""
             }
            },
            "type": "scattercarpet"
           }
          ],
          "scattergeo": [
           {
            "marker": {
             "colorbar": {
              "outlinewidth": 0,
              "ticks": ""
             }
            },
            "type": "scattergeo"
           }
          ],
          "scattergl": [
           {
            "marker": {
             "colorbar": {
              "outlinewidth": 0,
              "ticks": ""
             }
            },
            "type": "scattergl"
           }
          ],
          "scattermapbox": [
           {
            "marker": {
             "colorbar": {
              "outlinewidth": 0,
              "ticks": ""
             }
            },
            "type": "scattermapbox"
           }
          ],
          "scatterpolar": [
           {
            "marker": {
             "colorbar": {
              "outlinewidth": 0,
              "ticks": ""
             }
            },
            "type": "scatterpolar"
           }
          ],
          "scatterpolargl": [
           {
            "marker": {
             "colorbar": {
              "outlinewidth": 0,
              "ticks": ""
             }
            },
            "type": "scatterpolargl"
           }
          ],
          "scatterternary": [
           {
            "marker": {
             "colorbar": {
              "outlinewidth": 0,
              "ticks": ""
             }
            },
            "type": "scatterternary"
           }
          ],
          "surface": [
           {
            "colorbar": {
             "outlinewidth": 0,
             "ticks": ""
            },
            "colorscale": [
             [
              0,
              "#0d0887"
             ],
             [
              0.1111111111111111,
              "#46039f"
             ],
             [
              0.2222222222222222,
              "#7201a8"
             ],
             [
              0.3333333333333333,
              "#9c179e"
             ],
             [
              0.4444444444444444,
              "#bd3786"
             ],
             [
              0.5555555555555556,
              "#d8576b"
             ],
             [
              0.6666666666666666,
              "#ed7953"
             ],
             [
              0.7777777777777778,
              "#fb9f3a"
             ],
             [
              0.8888888888888888,
              "#fdca26"
             ],
             [
              1,
              "#f0f921"
             ]
            ],
            "type": "surface"
           }
          ],
          "table": [
           {
            "cells": {
             "fill": {
              "color": "#EBF0F8"
             },
             "line": {
              "color": "white"
             }
            },
            "header": {
             "fill": {
              "color": "#C8D4E3"
             },
             "line": {
              "color": "white"
             }
            },
            "type": "table"
           }
          ]
         },
         "layout": {
          "annotationdefaults": {
           "arrowcolor": "#2a3f5f",
           "arrowhead": 0,
           "arrowwidth": 1
          },
          "autotypenumbers": "strict",
          "coloraxis": {
           "colorbar": {
            "outlinewidth": 0,
            "ticks": ""
           }
          },
          "colorscale": {
           "diverging": [
            [
             0,
             "#8e0152"
            ],
            [
             0.1,
             "#c51b7d"
            ],
            [
             0.2,
             "#de77ae"
            ],
            [
             0.3,
             "#f1b6da"
            ],
            [
             0.4,
             "#fde0ef"
            ],
            [
             0.5,
             "#f7f7f7"
            ],
            [
             0.6,
             "#e6f5d0"
            ],
            [
             0.7,
             "#b8e186"
            ],
            [
             0.8,
             "#7fbc41"
            ],
            [
             0.9,
             "#4d9221"
            ],
            [
             1,
             "#276419"
            ]
           ],
           "sequential": [
            [
             0,
             "#0d0887"
            ],
            [
             0.1111111111111111,
             "#46039f"
            ],
            [
             0.2222222222222222,
             "#7201a8"
            ],
            [
             0.3333333333333333,
             "#9c179e"
            ],
            [
             0.4444444444444444,
             "#bd3786"
            ],
            [
             0.5555555555555556,
             "#d8576b"
            ],
            [
             0.6666666666666666,
             "#ed7953"
            ],
            [
             0.7777777777777778,
             "#fb9f3a"
            ],
            [
             0.8888888888888888,
             "#fdca26"
            ],
            [
             1,
             "#f0f921"
            ]
           ],
           "sequentialminus": [
            [
             0,
             "#0d0887"
            ],
            [
             0.1111111111111111,
             "#46039f"
            ],
            [
             0.2222222222222222,
             "#7201a8"
            ],
            [
             0.3333333333333333,
             "#9c179e"
            ],
            [
             0.4444444444444444,
             "#bd3786"
            ],
            [
             0.5555555555555556,
             "#d8576b"
            ],
            [
             0.6666666666666666,
             "#ed7953"
            ],
            [
             0.7777777777777778,
             "#fb9f3a"
            ],
            [
             0.8888888888888888,
             "#fdca26"
            ],
            [
             1,
             "#f0f921"
            ]
           ]
          },
          "colorway": [
           "#636efa",
           "#EF553B",
           "#00cc96",
           "#ab63fa",
           "#FFA15A",
           "#19d3f3",
           "#FF6692",
           "#B6E880",
           "#FF97FF",
           "#FECB52"
          ],
          "font": {
           "color": "#2a3f5f"
          },
          "geo": {
           "bgcolor": "white",
           "lakecolor": "white",
           "landcolor": "#E5ECF6",
           "showlakes": true,
           "showland": true,
           "subunitcolor": "white"
          },
          "hoverlabel": {
           "align": "left"
          },
          "hovermode": "closest",
          "mapbox": {
           "style": "light"
          },
          "paper_bgcolor": "white",
          "plot_bgcolor": "#E5ECF6",
          "polar": {
           "angularaxis": {
            "gridcolor": "white",
            "linecolor": "white",
            "ticks": ""
           },
           "bgcolor": "#E5ECF6",
           "radialaxis": {
            "gridcolor": "white",
            "linecolor": "white",
            "ticks": ""
           }
          },
          "scene": {
           "xaxis": {
            "backgroundcolor": "#E5ECF6",
            "gridcolor": "white",
            "gridwidth": 2,
            "linecolor": "white",
            "showbackground": true,
            "ticks": "",
            "zerolinecolor": "white"
           },
           "yaxis": {
            "backgroundcolor": "#E5ECF6",
            "gridcolor": "white",
            "gridwidth": 2,
            "linecolor": "white",
            "showbackground": true,
            "ticks": "",
            "zerolinecolor": "white"
           },
           "zaxis": {
            "backgroundcolor": "#E5ECF6",
            "gridcolor": "white",
            "gridwidth": 2,
            "linecolor": "white",
            "showbackground": true,
            "ticks": "",
            "zerolinecolor": "white"
           }
          },
          "shapedefaults": {
           "line": {
            "color": "#2a3f5f"
           }
          },
          "ternary": {
           "aaxis": {
            "gridcolor": "white",
            "linecolor": "white",
            "ticks": ""
           },
           "baxis": {
            "gridcolor": "white",
            "linecolor": "white",
            "ticks": ""
           },
           "bgcolor": "#E5ECF6",
           "caxis": {
            "gridcolor": "white",
            "linecolor": "white",
            "ticks": ""
           }
          },
          "title": {
           "x": 0.05
          },
          "xaxis": {
           "automargin": true,
           "gridcolor": "white",
           "linecolor": "white",
           "ticks": "",
           "title": {
            "standoff": 15
           },
           "zerolinecolor": "white",
           "zerolinewidth": 2
          },
          "yaxis": {
           "automargin": true,
           "gridcolor": "white",
           "linecolor": "white",
           "ticks": "",
           "title": {
            "standoff": 15
           },
           "zerolinecolor": "white",
           "zerolinewidth": 2
          }
         }
        },
        "width": 800,
        "xaxis": {
         "mirror": "allticks",
         "rangemode": "tozero",
         "showgrid": false,
         "showline": true,
         "showticklabels": true,
         "tickmode": "array",
         "ticks": "outside",
         "ticktext": [
          "10",
          "26",
          "27",
          "13",
          "17",
          "38",
          "7",
          "34",
          "8",
          "31",
          "15",
          "11",
          "21",
          "1",
          "29",
          "2",
          "25",
          "35",
          "19",
          "0",
          "18",
          "20",
          "32",
          "37",
          "22",
          "6",
          "24",
          "40",
          "39",
          "3",
          "23",
          "12",
          "36",
          "9",
          "33",
          "16",
          "5",
          "4",
          "30",
          "14",
          "28",
          "42",
          "41",
          "43"
         ],
         "tickvals": [
          5,
          15,
          25,
          35,
          45,
          55,
          65,
          75,
          85,
          95,
          105,
          115,
          125,
          135,
          145,
          155,
          165,
          175,
          185,
          195,
          205,
          215,
          225,
          235,
          245,
          255,
          265,
          275,
          285,
          295,
          305,
          315,
          325,
          335,
          345,
          355,
          365,
          375,
          385,
          395,
          405,
          415,
          425,
          435
         ],
         "type": "linear",
         "zeroline": false
        },
        "yaxis": {
         "mirror": "allticks",
         "rangemode": "tozero",
         "showgrid": false,
         "showline": true,
         "showticklabels": true,
         "ticks": "outside",
         "type": "linear",
         "zeroline": false
        }
       }
      },
      "text/html": [
       "<div>                            <div id=\"cfa4a293-107b-4a3b-ac29-228bc8c792d9\" class=\"plotly-graph-div\" style=\"height:500px; width:800px;\"></div>            <script type=\"text/javascript\">                require([\"plotly\"], function(Plotly) {                    window.PLOTLYENV=window.PLOTLYENV || {};                                    if (document.getElementById(\"cfa4a293-107b-4a3b-ac29-228bc8c792d9\")) {                    Plotly.newPlot(                        \"cfa4a293-107b-4a3b-ac29-228bc8c792d9\",                        [{\"hoverinfo\":\"text\",\"marker\":{\"color\":\"rgb(61,153,112)\"},\"mode\":\"lines\",\"x\":[15.0,15.0,25.0,25.0],\"xaxis\":\"x\",\"y\":[0.0,0.07372826220429785,0.07372826220429785,0.0],\"yaxis\":\"y\",\"type\":\"scatter\"},{\"hoverinfo\":\"text\",\"marker\":{\"color\":\"rgb(61,153,112)\"},\"mode\":\"lines\",\"x\":[45.0,45.0,55.0,55.0],\"xaxis\":\"x\",\"y\":[0.0,0.06266256701783636,0.06266256701783636,0.0],\"yaxis\":\"y\",\"type\":\"scatter\"},{\"hoverinfo\":\"text\",\"marker\":{\"color\":\"rgb(61,153,112)\"},\"mode\":\"lines\",\"x\":[35.0,35.0,50.0,50.0],\"xaxis\":\"x\",\"y\":[0.0,0.08721178305557771,0.08721178305557771,0.06266256701783636],\"yaxis\":\"y\",\"type\":\"scatter\"},{\"hoverinfo\":\"text\",\"marker\":{\"color\":\"rgb(61,153,112)\"},\"mode\":\"lines\",\"x\":[20.0,20.0,42.5,42.5],\"xaxis\":\"x\",\"y\":[0.07372826220429785,0.20432377095796853,0.20432377095796853,0.08721178305557771],\"yaxis\":\"y\",\"type\":\"scatter\"},{\"hoverinfo\":\"text\",\"marker\":{\"color\":\"rgb(61,153,112)\"},\"mode\":\"lines\",\"x\":[5.0,5.0,31.25,31.25],\"xaxis\":\"x\",\"y\":[0.0,0.3482302553309121,0.3482302553309121,0.20432377095796853],\"yaxis\":\"y\",\"type\":\"scatter\"},{\"hoverinfo\":\"text\",\"marker\":{\"color\":\"rgb(61,153,112)\"},\"mode\":\"lines\",\"x\":[65.0,65.0,75.0,75.0],\"xaxis\":\"x\",\"y\":[0.0,0.06440642752064867,0.06440642752064867,0.0],\"yaxis\":\"y\",\"type\":\"scatter\"},{\"hoverinfo\":\"text\",\"marker\":{\"color\":\"rgb(61,153,112)\"},\"mode\":\"lines\",\"x\":[85.0,85.0,95.0,95.0],\"xaxis\":\"x\",\"y\":[0.0,0.019617734204800792,0.019617734204800792,0.0],\"yaxis\":\"y\",\"type\":\"scatter\"},{\"hoverinfo\":\"text\",\"marker\":{\"color\":\"rgb(61,153,112)\"},\"mode\":\"lines\",\"x\":[115.0,115.0,125.0,125.0],\"xaxis\":\"x\",\"y\":[0.0,0.017071804579935304,0.017071804579935304,0.0],\"yaxis\":\"y\",\"type\":\"scatter\"},{\"hoverinfo\":\"text\",\"marker\":{\"color\":\"rgb(61,153,112)\"},\"mode\":\"lines\",\"x\":[105.0,105.0,120.0,120.0],\"xaxis\":\"x\",\"y\":[0.0,0.03935848279651384,0.03935848279651384,0.017071804579935304],\"yaxis\":\"y\",\"type\":\"scatter\"},{\"hoverinfo\":\"text\",\"marker\":{\"color\":\"rgb(61,153,112)\"},\"mode\":\"lines\",\"x\":[135.0,135.0,145.0,145.0],\"xaxis\":\"x\",\"y\":[0.0,0.04702805123240061,0.04702805123240061,0.0],\"yaxis\":\"y\",\"type\":\"scatter\"},{\"hoverinfo\":\"text\",\"marker\":{\"color\":\"rgb(61,153,112)\"},\"mode\":\"lines\",\"x\":[112.5,112.5,140.0,140.0],\"xaxis\":\"x\",\"y\":[0.03935848279651384,0.09294069447240891,0.09294069447240891,0.04702805123240061],\"yaxis\":\"y\",\"type\":\"scatter\"},{\"hoverinfo\":\"text\",\"marker\":{\"color\":\"rgb(61,153,112)\"},\"mode\":\"lines\",\"x\":[90.0,90.0,126.25,126.25],\"xaxis\":\"x\",\"y\":[0.019617734204800792,0.146629315249943,0.146629315249943,0.09294069447240891],\"yaxis\":\"y\",\"type\":\"scatter\"},{\"hoverinfo\":\"text\",\"marker\":{\"color\":\"rgb(61,153,112)\"},\"mode\":\"lines\",\"x\":[70.0,70.0,108.125,108.125],\"xaxis\":\"x\",\"y\":[0.06440642752064867,0.24018975043777308,0.24018975043777308,0.146629315249943],\"yaxis\":\"y\",\"type\":\"scatter\"},{\"hoverinfo\":\"text\",\"marker\":{\"color\":\"rgb(61,153,112)\"},\"mode\":\"lines\",\"x\":[165.0,165.0,175.0,175.0],\"xaxis\":\"x\",\"y\":[0.0,0.02072938097719513,0.02072938097719513,0.0],\"yaxis\":\"y\",\"type\":\"scatter\"},{\"hoverinfo\":\"text\",\"marker\":{\"color\":\"rgb(61,153,112)\"},\"mode\":\"lines\",\"x\":[155.0,155.0,170.0,170.0],\"xaxis\":\"x\",\"y\":[0.0,0.10109122773172366,0.10109122773172366,0.02072938097719513],\"yaxis\":\"y\",\"type\":\"scatter\"},{\"hoverinfo\":\"text\",\"marker\":{\"color\":\"rgb(61,153,112)\"},\"mode\":\"lines\",\"x\":[195.0,195.0,205.0,205.0],\"xaxis\":\"x\",\"y\":[0.0,0.10587653494007289,0.10587653494007289,0.0],\"yaxis\":\"y\",\"type\":\"scatter\"},{\"hoverinfo\":\"text\",\"marker\":{\"color\":\"rgb(61,153,112)\"},\"mode\":\"lines\",\"x\":[185.0,185.0,200.0,200.0],\"xaxis\":\"x\",\"y\":[0.0,0.16542040320643916,0.16542040320643916,0.10587653494007289],\"yaxis\":\"y\",\"type\":\"scatter\"},{\"hoverinfo\":\"text\",\"marker\":{\"color\":\"rgb(61,153,112)\"},\"mode\":\"lines\",\"x\":[162.5,162.5,192.5,192.5],\"xaxis\":\"x\",\"y\":[0.10109122773172366,0.27301319150219583,0.27301319150219583,0.16542040320643916],\"yaxis\":\"y\",\"type\":\"scatter\"},{\"hoverinfo\":\"text\",\"marker\":{\"color\":\"rgb(61,153,112)\"},\"mode\":\"lines\",\"x\":[89.0625,89.0625,177.5,177.5],\"xaxis\":\"x\",\"y\":[0.24018975043777308,0.4547509934858433,0.4547509934858433,0.27301319150219583],\"yaxis\":\"y\",\"type\":\"scatter\"},{\"hoverinfo\":\"text\",\"marker\":{\"color\":\"rgb(61,153,112)\"},\"mode\":\"lines\",\"x\":[225.0,225.0,235.0,235.0],\"xaxis\":\"x\",\"y\":[0.0,0.042559267199116464,0.042559267199116464,0.0],\"yaxis\":\"y\",\"type\":\"scatter\"},{\"hoverinfo\":\"text\",\"marker\":{\"color\":\"rgb(61,153,112)\"},\"mode\":\"lines\",\"x\":[215.0,215.0,230.0,230.0],\"xaxis\":\"x\",\"y\":[0.0,0.09301092943441225,0.09301092943441225,0.042559267199116464],\"yaxis\":\"y\",\"type\":\"scatter\"},{\"hoverinfo\":\"text\",\"marker\":{\"color\":\"rgb(61,153,112)\"},\"mode\":\"lines\",\"x\":[255.0,255.0,265.0,265.0],\"xaxis\":\"x\",\"y\":[0.0,0.04508053623785442,0.04508053623785442,0.0],\"yaxis\":\"y\",\"type\":\"scatter\"},{\"hoverinfo\":\"text\",\"marker\":{\"color\":\"rgb(61,153,112)\"},\"mode\":\"lines\",\"x\":[245.0,245.0,260.0,260.0],\"xaxis\":\"x\",\"y\":[0.0,0.0955931657010525,0.0955931657010525,0.04508053623785442],\"yaxis\":\"y\",\"type\":\"scatter\"},{\"hoverinfo\":\"text\",\"marker\":{\"color\":\"rgb(61,153,112)\"},\"mode\":\"lines\",\"x\":[222.5,222.5,252.5,252.5],\"xaxis\":\"x\",\"y\":[0.09301092943441225,0.19063475579403724,0.19063475579403724,0.0955931657010525],\"yaxis\":\"y\",\"type\":\"scatter\"},{\"hoverinfo\":\"text\",\"marker\":{\"color\":\"rgb(61,153,112)\"},\"mode\":\"lines\",\"x\":[295.0,295.0,305.0,305.0],\"xaxis\":\"x\",\"y\":[0.0,0.01511911356414138,0.01511911356414138,0.0],\"yaxis\":\"y\",\"type\":\"scatter\"},{\"hoverinfo\":\"text\",\"marker\":{\"color\":\"rgb(61,153,112)\"},\"mode\":\"lines\",\"x\":[285.0,285.0,300.0,300.0],\"xaxis\":\"x\",\"y\":[0.0,0.04513763582732667,0.04513763582732667,0.01511911356414138],\"yaxis\":\"y\",\"type\":\"scatter\"},{\"hoverinfo\":\"text\",\"marker\":{\"color\":\"rgb(61,153,112)\"},\"mode\":\"lines\",\"x\":[315.0,315.0,325.0,325.0],\"xaxis\":\"x\",\"y\":[0.0,0.04975017826771256,0.04975017826771256,0.0],\"yaxis\":\"y\",\"type\":\"scatter\"},{\"hoverinfo\":\"text\",\"marker\":{\"color\":\"rgb(61,153,112)\"},\"mode\":\"lines\",\"x\":[292.5,292.5,320.0,320.0],\"xaxis\":\"x\",\"y\":[0.04513763582732667,0.10973140097408311,0.10973140097408311,0.04975017826771256],\"yaxis\":\"y\",\"type\":\"scatter\"},{\"hoverinfo\":\"text\",\"marker\":{\"color\":\"rgb(61,153,112)\"},\"mode\":\"lines\",\"x\":[275.0,275.0,306.25,306.25],\"xaxis\":\"x\",\"y\":[0.0,0.22401504736680541,0.22401504736680541,0.10973140097408311],\"yaxis\":\"y\",\"type\":\"scatter\"},{\"hoverinfo\":\"text\",\"marker\":{\"color\":\"rgb(61,153,112)\"},\"mode\":\"lines\",\"x\":[237.5,237.5,290.625,290.625],\"xaxis\":\"x\",\"y\":[0.19063475579403724,0.26185463896932154,0.26185463896932154,0.22401504736680541],\"yaxis\":\"y\",\"type\":\"scatter\"},{\"hoverinfo\":\"text\",\"marker\":{\"color\":\"rgb(61,153,112)\"},\"mode\":\"lines\",\"x\":[335.0,335.0,345.0,345.0],\"xaxis\":\"x\",\"y\":[0.0,0.09264108569657332,0.09264108569657332,0.0],\"yaxis\":\"y\",\"type\":\"scatter\"},{\"hoverinfo\":\"text\",\"marker\":{\"color\":\"rgb(61,153,112)\"},\"mode\":\"lines\",\"x\":[375.0,375.0,385.0,385.0],\"xaxis\":\"x\",\"y\":[0.0,0.02538250125709032,0.02538250125709032,0.0],\"yaxis\":\"y\",\"type\":\"scatter\"},{\"hoverinfo\":\"text\",\"marker\":{\"color\":\"rgb(61,153,112)\"},\"mode\":\"lines\",\"x\":[365.0,365.0,380.0,380.0],\"xaxis\":\"x\",\"y\":[0.0,0.053660265425598305,0.053660265425598305,0.02538250125709032],\"yaxis\":\"y\",\"type\":\"scatter\"},{\"hoverinfo\":\"text\",\"marker\":{\"color\":\"rgb(61,153,112)\"},\"mode\":\"lines\",\"x\":[395.0,395.0,405.0,405.0],\"xaxis\":\"x\",\"y\":[0.0,0.07390874069796212,0.07390874069796212,0.0],\"yaxis\":\"y\",\"type\":\"scatter\"},{\"hoverinfo\":\"text\",\"marker\":{\"color\":\"rgb(61,153,112)\"},\"mode\":\"lines\",\"x\":[372.5,372.5,400.0,400.0],\"xaxis\":\"x\",\"y\":[0.053660265425598305,0.11617829613888692,0.11617829613888692,0.07390874069796212],\"yaxis\":\"y\",\"type\":\"scatter\"},{\"hoverinfo\":\"text\",\"marker\":{\"color\":\"rgb(61,153,112)\"},\"mode\":\"lines\",\"x\":[355.0,355.0,386.25,386.25],\"xaxis\":\"x\",\"y\":[0.0,0.17267105545052353,0.17267105545052353,0.11617829613888692],\"yaxis\":\"y\",\"type\":\"scatter\"},{\"hoverinfo\":\"text\",\"marker\":{\"color\":\"rgb(61,153,112)\"},\"mode\":\"lines\",\"x\":[340.0,340.0,370.625,370.625],\"xaxis\":\"x\",\"y\":[0.09264108569657332,0.29396815778781926,0.29396815778781926,0.17267105545052353],\"yaxis\":\"y\",\"type\":\"scatter\"},{\"hoverinfo\":\"text\",\"marker\":{\"color\":\"rgb(61,153,112)\"},\"mode\":\"lines\",\"x\":[264.0625,264.0625,355.3125,355.3125],\"xaxis\":\"x\",\"y\":[0.26185463896932154,0.4950182287959614,0.4950182287959614,0.29396815778781926],\"yaxis\":\"y\",\"type\":\"scatter\"},{\"hoverinfo\":\"text\",\"marker\":{\"color\":\"rgb(61,153,112)\"},\"mode\":\"lines\",\"x\":[133.28125,133.28125,309.6875,309.6875],\"xaxis\":\"x\",\"y\":[0.4547509934858433,0.9872650166842097,0.9872650166842097,0.4950182287959614],\"yaxis\":\"y\",\"type\":\"scatter\"},{\"hoverinfo\":\"text\",\"marker\":{\"color\":\"rgb(61,153,112)\"},\"mode\":\"lines\",\"x\":[18.125,18.125,221.484375,221.484375],\"xaxis\":\"x\",\"y\":[0.3482302553309121,1.5602070518005668,1.5602070518005668,0.9872650166842097],\"yaxis\":\"y\",\"type\":\"scatter\"},{\"hoverinfo\":\"text\",\"marker\":{\"color\":\"rgb(255,65,54)\"},\"mode\":\"lines\",\"x\":[425.0,425.0,435.0,435.0],\"xaxis\":\"x\",\"y\":[0.0,1.1915146065862374,1.1915146065862374,0.0],\"yaxis\":\"y\",\"type\":\"scatter\"},{\"hoverinfo\":\"text\",\"marker\":{\"color\":\"rgb(0,116,217)\"},\"mode\":\"lines\",\"x\":[415.0,415.0,430.0,430.0],\"xaxis\":\"x\",\"y\":[0.0,2.5182572824684764,2.5182572824684764,1.1915146065862374],\"yaxis\":\"y\",\"type\":\"scatter\"},{\"hoverinfo\":\"text\",\"marker\":{\"color\":\"rgb(0,116,217)\"},\"mode\":\"lines\",\"x\":[119.8046875,119.8046875,422.5,422.5],\"xaxis\":\"x\",\"y\":[1.5602070518005668,2.8075431843681695,2.8075431843681695,2.5182572824684764],\"yaxis\":\"y\",\"type\":\"scatter\"}],                        {\"autosize\":false,\"height\":500,\"hovermode\":\"closest\",\"showlegend\":false,\"width\":800,\"xaxis\":{\"mirror\":\"allticks\",\"rangemode\":\"tozero\",\"showgrid\":false,\"showline\":true,\"showticklabels\":true,\"tickmode\":\"array\",\"ticks\":\"outside\",\"ticktext\":[\"10\",\"26\",\"27\",\"13\",\"17\",\"38\",\"7\",\"34\",\"8\",\"31\",\"15\",\"11\",\"21\",\"1\",\"29\",\"2\",\"25\",\"35\",\"19\",\"0\",\"18\",\"20\",\"32\",\"37\",\"22\",\"6\",\"24\",\"40\",\"39\",\"3\",\"23\",\"12\",\"36\",\"9\",\"33\",\"16\",\"5\",\"4\",\"30\",\"14\",\"28\",\"42\",\"41\",\"43\"],\"tickvals\":[5.0,15.0,25.0,35.0,45.0,55.0,65.0,75.0,85.0,95.0,105.0,115.0,125.0,135.0,145.0,155.0,165.0,175.0,185.0,195.0,205.0,215.0,225.0,235.0,245.0,255.0,265.0,275.0,285.0,295.0,305.0,315.0,325.0,335.0,345.0,355.0,365.0,375.0,385.0,395.0,405.0,415.0,425.0,435.0],\"type\":\"linear\",\"zeroline\":false},\"yaxis\":{\"mirror\":\"allticks\",\"rangemode\":\"tozero\",\"showgrid\":false,\"showline\":true,\"showticklabels\":true,\"ticks\":\"outside\",\"type\":\"linear\",\"zeroline\":false},\"template\":{\"data\":{\"histogram2dcontour\":[{\"type\":\"histogram2dcontour\",\"colorbar\":{\"outlinewidth\":0,\"ticks\":\"\"},\"colorscale\":[[0.0,\"#0d0887\"],[0.1111111111111111,\"#46039f\"],[0.2222222222222222,\"#7201a8\"],[0.3333333333333333,\"#9c179e\"],[0.4444444444444444,\"#bd3786\"],[0.5555555555555556,\"#d8576b\"],[0.6666666666666666,\"#ed7953\"],[0.7777777777777778,\"#fb9f3a\"],[0.8888888888888888,\"#fdca26\"],[1.0,\"#f0f921\"]]}],\"choropleth\":[{\"type\":\"choropleth\",\"colorbar\":{\"outlinewidth\":0,\"ticks\":\"\"}}],\"histogram2d\":[{\"type\":\"histogram2d\",\"colorbar\":{\"outlinewidth\":0,\"ticks\":\"\"},\"colorscale\":[[0.0,\"#0d0887\"],[0.1111111111111111,\"#46039f\"],[0.2222222222222222,\"#7201a8\"],[0.3333333333333333,\"#9c179e\"],[0.4444444444444444,\"#bd3786\"],[0.5555555555555556,\"#d8576b\"],[0.6666666666666666,\"#ed7953\"],[0.7777777777777778,\"#fb9f3a\"],[0.8888888888888888,\"#fdca26\"],[1.0,\"#f0f921\"]]}],\"heatmap\":[{\"type\":\"heatmap\",\"colorbar\":{\"outlinewidth\":0,\"ticks\":\"\"},\"colorscale\":[[0.0,\"#0d0887\"],[0.1111111111111111,\"#46039f\"],[0.2222222222222222,\"#7201a8\"],[0.3333333333333333,\"#9c179e\"],[0.4444444444444444,\"#bd3786\"],[0.5555555555555556,\"#d8576b\"],[0.6666666666666666,\"#ed7953\"],[0.7777777777777778,\"#fb9f3a\"],[0.8888888888888888,\"#fdca26\"],[1.0,\"#f0f921\"]]}],\"heatmapgl\":[{\"type\":\"heatmapgl\",\"colorbar\":{\"outlinewidth\":0,\"ticks\":\"\"},\"colorscale\":[[0.0,\"#0d0887\"],[0.1111111111111111,\"#46039f\"],[0.2222222222222222,\"#7201a8\"],[0.3333333333333333,\"#9c179e\"],[0.4444444444444444,\"#bd3786\"],[0.5555555555555556,\"#d8576b\"],[0.6666666666666666,\"#ed7953\"],[0.7777777777777778,\"#fb9f3a\"],[0.8888888888888888,\"#fdca26\"],[1.0,\"#f0f921\"]]}],\"contourcarpet\":[{\"type\":\"contourcarpet\",\"colorbar\":{\"outlinewidth\":0,\"ticks\":\"\"}}],\"contour\":[{\"type\":\"contour\",\"colorbar\":{\"outlinewidth\":0,\"ticks\":\"\"},\"colorscale\":[[0.0,\"#0d0887\"],[0.1111111111111111,\"#46039f\"],[0.2222222222222222,\"#7201a8\"],[0.3333333333333333,\"#9c179e\"],[0.4444444444444444,\"#bd3786\"],[0.5555555555555556,\"#d8576b\"],[0.6666666666666666,\"#ed7953\"],[0.7777777777777778,\"#fb9f3a\"],[0.8888888888888888,\"#fdca26\"],[1.0,\"#f0f921\"]]}],\"surface\":[{\"type\":\"surface\",\"colorbar\":{\"outlinewidth\":0,\"ticks\":\"\"},\"colorscale\":[[0.0,\"#0d0887\"],[0.1111111111111111,\"#46039f\"],[0.2222222222222222,\"#7201a8\"],[0.3333333333333333,\"#9c179e\"],[0.4444444444444444,\"#bd3786\"],[0.5555555555555556,\"#d8576b\"],[0.6666666666666666,\"#ed7953\"],[0.7777777777777778,\"#fb9f3a\"],[0.8888888888888888,\"#fdca26\"],[1.0,\"#f0f921\"]]}],\"mesh3d\":[{\"type\":\"mesh3d\",\"colorbar\":{\"outlinewidth\":0,\"ticks\":\"\"}}],\"scatter\":[{\"fillpattern\":{\"fillmode\":\"overlay\",\"size\":10,\"solidity\":0.2},\"type\":\"scatter\"}],\"parcoords\":[{\"type\":\"parcoords\",\"line\":{\"colorbar\":{\"outlinewidth\":0,\"ticks\":\"\"}}}],\"scatterpolargl\":[{\"type\":\"scatterpolargl\",\"marker\":{\"colorbar\":{\"outlinewidth\":0,\"ticks\":\"\"}}}],\"bar\":[{\"error_x\":{\"color\":\"#2a3f5f\"},\"error_y\":{\"color\":\"#2a3f5f\"},\"marker\":{\"line\":{\"color\":\"#E5ECF6\",\"width\":0.5},\"pattern\":{\"fillmode\":\"overlay\",\"size\":10,\"solidity\":0.2}},\"type\":\"bar\"}],\"scattergeo\":[{\"type\":\"scattergeo\",\"marker\":{\"colorbar\":{\"outlinewidth\":0,\"ticks\":\"\"}}}],\"scatterpolar\":[{\"type\":\"scatterpolar\",\"marker\":{\"colorbar\":{\"outlinewidth\":0,\"ticks\":\"\"}}}],\"histogram\":[{\"marker\":{\"pattern\":{\"fillmode\":\"overlay\",\"size\":10,\"solidity\":0.2}},\"type\":\"histogram\"}],\"scattergl\":[{\"type\":\"scattergl\",\"marker\":{\"colorbar\":{\"outlinewidth\":0,\"ticks\":\"\"}}}],\"scatter3d\":[{\"type\":\"scatter3d\",\"line\":{\"colorbar\":{\"outlinewidth\":0,\"ticks\":\"\"}},\"marker\":{\"colorbar\":{\"outlinewidth\":0,\"ticks\":\"\"}}}],\"scattermapbox\":[{\"type\":\"scattermapbox\",\"marker\":{\"colorbar\":{\"outlinewidth\":0,\"ticks\":\"\"}}}],\"scatterternary\":[{\"type\":\"scatterternary\",\"marker\":{\"colorbar\":{\"outlinewidth\":0,\"ticks\":\"\"}}}],\"scattercarpet\":[{\"type\":\"scattercarpet\",\"marker\":{\"colorbar\":{\"outlinewidth\":0,\"ticks\":\"\"}}}],\"carpet\":[{\"aaxis\":{\"endlinecolor\":\"#2a3f5f\",\"gridcolor\":\"white\",\"linecolor\":\"white\",\"minorgridcolor\":\"white\",\"startlinecolor\":\"#2a3f5f\"},\"baxis\":{\"endlinecolor\":\"#2a3f5f\",\"gridcolor\":\"white\",\"linecolor\":\"white\",\"minorgridcolor\":\"white\",\"startlinecolor\":\"#2a3f5f\"},\"type\":\"carpet\"}],\"table\":[{\"cells\":{\"fill\":{\"color\":\"#EBF0F8\"},\"line\":{\"color\":\"white\"}},\"header\":{\"fill\":{\"color\":\"#C8D4E3\"},\"line\":{\"color\":\"white\"}},\"type\":\"table\"}],\"barpolar\":[{\"marker\":{\"line\":{\"color\":\"#E5ECF6\",\"width\":0.5},\"pattern\":{\"fillmode\":\"overlay\",\"size\":10,\"solidity\":0.2}},\"type\":\"barpolar\"}],\"pie\":[{\"automargin\":true,\"type\":\"pie\"}]},\"layout\":{\"autotypenumbers\":\"strict\",\"colorway\":[\"#636efa\",\"#EF553B\",\"#00cc96\",\"#ab63fa\",\"#FFA15A\",\"#19d3f3\",\"#FF6692\",\"#B6E880\",\"#FF97FF\",\"#FECB52\"],\"font\":{\"color\":\"#2a3f5f\"},\"hovermode\":\"closest\",\"hoverlabel\":{\"align\":\"left\"},\"paper_bgcolor\":\"white\",\"plot_bgcolor\":\"#E5ECF6\",\"polar\":{\"bgcolor\":\"#E5ECF6\",\"angularaxis\":{\"gridcolor\":\"white\",\"linecolor\":\"white\",\"ticks\":\"\"},\"radialaxis\":{\"gridcolor\":\"white\",\"linecolor\":\"white\",\"ticks\":\"\"}},\"ternary\":{\"bgcolor\":\"#E5ECF6\",\"aaxis\":{\"gridcolor\":\"white\",\"linecolor\":\"white\",\"ticks\":\"\"},\"baxis\":{\"gridcolor\":\"white\",\"linecolor\":\"white\",\"ticks\":\"\"},\"caxis\":{\"gridcolor\":\"white\",\"linecolor\":\"white\",\"ticks\":\"\"}},\"coloraxis\":{\"colorbar\":{\"outlinewidth\":0,\"ticks\":\"\"}},\"colorscale\":{\"sequential\":[[0.0,\"#0d0887\"],[0.1111111111111111,\"#46039f\"],[0.2222222222222222,\"#7201a8\"],[0.3333333333333333,\"#9c179e\"],[0.4444444444444444,\"#bd3786\"],[0.5555555555555556,\"#d8576b\"],[0.6666666666666666,\"#ed7953\"],[0.7777777777777778,\"#fb9f3a\"],[0.8888888888888888,\"#fdca26\"],[1.0,\"#f0f921\"]],\"sequentialminus\":[[0.0,\"#0d0887\"],[0.1111111111111111,\"#46039f\"],[0.2222222222222222,\"#7201a8\"],[0.3333333333333333,\"#9c179e\"],[0.4444444444444444,\"#bd3786\"],[0.5555555555555556,\"#d8576b\"],[0.6666666666666666,\"#ed7953\"],[0.7777777777777778,\"#fb9f3a\"],[0.8888888888888888,\"#fdca26\"],[1.0,\"#f0f921\"]],\"diverging\":[[0,\"#8e0152\"],[0.1,\"#c51b7d\"],[0.2,\"#de77ae\"],[0.3,\"#f1b6da\"],[0.4,\"#fde0ef\"],[0.5,\"#f7f7f7\"],[0.6,\"#e6f5d0\"],[0.7,\"#b8e186\"],[0.8,\"#7fbc41\"],[0.9,\"#4d9221\"],[1,\"#276419\"]]},\"xaxis\":{\"gridcolor\":\"white\",\"linecolor\":\"white\",\"ticks\":\"\",\"title\":{\"standoff\":15},\"zerolinecolor\":\"white\",\"automargin\":true,\"zerolinewidth\":2},\"yaxis\":{\"gridcolor\":\"white\",\"linecolor\":\"white\",\"ticks\":\"\",\"title\":{\"standoff\":15},\"zerolinecolor\":\"white\",\"automargin\":true,\"zerolinewidth\":2},\"scene\":{\"xaxis\":{\"backgroundcolor\":\"#E5ECF6\",\"gridcolor\":\"white\",\"linecolor\":\"white\",\"showbackground\":true,\"ticks\":\"\",\"zerolinecolor\":\"white\",\"gridwidth\":2},\"yaxis\":{\"backgroundcolor\":\"#E5ECF6\",\"gridcolor\":\"white\",\"linecolor\":\"white\",\"showbackground\":true,\"ticks\":\"\",\"zerolinecolor\":\"white\",\"gridwidth\":2},\"zaxis\":{\"backgroundcolor\":\"#E5ECF6\",\"gridcolor\":\"white\",\"linecolor\":\"white\",\"showbackground\":true,\"ticks\":\"\",\"zerolinecolor\":\"white\",\"gridwidth\":2}},\"shapedefaults\":{\"line\":{\"color\":\"#2a3f5f\"}},\"annotationdefaults\":{\"arrowcolor\":\"#2a3f5f\",\"arrowhead\":0,\"arrowwidth\":1},\"geo\":{\"bgcolor\":\"white\",\"landcolor\":\"#E5ECF6\",\"subunitcolor\":\"white\",\"showland\":true,\"showlakes\":true,\"lakecolor\":\"white\"},\"title\":{\"x\":0.05},\"mapbox\":{\"style\":\"light\"}}}},                        {\"responsive\": true}                    ).then(function(){\n",
       "                            \n",
       "var gd = document.getElementById('cfa4a293-107b-4a3b-ac29-228bc8c792d9');\n",
       "var x = new MutationObserver(function (mutations, observer) {{\n",
       "        var display = window.getComputedStyle(gd).display;\n",
       "        if (!display || display === 'none') {{\n",
       "            console.log([gd, 'removed!']);\n",
       "            Plotly.purge(gd);\n",
       "            observer.disconnect();\n",
       "        }}\n",
       "}});\n",
       "\n",
       "// Listen for the removal of the full notebook cells\n",
       "var notebookContainer = gd.closest('#notebook-container');\n",
       "if (notebookContainer) {{\n",
       "    x.observe(notebookContainer, {childList: true});\n",
       "}}\n",
       "\n",
       "// Listen for the clearing of the current output cell\n",
       "var outputEl = gd.closest('.output');\n",
       "if (outputEl) {{\n",
       "    x.observe(outputEl, {childList: true});\n",
       "}}\n",
       "\n",
       "                        })                };                });            </script>        </div>"
      ]
     },
     "metadata": {},
     "output_type": "display_data"
    }
   ],
   "source": [
    "import plotly.figure_factory as ff\n",
    "import numpy as np\n",
    "\n",
    "\n",
    "X = PE_X#X_persistence_entropy # 15 samples, with 12 dimensions each\n",
    "fig = ff.create_dendrogram(X)\n",
    "fig.update_layout(width=800, height=500)\n",
    "fig.show()"
   ]
  },
  {
   "cell_type": "code",
   "execution_count": 156,
   "id": "5c1df557",
   "metadata": {},
   "outputs": [
    {
     "ename": "ValueError",
     "evalue": "Dimensions of Z and labels must be consistent.",
     "output_type": "error",
     "traceback": [
      "\u001b[0;31m---------------------------------------------------------------------------\u001b[0m",
      "\u001b[0;31mValueError\u001b[0m                                Traceback (most recent call last)",
      "\u001b[0;32m/var/folders/jc/23tmvmc554b_hqpgl1mn9wch0000gq/T/ipykernel_81310/133966491.py\u001b[0m in \u001b[0;36m<module>\u001b[0;34m\u001b[0m\n\u001b[1;32m     13\u001b[0m \u001b[0;34m\u001b[0m\u001b[0m\n\u001b[1;32m     14\u001b[0m \u001b[0;31m# Initialize figure by creating upper dendrogram\u001b[0m\u001b[0;34m\u001b[0m\u001b[0;34m\u001b[0m\u001b[0;34m\u001b[0m\u001b[0m\n\u001b[0;32m---> 15\u001b[0;31m \u001b[0mfig\u001b[0m \u001b[0;34m=\u001b[0m \u001b[0mff\u001b[0m\u001b[0;34m.\u001b[0m\u001b[0mcreate_dendrogram\u001b[0m\u001b[0;34m(\u001b[0m\u001b[0mX\u001b[0m\u001b[0;34m,\u001b[0m \u001b[0morientation\u001b[0m\u001b[0;34m=\u001b[0m\u001b[0;34m'bottom'\u001b[0m\u001b[0;34m,\u001b[0m \u001b[0mlabels\u001b[0m\u001b[0;34m=\u001b[0m\u001b[0mlabels\u001b[0m\u001b[0;34m)\u001b[0m\u001b[0;34m\u001b[0m\u001b[0;34m\u001b[0m\u001b[0m\n\u001b[0m\u001b[1;32m     16\u001b[0m \u001b[0;32mfor\u001b[0m \u001b[0mi\u001b[0m \u001b[0;32min\u001b[0m \u001b[0mrange\u001b[0m\u001b[0;34m(\u001b[0m\u001b[0mlen\u001b[0m\u001b[0;34m(\u001b[0m\u001b[0mfig\u001b[0m\u001b[0;34m[\u001b[0m\u001b[0;34m'data'\u001b[0m\u001b[0;34m]\u001b[0m\u001b[0;34m)\u001b[0m\u001b[0;34m)\u001b[0m\u001b[0;34m:\u001b[0m\u001b[0;34m\u001b[0m\u001b[0;34m\u001b[0m\u001b[0m\n\u001b[1;32m     17\u001b[0m     \u001b[0mfig\u001b[0m\u001b[0;34m[\u001b[0m\u001b[0;34m'data'\u001b[0m\u001b[0;34m]\u001b[0m\u001b[0;34m[\u001b[0m\u001b[0mi\u001b[0m\u001b[0;34m]\u001b[0m\u001b[0;34m[\u001b[0m\u001b[0;34m'yaxis'\u001b[0m\u001b[0;34m]\u001b[0m \u001b[0;34m=\u001b[0m \u001b[0;34m'y2'\u001b[0m\u001b[0;34m\u001b[0m\u001b[0;34m\u001b[0m\u001b[0m\n",
      "\u001b[0;32m~/opt/anaconda3/lib/python3.8/site-packages/plotly/figure_factory/_dendrogram.py\u001b[0m in \u001b[0;36mcreate_dendrogram\u001b[0;34m(X, orientation, labels, colorscale, distfun, linkagefun, hovertext, color_threshold)\u001b[0m\n\u001b[1;32m     96\u001b[0m         \u001b[0mdistfun\u001b[0m \u001b[0;34m=\u001b[0m \u001b[0mscs\u001b[0m\u001b[0;34m.\u001b[0m\u001b[0mdistance\u001b[0m\u001b[0;34m.\u001b[0m\u001b[0mpdist\u001b[0m\u001b[0;34m\u001b[0m\u001b[0;34m\u001b[0m\u001b[0m\n\u001b[1;32m     97\u001b[0m \u001b[0;34m\u001b[0m\u001b[0m\n\u001b[0;32m---> 98\u001b[0;31m     dendrogram = _Dendrogram(\n\u001b[0m\u001b[1;32m     99\u001b[0m         \u001b[0mX\u001b[0m\u001b[0;34m,\u001b[0m\u001b[0;34m\u001b[0m\u001b[0;34m\u001b[0m\u001b[0m\n\u001b[1;32m    100\u001b[0m         \u001b[0morientation\u001b[0m\u001b[0;34m,\u001b[0m\u001b[0;34m\u001b[0m\u001b[0;34m\u001b[0m\u001b[0m\n",
      "\u001b[0;32m~/opt/anaconda3/lib/python3.8/site-packages/plotly/figure_factory/_dendrogram.py\u001b[0m in \u001b[0;36m__init__\u001b[0;34m(self, X, orientation, labels, colorscale, width, height, xaxis, yaxis, distfun, linkagefun, hovertext, color_threshold)\u001b[0m\n\u001b[1;32m    150\u001b[0m             \u001b[0mdistfun\u001b[0m \u001b[0;34m=\u001b[0m \u001b[0mscs\u001b[0m\u001b[0;34m.\u001b[0m\u001b[0mdistance\u001b[0m\u001b[0;34m.\u001b[0m\u001b[0mpdist\u001b[0m\u001b[0;34m\u001b[0m\u001b[0;34m\u001b[0m\u001b[0m\n\u001b[1;32m    151\u001b[0m \u001b[0;34m\u001b[0m\u001b[0m\n\u001b[0;32m--> 152\u001b[0;31m         (dd_traces, xvals, yvals, ordered_labels, leaves) = self.get_dendrogram_traces(\n\u001b[0m\u001b[1;32m    153\u001b[0m             \u001b[0mX\u001b[0m\u001b[0;34m,\u001b[0m \u001b[0mcolorscale\u001b[0m\u001b[0;34m,\u001b[0m \u001b[0mdistfun\u001b[0m\u001b[0;34m,\u001b[0m \u001b[0mlinkagefun\u001b[0m\u001b[0;34m,\u001b[0m \u001b[0mhovertext\u001b[0m\u001b[0;34m,\u001b[0m \u001b[0mcolor_threshold\u001b[0m\u001b[0;34m\u001b[0m\u001b[0;34m\u001b[0m\u001b[0m\n\u001b[1;32m    154\u001b[0m         )\n",
      "\u001b[0;32m~/opt/anaconda3/lib/python3.8/site-packages/plotly/figure_factory/_dendrogram.py\u001b[0m in \u001b[0;36mget_dendrogram_traces\u001b[0;34m(self, X, colorscale, distfun, linkagefun, hovertext, color_threshold)\u001b[0m\n\u001b[1;32m    340\u001b[0m         \u001b[0md\u001b[0m \u001b[0;34m=\u001b[0m \u001b[0mdistfun\u001b[0m\u001b[0;34m(\u001b[0m\u001b[0mX\u001b[0m\u001b[0;34m)\u001b[0m\u001b[0;34m\u001b[0m\u001b[0;34m\u001b[0m\u001b[0m\n\u001b[1;32m    341\u001b[0m         \u001b[0mZ\u001b[0m \u001b[0;34m=\u001b[0m \u001b[0mlinkagefun\u001b[0m\u001b[0;34m(\u001b[0m\u001b[0md\u001b[0m\u001b[0;34m)\u001b[0m\u001b[0;34m\u001b[0m\u001b[0;34m\u001b[0m\u001b[0m\n\u001b[0;32m--> 342\u001b[0;31m         P = sch.dendrogram(\n\u001b[0m\u001b[1;32m    343\u001b[0m             \u001b[0mZ\u001b[0m\u001b[0;34m,\u001b[0m\u001b[0;34m\u001b[0m\u001b[0;34m\u001b[0m\u001b[0m\n\u001b[1;32m    344\u001b[0m             \u001b[0morientation\u001b[0m\u001b[0;34m=\u001b[0m\u001b[0mself\u001b[0m\u001b[0;34m.\u001b[0m\u001b[0morientation\u001b[0m\u001b[0;34m,\u001b[0m\u001b[0;34m\u001b[0m\u001b[0;34m\u001b[0m\u001b[0m\n",
      "\u001b[0;32m~/opt/anaconda3/lib/python3.8/site-packages/scipy/cluster/hierarchy.py\u001b[0m in \u001b[0;36mdendrogram\u001b[0;34m(Z, p, truncate_mode, color_threshold, get_leaves, orientation, labels, count_sort, distance_sort, show_leaf_counts, no_plot, no_labels, leaf_font_size, leaf_rotation, leaf_label_func, show_contracted, link_color_func, ax, above_threshold_color)\u001b[0m\n\u001b[1;32m   3297\u001b[0m \u001b[0;34m\u001b[0m\u001b[0m\n\u001b[1;32m   3298\u001b[0m     \u001b[0;32mif\u001b[0m \u001b[0mlabels\u001b[0m \u001b[0;32mis\u001b[0m \u001b[0;32mnot\u001b[0m \u001b[0;32mNone\u001b[0m \u001b[0;32mand\u001b[0m \u001b[0mZ\u001b[0m\u001b[0;34m.\u001b[0m\u001b[0mshape\u001b[0m\u001b[0;34m[\u001b[0m\u001b[0;36m0\u001b[0m\u001b[0;34m]\u001b[0m \u001b[0;34m+\u001b[0m \u001b[0;36m1\u001b[0m \u001b[0;34m!=\u001b[0m \u001b[0mlen\u001b[0m\u001b[0;34m(\u001b[0m\u001b[0mlabels\u001b[0m\u001b[0;34m)\u001b[0m\u001b[0;34m:\u001b[0m\u001b[0;34m\u001b[0m\u001b[0;34m\u001b[0m\u001b[0m\n\u001b[0;32m-> 3299\u001b[0;31m         \u001b[0;32mraise\u001b[0m \u001b[0mValueError\u001b[0m\u001b[0;34m(\u001b[0m\u001b[0;34m\"Dimensions of Z and labels must be consistent.\"\u001b[0m\u001b[0;34m)\u001b[0m\u001b[0;34m\u001b[0m\u001b[0;34m\u001b[0m\u001b[0m\n\u001b[0m\u001b[1;32m   3300\u001b[0m \u001b[0;34m\u001b[0m\u001b[0m\n\u001b[1;32m   3301\u001b[0m     \u001b[0mis_valid_linkage\u001b[0m\u001b[0;34m(\u001b[0m\u001b[0mZ\u001b[0m\u001b[0;34m,\u001b[0m \u001b[0mthrow\u001b[0m\u001b[0;34m=\u001b[0m\u001b[0;32mTrue\u001b[0m\u001b[0;34m,\u001b[0m \u001b[0mname\u001b[0m\u001b[0;34m=\u001b[0m\u001b[0;34m'Z'\u001b[0m\u001b[0;34m)\u001b[0m\u001b[0;34m\u001b[0m\u001b[0;34m\u001b[0m\u001b[0m\n",
      "\u001b[0;31mValueError\u001b[0m: Dimensions of Z and labels must be consistent."
     ]
    }
   ],
   "source": [
    "import plotly.graph_objects as go\n",
    "import plotly.figure_factory as ff\n",
    "\n",
    "import numpy as np\n",
    "from scipy.spatial.distance import pdist, squareform\n",
    "\n",
    "X_persistence_entropy = PE_X\n",
    "# get data\n",
    "data = X_persistence_entropy\n",
    "data_array = X_persistence_entropy\n",
    "data_array = X_persistence_entropy\n",
    "labels = arr\n",
    "\n",
    "# Initialize figure by creating upper dendrogram\n",
    "fig = ff.create_dendrogram(X, orientation='bottom', labels=labels)\n",
    "for i in range(len(fig['data'])):\n",
    "    fig['data'][i]['yaxis'] = 'y2'\n",
    "\n",
    "# Create Side Dendrogram\n",
    "dendro_side = ff.create_dendrogram(data_array, orientation='right')\n",
    "for i in range(len(dendro_side['data'])):\n",
    "    dendro_side['data'][i]['xaxis'] = 'x2'\n",
    "\n",
    "# Add Side Dendrogram Data to Figure\n",
    "for data in dendro_side['data']:\n",
    "    fig.add_trace(data)\n",
    "\n",
    "# Create Heatmap\n",
    "dendro_leaves = dendro_side['layout']['yaxis']['ticktext']\n",
    "dendro_leaves = list(map(int, dendro_leaves))\n",
    "data_dist = pdist(data_array)\n",
    "heat_data = squareform(data_dist)\n",
    "heat_data = heat_data[dendro_leaves,:]\n",
    "heat_data = heat_data[:,dendro_leaves]\n",
    "\n",
    "heatmap = [\n",
    "    go.Heatmap(\n",
    "        x = dendro_leaves,\n",
    "        y = dendro_leaves,\n",
    "        z = heat_data,\n",
    "        colorscale = 'Blues'\n",
    "    )\n",
    "]\n",
    "\n",
    "heatmap[0]['x'] = fig['layout']['xaxis']['tickvals']\n",
    "heatmap[0]['y'] = dendro_side['layout']['yaxis']['tickvals']\n",
    "\n",
    "# Add Heatmap Data to Figure\n",
    "for data in heatmap:\n",
    "    fig.add_trace(data)\n",
    "\n",
    "# Edit Layout\n",
    "fig.update_layout({'width':800, 'height':800,\n",
    "                         'showlegend':False, 'hovermode': 'closest',\n",
    "                         })\n",
    "# Edit xaxis\n",
    "fig.update_layout(xaxis={'domain': [.15, 1],\n",
    "                                  'mirror': False,\n",
    "                                  'showgrid': False,\n",
    "                                  'showline': False,\n",
    "                                  'zeroline': False,\n",
    "                                  'ticks':\"\"})\n",
    "# Edit xaxis2\n",
    "fig.update_layout(xaxis2={'domain': [0, .15],\n",
    "                                   'mirror': False,\n",
    "                                   'showgrid': False,\n",
    "                                   'showline': False,\n",
    "                                   'zeroline': False,\n",
    "                                   'showticklabels': False,\n",
    "                                   'ticks':\"\"})\n",
    "\n",
    "# Edit yaxis\n",
    "fig.update_layout(yaxis={'domain': [0, .85],\n",
    "                                  'mirror': False,\n",
    "                                  'showgrid': False,\n",
    "                                  'showline': False,\n",
    "                                  'zeroline': False,\n",
    "                                  'showticklabels': False,\n",
    "                                  'ticks': \"\"\n",
    "                        })\n",
    "# Edit yaxis2\n",
    "fig.update_layout(yaxis2={'domain':[.825, .975],\n",
    "                                   'mirror': False,\n",
    "                                   'showgrid': False,\n",
    "                                   'showline': False,\n",
    "                                   'zeroline': False,\n",
    "                                   'showticklabels': False,\n",
    "                                   'ticks':\"\"})\n",
    "\n",
    "# Plot!\n",
    "fig.show()"
   ]
  },
  {
   "cell_type": "code",
   "execution_count": 86,
   "id": "7a84411b",
   "metadata": {},
   "outputs": [
    {
     "data": {
      "text/plain": [
       "(Scatter({\n",
       "     'hoverinfo': 'text',\n",
       "     'marker': {'color': 'rgb(61,153,112)'},\n",
       "     'mode': 'lines',\n",
       "     'x': array([15., 15., 25., 25.]),\n",
       "     'xaxis': 'x',\n",
       "     'y': array([0.        , 0.07372826, 0.07372826, 0.        ]),\n",
       "     'yaxis': 'y2'\n",
       " }),\n",
       " Scatter({\n",
       "     'hoverinfo': 'text',\n",
       "     'marker': {'color': 'rgb(61,153,112)'},\n",
       "     'mode': 'lines',\n",
       "     'x': array([45., 45., 55., 55.]),\n",
       "     'xaxis': 'x',\n",
       "     'y': array([0.        , 0.06266257, 0.06266257, 0.        ]),\n",
       "     'yaxis': 'y2'\n",
       " }),\n",
       " Scatter({\n",
       "     'hoverinfo': 'text',\n",
       "     'marker': {'color': 'rgb(61,153,112)'},\n",
       "     'mode': 'lines',\n",
       "     'x': array([35., 35., 50., 50.]),\n",
       "     'xaxis': 'x',\n",
       "     'y': array([0.        , 0.08721178, 0.08721178, 0.06266257]),\n",
       "     'yaxis': 'y2'\n",
       " }),\n",
       " Scatter({\n",
       "     'hoverinfo': 'text',\n",
       "     'marker': {'color': 'rgb(61,153,112)'},\n",
       "     'mode': 'lines',\n",
       "     'x': array([20. , 20. , 42.5, 42.5]),\n",
       "     'xaxis': 'x',\n",
       "     'y': array([0.07372826, 0.20432377, 0.20432377, 0.08721178]),\n",
       "     'yaxis': 'y2'\n",
       " }),\n",
       " Scatter({\n",
       "     'hoverinfo': 'text',\n",
       "     'marker': {'color': 'rgb(61,153,112)'},\n",
       "     'mode': 'lines',\n",
       "     'x': array([ 5.  ,  5.  , 31.25, 31.25]),\n",
       "     'xaxis': 'x',\n",
       "     'y': array([0.        , 0.34823026, 0.34823026, 0.20432377]),\n",
       "     'yaxis': 'y2'\n",
       " }),\n",
       " Scatter({\n",
       "     'hoverinfo': 'text',\n",
       "     'marker': {'color': 'rgb(61,153,112)'},\n",
       "     'mode': 'lines',\n",
       "     'x': array([65., 65., 75., 75.]),\n",
       "     'xaxis': 'x',\n",
       "     'y': array([0.        , 0.06440643, 0.06440643, 0.        ]),\n",
       "     'yaxis': 'y2'\n",
       " }),\n",
       " Scatter({\n",
       "     'hoverinfo': 'text',\n",
       "     'marker': {'color': 'rgb(61,153,112)'},\n",
       "     'mode': 'lines',\n",
       "     'x': array([85., 85., 95., 95.]),\n",
       "     'xaxis': 'x',\n",
       "     'y': array([0.        , 0.01961773, 0.01961773, 0.        ]),\n",
       "     'yaxis': 'y2'\n",
       " }),\n",
       " Scatter({\n",
       "     'hoverinfo': 'text',\n",
       "     'marker': {'color': 'rgb(61,153,112)'},\n",
       "     'mode': 'lines',\n",
       "     'x': array([115., 115., 125., 125.]),\n",
       "     'xaxis': 'x',\n",
       "     'y': array([0.       , 0.0170718, 0.0170718, 0.       ]),\n",
       "     'yaxis': 'y2'\n",
       " }),\n",
       " Scatter({\n",
       "     'hoverinfo': 'text',\n",
       "     'marker': {'color': 'rgb(61,153,112)'},\n",
       "     'mode': 'lines',\n",
       "     'x': array([105., 105., 120., 120.]),\n",
       "     'xaxis': 'x',\n",
       "     'y': array([0.        , 0.03935848, 0.03935848, 0.0170718 ]),\n",
       "     'yaxis': 'y2'\n",
       " }),\n",
       " Scatter({\n",
       "     'hoverinfo': 'text',\n",
       "     'marker': {'color': 'rgb(61,153,112)'},\n",
       "     'mode': 'lines',\n",
       "     'x': array([135., 135., 145., 145.]),\n",
       "     'xaxis': 'x',\n",
       "     'y': array([0.        , 0.04702805, 0.04702805, 0.        ]),\n",
       "     'yaxis': 'y2'\n",
       " }),\n",
       " Scatter({\n",
       "     'hoverinfo': 'text',\n",
       "     'marker': {'color': 'rgb(61,153,112)'},\n",
       "     'mode': 'lines',\n",
       "     'x': array([112.5, 112.5, 140. , 140. ]),\n",
       "     'xaxis': 'x',\n",
       "     'y': array([0.03935848, 0.09294069, 0.09294069, 0.04702805]),\n",
       "     'yaxis': 'y2'\n",
       " }),\n",
       " Scatter({\n",
       "     'hoverinfo': 'text',\n",
       "     'marker': {'color': 'rgb(61,153,112)'},\n",
       "     'mode': 'lines',\n",
       "     'x': array([ 90.  ,  90.  , 126.25, 126.25]),\n",
       "     'xaxis': 'x',\n",
       "     'y': array([0.01961773, 0.14662932, 0.14662932, 0.09294069]),\n",
       "     'yaxis': 'y2'\n",
       " }),\n",
       " Scatter({\n",
       "     'hoverinfo': 'text',\n",
       "     'marker': {'color': 'rgb(61,153,112)'},\n",
       "     'mode': 'lines',\n",
       "     'x': array([ 70.   ,  70.   , 108.125, 108.125]),\n",
       "     'xaxis': 'x',\n",
       "     'y': array([0.06440643, 0.24018975, 0.24018975, 0.14662932]),\n",
       "     'yaxis': 'y2'\n",
       " }),\n",
       " Scatter({\n",
       "     'hoverinfo': 'text',\n",
       "     'marker': {'color': 'rgb(61,153,112)'},\n",
       "     'mode': 'lines',\n",
       "     'x': array([165., 165., 175., 175.]),\n",
       "     'xaxis': 'x',\n",
       "     'y': array([0.        , 0.02072938, 0.02072938, 0.        ]),\n",
       "     'yaxis': 'y2'\n",
       " }),\n",
       " Scatter({\n",
       "     'hoverinfo': 'text',\n",
       "     'marker': {'color': 'rgb(61,153,112)'},\n",
       "     'mode': 'lines',\n",
       "     'x': array([155., 155., 170., 170.]),\n",
       "     'xaxis': 'x',\n",
       "     'y': array([0.        , 0.10109123, 0.10109123, 0.02072938]),\n",
       "     'yaxis': 'y2'\n",
       " }),\n",
       " Scatter({\n",
       "     'hoverinfo': 'text',\n",
       "     'marker': {'color': 'rgb(61,153,112)'},\n",
       "     'mode': 'lines',\n",
       "     'x': array([195., 195., 205., 205.]),\n",
       "     'xaxis': 'x',\n",
       "     'y': array([0.        , 0.10587653, 0.10587653, 0.        ]),\n",
       "     'yaxis': 'y2'\n",
       " }),\n",
       " Scatter({\n",
       "     'hoverinfo': 'text',\n",
       "     'marker': {'color': 'rgb(61,153,112)'},\n",
       "     'mode': 'lines',\n",
       "     'x': array([185., 185., 200., 200.]),\n",
       "     'xaxis': 'x',\n",
       "     'y': array([0.        , 0.1654204 , 0.1654204 , 0.10587653]),\n",
       "     'yaxis': 'y2'\n",
       " }),\n",
       " Scatter({\n",
       "     'hoverinfo': 'text',\n",
       "     'marker': {'color': 'rgb(61,153,112)'},\n",
       "     'mode': 'lines',\n",
       "     'x': array([162.5, 162.5, 192.5, 192.5]),\n",
       "     'xaxis': 'x',\n",
       "     'y': array([0.10109123, 0.27301319, 0.27301319, 0.1654204 ]),\n",
       "     'yaxis': 'y2'\n",
       " }),\n",
       " Scatter({\n",
       "     'hoverinfo': 'text',\n",
       "     'marker': {'color': 'rgb(61,153,112)'},\n",
       "     'mode': 'lines',\n",
       "     'x': array([ 89.0625,  89.0625, 177.5   , 177.5   ]),\n",
       "     'xaxis': 'x',\n",
       "     'y': array([0.24018975, 0.45475099, 0.45475099, 0.27301319]),\n",
       "     'yaxis': 'y2'\n",
       " }),\n",
       " Scatter({\n",
       "     'hoverinfo': 'text',\n",
       "     'marker': {'color': 'rgb(61,153,112)'},\n",
       "     'mode': 'lines',\n",
       "     'x': array([225., 225., 235., 235.]),\n",
       "     'xaxis': 'x',\n",
       "     'y': array([0.        , 0.04255927, 0.04255927, 0.        ]),\n",
       "     'yaxis': 'y2'\n",
       " }),\n",
       " Scatter({\n",
       "     'hoverinfo': 'text',\n",
       "     'marker': {'color': 'rgb(61,153,112)'},\n",
       "     'mode': 'lines',\n",
       "     'x': array([215., 215., 230., 230.]),\n",
       "     'xaxis': 'x',\n",
       "     'y': array([0.        , 0.09301093, 0.09301093, 0.04255927]),\n",
       "     'yaxis': 'y2'\n",
       " }),\n",
       " Scatter({\n",
       "     'hoverinfo': 'text',\n",
       "     'marker': {'color': 'rgb(61,153,112)'},\n",
       "     'mode': 'lines',\n",
       "     'x': array([255., 255., 265., 265.]),\n",
       "     'xaxis': 'x',\n",
       "     'y': array([0.        , 0.04508054, 0.04508054, 0.        ]),\n",
       "     'yaxis': 'y2'\n",
       " }),\n",
       " Scatter({\n",
       "     'hoverinfo': 'text',\n",
       "     'marker': {'color': 'rgb(61,153,112)'},\n",
       "     'mode': 'lines',\n",
       "     'x': array([245., 245., 260., 260.]),\n",
       "     'xaxis': 'x',\n",
       "     'y': array([0.        , 0.09559317, 0.09559317, 0.04508054]),\n",
       "     'yaxis': 'y2'\n",
       " }),\n",
       " Scatter({\n",
       "     'hoverinfo': 'text',\n",
       "     'marker': {'color': 'rgb(61,153,112)'},\n",
       "     'mode': 'lines',\n",
       "     'x': array([222.5, 222.5, 252.5, 252.5]),\n",
       "     'xaxis': 'x',\n",
       "     'y': array([0.09301093, 0.19063476, 0.19063476, 0.09559317]),\n",
       "     'yaxis': 'y2'\n",
       " }),\n",
       " Scatter({\n",
       "     'hoverinfo': 'text',\n",
       "     'marker': {'color': 'rgb(61,153,112)'},\n",
       "     'mode': 'lines',\n",
       "     'x': array([295., 295., 305., 305.]),\n",
       "     'xaxis': 'x',\n",
       "     'y': array([0.        , 0.01511911, 0.01511911, 0.        ]),\n",
       "     'yaxis': 'y2'\n",
       " }),\n",
       " Scatter({\n",
       "     'hoverinfo': 'text',\n",
       "     'marker': {'color': 'rgb(61,153,112)'},\n",
       "     'mode': 'lines',\n",
       "     'x': array([285., 285., 300., 300.]),\n",
       "     'xaxis': 'x',\n",
       "     'y': array([0.        , 0.04513764, 0.04513764, 0.01511911]),\n",
       "     'yaxis': 'y2'\n",
       " }),\n",
       " Scatter({\n",
       "     'hoverinfo': 'text',\n",
       "     'marker': {'color': 'rgb(61,153,112)'},\n",
       "     'mode': 'lines',\n",
       "     'x': array([315., 315., 325., 325.]),\n",
       "     'xaxis': 'x',\n",
       "     'y': array([0.        , 0.04975018, 0.04975018, 0.        ]),\n",
       "     'yaxis': 'y2'\n",
       " }),\n",
       " Scatter({\n",
       "     'hoverinfo': 'text',\n",
       "     'marker': {'color': 'rgb(61,153,112)'},\n",
       "     'mode': 'lines',\n",
       "     'x': array([292.5, 292.5, 320. , 320. ]),\n",
       "     'xaxis': 'x',\n",
       "     'y': array([0.04513764, 0.1097314 , 0.1097314 , 0.04975018]),\n",
       "     'yaxis': 'y2'\n",
       " }),\n",
       " Scatter({\n",
       "     'hoverinfo': 'text',\n",
       "     'marker': {'color': 'rgb(61,153,112)'},\n",
       "     'mode': 'lines',\n",
       "     'x': array([275.  , 275.  , 306.25, 306.25]),\n",
       "     'xaxis': 'x',\n",
       "     'y': array([0.        , 0.22401505, 0.22401505, 0.1097314 ]),\n",
       "     'yaxis': 'y2'\n",
       " }),\n",
       " Scatter({\n",
       "     'hoverinfo': 'text',\n",
       "     'marker': {'color': 'rgb(61,153,112)'},\n",
       "     'mode': 'lines',\n",
       "     'x': array([237.5  , 237.5  , 290.625, 290.625]),\n",
       "     'xaxis': 'x',\n",
       "     'y': array([0.19063476, 0.26185464, 0.26185464, 0.22401505]),\n",
       "     'yaxis': 'y2'\n",
       " }),\n",
       " Scatter({\n",
       "     'hoverinfo': 'text',\n",
       "     'marker': {'color': 'rgb(61,153,112)'},\n",
       "     'mode': 'lines',\n",
       "     'x': array([335., 335., 345., 345.]),\n",
       "     'xaxis': 'x',\n",
       "     'y': array([0.        , 0.09264109, 0.09264109, 0.        ]),\n",
       "     'yaxis': 'y2'\n",
       " }),\n",
       " Scatter({\n",
       "     'hoverinfo': 'text',\n",
       "     'marker': {'color': 'rgb(61,153,112)'},\n",
       "     'mode': 'lines',\n",
       "     'x': array([375., 375., 385., 385.]),\n",
       "     'xaxis': 'x',\n",
       "     'y': array([0.       , 0.0253825, 0.0253825, 0.       ]),\n",
       "     'yaxis': 'y2'\n",
       " }),\n",
       " Scatter({\n",
       "     'hoverinfo': 'text',\n",
       "     'marker': {'color': 'rgb(61,153,112)'},\n",
       "     'mode': 'lines',\n",
       "     'x': array([365., 365., 380., 380.]),\n",
       "     'xaxis': 'x',\n",
       "     'y': array([0.        , 0.05366027, 0.05366027, 0.0253825 ]),\n",
       "     'yaxis': 'y2'\n",
       " }),\n",
       " Scatter({\n",
       "     'hoverinfo': 'text',\n",
       "     'marker': {'color': 'rgb(61,153,112)'},\n",
       "     'mode': 'lines',\n",
       "     'x': array([395., 395., 405., 405.]),\n",
       "     'xaxis': 'x',\n",
       "     'y': array([0.        , 0.07390874, 0.07390874, 0.        ]),\n",
       "     'yaxis': 'y2'\n",
       " }),\n",
       " Scatter({\n",
       "     'hoverinfo': 'text',\n",
       "     'marker': {'color': 'rgb(61,153,112)'},\n",
       "     'mode': 'lines',\n",
       "     'x': array([372.5, 372.5, 400. , 400. ]),\n",
       "     'xaxis': 'x',\n",
       "     'y': array([0.05366027, 0.1161783 , 0.1161783 , 0.07390874]),\n",
       "     'yaxis': 'y2'\n",
       " }),\n",
       " Scatter({\n",
       "     'hoverinfo': 'text',\n",
       "     'marker': {'color': 'rgb(61,153,112)'},\n",
       "     'mode': 'lines',\n",
       "     'x': array([355.  , 355.  , 386.25, 386.25]),\n",
       "     'xaxis': 'x',\n",
       "     'y': array([0.        , 0.17267106, 0.17267106, 0.1161783 ]),\n",
       "     'yaxis': 'y2'\n",
       " }),\n",
       " Scatter({\n",
       "     'hoverinfo': 'text',\n",
       "     'marker': {'color': 'rgb(61,153,112)'},\n",
       "     'mode': 'lines',\n",
       "     'x': array([340.   , 340.   , 370.625, 370.625]),\n",
       "     'xaxis': 'x',\n",
       "     'y': array([0.09264109, 0.29396816, 0.29396816, 0.17267106]),\n",
       "     'yaxis': 'y2'\n",
       " }),\n",
       " Scatter({\n",
       "     'hoverinfo': 'text',\n",
       "     'marker': {'color': 'rgb(61,153,112)'},\n",
       "     'mode': 'lines',\n",
       "     'x': array([264.0625, 264.0625, 355.3125, 355.3125]),\n",
       "     'xaxis': 'x',\n",
       "     'y': array([0.26185464, 0.49501823, 0.49501823, 0.29396816]),\n",
       "     'yaxis': 'y2'\n",
       " }),\n",
       " Scatter({\n",
       "     'hoverinfo': 'text',\n",
       "     'marker': {'color': 'rgb(61,153,112)'},\n",
       "     'mode': 'lines',\n",
       "     'x': array([133.28125, 133.28125, 309.6875 , 309.6875 ]),\n",
       "     'xaxis': 'x',\n",
       "     'y': array([0.45475099, 0.98726502, 0.98726502, 0.49501823]),\n",
       "     'yaxis': 'y2'\n",
       " }),\n",
       " Scatter({\n",
       "     'hoverinfo': 'text',\n",
       "     'marker': {'color': 'rgb(61,153,112)'},\n",
       "     'mode': 'lines',\n",
       "     'x': array([ 18.125   ,  18.125   , 221.484375, 221.484375]),\n",
       "     'xaxis': 'x',\n",
       "     'y': array([0.34823026, 1.56020705, 1.56020705, 0.98726502]),\n",
       "     'yaxis': 'y2'\n",
       " }),\n",
       " Scatter({\n",
       "     'hoverinfo': 'text',\n",
       "     'marker': {'color': 'rgb(255,65,54)'},\n",
       "     'mode': 'lines',\n",
       "     'x': array([425., 425., 435., 435.]),\n",
       "     'xaxis': 'x',\n",
       "     'y': array([0.        , 1.19151461, 1.19151461, 0.        ]),\n",
       "     'yaxis': 'y2'\n",
       " }),\n",
       " Scatter({\n",
       "     'hoverinfo': 'text',\n",
       "     'marker': {'color': 'rgb(0,116,217)'},\n",
       "     'mode': 'lines',\n",
       "     'x': array([415., 415., 430., 430.]),\n",
       "     'xaxis': 'x',\n",
       "     'y': array([0.        , 2.51825728, 2.51825728, 1.19151461]),\n",
       "     'yaxis': 'y2'\n",
       " }),\n",
       " Scatter({\n",
       "     'hoverinfo': 'text',\n",
       "     'marker': {'color': 'rgb(0,116,217)'},\n",
       "     'mode': 'lines',\n",
       "     'x': array([119.8046875, 119.8046875, 422.5      , 422.5      ]),\n",
       "     'xaxis': 'x',\n",
       "     'y': array([1.56020705, 2.80754318, 2.80754318, 2.51825728]),\n",
       "     'yaxis': 'y2'\n",
       " }),\n",
       " Scatter({\n",
       "     'hoverinfo': 'text',\n",
       "     'marker': {'color': 'rgb(61,153,112)'},\n",
       "     'mode': 'lines',\n",
       "     'x': array([-0.        , -0.07372826, -0.07372826, -0.        ]),\n",
       "     'xaxis': 'x2',\n",
       "     'y': array([15., 15., 25., 25.]),\n",
       "     'yaxis': 'y'\n",
       " }),\n",
       " Scatter({\n",
       "     'hoverinfo': 'text',\n",
       "     'marker': {'color': 'rgb(61,153,112)'},\n",
       "     'mode': 'lines',\n",
       "     'x': array([-0.        , -0.06266257, -0.06266257, -0.        ]),\n",
       "     'xaxis': 'x2',\n",
       "     'y': array([45., 45., 55., 55.]),\n",
       "     'yaxis': 'y'\n",
       " }),\n",
       " Scatter({\n",
       "     'hoverinfo': 'text',\n",
       "     'marker': {'color': 'rgb(61,153,112)'},\n",
       "     'mode': 'lines',\n",
       "     'x': array([-0.        , -0.08721178, -0.08721178, -0.06266257]),\n",
       "     'xaxis': 'x2',\n",
       "     'y': array([35., 35., 50., 50.]),\n",
       "     'yaxis': 'y'\n",
       " }),\n",
       " Scatter({\n",
       "     'hoverinfo': 'text',\n",
       "     'marker': {'color': 'rgb(61,153,112)'},\n",
       "     'mode': 'lines',\n",
       "     'x': array([-0.07372826, -0.20432377, -0.20432377, -0.08721178]),\n",
       "     'xaxis': 'x2',\n",
       "     'y': array([20. , 20. , 42.5, 42.5]),\n",
       "     'yaxis': 'y'\n",
       " }),\n",
       " Scatter({\n",
       "     'hoverinfo': 'text',\n",
       "     'marker': {'color': 'rgb(61,153,112)'},\n",
       "     'mode': 'lines',\n",
       "     'x': array([-0.        , -0.34823026, -0.34823026, -0.20432377]),\n",
       "     'xaxis': 'x2',\n",
       "     'y': array([ 5.  ,  5.  , 31.25, 31.25]),\n",
       "     'yaxis': 'y'\n",
       " }),\n",
       " Scatter({\n",
       "     'hoverinfo': 'text',\n",
       "     'marker': {'color': 'rgb(61,153,112)'},\n",
       "     'mode': 'lines',\n",
       "     'x': array([-0.        , -0.06440643, -0.06440643, -0.        ]),\n",
       "     'xaxis': 'x2',\n",
       "     'y': array([65., 65., 75., 75.]),\n",
       "     'yaxis': 'y'\n",
       " }),\n",
       " Scatter({\n",
       "     'hoverinfo': 'text',\n",
       "     'marker': {'color': 'rgb(61,153,112)'},\n",
       "     'mode': 'lines',\n",
       "     'x': array([-0.        , -0.01961773, -0.01961773, -0.        ]),\n",
       "     'xaxis': 'x2',\n",
       "     'y': array([85., 85., 95., 95.]),\n",
       "     'yaxis': 'y'\n",
       " }),\n",
       " Scatter({\n",
       "     'hoverinfo': 'text',\n",
       "     'marker': {'color': 'rgb(61,153,112)'},\n",
       "     'mode': 'lines',\n",
       "     'x': array([-0.       , -0.0170718, -0.0170718, -0.       ]),\n",
       "     'xaxis': 'x2',\n",
       "     'y': array([115., 115., 125., 125.]),\n",
       "     'yaxis': 'y'\n",
       " }),\n",
       " Scatter({\n",
       "     'hoverinfo': 'text',\n",
       "     'marker': {'color': 'rgb(61,153,112)'},\n",
       "     'mode': 'lines',\n",
       "     'x': array([-0.        , -0.03935848, -0.03935848, -0.0170718 ]),\n",
       "     'xaxis': 'x2',\n",
       "     'y': array([105., 105., 120., 120.]),\n",
       "     'yaxis': 'y'\n",
       " }),\n",
       " Scatter({\n",
       "     'hoverinfo': 'text',\n",
       "     'marker': {'color': 'rgb(61,153,112)'},\n",
       "     'mode': 'lines',\n",
       "     'x': array([-0.        , -0.04702805, -0.04702805, -0.        ]),\n",
       "     'xaxis': 'x2',\n",
       "     'y': array([135., 135., 145., 145.]),\n",
       "     'yaxis': 'y'\n",
       " }),\n",
       " Scatter({\n",
       "     'hoverinfo': 'text',\n",
       "     'marker': {'color': 'rgb(61,153,112)'},\n",
       "     'mode': 'lines',\n",
       "     'x': array([-0.03935848, -0.09294069, -0.09294069, -0.04702805]),\n",
       "     'xaxis': 'x2',\n",
       "     'y': array([112.5, 112.5, 140. , 140. ]),\n",
       "     'yaxis': 'y'\n",
       " }),\n",
       " Scatter({\n",
       "     'hoverinfo': 'text',\n",
       "     'marker': {'color': 'rgb(61,153,112)'},\n",
       "     'mode': 'lines',\n",
       "     'x': array([-0.01961773, -0.14662932, -0.14662932, -0.09294069]),\n",
       "     'xaxis': 'x2',\n",
       "     'y': array([ 90.  ,  90.  , 126.25, 126.25]),\n",
       "     'yaxis': 'y'\n",
       " }),\n",
       " Scatter({\n",
       "     'hoverinfo': 'text',\n",
       "     'marker': {'color': 'rgb(61,153,112)'},\n",
       "     'mode': 'lines',\n",
       "     'x': array([-0.06440643, -0.24018975, -0.24018975, -0.14662932]),\n",
       "     'xaxis': 'x2',\n",
       "     'y': array([ 70.   ,  70.   , 108.125, 108.125]),\n",
       "     'yaxis': 'y'\n",
       " }),\n",
       " Scatter({\n",
       "     'hoverinfo': 'text',\n",
       "     'marker': {'color': 'rgb(61,153,112)'},\n",
       "     'mode': 'lines',\n",
       "     'x': array([-0.        , -0.02072938, -0.02072938, -0.        ]),\n",
       "     'xaxis': 'x2',\n",
       "     'y': array([165., 165., 175., 175.]),\n",
       "     'yaxis': 'y'\n",
       " }),\n",
       " Scatter({\n",
       "     'hoverinfo': 'text',\n",
       "     'marker': {'color': 'rgb(61,153,112)'},\n",
       "     'mode': 'lines',\n",
       "     'x': array([-0.        , -0.10109123, -0.10109123, -0.02072938]),\n",
       "     'xaxis': 'x2',\n",
       "     'y': array([155., 155., 170., 170.]),\n",
       "     'yaxis': 'y'\n",
       " }),\n",
       " Scatter({\n",
       "     'hoverinfo': 'text',\n",
       "     'marker': {'color': 'rgb(61,153,112)'},\n",
       "     'mode': 'lines',\n",
       "     'x': array([-0.        , -0.10587653, -0.10587653, -0.        ]),\n",
       "     'xaxis': 'x2',\n",
       "     'y': array([195., 195., 205., 205.]),\n",
       "     'yaxis': 'y'\n",
       " }),\n",
       " Scatter({\n",
       "     'hoverinfo': 'text',\n",
       "     'marker': {'color': 'rgb(61,153,112)'},\n",
       "     'mode': 'lines',\n",
       "     'x': array([-0.        , -0.1654204 , -0.1654204 , -0.10587653]),\n",
       "     'xaxis': 'x2',\n",
       "     'y': array([185., 185., 200., 200.]),\n",
       "     'yaxis': 'y'\n",
       " }),\n",
       " Scatter({\n",
       "     'hoverinfo': 'text',\n",
       "     'marker': {'color': 'rgb(61,153,112)'},\n",
       "     'mode': 'lines',\n",
       "     'x': array([-0.10109123, -0.27301319, -0.27301319, -0.1654204 ]),\n",
       "     'xaxis': 'x2',\n",
       "     'y': array([162.5, 162.5, 192.5, 192.5]),\n",
       "     'yaxis': 'y'\n",
       " }),\n",
       " Scatter({\n",
       "     'hoverinfo': 'text',\n",
       "     'marker': {'color': 'rgb(61,153,112)'},\n",
       "     'mode': 'lines',\n",
       "     'x': array([-0.24018975, -0.45475099, -0.45475099, -0.27301319]),\n",
       "     'xaxis': 'x2',\n",
       "     'y': array([ 89.0625,  89.0625, 177.5   , 177.5   ]),\n",
       "     'yaxis': 'y'\n",
       " }),\n",
       " Scatter({\n",
       "     'hoverinfo': 'text',\n",
       "     'marker': {'color': 'rgb(61,153,112)'},\n",
       "     'mode': 'lines',\n",
       "     'x': array([-0.        , -0.04255927, -0.04255927, -0.        ]),\n",
       "     'xaxis': 'x2',\n",
       "     'y': array([225., 225., 235., 235.]),\n",
       "     'yaxis': 'y'\n",
       " }),\n",
       " Scatter({\n",
       "     'hoverinfo': 'text',\n",
       "     'marker': {'color': 'rgb(61,153,112)'},\n",
       "     'mode': 'lines',\n",
       "     'x': array([-0.        , -0.09301093, -0.09301093, -0.04255927]),\n",
       "     'xaxis': 'x2',\n",
       "     'y': array([215., 215., 230., 230.]),\n",
       "     'yaxis': 'y'\n",
       " }),\n",
       " Scatter({\n",
       "     'hoverinfo': 'text',\n",
       "     'marker': {'color': 'rgb(61,153,112)'},\n",
       "     'mode': 'lines',\n",
       "     'x': array([-0.        , -0.04508054, -0.04508054, -0.        ]),\n",
       "     'xaxis': 'x2',\n",
       "     'y': array([255., 255., 265., 265.]),\n",
       "     'yaxis': 'y'\n",
       " }),\n",
       " Scatter({\n",
       "     'hoverinfo': 'text',\n",
       "     'marker': {'color': 'rgb(61,153,112)'},\n",
       "     'mode': 'lines',\n",
       "     'x': array([-0.        , -0.09559317, -0.09559317, -0.04508054]),\n",
       "     'xaxis': 'x2',\n",
       "     'y': array([245., 245., 260., 260.]),\n",
       "     'yaxis': 'y'\n",
       " }),\n",
       " Scatter({\n",
       "     'hoverinfo': 'text',\n",
       "     'marker': {'color': 'rgb(61,153,112)'},\n",
       "     'mode': 'lines',\n",
       "     'x': array([-0.09301093, -0.19063476, -0.19063476, -0.09559317]),\n",
       "     'xaxis': 'x2',\n",
       "     'y': array([222.5, 222.5, 252.5, 252.5]),\n",
       "     'yaxis': 'y'\n",
       " }),\n",
       " Scatter({\n",
       "     'hoverinfo': 'text',\n",
       "     'marker': {'color': 'rgb(61,153,112)'},\n",
       "     'mode': 'lines',\n",
       "     'x': array([-0.        , -0.01511911, -0.01511911, -0.        ]),\n",
       "     'xaxis': 'x2',\n",
       "     'y': array([295., 295., 305., 305.]),\n",
       "     'yaxis': 'y'\n",
       " }),\n",
       " Scatter({\n",
       "     'hoverinfo': 'text',\n",
       "     'marker': {'color': 'rgb(61,153,112)'},\n",
       "     'mode': 'lines',\n",
       "     'x': array([-0.        , -0.04513764, -0.04513764, -0.01511911]),\n",
       "     'xaxis': 'x2',\n",
       "     'y': array([285., 285., 300., 300.]),\n",
       "     'yaxis': 'y'\n",
       " }),\n",
       " Scatter({\n",
       "     'hoverinfo': 'text',\n",
       "     'marker': {'color': 'rgb(61,153,112)'},\n",
       "     'mode': 'lines',\n",
       "     'x': array([-0.        , -0.04975018, -0.04975018, -0.        ]),\n",
       "     'xaxis': 'x2',\n",
       "     'y': array([315., 315., 325., 325.]),\n",
       "     'yaxis': 'y'\n",
       " }),\n",
       " Scatter({\n",
       "     'hoverinfo': 'text',\n",
       "     'marker': {'color': 'rgb(61,153,112)'},\n",
       "     'mode': 'lines',\n",
       "     'x': array([-0.04513764, -0.1097314 , -0.1097314 , -0.04975018]),\n",
       "     'xaxis': 'x2',\n",
       "     'y': array([292.5, 292.5, 320. , 320. ]),\n",
       "     'yaxis': 'y'\n",
       " }),\n",
       " Scatter({\n",
       "     'hoverinfo': 'text',\n",
       "     'marker': {'color': 'rgb(61,153,112)'},\n",
       "     'mode': 'lines',\n",
       "     'x': array([-0.        , -0.22401505, -0.22401505, -0.1097314 ]),\n",
       "     'xaxis': 'x2',\n",
       "     'y': array([275.  , 275.  , 306.25, 306.25]),\n",
       "     'yaxis': 'y'\n",
       " }),\n",
       " Scatter({\n",
       "     'hoverinfo': 'text',\n",
       "     'marker': {'color': 'rgb(61,153,112)'},\n",
       "     'mode': 'lines',\n",
       "     'x': array([-0.19063476, -0.26185464, -0.26185464, -0.22401505]),\n",
       "     'xaxis': 'x2',\n",
       "     'y': array([237.5  , 237.5  , 290.625, 290.625]),\n",
       "     'yaxis': 'y'\n",
       " }),\n",
       " Scatter({\n",
       "     'hoverinfo': 'text',\n",
       "     'marker': {'color': 'rgb(61,153,112)'},\n",
       "     'mode': 'lines',\n",
       "     'x': array([-0.        , -0.09264109, -0.09264109, -0.        ]),\n",
       "     'xaxis': 'x2',\n",
       "     'y': array([335., 335., 345., 345.]),\n",
       "     'yaxis': 'y'\n",
       " }),\n",
       " Scatter({\n",
       "     'hoverinfo': 'text',\n",
       "     'marker': {'color': 'rgb(61,153,112)'},\n",
       "     'mode': 'lines',\n",
       "     'x': array([-0.       , -0.0253825, -0.0253825, -0.       ]),\n",
       "     'xaxis': 'x2',\n",
       "     'y': array([375., 375., 385., 385.]),\n",
       "     'yaxis': 'y'\n",
       " }),\n",
       " Scatter({\n",
       "     'hoverinfo': 'text',\n",
       "     'marker': {'color': 'rgb(61,153,112)'},\n",
       "     'mode': 'lines',\n",
       "     'x': array([-0.        , -0.05366027, -0.05366027, -0.0253825 ]),\n",
       "     'xaxis': 'x2',\n",
       "     'y': array([365., 365., 380., 380.]),\n",
       "     'yaxis': 'y'\n",
       " }),\n",
       " Scatter({\n",
       "     'hoverinfo': 'text',\n",
       "     'marker': {'color': 'rgb(61,153,112)'},\n",
       "     'mode': 'lines',\n",
       "     'x': array([-0.        , -0.07390874, -0.07390874, -0.        ]),\n",
       "     'xaxis': 'x2',\n",
       "     'y': array([395., 395., 405., 405.]),\n",
       "     'yaxis': 'y'\n",
       " }),\n",
       " Scatter({\n",
       "     'hoverinfo': 'text',\n",
       "     'marker': {'color': 'rgb(61,153,112)'},\n",
       "     'mode': 'lines',\n",
       "     'x': array([-0.05366027, -0.1161783 , -0.1161783 , -0.07390874]),\n",
       "     'xaxis': 'x2',\n",
       "     'y': array([372.5, 372.5, 400. , 400. ]),\n",
       "     'yaxis': 'y'\n",
       " }),\n",
       " Scatter({\n",
       "     'hoverinfo': 'text',\n",
       "     'marker': {'color': 'rgb(61,153,112)'},\n",
       "     'mode': 'lines',\n",
       "     'x': array([-0.        , -0.17267106, -0.17267106, -0.1161783 ]),\n",
       "     'xaxis': 'x2',\n",
       "     'y': array([355.  , 355.  , 386.25, 386.25]),\n",
       "     'yaxis': 'y'\n",
       " }),\n",
       " Scatter({\n",
       "     'hoverinfo': 'text',\n",
       "     'marker': {'color': 'rgb(61,153,112)'},\n",
       "     'mode': 'lines',\n",
       "     'x': array([-0.09264109, -0.29396816, -0.29396816, -0.17267106]),\n",
       "     'xaxis': 'x2',\n",
       "     'y': array([340.   , 340.   , 370.625, 370.625]),\n",
       "     'yaxis': 'y'\n",
       " }),\n",
       " Scatter({\n",
       "     'hoverinfo': 'text',\n",
       "     'marker': {'color': 'rgb(61,153,112)'},\n",
       "     'mode': 'lines',\n",
       "     'x': array([-0.26185464, -0.49501823, -0.49501823, -0.29396816]),\n",
       "     'xaxis': 'x2',\n",
       "     'y': array([264.0625, 264.0625, 355.3125, 355.3125]),\n",
       "     'yaxis': 'y'\n",
       " }),\n",
       " Scatter({\n",
       "     'hoverinfo': 'text',\n",
       "     'marker': {'color': 'rgb(61,153,112)'},\n",
       "     'mode': 'lines',\n",
       "     'x': array([-0.45475099, -0.98726502, -0.98726502, -0.49501823]),\n",
       "     'xaxis': 'x2',\n",
       "     'y': array([133.28125, 133.28125, 309.6875 , 309.6875 ]),\n",
       "     'yaxis': 'y'\n",
       " }),\n",
       " Scatter({\n",
       "     'hoverinfo': 'text',\n",
       "     'marker': {'color': 'rgb(61,153,112)'},\n",
       "     'mode': 'lines',\n",
       "     'x': array([-0.34823026, -1.56020705, -1.56020705, -0.98726502]),\n",
       "     'xaxis': 'x2',\n",
       "     'y': array([ 18.125   ,  18.125   , 221.484375, 221.484375]),\n",
       "     'yaxis': 'y'\n",
       " }),\n",
       " Scatter({\n",
       "     'hoverinfo': 'text',\n",
       "     'marker': {'color': 'rgb(255,65,54)'},\n",
       "     'mode': 'lines',\n",
       "     'x': array([-0.        , -1.19151461, -1.19151461, -0.        ]),\n",
       "     'xaxis': 'x2',\n",
       "     'y': array([425., 425., 435., 435.]),\n",
       "     'yaxis': 'y'\n",
       " }),\n",
       " Scatter({\n",
       "     'hoverinfo': 'text',\n",
       "     'marker': {'color': 'rgb(0,116,217)'},\n",
       "     'mode': 'lines',\n",
       "     'x': array([-0.        , -2.51825728, -2.51825728, -1.19151461]),\n",
       "     'xaxis': 'x2',\n",
       "     'y': array([415., 415., 430., 430.]),\n",
       "     'yaxis': 'y'\n",
       " }),\n",
       " Scatter({\n",
       "     'hoverinfo': 'text',\n",
       "     'marker': {'color': 'rgb(0,116,217)'},\n",
       "     'mode': 'lines',\n",
       "     'x': array([-1.56020705, -2.80754318, -2.80754318, -2.51825728]),\n",
       "     'xaxis': 'x2',\n",
       "     'y': array([119.8046875, 119.8046875, 422.5      , 422.5      ]),\n",
       "     'yaxis': 'y'\n",
       " }),\n",
       " Heatmap({\n",
       "     'colorscale': [[0.0, 'rgb(247,251,255)'], [0.125, 'rgb(222,235,247)'], [0.25,\n",
       "                    'rgb(198,219,239)'], [0.375, 'rgb(158,202,225)'], [0.5,\n",
       "                    'rgb(107,174,214)'], [0.625, 'rgb(66,146,198)'], [0.75,\n",
       "                    'rgb(33,113,181)'], [0.875, 'rgb(8,81,156)'], [1.0,\n",
       "                    'rgb(8,48,107)']],\n",
       "     'x': [5.0, 15.0, 25.0, 35.0, 45.0, 55.0, 65.0, 75.0, 85.0, 95.0, 105.0, 115.0,\n",
       "           125.0, 135.0, 145.0, 155.0, 165.0, 175.0, 185.0, 195.0, 205.0, 215.0,\n",
       "           225.0, 235.0, 245.0, 255.0, 265.0, 275.0, 285.0, 295.0, 305.0, 315.0,\n",
       "           325.0, 335.0, 345.0, 355.0, 365.0, 375.0, 385.0, 395.0, 405.0, 415.0,\n",
       "           425.0, 435.0],\n",
       "     'y': [5.0, 15.0, 25.0, 35.0, 45.0, 55.0, 65.0, 75.0, 85.0, 95.0, 105.0, 115.0,\n",
       "           125.0, 135.0, 145.0, 155.0, 165.0, 175.0, 185.0, 195.0, 205.0, 215.0,\n",
       "           225.0, 235.0, 245.0, 255.0, 265.0, 275.0, 285.0, 295.0, 305.0, 315.0,\n",
       "           325.0, 335.0, 345.0, 355.0, 365.0, 375.0, 385.0, 395.0, 405.0, 415.0,\n",
       "           425.0, 435.0],\n",
       "     'z': array([[0.        , 0.27904091, 0.34823026, ..., 2.4830626 , 2.56959753,\n",
       "                  1.93722949],\n",
       "                 [0.27904091, 0.        , 0.07372826, ..., 2.39286432, 2.31666488,\n",
       "                  1.67444631],\n",
       "                 [0.34823026, 0.07372826, 0.        , ..., 2.35440553, 2.25939556,\n",
       "                  1.60193737],\n",
       "                 ...,\n",
       "                 [2.4830626 , 2.39286432, 2.35440553, ..., 0.        , 2.51825728,\n",
       "                  1.94622904],\n",
       "                 [2.56959753, 2.31666488, 2.25939556, ..., 2.51825728, 0.        ,\n",
       "                  1.19151461],\n",
       "                 [1.93722949, 1.67444631, 1.60193737, ..., 1.94622904, 1.19151461,\n",
       "                  0.        ]])\n",
       " }))"
      ]
     },
     "execution_count": 86,
     "metadata": {},
     "output_type": "execute_result"
    }
   ],
   "source": [
    "fig.data"
   ]
  },
  {
   "cell_type": "code",
   "execution_count": null,
   "id": "b4978fe1",
   "metadata": {},
   "outputs": [],
   "source": []
  },
  {
   "cell_type": "code",
   "execution_count": null,
   "id": "53c404b0",
   "metadata": {},
   "outputs": [],
   "source": [
    "Mesh_to_plot = pv.read(\"853_female.ply\")\n",
    "cpos = Mesh_to_plot.plot()"
   ]
  },
  {
   "cell_type": "code",
   "execution_count": null,
   "id": "bfcfe352",
   "metadata": {},
   "outputs": [],
   "source": [
    "Mesh_to_plot = pv.read(\"859_male.ply\")\n",
    "cpos = Mesh_to_plot.plot()"
   ]
  },
  {
   "cell_type": "code",
   "execution_count": null,
   "id": "784a27a5",
   "metadata": {},
   "outputs": [],
   "source": [
    "Mesh_to_plot = pv.read(\"439_male.ply\")\n",
    "cpos = Mesh_to_plot.plot()"
   ]
  },
  {
   "cell_type": "code",
   "execution_count": null,
   "id": "471c4514",
   "metadata": {},
   "outputs": [],
   "source": [
    "A"
   ]
  },
  {
   "cell_type": "code",
   "execution_count": null,
   "id": "b671eaf1",
   "metadata": {},
   "outputs": [],
   "source": [
    "X_persistence_entropy[10]"
   ]
  },
  {
   "cell_type": "code",
   "execution_count": null,
   "id": "b03c506b",
   "metadata": {},
   "outputs": [],
   "source": [
    "X_persistence_entropy[13]"
   ]
  },
  {
   "cell_type": "code",
   "execution_count": null,
   "id": "0b3c7d0e",
   "metadata": {},
   "outputs": [],
   "source": [
    "import pandas as pd\n",
    "import plotly as py\n",
    "import plotly.graph_objs as pgo\n",
    "\n",
    "import glob\n",
    "import numpy as np\n",
    "import pandas as pd"
   ]
  },
  {
   "cell_type": "code",
   "execution_count": null,
   "id": "818fb8f8",
   "metadata": {},
   "outputs": [],
   "source": [
    "df = pd.DataFrame(X_persistence_entropy)"
   ]
  },
  {
   "cell_type": "code",
   "execution_count": null,
   "id": "1e1a384e",
   "metadata": {},
   "outputs": [],
   "source": [
    "from sklearn.cluster import KMeans"
   ]
  },
  {
   "cell_type": "code",
   "execution_count": null,
   "id": "6430bad8",
   "metadata": {},
   "outputs": [],
   "source": [
    "# Let the number of clusters be a parameter, so we can get a feel for an appropriate\n",
    "# value thereof.\n",
    "def cluster(n_clusters):\n",
    "    kmeans = KMeans(n_clusters=n_clusters)\n",
    "    kmeans.fit(X_persistence_entropy)\n",
    "    Z = kmeans.predict(X_persistence_entropy)\n",
    "    return kmeans, Z"
   ]
  },
  {
   "cell_type": "code",
   "execution_count": null,
   "id": "4beddd6a",
   "metadata": {},
   "outputs": [],
   "source": [
    "max_clusters = len(df)\n",
    "# n_clusters = max_clusters would be trivial clustering."
   ]
  },
  {
   "cell_type": "code",
   "execution_count": null,
   "id": "1ef37525",
   "metadata": {},
   "outputs": [],
   "source": [
    "inertias = np.zeros(max_clusters)\n",
    "\n",
    "for i in range(1, max_clusters):\n",
    "    kmeans, Z = cluster(i)\n",
    "    inertias[i] = kmeans.inertia_"
   ]
  },
  {
   "cell_type": "code",
   "execution_count": null,
   "id": "b893c6d6",
   "metadata": {},
   "outputs": [],
   "source": [
    "data6 = pgo.Data([\n",
    "    pgo.Scatter(\n",
    "            x=range(1, max_clusters),\n",
    "            y=inertias[1:]\n",
    "    )\n",
    "])"
   ]
  },
  {
   "cell_type": "code",
   "execution_count": null,
   "id": "ca09d80d",
   "metadata": {},
   "outputs": [],
   "source": [
    "data6 = pgo.Data([\n",
    "    pgo.Scatter(\n",
    "            x=range(1, max_clusters),\n",
    "            y=inertias[1:]\n",
    "    )\n",
    "])"
   ]
  },
  {
   "cell_type": "code",
   "execution_count": null,
   "id": "d5ff00b0",
   "metadata": {},
   "outputs": [],
   "source": [
    "fig6 = pgo.Figure(data=data6, layout=layout6)"
   ]
  },
  {
   "cell_type": "code",
   "execution_count": null,
   "id": "6494a923",
   "metadata": {},
   "outputs": [],
   "source": [
    "py.iplot(fig6, filename='baltimore-clustering-inertias')"
   ]
  },
  {
   "cell_type": "code",
   "execution_count": null,
   "id": "508e93bf",
   "metadata": {},
   "outputs": [],
   "source": [
    "n_clusters = 7\n",
    "model, Z = cluster(n_clusters)"
   ]
  },
  {
   "cell_type": "code",
   "execution_count": null,
   "id": "3208766f",
   "metadata": {},
   "outputs": [],
   "source": [
    "df"
   ]
  },
  {
   "cell_type": "code",
   "execution_count": null,
   "id": "18e7e34a",
   "metadata": {},
   "outputs": [],
   "source": [
    "# Represent neighborhoods as in previous bubble chart, adding cluster information under color.\n",
    "trace0 = pgo.Scatter(x=df[0],\n",
    "                     y=df[1],\n",
    "                     text=df.index,\n",
    "                     name='',\n",
    "                     mode='markers',\n",
    "                     marker=pgo.Marker(size=df[1],\n",
    "                                       sizemode='diameter',\n",
    "                                       sizeref=df[1].max()/50,\n",
    "                                       opacity=0.5,\n",
    "                                       color=Z),\n",
    "                     showlegend=False\n",
    ")"
   ]
  },
  {
   "cell_type": "code",
   "execution_count": null,
   "id": "1414bcd5",
   "metadata": {},
   "outputs": [],
   "source": [
    "# Represent cluster centers.\n",
    "trace1 = pgo.Scatter(x=model.cluster_centers_[:, 0],\n",
    "                     y=model.cluster_centers_[:, 1],\n",
    "                     name='',\n",
    "                     mode='markers',\n",
    "                     marker=pgo.Marker(symbol='x',\n",
    "                                       size=12,\n",
    "                                       color=range(n_clusters)),\n",
    "                     showlegend=False\n",
    ")\n",
    "data7 = pgo.Data([trace0, trace1])\n",
    "layout7 = layout5\n",
    "layout7['title'] = 'Baltimore Vital Signs (PCA and k-means clustering with 7 clusters)'\n",
    "fig7 = pgo.Figure(data=data7, layout=layout7)"
   ]
  },
  {
   "cell_type": "code",
   "execution_count": null,
   "id": "98282d7d",
   "metadata": {},
   "outputs": [],
   "source": [
    "py.iplot(fig7, filename='baltimore-cluster-map')"
   ]
  },
  {
   "cell_type": "code",
   "execution_count": null,
   "id": "3694d67e",
   "metadata": {},
   "outputs": [],
   "source": []
  },
  {
   "cell_type": "code",
   "execution_count": null,
   "id": "9a73ee4c",
   "metadata": {},
   "outputs": [],
   "source": []
  },
  {
   "cell_type": "code",
   "execution_count": null,
   "id": "92bf59e0",
   "metadata": {},
   "outputs": [],
   "source": [
    "#import packages\n",
    "import pyvista as pv\n",
    "import gudhi\n",
    "import numpy as np\n",
    "import matplotlib.pyplot as plt\n",
    "import velour\n",
    "\n",
    "\n",
    "from gtda.homology import WeakAlphaPersistence, VietorisRipsPersistence\n",
    "from gtda.diagrams import Scaler, Filtering, PersistenceEntropy, BettiCurve, PairwiseDistance\n",
    "from gtda.graphs import KNeighborsGraph, GraphGeodesicDistance\n",
    "\n",
    "\n",
    "\n",
    "from sklearn.metrics import pairwise_distances\n",
    "\n",
    "import plotly.express as px\n",
    "from plotly.offline import init_notebook_mode, iplot\n",
    "\n",
    "\n",
    "# gtda plotting functions\n",
    "from gtda.plotting import plot_heatmap\n",
    "\n",
    "from gtda.pipeline import Pipeline\n"
   ]
  },
  {
   "cell_type": "code",
   "execution_count": null,
   "id": "e0212f8a",
   "metadata": {},
   "outputs": [],
   "source": [
    "import pyvista as pv\n",
    "import ipywidgets \n",
    "import igraph\n",
    "import gudhi\n",
    "import numpy as np\n",
    "import matplotlib.pyplot as plt\n",
    "import velour"
   ]
  },
  {
   "cell_type": "code",
   "execution_count": 172,
   "id": "2fee74fc",
   "metadata": {},
   "outputs": [
    {
     "data": {
      "application/vnd.jupyter.widget-view+json": {
       "model_id": "3f80fa94329a420fa42c5ce91c272005",
       "version_major": 2,
       "version_minor": 0
      },
      "text/plain": [
       "ViewInteractiveWidget(height=768, layout=Layout(height='auto', width='100%'), width=1024)"
      ]
     },
     "metadata": {},
     "output_type": "display_data"
    }
   ],
   "source": [
    "mesh = pv.read('439_male_2.ply')\n",
    "x = mesh.points\n",
    "N = 1000\n",
    "X=x[np.random.choice(len(x), size=N, replace=False)]\n",
    "#X= x.reshape(1, *x.shape)\n",
    "cpos = mesh.plot()"
   ]
  },
  {
   "cell_type": "code",
   "execution_count": 176,
   "id": "8c351cee",
   "metadata": {},
   "outputs": [
    {
     "data": {
      "application/vnd.jupyter.widget-view+json": {
       "model_id": "c4177d2ac47f4f0b807b23495b23e1d6",
       "version_major": 2,
       "version_minor": 0
      },
      "text/plain": [
       "ViewInteractiveWidget(height=768, layout=Layout(height='auto', width='100%'), width=1024)"
      ]
     },
     "metadata": {},
     "output_type": "display_data"
    }
   ],
   "source": [
    "mesh = pv.read('439_male.ply')\n",
    "x = mesh.points\n",
    "N = 1000\n",
    "X=x[np.random.choice(len(x), size=N, replace=False)]\n",
    "#X= x.reshape(1, *x.shape)\n",
    "cpos = mesh.plot()"
   ]
  },
  {
   "cell_type": "code",
   "execution_count": 174,
   "id": "b0e8f75d",
   "metadata": {},
   "outputs": [
    {
     "data": {
      "application/vnd.jupyter.widget-view+json": {
       "model_id": "420117aa21084e0f86b37e307a0a0931",
       "version_major": 2,
       "version_minor": 0
      },
      "text/plain": [
       "ViewInteractiveWidget(height=768, layout=Layout(height='auto', width='100%'), width=1024)"
      ]
     },
     "metadata": {},
     "output_type": "display_data"
    }
   ],
   "source": [
    "mesh = pv.read('359_female.ply')\n",
    "x = mesh.points\n",
    "N = 1000\n",
    "X=x[np.random.choice(len(x), size=N, replace=False)]\n",
    "#X= x.reshape(1, *x.shape)\n",
    "cpos = mesh.plot()"
   ]
  },
  {
   "cell_type": "code",
   "execution_count": 175,
   "id": "e62f58c0",
   "metadata": {},
   "outputs": [
    {
     "data": {
      "application/vnd.jupyter.widget-view+json": {
       "model_id": "d7405a40037c405892a98e9946a90f2a",
       "version_major": 2,
       "version_minor": 0
      },
      "text/plain": [
       "ViewInteractiveWidget(height=768, layout=Layout(height='auto', width='100%'), width=1024)"
      ]
     },
     "metadata": {},
     "output_type": "display_data"
    }
   ],
   "source": [
    "mesh = pv.read('517_female.ply')\n",
    "x = mesh.points\n",
    "N = 1000\n",
    "X=x[np.random.choice(len(x), size=N, replace=False)]\n",
    "#X= x.reshape(1, *x.shape)\n",
    "cpos = mesh.plot()"
   ]
  },
  {
   "cell_type": "code",
   "execution_count": 43,
   "id": "677f59d3",
   "metadata": {},
   "outputs": [
    {
     "name": "stdout",
     "output_type": "stream",
     "text": [
      "Computing VietorisRips persistence\n"
     ]
    },
    {
     "ename": "KeyboardInterrupt",
     "evalue": "",
     "output_type": "error",
     "traceback": [
      "\u001b[0;31m---------------------------------------------------------------------------\u001b[0m",
      "\u001b[0;31mKeyboardInterrupt\u001b[0m                         Traceback (most recent call last)",
      "\u001b[0;32m/var/folders/jc/23tmvmc554b_hqpgl1mn9wch0000gq/T/ipykernel_81310/537898085.py\u001b[0m in \u001b[0;36m<module>\u001b[0;34m\u001b[0m\n\u001b[1;32m     11\u001b[0m \u001b[0;31m#WA = WeakAlphaPersistence(homology_dimensions=(0, 1, 2))\u001b[0m\u001b[0;34m\u001b[0m\u001b[0;34m\u001b[0m\u001b[0;34m\u001b[0m\u001b[0m\n\u001b[1;32m     12\u001b[0m \u001b[0mX_reshaped\u001b[0m\u001b[0;34m=\u001b[0m \u001b[0mX\u001b[0m\u001b[0;34m.\u001b[0m\u001b[0mreshape\u001b[0m\u001b[0;34m(\u001b[0m\u001b[0;36m1\u001b[0m\u001b[0;34m,\u001b[0m \u001b[0;34m*\u001b[0m\u001b[0mX\u001b[0m\u001b[0;34m.\u001b[0m\u001b[0mshape\u001b[0m\u001b[0;34m)\u001b[0m\u001b[0;34m\u001b[0m\u001b[0;34m\u001b[0m\u001b[0m\n\u001b[0;32m---> 13\u001b[0;31m \u001b[0mdiagrams\u001b[0m \u001b[0;34m=\u001b[0m \u001b[0mVR\u001b[0m\u001b[0;34m.\u001b[0m\u001b[0mfit_transform\u001b[0m\u001b[0;34m(\u001b[0m\u001b[0mX_reshaped\u001b[0m\u001b[0;34m)\u001b[0m\u001b[0;34m\u001b[0m\u001b[0;34m\u001b[0m\u001b[0m\n\u001b[0m\u001b[1;32m     14\u001b[0m \u001b[0mdiagrams\u001b[0m\u001b[0;34m.\u001b[0m\u001b[0mshape\u001b[0m\u001b[0;34m\u001b[0m\u001b[0;34m\u001b[0m\u001b[0m\n",
      "\u001b[0;32m~/opt/anaconda3/lib/python3.8/site-packages/gtda/utils/_docs.py\u001b[0m in \u001b[0;36mfit_transform_wrapper\u001b[0;34m(*args, **kwargs)\u001b[0m\n\u001b[1;32m    104\u001b[0m         \u001b[0;34m@\u001b[0m\u001b[0mwraps\u001b[0m\u001b[0;34m(\u001b[0m\u001b[0moriginal_fit_transform\u001b[0m\u001b[0;34m)\u001b[0m\u001b[0;34m\u001b[0m\u001b[0;34m\u001b[0m\u001b[0m\n\u001b[1;32m    105\u001b[0m         \u001b[0;32mdef\u001b[0m \u001b[0mfit_transform_wrapper\u001b[0m\u001b[0;34m(\u001b[0m\u001b[0;34m*\u001b[0m\u001b[0margs\u001b[0m\u001b[0;34m,\u001b[0m \u001b[0;34m**\u001b[0m\u001b[0mkwargs\u001b[0m\u001b[0;34m)\u001b[0m\u001b[0;34m:\u001b[0m\u001b[0;34m\u001b[0m\u001b[0;34m\u001b[0m\u001b[0m\n\u001b[0;32m--> 106\u001b[0;31m             \u001b[0;32mreturn\u001b[0m \u001b[0moriginal_fit_transform\u001b[0m\u001b[0;34m(\u001b[0m\u001b[0;34m*\u001b[0m\u001b[0margs\u001b[0m\u001b[0;34m,\u001b[0m \u001b[0;34m**\u001b[0m\u001b[0mkwargs\u001b[0m\u001b[0;34m)\u001b[0m\u001b[0;34m\u001b[0m\u001b[0;34m\u001b[0m\u001b[0m\n\u001b[0m\u001b[1;32m    107\u001b[0m         \u001b[0mfit_transform_wrapper\u001b[0m\u001b[0;34m.\u001b[0m\u001b[0m__doc__\u001b[0m \u001b[0;34m=\u001b[0m\u001b[0;31m \u001b[0m\u001b[0;31m\\\u001b[0m\u001b[0;34m\u001b[0m\u001b[0;34m\u001b[0m\u001b[0m\n\u001b[1;32m    108\u001b[0m             \u001b[0mmake_fit_transform_docs\u001b[0m\u001b[0;34m(\u001b[0m\u001b[0mfit_docs\u001b[0m\u001b[0;34m,\u001b[0m \u001b[0mtransform_docs\u001b[0m\u001b[0;34m)\u001b[0m\u001b[0;34m\u001b[0m\u001b[0;34m\u001b[0m\u001b[0m\n",
      "\u001b[0;32m~/opt/anaconda3/lib/python3.8/site-packages/sklearn/base.py\u001b[0m in \u001b[0;36mfit_transform\u001b[0;34m(self, X, y, **fit_params)\u001b[0m\n\u001b[1;32m    697\u001b[0m         \u001b[0;32mif\u001b[0m \u001b[0my\u001b[0m \u001b[0;32mis\u001b[0m \u001b[0;32mNone\u001b[0m\u001b[0;34m:\u001b[0m\u001b[0;34m\u001b[0m\u001b[0;34m\u001b[0m\u001b[0m\n\u001b[1;32m    698\u001b[0m             \u001b[0;31m# fit method of arity 1 (unsupervised transformation)\u001b[0m\u001b[0;34m\u001b[0m\u001b[0;34m\u001b[0m\u001b[0;34m\u001b[0m\u001b[0m\n\u001b[0;32m--> 699\u001b[0;31m             \u001b[0;32mreturn\u001b[0m \u001b[0mself\u001b[0m\u001b[0;34m.\u001b[0m\u001b[0mfit\u001b[0m\u001b[0;34m(\u001b[0m\u001b[0mX\u001b[0m\u001b[0;34m,\u001b[0m \u001b[0;34m**\u001b[0m\u001b[0mfit_params\u001b[0m\u001b[0;34m)\u001b[0m\u001b[0;34m.\u001b[0m\u001b[0mtransform\u001b[0m\u001b[0;34m(\u001b[0m\u001b[0mX\u001b[0m\u001b[0;34m)\u001b[0m\u001b[0;34m\u001b[0m\u001b[0;34m\u001b[0m\u001b[0m\n\u001b[0m\u001b[1;32m    700\u001b[0m         \u001b[0;32melse\u001b[0m\u001b[0;34m:\u001b[0m\u001b[0;34m\u001b[0m\u001b[0;34m\u001b[0m\u001b[0m\n\u001b[1;32m    701\u001b[0m             \u001b[0;31m# fit method of arity 2 (supervised transformation)\u001b[0m\u001b[0;34m\u001b[0m\u001b[0;34m\u001b[0m\u001b[0;34m\u001b[0m\u001b[0m\n",
      "\u001b[0;32m~/opt/anaconda3/lib/python3.8/site-packages/gtda/homology/simplicial.py\u001b[0m in \u001b[0;36mtransform\u001b[0;34m(self, X, y)\u001b[0m\n\u001b[1;32m    303\u001b[0m                                distance_matrices=self._is_precomputed)\n\u001b[1;32m    304\u001b[0m \u001b[0;34m\u001b[0m\u001b[0m\n\u001b[0;32m--> 305\u001b[0;31m         Xt = Parallel(n_jobs=self.n_jobs)(\n\u001b[0m\u001b[1;32m    306\u001b[0m             delayed(self._ripser_diagram)(x) for x in X)\n\u001b[1;32m    307\u001b[0m \u001b[0;34m\u001b[0m\u001b[0m\n",
      "\u001b[0;32m~/opt/anaconda3/lib/python3.8/site-packages/joblib/parallel.py\u001b[0m in \u001b[0;36m__call__\u001b[0;34m(self, iterable)\u001b[0m\n\u001b[1;32m   1039\u001b[0m             \u001b[0;31m# remaining jobs.\u001b[0m\u001b[0;34m\u001b[0m\u001b[0;34m\u001b[0m\u001b[0;34m\u001b[0m\u001b[0m\n\u001b[1;32m   1040\u001b[0m             \u001b[0mself\u001b[0m\u001b[0;34m.\u001b[0m\u001b[0m_iterating\u001b[0m \u001b[0;34m=\u001b[0m \u001b[0;32mFalse\u001b[0m\u001b[0;34m\u001b[0m\u001b[0;34m\u001b[0m\u001b[0m\n\u001b[0;32m-> 1041\u001b[0;31m             \u001b[0;32mif\u001b[0m \u001b[0mself\u001b[0m\u001b[0;34m.\u001b[0m\u001b[0mdispatch_one_batch\u001b[0m\u001b[0;34m(\u001b[0m\u001b[0miterator\u001b[0m\u001b[0;34m)\u001b[0m\u001b[0;34m:\u001b[0m\u001b[0;34m\u001b[0m\u001b[0;34m\u001b[0m\u001b[0m\n\u001b[0m\u001b[1;32m   1042\u001b[0m                 \u001b[0mself\u001b[0m\u001b[0;34m.\u001b[0m\u001b[0m_iterating\u001b[0m \u001b[0;34m=\u001b[0m \u001b[0mself\u001b[0m\u001b[0;34m.\u001b[0m\u001b[0m_original_iterator\u001b[0m \u001b[0;32mis\u001b[0m \u001b[0;32mnot\u001b[0m \u001b[0;32mNone\u001b[0m\u001b[0;34m\u001b[0m\u001b[0;34m\u001b[0m\u001b[0m\n\u001b[1;32m   1043\u001b[0m \u001b[0;34m\u001b[0m\u001b[0m\n",
      "\u001b[0;32m~/opt/anaconda3/lib/python3.8/site-packages/joblib/parallel.py\u001b[0m in \u001b[0;36mdispatch_one_batch\u001b[0;34m(self, iterator)\u001b[0m\n\u001b[1;32m    857\u001b[0m                 \u001b[0;32mreturn\u001b[0m \u001b[0;32mFalse\u001b[0m\u001b[0;34m\u001b[0m\u001b[0;34m\u001b[0m\u001b[0m\n\u001b[1;32m    858\u001b[0m             \u001b[0;32melse\u001b[0m\u001b[0;34m:\u001b[0m\u001b[0;34m\u001b[0m\u001b[0;34m\u001b[0m\u001b[0m\n\u001b[0;32m--> 859\u001b[0;31m                 \u001b[0mself\u001b[0m\u001b[0;34m.\u001b[0m\u001b[0m_dispatch\u001b[0m\u001b[0;34m(\u001b[0m\u001b[0mtasks\u001b[0m\u001b[0;34m)\u001b[0m\u001b[0;34m\u001b[0m\u001b[0;34m\u001b[0m\u001b[0m\n\u001b[0m\u001b[1;32m    860\u001b[0m                 \u001b[0;32mreturn\u001b[0m \u001b[0;32mTrue\u001b[0m\u001b[0;34m\u001b[0m\u001b[0;34m\u001b[0m\u001b[0m\n\u001b[1;32m    861\u001b[0m \u001b[0;34m\u001b[0m\u001b[0m\n",
      "\u001b[0;32m~/opt/anaconda3/lib/python3.8/site-packages/joblib/parallel.py\u001b[0m in \u001b[0;36m_dispatch\u001b[0;34m(self, batch)\u001b[0m\n\u001b[1;32m    775\u001b[0m         \u001b[0;32mwith\u001b[0m \u001b[0mself\u001b[0m\u001b[0;34m.\u001b[0m\u001b[0m_lock\u001b[0m\u001b[0;34m:\u001b[0m\u001b[0;34m\u001b[0m\u001b[0;34m\u001b[0m\u001b[0m\n\u001b[1;32m    776\u001b[0m             \u001b[0mjob_idx\u001b[0m \u001b[0;34m=\u001b[0m \u001b[0mlen\u001b[0m\u001b[0;34m(\u001b[0m\u001b[0mself\u001b[0m\u001b[0;34m.\u001b[0m\u001b[0m_jobs\u001b[0m\u001b[0;34m)\u001b[0m\u001b[0;34m\u001b[0m\u001b[0;34m\u001b[0m\u001b[0m\n\u001b[0;32m--> 777\u001b[0;31m             \u001b[0mjob\u001b[0m \u001b[0;34m=\u001b[0m \u001b[0mself\u001b[0m\u001b[0;34m.\u001b[0m\u001b[0m_backend\u001b[0m\u001b[0;34m.\u001b[0m\u001b[0mapply_async\u001b[0m\u001b[0;34m(\u001b[0m\u001b[0mbatch\u001b[0m\u001b[0;34m,\u001b[0m \u001b[0mcallback\u001b[0m\u001b[0;34m=\u001b[0m\u001b[0mcb\u001b[0m\u001b[0;34m)\u001b[0m\u001b[0;34m\u001b[0m\u001b[0;34m\u001b[0m\u001b[0m\n\u001b[0m\u001b[1;32m    778\u001b[0m             \u001b[0;31m# A job can complete so quickly than its callback is\u001b[0m\u001b[0;34m\u001b[0m\u001b[0;34m\u001b[0m\u001b[0;34m\u001b[0m\u001b[0m\n\u001b[1;32m    779\u001b[0m             \u001b[0;31m# called before we get here, causing self._jobs to\u001b[0m\u001b[0;34m\u001b[0m\u001b[0;34m\u001b[0m\u001b[0;34m\u001b[0m\u001b[0m\n",
      "\u001b[0;32m~/opt/anaconda3/lib/python3.8/site-packages/joblib/_parallel_backends.py\u001b[0m in \u001b[0;36mapply_async\u001b[0;34m(self, func, callback)\u001b[0m\n\u001b[1;32m    206\u001b[0m     \u001b[0;32mdef\u001b[0m \u001b[0mapply_async\u001b[0m\u001b[0;34m(\u001b[0m\u001b[0mself\u001b[0m\u001b[0;34m,\u001b[0m \u001b[0mfunc\u001b[0m\u001b[0;34m,\u001b[0m \u001b[0mcallback\u001b[0m\u001b[0;34m=\u001b[0m\u001b[0;32mNone\u001b[0m\u001b[0;34m)\u001b[0m\u001b[0;34m:\u001b[0m\u001b[0;34m\u001b[0m\u001b[0;34m\u001b[0m\u001b[0m\n\u001b[1;32m    207\u001b[0m         \u001b[0;34m\"\"\"Schedule a func to be run\"\"\"\u001b[0m\u001b[0;34m\u001b[0m\u001b[0;34m\u001b[0m\u001b[0m\n\u001b[0;32m--> 208\u001b[0;31m         \u001b[0mresult\u001b[0m \u001b[0;34m=\u001b[0m \u001b[0mImmediateResult\u001b[0m\u001b[0;34m(\u001b[0m\u001b[0mfunc\u001b[0m\u001b[0;34m)\u001b[0m\u001b[0;34m\u001b[0m\u001b[0;34m\u001b[0m\u001b[0m\n\u001b[0m\u001b[1;32m    209\u001b[0m         \u001b[0;32mif\u001b[0m \u001b[0mcallback\u001b[0m\u001b[0;34m:\u001b[0m\u001b[0;34m\u001b[0m\u001b[0;34m\u001b[0m\u001b[0m\n\u001b[1;32m    210\u001b[0m             \u001b[0mcallback\u001b[0m\u001b[0;34m(\u001b[0m\u001b[0mresult\u001b[0m\u001b[0;34m)\u001b[0m\u001b[0;34m\u001b[0m\u001b[0;34m\u001b[0m\u001b[0m\n",
      "\u001b[0;32m~/opt/anaconda3/lib/python3.8/site-packages/joblib/_parallel_backends.py\u001b[0m in \u001b[0;36m__init__\u001b[0;34m(self, batch)\u001b[0m\n\u001b[1;32m    570\u001b[0m         \u001b[0;31m# Don't delay the application, to avoid keeping the input\u001b[0m\u001b[0;34m\u001b[0m\u001b[0;34m\u001b[0m\u001b[0;34m\u001b[0m\u001b[0m\n\u001b[1;32m    571\u001b[0m         \u001b[0;31m# arguments in memory\u001b[0m\u001b[0;34m\u001b[0m\u001b[0;34m\u001b[0m\u001b[0;34m\u001b[0m\u001b[0m\n\u001b[0;32m--> 572\u001b[0;31m         \u001b[0mself\u001b[0m\u001b[0;34m.\u001b[0m\u001b[0mresults\u001b[0m \u001b[0;34m=\u001b[0m \u001b[0mbatch\u001b[0m\u001b[0;34m(\u001b[0m\u001b[0;34m)\u001b[0m\u001b[0;34m\u001b[0m\u001b[0;34m\u001b[0m\u001b[0m\n\u001b[0m\u001b[1;32m    573\u001b[0m \u001b[0;34m\u001b[0m\u001b[0m\n\u001b[1;32m    574\u001b[0m     \u001b[0;32mdef\u001b[0m \u001b[0mget\u001b[0m\u001b[0;34m(\u001b[0m\u001b[0mself\u001b[0m\u001b[0;34m)\u001b[0m\u001b[0;34m:\u001b[0m\u001b[0;34m\u001b[0m\u001b[0;34m\u001b[0m\u001b[0m\n",
      "\u001b[0;32m~/opt/anaconda3/lib/python3.8/site-packages/joblib/parallel.py\u001b[0m in \u001b[0;36m__call__\u001b[0;34m(self)\u001b[0m\n\u001b[1;32m    260\u001b[0m         \u001b[0;31m# change the default number of processes to -1\u001b[0m\u001b[0;34m\u001b[0m\u001b[0;34m\u001b[0m\u001b[0;34m\u001b[0m\u001b[0m\n\u001b[1;32m    261\u001b[0m         \u001b[0;32mwith\u001b[0m \u001b[0mparallel_backend\u001b[0m\u001b[0;34m(\u001b[0m\u001b[0mself\u001b[0m\u001b[0;34m.\u001b[0m\u001b[0m_backend\u001b[0m\u001b[0;34m,\u001b[0m \u001b[0mn_jobs\u001b[0m\u001b[0;34m=\u001b[0m\u001b[0mself\u001b[0m\u001b[0;34m.\u001b[0m\u001b[0m_n_jobs\u001b[0m\u001b[0;34m)\u001b[0m\u001b[0;34m:\u001b[0m\u001b[0;34m\u001b[0m\u001b[0;34m\u001b[0m\u001b[0m\n\u001b[0;32m--> 262\u001b[0;31m             return [func(*args, **kwargs)\n\u001b[0m\u001b[1;32m    263\u001b[0m                     for func, args, kwargs in self.items]\n\u001b[1;32m    264\u001b[0m \u001b[0;34m\u001b[0m\u001b[0m\n",
      "\u001b[0;32m~/opt/anaconda3/lib/python3.8/site-packages/joblib/parallel.py\u001b[0m in \u001b[0;36m<listcomp>\u001b[0;34m(.0)\u001b[0m\n\u001b[1;32m    260\u001b[0m         \u001b[0;31m# change the default number of processes to -1\u001b[0m\u001b[0;34m\u001b[0m\u001b[0;34m\u001b[0m\u001b[0;34m\u001b[0m\u001b[0m\n\u001b[1;32m    261\u001b[0m         \u001b[0;32mwith\u001b[0m \u001b[0mparallel_backend\u001b[0m\u001b[0;34m(\u001b[0m\u001b[0mself\u001b[0m\u001b[0;34m.\u001b[0m\u001b[0m_backend\u001b[0m\u001b[0;34m,\u001b[0m \u001b[0mn_jobs\u001b[0m\u001b[0;34m=\u001b[0m\u001b[0mself\u001b[0m\u001b[0;34m.\u001b[0m\u001b[0m_n_jobs\u001b[0m\u001b[0;34m)\u001b[0m\u001b[0;34m:\u001b[0m\u001b[0;34m\u001b[0m\u001b[0;34m\u001b[0m\u001b[0m\n\u001b[0;32m--> 262\u001b[0;31m             return [func(*args, **kwargs)\n\u001b[0m\u001b[1;32m    263\u001b[0m                     for func, args, kwargs in self.items]\n\u001b[1;32m    264\u001b[0m \u001b[0;34m\u001b[0m\u001b[0m\n",
      "\u001b[0;32m~/opt/anaconda3/lib/python3.8/site-packages/gtda/homology/simplicial.py\u001b[0m in \u001b[0;36m_ripser_diagram\u001b[0;34m(self, X)\u001b[0m\n\u001b[1;32m    178\u001b[0m \u001b[0;34m\u001b[0m\u001b[0m\n\u001b[1;32m    179\u001b[0m     \u001b[0;32mdef\u001b[0m \u001b[0m_ripser_diagram\u001b[0m\u001b[0;34m(\u001b[0m\u001b[0mself\u001b[0m\u001b[0;34m,\u001b[0m \u001b[0mX\u001b[0m\u001b[0;34m)\u001b[0m\u001b[0;34m:\u001b[0m\u001b[0;34m\u001b[0m\u001b[0;34m\u001b[0m\u001b[0m\n\u001b[0;32m--> 180\u001b[0;31m         Xdgms = ripser(\n\u001b[0m\u001b[1;32m    181\u001b[0m             \u001b[0mX\u001b[0m\u001b[0;34m,\u001b[0m \u001b[0mmaxdim\u001b[0m\u001b[0;34m=\u001b[0m\u001b[0mself\u001b[0m\u001b[0;34m.\u001b[0m\u001b[0m_max_homology_dimension\u001b[0m\u001b[0;34m,\u001b[0m\u001b[0;34m\u001b[0m\u001b[0;34m\u001b[0m\u001b[0m\n\u001b[1;32m    182\u001b[0m             \u001b[0mthresh\u001b[0m\u001b[0;34m=\u001b[0m\u001b[0mself\u001b[0m\u001b[0;34m.\u001b[0m\u001b[0mmax_edge_length\u001b[0m\u001b[0;34m,\u001b[0m \u001b[0mcoeff\u001b[0m\u001b[0;34m=\u001b[0m\u001b[0mself\u001b[0m\u001b[0;34m.\u001b[0m\u001b[0mcoeff\u001b[0m\u001b[0;34m,\u001b[0m \u001b[0mmetric\u001b[0m\u001b[0;34m=\u001b[0m\u001b[0mself\u001b[0m\u001b[0;34m.\u001b[0m\u001b[0mmetric\u001b[0m\u001b[0;34m,\u001b[0m\u001b[0;34m\u001b[0m\u001b[0;34m\u001b[0m\u001b[0m\n",
      "\u001b[0;32m~/opt/anaconda3/lib/python3.8/site-packages/gtda/externals/python/ripser_interface.py\u001b[0m in \u001b[0;36mripser\u001b[0;34m(X, maxdim, thresh, coeff, metric, metric_params, weights, weight_params, collapse_edges, n_perm)\u001b[0m\n\u001b[1;32m    504\u001b[0m         \u001b[0;32mdel\u001b[0m \u001b[0mdm\u001b[0m\u001b[0;34m\u001b[0m\u001b[0;34m\u001b[0m\u001b[0m\n\u001b[1;32m    505\u001b[0m         \u001b[0mgc\u001b[0m\u001b[0;34m.\u001b[0m\u001b[0mcollect\u001b[0m\u001b[0;34m(\u001b[0m\u001b[0;34m)\u001b[0m\u001b[0;34m\u001b[0m\u001b[0;34m\u001b[0m\u001b[0m\n\u001b[0;32m--> 506\u001b[0;31m         \u001b[0mres\u001b[0m \u001b[0;34m=\u001b[0m \u001b[0mDRFDM\u001b[0m\u001b[0;34m(\u001b[0m\u001b[0mDParam\u001b[0m\u001b[0;34m,\u001b[0m \u001b[0mmaxdim\u001b[0m\u001b[0;34m,\u001b[0m \u001b[0mthresh\u001b[0m\u001b[0;34m,\u001b[0m \u001b[0mcoeff\u001b[0m\u001b[0;34m)\u001b[0m\u001b[0;34m\u001b[0m\u001b[0;34m\u001b[0m\u001b[0m\n\u001b[0m\u001b[1;32m    507\u001b[0m \u001b[0;34m\u001b[0m\u001b[0m\n\u001b[1;32m    508\u001b[0m     \u001b[0;31m# Unwrap persistence diagrams\u001b[0m\u001b[0;34m\u001b[0m\u001b[0;34m\u001b[0m\u001b[0;34m\u001b[0m\u001b[0m\n",
      "\u001b[0;32m~/opt/anaconda3/lib/python3.8/site-packages/gtda/externals/python/ripser_interface.py\u001b[0m in \u001b[0;36mDRFDM\u001b[0;34m(DParam, maxHomDim, thresh, coeff, do_cocycles)\u001b[0m\n\u001b[1;32m     35\u001b[0m \u001b[0;32mdef\u001b[0m \u001b[0mDRFDM\u001b[0m\u001b[0;34m(\u001b[0m\u001b[0mDParam\u001b[0m\u001b[0;34m,\u001b[0m \u001b[0mmaxHomDim\u001b[0m\u001b[0;34m,\u001b[0m \u001b[0mthresh\u001b[0m\u001b[0;34m=\u001b[0m\u001b[0;34m-\u001b[0m\u001b[0;36m1\u001b[0m\u001b[0;34m,\u001b[0m \u001b[0mcoeff\u001b[0m\u001b[0;34m=\u001b[0m\u001b[0;36m2\u001b[0m\u001b[0;34m,\u001b[0m \u001b[0mdo_cocycles\u001b[0m\u001b[0;34m=\u001b[0m\u001b[0;36m0\u001b[0m\u001b[0;34m)\u001b[0m\u001b[0;34m:\u001b[0m\u001b[0;34m\u001b[0m\u001b[0;34m\u001b[0m\u001b[0m\n\u001b[1;32m     36\u001b[0m     \u001b[0;32mif\u001b[0m \u001b[0mcoeff\u001b[0m \u001b[0;34m==\u001b[0m \u001b[0;36m2\u001b[0m\u001b[0;34m:\u001b[0m\u001b[0;34m\u001b[0m\u001b[0;34m\u001b[0m\u001b[0m\n\u001b[0;32m---> 37\u001b[0;31m         ret = gtda_ripser.rips_dm(DParam, DParam.shape[0], coeff, maxHomDim,\n\u001b[0m\u001b[1;32m     38\u001b[0m                                   thresh, do_cocycles)\n\u001b[1;32m     39\u001b[0m     \u001b[0;32melse\u001b[0m\u001b[0;34m:\u001b[0m\u001b[0;34m\u001b[0m\u001b[0;34m\u001b[0m\u001b[0m\n",
      "\u001b[0;31mKeyboardInterrupt\u001b[0m: "
     ]
    }
   ],
   "source": [
    "from gtda.homology import VietorisRipsPersistence\n",
    "\n",
    "\n",
    "\n",
    "\n",
    "\n",
    "print(\"Computing VietorisRips persistence\")\n",
    "\n",
    "\n",
    "VR = VietorisRipsPersistence(homology_dimensions=[0, 1, 2])  # Connected components, holes, void\n",
    "#WA = WeakAlphaPersistence(homology_dimensions=(0, 1, 2))\n",
    "X_reshaped= X.reshape(1, *X.shape)\n",
    "diagrams = VR.fit_transform(X_reshaped)\n",
    "diagrams.shape"
   ]
  },
  {
   "cell_type": "code",
   "execution_count": 26,
   "id": "4814b5fb",
   "metadata": {},
   "outputs": [
    {
     "data": {
      "application/vnd.plotly.v1+json": {
       "config": {
        "plotlyServerURL": "https://plot.ly"
       },
       "data": [
        {
         "hoverinfo": "none",
         "line": {
          "color": "black",
          "dash": "dash",
          "width": 1
         },
         "mode": "lines",
         "showlegend": false,
         "type": "scatter",
         "x": [
          -0.35503902435302737,
          18.106990242004393
         ],
         "y": [
          -0.35503902435302737,
          18.106990242004393
         ]
        },
        {
         "hoverinfo": "text",
         "hovertext": [
          "(0.0, 0.009743603877723217)",
          "(0.0, 0.01699819788336754)",
          "(0.0, 0.04048620164394379)",
          "(0.0, 0.04232978820800781)",
          "(0.0, 0.048967860639095306)",
          "(0.0, 0.062282636761665344)",
          "(0.0, 0.06414242088794708)",
          "(0.0, 0.07313013821840286)",
          "(0.0, 0.07320162653923035)",
          "(0.0, 0.07556146383285522)",
          "(0.0, 0.08155135810375214)",
          "(0.0, 0.09916175901889801)",
          "(0.0, 0.10116211324930191)",
          "(0.0, 0.1033380851149559)",
          "(0.0, 0.10357039421796799)",
          "(0.0, 0.10504810512065887)",
          "(0.0, 0.11778721213340759)",
          "(0.0, 0.12275788187980652)",
          "(0.0, 0.12457083910703659)",
          "(0.0, 0.12514141201972961)",
          "(0.0, 0.12881365418434143)",
          "(0.0, 0.12934842705726624)",
          "(0.0, 0.13134871423244476)",
          "(0.0, 0.13813786208629608)",
          "(0.0, 0.1485031694173813)",
          "(0.0, 0.15063677728176117)",
          "(0.0, 0.15581698715686798)",
          "(0.0, 0.15868443250656128)",
          "(0.0, 0.16704420745372772)",
          "(0.0, 0.17125922441482544)",
          "(0.0, 0.17230935394763947)",
          "(0.0, 0.17947712540626526)",
          "(0.0, 0.18333806097507477)",
          "(0.0, 0.18342946469783783)",
          "(0.0, 0.18699350953102112)",
          "(0.0, 0.18729794025421143)",
          "(0.0, 0.19189904630184174)",
          "(0.0, 0.19283200800418854)",
          "(0.0, 0.1938806176185608)",
          "(0.0, 0.19551627337932587)",
          "(0.0, 0.20192623138427734)",
          "(0.0, 0.203066885471344)",
          "(0.0, 0.21035388112068176)",
          "(0.0, 0.2118743509054184)",
          "(0.0, 0.21263159811496735)",
          "(0.0, 0.21336352825164795)",
          "(0.0, 0.21829386055469513)",
          "(0.0, 0.21897466480731964)",
          "(0.0, 0.22161252796649933)",
          "(0.0, 0.22305592894554138)",
          "(0.0, 0.226816788315773)",
          "(0.0, 0.23554669320583344)",
          "(0.0, 0.23605461418628693)",
          "(0.0, 0.23943576216697693)",
          "(0.0, 0.25085118412971497)",
          "(0.0, 0.254448264837265)",
          "(0.0, 0.2556694746017456)",
          "(0.0, 0.25676053762435913)",
          "(0.0, 0.2569856345653534)",
          "(0.0, 0.25871750712394714)",
          "(0.0, 0.26077502965927124)",
          "(0.0, 0.2678649127483368)",
          "(0.0, 0.2678653597831726)",
          "(0.0, 0.2735872268676758)",
          "(0.0, 0.2744102478027344)",
          "(0.0, 0.28813913464546204)",
          "(0.0, 0.2917114794254303)",
          "(0.0, 0.29312023520469666)",
          "(0.0, 0.29328402876853943)",
          "(0.0, 0.2954210937023163)",
          "(0.0, 0.2999395728111267)",
          "(0.0, 0.3002625107765198)",
          "(0.0, 0.3012446165084839)",
          "(0.0, 0.30139532685279846)",
          "(0.0, 0.30288058519363403)",
          "(0.0, 0.30316200852394104)",
          "(0.0, 0.3153694272041321)",
          "(0.0, 0.3276016414165497)",
          "(0.0, 0.3280397355556488)",
          "(0.0, 0.3339601159095764)",
          "(0.0, 0.3359469473361969)",
          "(0.0, 0.3385396897792816)",
          "(0.0, 0.34035664796829224)",
          "(0.0, 0.34315595030784607)",
          "(0.0, 0.34377557039260864)",
          "(0.0, 0.3450988829135895)",
          "(0.0, 0.3484460115432739)",
          "(0.0, 0.3522486686706543)",
          "(0.0, 0.3567258417606354)",
          "(0.0, 0.35696572065353394)",
          "(0.0, 0.35743460059165955)",
          "(0.0, 0.35813483595848083)",
          "(0.0, 0.3604789674282074)",
          "(0.0, 0.3608717918395996)",
          "(0.0, 0.3702496588230133)",
          "(0.0, 0.37078481912612915)",
          "(0.0, 0.37236112356185913)",
          "(0.0, 0.3726370632648468)",
          "(0.0, 0.3868284523487091)",
          "(0.0, 0.3890419900417328)",
          "(0.0, 0.3892688751220703)",
          "(0.0, 0.39022305607795715)",
          "(0.0, 0.3936019539833069)",
          "(0.0, 0.39401310682296753)",
          "(0.0, 0.4010868966579437)",
          "(0.0, 0.4048570394515991)",
          "(0.0, 0.4072569012641907)",
          "(0.0, 0.4088127613067627)",
          "(0.0, 0.4096519947052002)",
          "(0.0, 0.4122513234615326)",
          "(0.0, 0.41608476638793945)",
          "(0.0, 0.4187588095664978)",
          "(0.0, 0.41882869601249695)",
          "(0.0, 0.4195185601711273)",
          "(0.0, 0.41998371481895447)",
          "(0.0, 0.42127320170402527)",
          "(0.0, 0.42294248938560486)",
          "(0.0, 0.42296943068504333)",
          "(0.0, 0.42351609468460083)",
          "(0.0, 0.4288666248321533)",
          "(0.0, 0.42940741777420044)",
          "(0.0, 0.42994827032089233)",
          "(0.0, 0.4324267506599426)",
          "(0.0, 0.4345574378967285)",
          "(0.0, 0.43535587191581726)",
          "(0.0, 0.43667879700660706)",
          "(0.0, 0.43752971291542053)",
          "(0.0, 0.44171711802482605)",
          "(0.0, 0.4433799088001251)",
          "(0.0, 0.4447220265865326)",
          "(0.0, 0.44508475065231323)",
          "(0.0, 0.4463338255882263)",
          "(0.0, 0.4483575224876404)",
          "(0.0, 0.449365496635437)",
          "(0.0, 0.45809948444366455)",
          "(0.0, 0.4582446813583374)",
          "(0.0, 0.4596080183982849)",
          "(0.0, 0.46187034249305725)",
          "(0.0, 0.4664278030395508)",
          "(0.0, 0.4668481945991516)",
          "(0.0, 0.4673999845981598)",
          "(0.0, 0.4680477976799011)",
          "(0.0, 0.4683120548725128)",
          "(0.0, 0.4691953957080841)",
          "(0.0, 0.47032079100608826)",
          "(0.0, 0.4703225791454315)",
          "(0.0, 0.4705740511417389)",
          "(0.0, 0.47110527753829956)",
          "(0.0, 0.47172412276268005)",
          "(0.0, 0.47290095686912537)",
          "(0.0, 0.47343331575393677)",
          "(0.0, 0.47348752617836)",
          "(0.0, 0.4737068712711334)",
          "(0.0, 0.4771042466163635)",
          "(0.0, 0.47785502672195435)",
          "(0.0, 0.48118671774864197)",
          "(0.0, 0.4826432764530182)",
          "(0.0, 0.4846596121788025)",
          "(0.0, 0.48917683959007263)",
          "(0.0, 0.4905368685722351)",
          "(0.0, 0.49081477522850037)",
          "(0.0, 0.4918628931045532)",
          "(0.0, 0.4938030242919922)",
          "(0.0, 0.4979405403137207)",
          "(0.0, 0.5002113580703735)",
          "(0.0, 0.5006417036056519)",
          "(0.0, 0.5022289752960205)",
          "(0.0, 0.5027778744697571)",
          "(0.0, 0.5052595734596252)",
          "(0.0, 0.5052607655525208)",
          "(0.0, 0.5052613615989685)",
          "(0.0, 0.5052615404129028)",
          "(0.0, 0.5052616000175476)",
          "(0.0, 0.5052618384361267)",
          "(0.0, 0.5052619576454163)",
          "(0.0, 0.5070616006851196)",
          "(0.0, 0.509149968624115)",
          "(0.0, 0.5092703700065613)",
          "(0.0, 0.5105323195457458)",
          "(0.0, 0.5138777494430542)",
          "(0.0, 0.5177504420280457)",
          "(0.0, 0.519730269908905)",
          "(0.0, 0.5232273936271667)",
          "(0.0, 0.5239862203598022)",
          "(0.0, 0.5254621505737305)",
          "(0.0, 0.5256760120391846)",
          "(0.0, 0.5335115790367126)",
          "(0.0, 0.5354844927787781)",
          "(0.0, 0.5404200553894043)",
          "(0.0, 0.5423600077629089)",
          "(0.0, 0.5442630648612976)",
          "(0.0, 0.5513961315155029)",
          "(0.0, 0.5532016158103943)",
          "(0.0, 0.5550757646560669)",
          "(0.0, 0.5557941794395447)",
          "(0.0, 0.5566309690475464)",
          "(0.0, 0.558227002620697)",
          "(0.0, 0.5612325668334961)",
          "(0.0, 0.565064549446106)",
          "(0.0, 0.5667797923088074)",
          "(0.0, 0.5673710703849792)",
          "(0.0, 0.5677425265312195)",
          "(0.0, 0.5685319900512695)",
          "(0.0, 0.5688344240188599)",
          "(0.0, 0.5733099579811096)",
          "(0.0, 0.5734034180641174)",
          "(0.0, 0.5764690637588501)",
          "(0.0, 0.5805966258049011)",
          "(0.0, 0.5827023386955261)",
          "(0.0, 0.5856212377548218)",
          "(0.0, 0.5862415432929993)",
          "(0.0, 0.5902203321456909)",
          "(0.0, 0.5918603539466858)",
          "(0.0, 0.5923737287521362)",
          "(0.0, 0.5928813815116882)",
          "(0.0, 0.592991292476654)",
          "(0.0, 0.5934870839118958)",
          "(0.0, 0.5962408781051636)",
          "(0.0, 0.599669337272644)",
          "(0.0, 0.601103663444519)",
          "(0.0, 0.6031430959701538)",
          "(0.0, 0.6040503978729248)",
          "(0.0, 0.6073654890060425)",
          "(0.0, 0.6086942553520203)",
          "(0.0, 0.6090459227561951)",
          "(0.0, 0.6098809838294983)",
          "(0.0, 0.6106716990470886)",
          "(0.0, 0.6120040416717529)",
          "(0.0, 0.612385094165802)",
          "(0.0, 0.6135189533233643)",
          "(0.0, 0.6141347885131836)",
          "(0.0, 0.6167886257171631)",
          "(0.0, 0.6175902485847473)",
          "(0.0, 0.6186863780021667)",
          "(0.0, 0.6210388541221619)",
          "(0.0, 0.6220163702964783)",
          "(0.0, 0.6230789422988892)",
          "(0.0, 0.6339775323867798)",
          "(0.0, 0.6349630951881409)",
          "(0.0, 0.6365845203399658)",
          "(0.0, 0.6372042298316956)",
          "(0.0, 0.6372242569923401)",
          "(0.0, 0.6372461318969727)",
          "(0.0, 0.6373113989830017)",
          "(0.0, 0.6435651779174805)",
          "(0.0, 0.6438260674476624)",
          "(0.0, 0.6439875364303589)",
          "(0.0, 0.6444400548934937)",
          "(0.0, 0.6455503702163696)",
          "(0.0, 0.6459156274795532)",
          "(0.0, 0.6468756198883057)",
          "(0.0, 0.6468756794929504)",
          "(0.0, 0.6468778252601624)",
          "(0.0, 0.6468791365623474)",
          "(0.0, 0.6468794941902161)",
          "(0.0, 0.6468796730041504)",
          "(0.0, 0.6468798518180847)",
          "(0.0, 0.6468799710273743)",
          "(0.0, 0.6468800902366638)",
          "(0.0, 0.6468801498413086)",
          "(0.0, 0.6468808650970459)",
          "(0.0, 0.6468819975852966)",
          "(0.0, 0.6468825340270996)",
          "(0.0, 0.6468827724456787)",
          "(0.0, 0.6468830108642578)",
          "(0.0, 0.646885871887207)",
          "(0.0, 0.6477559804916382)",
          "(0.0, 0.6478883624076843)",
          "(0.0, 0.6494900584220886)",
          "(0.0, 0.6498276591300964)",
          "(0.0, 0.650762140750885)",
          "(0.0, 0.6540436148643494)",
          "(0.0, 0.6553512811660767)",
          "(0.0, 0.6560679078102112)",
          "(0.0, 0.6564026474952698)",
          "(0.0, 0.660950243473053)",
          "(0.0, 0.662920355796814)",
          "(0.0, 0.6639426350593567)",
          "(0.0, 0.666180431842804)",
          "(0.0, 0.671749472618103)",
          "(0.0, 0.6720871925354004)",
          "(0.0, 0.6733705997467041)",
          "(0.0, 0.6740615963935852)",
          "(0.0, 0.674107551574707)",
          "(0.0, 0.6751229166984558)",
          "(0.0, 0.6763373017311096)",
          "(0.0, 0.6764524579048157)",
          "(0.0, 0.6768194437026978)",
          "(0.0, 0.6807814240455627)",
          "(0.0, 0.6846900582313538)",
          "(0.0, 0.689271092414856)",
          "(0.0, 0.6908689141273499)",
          "(0.0, 0.6919841766357422)",
          "(0.0, 0.6920128464698792)",
          "(0.0, 0.6956184506416321)",
          "(0.0, 0.7021403312683105)",
          "(0.0, 0.7031509876251221)",
          "(0.0, 0.7035434246063232)",
          "(0.0, 0.7042351961135864)",
          "(0.0, 0.70423823595047)",
          "(0.0, 0.7074923515319824)",
          "(0.0, 0.7104255557060242)",
          "(0.0, 0.7141014933586121)",
          "(0.0, 0.7143386006355286)",
          "(0.0, 0.7158554792404175)",
          "(0.0, 0.7183915972709656)",
          "(0.0, 0.7211231589317322)",
          "(0.0, 0.7223479151725769)",
          "(0.0, 0.7223483920097351)",
          "(0.0, 0.7223486304283142)",
          "(0.0, 0.7223488092422485)",
          "(0.0, 0.7223495244979858)",
          "(0.0, 0.7223498821258545)",
          "(0.0, 0.7223501205444336)",
          "(0.0, 0.7235234379768372)",
          "(0.0, 0.7265528440475464)",
          "(0.0, 0.7283886075019836)",
          "(0.0, 0.7287985682487488)",
          "(0.0, 0.7333037257194519)",
          "(0.0, 0.7349952459335327)",
          "(0.0, 0.7350316643714905)",
          "(0.0, 0.737645149230957)",
          "(0.0, 0.7388051152229309)",
          "(0.0, 0.7395205497741699)",
          "(0.0, 0.7399744987487793)",
          "(0.0, 0.7413173913955688)",
          "(0.0, 0.7417969107627869)",
          "(0.0, 0.7422793507575989)",
          "(0.0, 0.7465139627456665)",
          "(0.0, 0.7492759823799133)",
          "(0.0, 0.7530204057693481)",
          "(0.0, 0.7566026449203491)",
          "(0.0, 0.7581678032875061)",
          "(0.0, 0.7622385621070862)",
          "(0.0, 0.7644346952438354)",
          "(0.0, 0.7659341096878052)",
          "(0.0, 0.7665473222732544)",
          "(0.0, 0.7676059007644653)",
          "(0.0, 0.76839280128479)",
          "(0.0, 0.7730258703231812)",
          "(0.0, 0.7807065844535828)",
          "(0.0, 0.7843612432479858)",
          "(0.0, 0.7890725135803223)",
          "(0.0, 0.790639340877533)",
          "(0.0, 0.8019196391105652)",
          "(0.0, 0.8021088242530823)",
          "(0.0, 0.8075557947158813)",
          "(0.0, 0.8094521164894104)",
          "(0.0, 0.8101560473442078)",
          "(0.0, 0.8106476664543152)",
          "(0.0, 0.8137542009353638)",
          "(0.0, 0.8143022060394287)",
          "(0.0, 0.8143332600593567)",
          "(0.0, 0.8144431114196777)",
          "(0.0, 0.8146496415138245)",
          "(0.0, 0.8197197914123535)",
          "(0.0, 0.8204267024993896)",
          "(0.0, 0.8206932544708252)",
          "(0.0, 0.8208181262016296)",
          "(0.0, 0.8217656016349792)",
          "(0.0, 0.822536051273346)",
          "(0.0, 0.8265064358711243)",
          "(0.0, 0.8287948966026306)",
          "(0.0, 0.8312464952468872)",
          "(0.0, 0.8323590159416199)",
          "(0.0, 0.8342015743255615)",
          "(0.0, 0.8354398608207703)",
          "(0.0, 0.8371638655662537)",
          "(0.0, 0.8377846479415894)",
          "(0.0, 0.838466227054596)",
          "(0.0, 0.8386169672012329)",
          "(0.0, 0.8402596712112427)",
          "(0.0, 0.8411385416984558)",
          "(0.0, 0.843029797077179)",
          "(0.0, 0.8448435068130493)",
          "(0.0, 0.8450862765312195)",
          "(0.0, 0.8522440195083618)",
          "(0.0, 0.8542227149009705)",
          "(0.0, 0.8557417988777161)",
          "(0.0, 0.856042206287384)",
          "(0.0, 0.856723427772522)",
          "(0.0, 0.8570389151573181)",
          "(0.0, 0.8575924038887024)",
          "(0.0, 0.8593874573707581)",
          "(0.0, 0.8607915639877319)",
          "(0.0, 0.8619887232780457)",
          "(0.0, 0.8650246262550354)",
          "(0.0, 0.8666526079177856)",
          "(0.0, 0.8700990080833435)",
          "(0.0, 0.8707587718963623)",
          "(0.0, 0.8717511892318726)",
          "(0.0, 0.8794214725494385)",
          "(0.0, 0.8806090354919434)",
          "(0.0, 0.8829166293144226)",
          "(0.0, 0.8866033554077148)",
          "(0.0, 0.8906753659248352)",
          "(0.0, 0.8934364914894104)",
          "(0.0, 0.8935273289680481)",
          "(0.0, 0.8976665735244751)",
          "(0.0, 0.9022722244262695)",
          "(0.0, 0.9036311507225037)",
          "(0.0, 0.9058169722557068)",
          "(0.0, 0.9063061475753784)",
          "(0.0, 0.906623363494873)",
          "(0.0, 0.9081267714500427)",
          "(0.0, 0.9090204238891602)",
          "(0.0, 0.909414529800415)",
          "(0.0, 0.9106049537658691)",
          "(0.0, 0.9142785668373108)",
          "(0.0, 0.9208589196205139)",
          "(0.0, 0.921322226524353)",
          "(0.0, 0.9214505553245544)",
          "(0.0, 0.9238540530204773)",
          "(0.0, 0.9270680546760559)",
          "(0.0, 0.9289548397064209)",
          "(0.0, 0.9329788088798523)",
          "(0.0, 0.9333592653274536)",
          "(0.0, 0.9375734329223633)",
          "(0.0, 0.9418228268623352)",
          "(0.0, 0.9418238401412964)",
          "(0.0, 0.9456163644790649)",
          "(0.0, 0.9479730725288391)",
          "(0.0, 0.9479739665985107)",
          "(0.0, 0.9553650617599487)",
          "(0.0, 0.9590910077095032)",
          "(0.0, 0.9614797234535217)",
          "(0.0, 0.9627453684806824)",
          "(0.0, 0.963597297668457)",
          "(0.0, 0.9644994139671326)",
          "(0.0, 0.9646831154823303)",
          "(0.0, 0.9667540192604065)",
          "(0.0, 0.9671472311019897)",
          "(0.0, 0.9683582186698914)",
          "(0.0, 0.9717257022857666)",
          "(0.0, 0.9744009375572205)",
          "(0.0, 0.9746163487434387)",
          "(0.0, 0.9746192097663879)",
          "(0.0, 0.9756610989570618)",
          "(0.0, 0.9777854084968567)",
          "(0.0, 0.9790812134742737)",
          "(0.0, 0.9794275760650635)",
          "(0.0, 0.9810013771057129)",
          "(0.0, 0.9847108125686646)",
          "(0.0, 0.9855117201805115)",
          "(0.0, 0.9858437180519104)",
          "(0.0, 0.9872956275939941)",
          "(0.0, 0.9932820200920105)",
          "(0.0, 0.9933691620826721)",
          "(0.0, 0.9988212585449219)",
          "(0.0, 1.0018768310546875)",
          "(0.0, 1.001876950263977)",
          "(0.0, 1.0018771886825562)",
          "(0.0, 1.0018783807754517)",
          "(0.0, 1.0042579174041748)",
          "(0.0, 1.0064449310302734)",
          "(0.0, 1.0101450681686401)",
          "(0.0, 1.0123708248138428)",
          "(0.0, 1.0123709440231323)",
          "(0.0, 1.012372374534607)",
          "(0.0, 1.0123724937438965), multiplicity: 2",
          "(0.0, 1.0123724937438965), multiplicity: 2",
          "(0.0, 1.012372612953186), multiplicity: 2",
          "(0.0, 1.012372612953186), multiplicity: 2",
          "(0.0, 1.0123727321624756)",
          "(0.0, 1.0123728513717651)",
          "(0.0, 1.0123733282089233)",
          "(0.0, 1.012373447418213)",
          "(0.0, 1.0123738050460815), multiplicity: 3",
          "(0.0, 1.0123738050460815), multiplicity: 3",
          "(0.0, 1.0123738050460815), multiplicity: 3",
          "(0.0, 1.012373924255371)",
          "(0.0, 1.0123744010925293)",
          "(0.0, 1.0123745203018188)",
          "(0.0, 1.0123748779296875)",
          "(0.0, 1.0123755931854248)",
          "(0.0, 1.0123769044876099)",
          "(0.0, 1.0128028392791748)",
          "(0.0, 1.0182297229766846)",
          "(0.0, 1.0204346179962158)",
          "(0.0, 1.0210710763931274)",
          "(0.0, 1.0216516256332397)",
          "(0.0, 1.0219426155090332)",
          "(0.0, 1.0219451189041138)",
          "(0.0, 1.0225614309310913)",
          "(0.0, 1.0246394872665405)",
          "(0.0, 1.0247927904129028)",
          "(0.0, 1.0258126258850098)",
          "(0.0, 1.027104377746582)",
          "(0.0, 1.034442663192749)",
          "(0.0, 1.0349793434143066)",
          "(0.0, 1.0362824201583862)",
          "(0.0, 1.0392401218414307)",
          "(0.0, 1.0392954349517822)",
          "(0.0, 1.044672966003418)",
          "(0.0, 1.0458308458328247)",
          "(0.0, 1.0465450286865234)",
          "(0.0, 1.0505459308624268)",
          "(0.0, 1.050889492034912)",
          "(0.0, 1.0529029369354248)",
          "(0.0, 1.053911566734314)",
          "(0.0, 1.0568047761917114)",
          "(0.0, 1.0602697134017944)",
          "(0.0, 1.0612478256225586)",
          "(0.0, 1.0723613500595093)",
          "(0.0, 1.0738327503204346)",
          "(0.0, 1.0796812772750854)",
          "(0.0, 1.0803751945495605)",
          "(0.0, 1.0839753150939941)",
          "(0.0, 1.0854885578155518)",
          "(0.0, 1.08790922164917)",
          "(0.0, 1.0884767770767212)",
          "(0.0, 1.0888334512710571)",
          "(0.0, 1.0903867483139038)",
          "(0.0, 1.0936975479125977)",
          "(0.0, 1.096039056777954)",
          "(0.0, 1.1060326099395752)",
          "(0.0, 1.1085968017578125)",
          "(0.0, 1.111085295677185)",
          "(0.0, 1.1224087476730347)",
          "(0.0, 1.122410774230957)",
          "(0.0, 1.1307740211486816)",
          "(0.0, 1.132163166999817)",
          "(0.0, 1.13880455493927)",
          "(0.0, 1.1399788856506348)",
          "(0.0, 1.140481948852539)",
          "(0.0, 1.141289472579956)",
          "(0.0, 1.1452138423919678)",
          "(0.0, 1.148492455482483)",
          "(0.0, 1.1485888957977295)",
          "(0.0, 1.1523038148880005)",
          "(0.0, 1.1572130918502808)",
          "(0.0, 1.162176251411438)",
          "(0.0, 1.162854790687561)",
          "(0.0, 1.1672450304031372)",
          "(0.0, 1.1714305877685547)",
          "(0.0, 1.1769185066223145)",
          "(0.0, 1.1769194602966309)",
          "(0.0, 1.178781270980835)",
          "(0.0, 1.181932806968689)",
          "(0.0, 1.1819652318954468)",
          "(0.0, 1.187351107597351)",
          "(0.0, 1.1874879598617554)",
          "(0.0, 1.1885231733322144)",
          "(0.0, 1.1886318922042847)",
          "(0.0, 1.1936273574829102)",
          "(0.0, 1.1943042278289795)",
          "(0.0, 1.1990240812301636)",
          "(0.0, 1.2004680633544922)",
          "(0.0, 1.2045235633850098)",
          "(0.0, 1.2053391933441162)",
          "(0.0, 1.206525444984436)",
          "(0.0, 1.2071055173873901)",
          "(0.0, 1.2073779106140137)",
          "(0.0, 1.209747076034546)",
          "(0.0, 1.2130266427993774)",
          "(0.0, 1.2170330286026)",
          "(0.0, 1.2272772789001465)",
          "(0.0, 1.229276418685913)",
          "(0.0, 1.2332724332809448)",
          "(0.0, 1.2353107929229736)",
          "(0.0, 1.2361321449279785)",
          "(0.0, 1.2364784479141235)",
          "(0.0, 1.2409799098968506)",
          "(0.0, 1.2477662563323975)",
          "(0.0, 1.2504342794418335)",
          "(0.0, 1.251460313796997)",
          "(0.0, 1.2517176866531372)",
          "(0.0, 1.2528525590896606)",
          "(0.0, 1.2540796995162964)",
          "(0.0, 1.2615196704864502)",
          "(0.0, 1.2636163234710693)",
          "(0.0, 1.2652802467346191)",
          "(0.0, 1.2684533596038818)",
          "(0.0, 1.2687174081802368)",
          "(0.0, 1.2693320512771606)",
          "(0.0, 1.2737473249435425)",
          "(0.0, 1.2758878469467163)",
          "(0.0, 1.276201844215393)",
          "(0.0, 1.2762126922607422)",
          "(0.0, 1.2774206399917603)",
          "(0.0, 1.280411720275879)",
          "(0.0, 1.2835533618927002)",
          "(0.0, 1.283556342124939)",
          "(0.0, 1.283557653427124)",
          "(0.0, 1.2835583686828613)",
          "(0.0, 1.2835599184036255)",
          "(0.0, 1.2835625410079956)",
          "(0.0, 1.2863048315048218)",
          "(0.0, 1.2934198379516602)",
          "(0.0, 1.295238971710205)",
          "(0.0, 1.2982171773910522)",
          "(0.0, 1.2988115549087524)",
          "(0.0, 1.3019896745681763)",
          "(0.0, 1.3076791763305664)",
          "(0.0, 1.313512921333313)",
          "(0.0, 1.3188445568084717)",
          "(0.0, 1.3191875219345093)",
          "(0.0, 1.319893717765808)",
          "(0.0, 1.3287084102630615)",
          "(0.0, 1.3301936388015747)",
          "(0.0, 1.3367184400558472)",
          "(0.0, 1.3382484912872314)",
          "(0.0, 1.3384590148925781)",
          "(0.0, 1.3387868404388428)",
          "(0.0, 1.3402808904647827)",
          "(0.0, 1.3410241603851318)",
          "(0.0, 1.3438447713851929)",
          "(0.0, 1.3527663946151733)",
          "(0.0, 1.3619962930679321)",
          "(0.0, 1.3626420497894287)",
          "(0.0, 1.384320855140686)",
          "(0.0, 1.389378547668457)",
          "(0.0, 1.39139723777771)",
          "(0.0, 1.3975578546524048)",
          "(0.0, 1.4011991024017334)",
          "(0.0, 1.4014408588409424)",
          "(0.0, 1.4062116146087646)",
          "(0.0, 1.4098331928253174)",
          "(0.0, 1.418304204940796)",
          "(0.0, 1.4240537881851196)",
          "(0.0, 1.42470121383667)",
          "(0.0, 1.4253365993499756)",
          "(0.0, 1.4272980690002441)",
          "(0.0, 1.4272985458374023)",
          "(0.0, 1.4272990226745605)",
          "(0.0, 1.427300214767456)",
          "(0.0, 1.4273008108139038)",
          "(0.0, 1.4356130361557007)",
          "(0.0, 1.4356136322021484)",
          "(0.0, 1.4356142282485962)",
          "(0.0, 1.4356156587600708), multiplicity: 2",
          "(0.0, 1.4356156587600708), multiplicity: 2",
          "(0.0, 1.4377716779708862)",
          "(0.0, 1.4404882192611694)",
          "(0.0, 1.4414982795715332)",
          "(0.0, 1.4430292844772339)",
          "(0.0, 1.4497212171554565)",
          "(0.0, 1.4584637880325317)",
          "(0.0, 1.4595175981521606)",
          "(0.0, 1.4610544443130493)",
          "(0.0, 1.461054801940918)",
          "(0.0, 1.4676963090896606)",
          "(0.0, 1.4694147109985352)",
          "(0.0, 1.4813511371612549)",
          "(0.0, 1.4813525676727295)",
          "(0.0, 1.4889878034591675)",
          "(0.0, 1.4915825128555298)",
          "(0.0, 1.4937876462936401)",
          "(0.0, 1.4960837364196777)",
          "(0.0, 1.4976826906204224)",
          "(0.0, 1.5087648630142212)",
          "(0.0, 1.5156879425048828)",
          "(0.0, 1.5157371759414673)",
          "(0.0, 1.5183223485946655)",
          "(0.0, 1.5280214548110962)",
          "(0.0, 1.5314676761627197)",
          "(0.0, 1.5315784215927124)",
          "(0.0, 1.5359529256820679)",
          "(0.0, 1.5378475189208984)",
          "(0.0, 1.5379072427749634)",
          "(0.0, 1.5396299362182617)",
          "(0.0, 1.5396308898925781)",
          "(0.0, 1.5403704643249512)",
          "(0.0, 1.5440089702606201)",
          "(0.0, 1.5447022914886475)",
          "(0.0, 1.5458675622940063)",
          "(0.0, 1.550744891166687)",
          "(0.0, 1.5518627166748047)",
          "(0.0, 1.5524441003799438)",
          "(0.0, 1.5534769296646118)",
          "(0.0, 1.5681544542312622)",
          "(0.0, 1.576899528503418)",
          "(0.0, 1.5979419946670532)",
          "(0.0, 1.607086420059204)",
          "(0.0, 1.6091413497924805)",
          "(0.0, 1.6097040176391602)",
          "(0.0, 1.6116645336151123)",
          "(0.0, 1.616530179977417)",
          "(0.0, 1.616878867149353)",
          "(0.0, 1.6175436973571777)",
          "(0.0, 1.6183782815933228)",
          "(0.0, 1.6320585012435913)",
          "(0.0, 1.6360591650009155)",
          "(0.0, 1.6413273811340332)",
          "(0.0, 1.6446716785430908)",
          "(0.0, 1.6481698751449585)",
          "(0.0, 1.6518744230270386)",
          "(0.0, 1.6553317308425903)",
          "(0.0, 1.6583752632141113)",
          "(0.0, 1.6661556959152222)",
          "(0.0, 1.6810765266418457)",
          "(0.0, 1.683247685432434)",
          "(0.0, 1.693375587463379)",
          "(0.0, 1.6962558031082153)",
          "(0.0, 1.7021507024765015)",
          "(0.0, 1.7021515369415283)",
          "(0.0, 1.7023310661315918)",
          "(0.0, 1.7024887800216675)",
          "(0.0, 1.7042207717895508)",
          "(0.0, 1.7053015232086182)",
          "(0.0, 1.7092100381851196)",
          "(0.0, 1.7099689245224)",
          "(0.0, 1.7231943607330322)",
          "(0.0, 1.7250592708587646)",
          "(0.0, 1.7256096601486206)",
          "(0.0, 1.7270207405090332)",
          "(0.0, 1.7421780824661255)",
          "(0.0, 1.749589204788208)",
          "(0.0, 1.7538663148880005)",
          "(0.0, 1.767347812652588)",
          "(0.0, 1.7675588130950928)",
          "(0.0, 1.7681050300598145)",
          "(0.0, 1.7682908773422241)",
          "(0.0, 1.770453691482544)",
          "(0.0, 1.7737994194030762)",
          "(0.0, 1.7780585289001465)",
          "(0.0, 1.7837152481079102)",
          "(0.0, 1.7905608415603638)",
          "(0.0, 1.8011128902435303)",
          "(0.0, 1.8085204362869263)",
          "(0.0, 1.8095256090164185)",
          "(0.0, 1.8180285692214966)",
          "(0.0, 1.8290132284164429)",
          "(0.0, 1.8290146589279175)",
          "(0.0, 1.8318524360656738)",
          "(0.0, 1.8318527936935425)",
          "(0.0, 1.8355834484100342)",
          "(0.0, 1.8355865478515625)",
          "(0.0, 1.8396542072296143)",
          "(0.0, 1.8479573726654053)",
          "(0.0, 1.850355625152588)",
          "(0.0, 1.8532308340072632)",
          "(0.0, 1.8590242862701416)",
          "(0.0, 1.863403558731079)",
          "(0.0, 1.866330862045288)",
          "(0.0, 1.86835515499115)",
          "(0.0, 1.8717014789581299)",
          "(0.0, 1.8763235807418823)",
          "(0.0, 1.8793113231658936)",
          "(0.0, 1.8798704147338867)",
          "(0.0, 1.8839434385299683)",
          "(0.0, 1.8854000568389893)",
          "(0.0, 1.8854029178619385)",
          "(0.0, 1.8887405395507812)",
          "(0.0, 1.8893518447875977)",
          "(0.0, 1.8899246454238892)",
          "(0.0, 1.899297833442688)",
          "(0.0, 1.8999930620193481)",
          "(0.0, 1.8999931812286377)",
          "(0.0, 1.8999933004379272)",
          "(0.0, 1.8999937772750854), multiplicity: 2",
          "(0.0, 1.8999937772750854), multiplicity: 2",
          "(0.0, 1.9030808210372925)",
          "(0.0, 1.9034647941589355)",
          "(0.0, 1.9100440740585327)",
          "(0.0, 1.911115288734436)",
          "(0.0, 1.9111171960830688)",
          "(0.0, 1.9185689687728882)",
          "(0.0, 1.9351606369018555)",
          "(0.0, 1.9354804754257202)",
          "(0.0, 1.9455946683883667)",
          "(0.0, 1.9494327306747437)",
          "(0.0, 1.949434518814087)",
          "(0.0, 1.9611843824386597)",
          "(0.0, 1.9629199504852295)",
          "(0.0, 1.964443564414978)",
          "(0.0, 1.9709991216659546)",
          "(0.0, 1.9835599660873413)",
          "(0.0, 1.9936538934707642)",
          "(0.0, 1.994370937347412)",
          "(0.0, 1.9964953660964966)",
          "(0.0, 2.0000741481781006)",
          "(0.0, 2.0082650184631348)",
          "(0.0, 2.008267402648926)",
          "(0.0, 2.008268117904663)",
          "(0.0, 2.018117666244507)",
          "(0.0, 2.0185024738311768)",
          "(0.0, 2.018502950668335)",
          "(0.0, 2.0185039043426514), multiplicity: 2",
          "(0.0, 2.0185039043426514), multiplicity: 2",
          "(0.0, 2.0185043811798096), multiplicity: 3",
          "(0.0, 2.0185043811798096), multiplicity: 3",
          "(0.0, 2.0185043811798096), multiplicity: 3",
          "(0.0, 2.0185046195983887)",
          "(0.0, 2.018505096435547)",
          "(0.0, 2.018505334854126)",
          "(0.0, 2.018505811691284), multiplicity: 2",
          "(0.0, 2.018505811691284), multiplicity: 2",
          "(0.0, 2.0185062885284424)",
          "(0.0, 2.019390106201172)",
          "(0.0, 2.0201289653778076)",
          "(0.0, 2.022979259490967)",
          "(0.0, 2.022982358932495)",
          "(0.0, 2.033325672149658)",
          "(0.0, 2.042959451675415)",
          "(0.0, 2.0531444549560547)",
          "(0.0, 2.0531866550445557)",
          "(0.0, 2.0586960315704346)",
          "(0.0, 2.0601842403411865)",
          "(0.0, 2.0664234161376953)",
          "(0.0, 2.093595027923584)",
          "(0.0, 2.098421812057495)",
          "(0.0, 2.103663206100464)",
          "(0.0, 2.1068577766418457)",
          "(0.0, 2.121962547302246)",
          "(0.0, 2.1219656467437744)",
          "(0.0, 2.1243326663970947)",
          "(0.0, 2.1245028972625732)",
          "(0.0, 2.1264147758483887)",
          "(0.0, 2.1277058124542236)",
          "(0.0, 2.130826234817505)",
          "(0.0, 2.134491205215454)",
          "(0.0, 2.1358208656311035)",
          "(0.0, 2.1363818645477295)",
          "(0.0, 2.137434720993042)",
          "(0.0, 2.1374361515045166)",
          "(0.0, 2.1374409198760986)",
          "(0.0, 2.1394245624542236)",
          "(0.0, 2.144747495651245)",
          "(0.0, 2.1474523544311523)",
          "(0.0, 2.150651693344116)",
          "(0.0, 2.1658384799957275)",
          "(0.0, 2.168067455291748)",
          "(0.0, 2.1725780963897705)",
          "(0.0, 2.176633834838867)",
          "(0.0, 2.2052066326141357)",
          "(0.0, 2.225787878036499)",
          "(0.0, 2.2273712158203125)",
          "(0.0, 2.230764627456665)",
          "(0.0, 2.2433419227600098)",
          "(0.0, 2.2507288455963135)",
          "(0.0, 2.2524588108062744)",
          "(0.0, 2.2537147998809814)",
          "(0.0, 2.274888753890991)",
          "(0.0, 2.275317907333374)",
          "(0.0, 2.2798614501953125)",
          "(0.0, 2.28328800201416)",
          "(0.0, 2.2959346771240234)",
          "(0.0, 2.307525873184204)",
          "(0.0, 2.328669548034668)",
          "(0.0, 2.329007863998413)",
          "(0.0, 2.3496291637420654)",
          "(0.0, 2.351163148880005)",
          "(0.0, 2.3597006797790527)",
          "(0.0, 2.3661913871765137)",
          "(0.0, 2.369985342025757)",
          "(0.0, 2.3795478343963623)",
          "(0.0, 2.3813068866729736)",
          "(0.0, 2.3841443061828613)",
          "(0.0, 2.3889753818511963)",
          "(0.0, 2.4124794006347656)",
          "(0.0, 2.4174487590789795)",
          "(0.0, 2.4230103492736816)",
          "(0.0, 2.4487292766571045)",
          "(0.0, 2.4487688541412354)",
          "(0.0, 2.467794418334961)",
          "(0.0, 2.486464738845825)",
          "(0.0, 2.4864649772644043)",
          "(0.0, 2.4864673614501953)",
          "(0.0, 2.486469030380249)",
          "(0.0, 2.4885215759277344)",
          "(0.0, 2.4885222911834717)",
          "(0.0, 2.4885244369506836)",
          "(0.0, 2.4930663108825684)",
          "(0.0, 2.500066041946411)",
          "(0.0, 2.513584613800049)",
          "(0.0, 2.5231869220733643)",
          "(0.0, 2.5447919368743896)",
          "(0.0, 2.5617177486419678)",
          "(0.0, 2.578813314437866)",
          "(0.0, 2.59275221824646)",
          "(0.0, 2.610138177871704)",
          "(0.0, 2.6535210609436035)",
          "(0.0, 2.6570045948028564)",
          "(0.0, 2.6667401790618896)",
          "(0.0, 2.678298234939575)",
          "(0.0, 2.6788690090179443)",
          "(0.0, 2.683882713317871)",
          "(0.0, 2.6913836002349854)",
          "(0.0, 2.6984541416168213)",
          "(0.0, 2.715160369873047)",
          "(0.0, 2.7345755100250244)",
          "(0.0, 2.7407829761505127)",
          "(0.0, 2.747931480407715)",
          "(0.0, 2.7524616718292236)",
          "(0.0, 2.757817506790161)",
          "(0.0, 2.762934684753418)",
          "(0.0, 2.765597343444824)",
          "(0.0, 2.766774892807007)",
          "(0.0, 2.766775369644165)",
          "(0.0, 2.7667758464813232)",
          "(0.0, 2.771845579147339)",
          "(0.0, 2.772361993789673)",
          "(0.0, 2.776484251022339)",
          "(0.0, 2.7992422580718994)",
          "(0.0, 2.800104856491089)",
          "(0.0, 2.8001065254211426)",
          "(0.0, 2.8090648651123047)",
          "(0.0, 2.8370792865753174)",
          "(0.0, 2.844224214553833)",
          "(0.0, 2.8481104373931885)",
          "(0.0, 2.8534717559814453)",
          "(0.0, 2.87589430809021)",
          "(0.0, 2.8830549716949463)",
          "(0.0, 2.901435375213623)",
          "(0.0, 2.908656120300293)",
          "(0.0, 2.936446189880371)",
          "(0.0, 2.9382975101470947)",
          "(0.0, 2.9399988651275635)",
          "(0.0, 2.9630825519561768)",
          "(0.0, 2.9633257389068604)",
          "(0.0, 2.9959917068481445)",
          "(0.0, 3.000178098678589)",
          "(0.0, 3.0114598274230957)",
          "(0.0, 3.0443453788757324)",
          "(0.0, 3.0475380420684814)",
          "(0.0, 3.0475382804870605), multiplicity: 2",
          "(0.0, 3.0475382804870605), multiplicity: 2",
          "(0.0, 3.0560734272003174)",
          "(0.0, 3.076068639755249)",
          "(0.0, 3.07629656791687)",
          "(0.0, 3.07965087890625)",
          "(0.0, 3.0832650661468506)",
          "(0.0, 3.0861446857452393)",
          "(0.0, 3.091221332550049)",
          "(0.0, 3.1016523838043213)",
          "(0.0, 3.10539174079895)",
          "(0.0, 3.105959177017212)",
          "(0.0, 3.1180009841918945)",
          "(0.0, 3.1220688819885254)",
          "(0.0, 3.122737169265747)",
          "(0.0, 3.1404759883880615)",
          "(0.0, 3.1811766624450684)",
          "(0.0, 3.202258586883545)",
          "(0.0, 3.2258195877075195)",
          "(0.0, 3.235325574874878)",
          "(0.0, 3.3049333095550537)",
          "(0.0, 3.355112314224243)",
          "(0.0, 3.355938196182251)",
          "(0.0, 3.3720479011535645)",
          "(0.0, 3.3726627826690674)",
          "(0.0, 3.415501832962036)",
          "(0.0, 3.425771951675415)",
          "(0.0, 3.4609341621398926)",
          "(0.0, 3.469383716583252)",
          "(0.0, 3.5012638568878174)",
          "(0.0, 3.534111976623535)",
          "(0.0, 3.5367023944854736)",
          "(0.0, 3.5775856971740723)",
          "(0.0, 3.6057138442993164)",
          "(0.0, 3.60571551322937)",
          "(0.0, 3.626386880874634)",
          "(0.0, 3.6280534267425537)",
          "(0.0, 3.668240547180176)",
          "(0.0, 3.6682441234588623)",
          "(0.0, 3.7770068645477295)",
          "(0.0, 3.798943042755127)",
          "(0.0, 3.845371961593628)",
          "(0.0, 3.906243324279785)",
          "(0.0, 3.9478931427001953)",
          "(0.0, 3.9873080253601074)",
          "(0.0, 3.9873132705688477)",
          "(0.0, 4.0146379470825195)",
          "(0.0, 4.044940948486328)",
          "(0.0, 4.049130439758301)",
          "(0.0, 4.098026275634766)",
          "(0.0, 4.114952087402344)",
          "(0.0, 4.144172191619873)",
          "(0.0, 4.15856409072876)",
          "(0.0, 4.19238805770874)",
          "(0.0, 4.194583892822266)",
          "(0.0, 4.210463047027588)",
          "(0.0, 4.224699974060059)",
          "(0.0, 4.226948261260986)",
          "(0.0, 4.261238098144531)",
          "(0.0, 4.325080394744873)",
          "(0.0, 4.363929271697998)",
          "(0.0, 4.367347240447998)",
          "(0.0, 4.370025634765625)",
          "(0.0, 4.376589298248291)",
          "(0.0, 4.439864635467529)",
          "(0.0, 4.472238063812256)",
          "(0.0, 4.476317882537842)",
          "(0.0, 4.552165985107422)",
          "(0.0, 4.582627773284912)",
          "(0.0, 4.60257625579834)",
          "(0.0, 4.8142008781433105)",
          "(0.0, 4.868141174316406)",
          "(0.0, 4.910966396331787)",
          "(0.0, 4.929132461547852)",
          "(0.0, 5.089169979095459)",
          "(0.0, 5.230278491973877)",
          "(0.0, 5.44887113571167)",
          "(0.0, 5.465041637420654)",
          "(0.0, 5.542730808258057)",
          "(0.0, 5.598012447357178)",
          "(0.0, 5.6349616050720215)",
          "(0.0, 5.656589508056641)",
          "(0.0, 7.102981090545654)"
         ],
         "mode": "markers",
         "name": "H0",
         "type": "scatter",
         "x": [
          0,
          0,
          0,
          0,
          0,
          0,
          0,
          0,
          0,
          0,
          0,
          0,
          0,
          0,
          0,
          0,
          0,
          0,
          0,
          0,
          0,
          0,
          0,
          0,
          0,
          0,
          0,
          0,
          0,
          0,
          0,
          0,
          0,
          0,
          0,
          0,
          0,
          0,
          0,
          0,
          0,
          0,
          0,
          0,
          0,
          0,
          0,
          0,
          0,
          0,
          0,
          0,
          0,
          0,
          0,
          0,
          0,
          0,
          0,
          0,
          0,
          0,
          0,
          0,
          0,
          0,
          0,
          0,
          0,
          0,
          0,
          0,
          0,
          0,
          0,
          0,
          0,
          0,
          0,
          0,
          0,
          0,
          0,
          0,
          0,
          0,
          0,
          0,
          0,
          0,
          0,
          0,
          0,
          0,
          0,
          0,
          0,
          0,
          0,
          0,
          0,
          0,
          0,
          0,
          0,
          0,
          0,
          0,
          0,
          0,
          0,
          0,
          0,
          0,
          0,
          0,
          0,
          0,
          0,
          0,
          0,
          0,
          0,
          0,
          0,
          0,
          0,
          0,
          0,
          0,
          0,
          0,
          0,
          0,
          0,
          0,
          0,
          0,
          0,
          0,
          0,
          0,
          0,
          0,
          0,
          0,
          0,
          0,
          0,
          0,
          0,
          0,
          0,
          0,
          0,
          0,
          0,
          0,
          0,
          0,
          0,
          0,
          0,
          0,
          0,
          0,
          0,
          0,
          0,
          0,
          0,
          0,
          0,
          0,
          0,
          0,
          0,
          0,
          0,
          0,
          0,
          0,
          0,
          0,
          0,
          0,
          0,
          0,
          0,
          0,
          0,
          0,
          0,
          0,
          0,
          0,
          0,
          0,
          0,
          0,
          0,
          0,
          0,
          0,
          0,
          0,
          0,
          0,
          0,
          0,
          0,
          0,
          0,
          0,
          0,
          0,
          0,
          0,
          0,
          0,
          0,
          0,
          0,
          0,
          0,
          0,
          0,
          0,
          0,
          0,
          0,
          0,
          0,
          0,
          0,
          0,
          0,
          0,
          0,
          0,
          0,
          0,
          0,
          0,
          0,
          0,
          0,
          0,
          0,
          0,
          0,
          0,
          0,
          0,
          0,
          0,
          0,
          0,
          0,
          0,
          0,
          0,
          0,
          0,
          0,
          0,
          0,
          0,
          0,
          0,
          0,
          0,
          0,
          0,
          0,
          0,
          0,
          0,
          0,
          0,
          0,
          0,
          0,
          0,
          0,
          0,
          0,
          0,
          0,
          0,
          0,
          0,
          0,
          0,
          0,
          0,
          0,
          0,
          0,
          0,
          0,
          0,
          0,
          0,
          0,
          0,
          0,
          0,
          0,
          0,
          0,
          0,
          0,
          0,
          0,
          0,
          0,
          0,
          0,
          0,
          0,
          0,
          0,
          0,
          0,
          0,
          0,
          0,
          0,
          0,
          0,
          0,
          0,
          0,
          0,
          0,
          0,
          0,
          0,
          0,
          0,
          0,
          0,
          0,
          0,
          0,
          0,
          0,
          0,
          0,
          0,
          0,
          0,
          0,
          0,
          0,
          0,
          0,
          0,
          0,
          0,
          0,
          0,
          0,
          0,
          0,
          0,
          0,
          0,
          0,
          0,
          0,
          0,
          0,
          0,
          0,
          0,
          0,
          0,
          0,
          0,
          0,
          0,
          0,
          0,
          0,
          0,
          0,
          0,
          0,
          0,
          0,
          0,
          0,
          0,
          0,
          0,
          0,
          0,
          0,
          0,
          0,
          0,
          0,
          0,
          0,
          0,
          0,
          0,
          0,
          0,
          0,
          0,
          0,
          0,
          0,
          0,
          0,
          0,
          0,
          0,
          0,
          0,
          0,
          0,
          0,
          0,
          0,
          0,
          0,
          0,
          0,
          0,
          0,
          0,
          0,
          0,
          0,
          0,
          0,
          0,
          0,
          0,
          0,
          0,
          0,
          0,
          0,
          0,
          0,
          0,
          0,
          0,
          0,
          0,
          0,
          0,
          0,
          0,
          0,
          0,
          0,
          0,
          0,
          0,
          0,
          0,
          0,
          0,
          0,
          0,
          0,
          0,
          0,
          0,
          0,
          0,
          0,
          0,
          0,
          0,
          0,
          0,
          0,
          0,
          0,
          0,
          0,
          0,
          0,
          0,
          0,
          0,
          0,
          0,
          0,
          0,
          0,
          0,
          0,
          0,
          0,
          0,
          0,
          0,
          0,
          0,
          0,
          0,
          0,
          0,
          0,
          0,
          0,
          0,
          0,
          0,
          0,
          0,
          0,
          0,
          0,
          0,
          0,
          0,
          0,
          0,
          0,
          0,
          0,
          0,
          0,
          0,
          0,
          0,
          0,
          0,
          0,
          0,
          0,
          0,
          0,
          0,
          0,
          0,
          0,
          0,
          0,
          0,
          0,
          0,
          0,
          0,
          0,
          0,
          0,
          0,
          0,
          0,
          0,
          0,
          0,
          0,
          0,
          0,
          0,
          0,
          0,
          0,
          0,
          0,
          0,
          0,
          0,
          0,
          0,
          0,
          0,
          0,
          0,
          0,
          0,
          0,
          0,
          0,
          0,
          0,
          0,
          0,
          0,
          0,
          0,
          0,
          0,
          0,
          0,
          0,
          0,
          0,
          0,
          0,
          0,
          0,
          0,
          0,
          0,
          0,
          0,
          0,
          0,
          0,
          0,
          0,
          0,
          0,
          0,
          0,
          0,
          0,
          0,
          0,
          0,
          0,
          0,
          0,
          0,
          0,
          0,
          0,
          0,
          0,
          0,
          0,
          0,
          0,
          0,
          0,
          0,
          0,
          0,
          0,
          0,
          0,
          0,
          0,
          0,
          0,
          0,
          0,
          0,
          0,
          0,
          0,
          0,
          0,
          0,
          0,
          0,
          0,
          0,
          0,
          0,
          0,
          0,
          0,
          0,
          0,
          0,
          0,
          0,
          0,
          0,
          0,
          0,
          0,
          0,
          0,
          0,
          0,
          0,
          0,
          0,
          0,
          0,
          0,
          0,
          0,
          0,
          0,
          0,
          0,
          0,
          0,
          0,
          0,
          0,
          0,
          0,
          0,
          0,
          0,
          0,
          0,
          0,
          0,
          0,
          0,
          0,
          0,
          0,
          0,
          0,
          0,
          0,
          0,
          0,
          0,
          0,
          0,
          0,
          0,
          0,
          0,
          0,
          0,
          0,
          0,
          0,
          0,
          0,
          0,
          0,
          0,
          0,
          0,
          0,
          0,
          0,
          0,
          0,
          0,
          0,
          0,
          0,
          0,
          0,
          0,
          0,
          0,
          0,
          0,
          0,
          0,
          0,
          0,
          0,
          0,
          0,
          0,
          0,
          0,
          0,
          0,
          0,
          0,
          0,
          0,
          0,
          0,
          0,
          0,
          0,
          0,
          0,
          0,
          0,
          0,
          0,
          0,
          0,
          0,
          0,
          0,
          0,
          0,
          0,
          0,
          0,
          0,
          0,
          0,
          0,
          0,
          0,
          0,
          0,
          0,
          0,
          0,
          0,
          0,
          0,
          0,
          0,
          0,
          0,
          0,
          0,
          0,
          0,
          0,
          0,
          0,
          0,
          0,
          0,
          0,
          0,
          0,
          0,
          0,
          0,
          0,
          0,
          0,
          0,
          0,
          0,
          0,
          0,
          0,
          0,
          0,
          0,
          0,
          0,
          0,
          0,
          0,
          0,
          0,
          0,
          0,
          0,
          0,
          0,
          0,
          0,
          0,
          0,
          0,
          0,
          0,
          0,
          0,
          0,
          0,
          0,
          0,
          0,
          0,
          0,
          0,
          0,
          0,
          0,
          0,
          0,
          0,
          0,
          0,
          0,
          0,
          0,
          0,
          0,
          0,
          0,
          0,
          0,
          0,
          0,
          0,
          0,
          0,
          0,
          0,
          0,
          0,
          0,
          0,
          0,
          0,
          0,
          0,
          0,
          0,
          0,
          0,
          0,
          0,
          0,
          0,
          0,
          0,
          0,
          0,
          0,
          0,
          0,
          0,
          0,
          0,
          0,
          0,
          0,
          0,
          0,
          0,
          0,
          0,
          0,
          0,
          0,
          0,
          0,
          0,
          0,
          0,
          0,
          0,
          0,
          0,
          0,
          0,
          0,
          0,
          0,
          0,
          0,
          0,
          0,
          0,
          0,
          0,
          0,
          0,
          0,
          0,
          0,
          0,
          0,
          0,
          0,
          0,
          0,
          0,
          0,
          0,
          0,
          0,
          0,
          0,
          0,
          0,
          0,
          0,
          0,
          0,
          0,
          0,
          0,
          0,
          0,
          0,
          0,
          0,
          0,
          0,
          0,
          0,
          0,
          0,
          0,
          0,
          0,
          0,
          0,
          0,
          0,
          0,
          0,
          0,
          0,
          0,
          0,
          0,
          0,
          0
         ],
         "y": [
          0.009743603877723217,
          0.01699819788336754,
          0.04048620164394379,
          0.04232978820800781,
          0.048967860639095306,
          0.062282636761665344,
          0.06414242088794708,
          0.07313013821840286,
          0.07320162653923035,
          0.07556146383285522,
          0.08155135810375214,
          0.09916175901889801,
          0.10116211324930191,
          0.1033380851149559,
          0.10357039421796799,
          0.10504810512065887,
          0.11778721213340759,
          0.12275788187980652,
          0.12457083910703659,
          0.12514141201972961,
          0.12881365418434143,
          0.12934842705726624,
          0.13134871423244476,
          0.13813786208629608,
          0.1485031694173813,
          0.15063677728176117,
          0.15581698715686798,
          0.15868443250656128,
          0.16704420745372772,
          0.17125922441482544,
          0.17230935394763947,
          0.17947712540626526,
          0.18333806097507477,
          0.18342946469783783,
          0.18699350953102112,
          0.18729794025421143,
          0.19189904630184174,
          0.19283200800418854,
          0.1938806176185608,
          0.19551627337932587,
          0.20192623138427734,
          0.203066885471344,
          0.21035388112068176,
          0.2118743509054184,
          0.21263159811496735,
          0.21336352825164795,
          0.21829386055469513,
          0.21897466480731964,
          0.22161252796649933,
          0.22305592894554138,
          0.226816788315773,
          0.23554669320583344,
          0.23605461418628693,
          0.23943576216697693,
          0.25085118412971497,
          0.254448264837265,
          0.2556694746017456,
          0.25676053762435913,
          0.2569856345653534,
          0.25871750712394714,
          0.26077502965927124,
          0.2678649127483368,
          0.2678653597831726,
          0.2735872268676758,
          0.2744102478027344,
          0.28813913464546204,
          0.2917114794254303,
          0.29312023520469666,
          0.29328402876853943,
          0.2954210937023163,
          0.2999395728111267,
          0.3002625107765198,
          0.3012446165084839,
          0.30139532685279846,
          0.30288058519363403,
          0.30316200852394104,
          0.3153694272041321,
          0.3276016414165497,
          0.3280397355556488,
          0.3339601159095764,
          0.3359469473361969,
          0.3385396897792816,
          0.34035664796829224,
          0.34315595030784607,
          0.34377557039260864,
          0.3450988829135895,
          0.3484460115432739,
          0.3522486686706543,
          0.3567258417606354,
          0.35696572065353394,
          0.35743460059165955,
          0.35813483595848083,
          0.3604789674282074,
          0.3608717918395996,
          0.3702496588230133,
          0.37078481912612915,
          0.37236112356185913,
          0.3726370632648468,
          0.3868284523487091,
          0.3890419900417328,
          0.3892688751220703,
          0.39022305607795715,
          0.3936019539833069,
          0.39401310682296753,
          0.4010868966579437,
          0.4048570394515991,
          0.4072569012641907,
          0.4088127613067627,
          0.4096519947052002,
          0.4122513234615326,
          0.41608476638793945,
          0.4187588095664978,
          0.41882869601249695,
          0.4195185601711273,
          0.41998371481895447,
          0.42127320170402527,
          0.42294248938560486,
          0.42296943068504333,
          0.42351609468460083,
          0.4288666248321533,
          0.42940741777420044,
          0.42994827032089233,
          0.4324267506599426,
          0.4345574378967285,
          0.43535587191581726,
          0.43667879700660706,
          0.43752971291542053,
          0.44171711802482605,
          0.4433799088001251,
          0.4447220265865326,
          0.44508475065231323,
          0.4463338255882263,
          0.4483575224876404,
          0.449365496635437,
          0.45809948444366455,
          0.4582446813583374,
          0.4596080183982849,
          0.46187034249305725,
          0.4664278030395508,
          0.4668481945991516,
          0.4673999845981598,
          0.4680477976799011,
          0.4683120548725128,
          0.4691953957080841,
          0.47032079100608826,
          0.4703225791454315,
          0.4705740511417389,
          0.47110527753829956,
          0.47172412276268005,
          0.47290095686912537,
          0.47343331575393677,
          0.47348752617836,
          0.4737068712711334,
          0.4771042466163635,
          0.47785502672195435,
          0.48118671774864197,
          0.4826432764530182,
          0.4846596121788025,
          0.48917683959007263,
          0.4905368685722351,
          0.49081477522850037,
          0.4918628931045532,
          0.4938030242919922,
          0.4979405403137207,
          0.5002113580703735,
          0.5006417036056519,
          0.5022289752960205,
          0.5027778744697571,
          0.5052595734596252,
          0.5052607655525208,
          0.5052613615989685,
          0.5052615404129028,
          0.5052616000175476,
          0.5052618384361267,
          0.5052619576454163,
          0.5070616006851196,
          0.509149968624115,
          0.5092703700065613,
          0.5105323195457458,
          0.5138777494430542,
          0.5177504420280457,
          0.519730269908905,
          0.5232273936271667,
          0.5239862203598022,
          0.5254621505737305,
          0.5256760120391846,
          0.5335115790367126,
          0.5354844927787781,
          0.5404200553894043,
          0.5423600077629089,
          0.5442630648612976,
          0.5513961315155029,
          0.5532016158103943,
          0.5550757646560669,
          0.5557941794395447,
          0.5566309690475464,
          0.558227002620697,
          0.5612325668334961,
          0.565064549446106,
          0.5667797923088074,
          0.5673710703849792,
          0.5677425265312195,
          0.5685319900512695,
          0.5688344240188599,
          0.5733099579811096,
          0.5734034180641174,
          0.5764690637588501,
          0.5805966258049011,
          0.5827023386955261,
          0.5856212377548218,
          0.5862415432929993,
          0.5902203321456909,
          0.5918603539466858,
          0.5923737287521362,
          0.5928813815116882,
          0.592991292476654,
          0.5934870839118958,
          0.5962408781051636,
          0.599669337272644,
          0.601103663444519,
          0.6031430959701538,
          0.6040503978729248,
          0.6073654890060425,
          0.6086942553520203,
          0.6090459227561951,
          0.6098809838294983,
          0.6106716990470886,
          0.6120040416717529,
          0.612385094165802,
          0.6135189533233643,
          0.6141347885131836,
          0.6167886257171631,
          0.6175902485847473,
          0.6186863780021667,
          0.6210388541221619,
          0.6220163702964783,
          0.6230789422988892,
          0.6339775323867798,
          0.6349630951881409,
          0.6365845203399658,
          0.6372042298316956,
          0.6372242569923401,
          0.6372461318969727,
          0.6373113989830017,
          0.6435651779174805,
          0.6438260674476624,
          0.6439875364303589,
          0.6444400548934937,
          0.6455503702163696,
          0.6459156274795532,
          0.6468756198883057,
          0.6468756794929504,
          0.6468778252601624,
          0.6468791365623474,
          0.6468794941902161,
          0.6468796730041504,
          0.6468798518180847,
          0.6468799710273743,
          0.6468800902366638,
          0.6468801498413086,
          0.6468808650970459,
          0.6468819975852966,
          0.6468825340270996,
          0.6468827724456787,
          0.6468830108642578,
          0.646885871887207,
          0.6477559804916382,
          0.6478883624076843,
          0.6494900584220886,
          0.6498276591300964,
          0.650762140750885,
          0.6540436148643494,
          0.6553512811660767,
          0.6560679078102112,
          0.6564026474952698,
          0.660950243473053,
          0.662920355796814,
          0.6639426350593567,
          0.666180431842804,
          0.671749472618103,
          0.6720871925354004,
          0.6733705997467041,
          0.6740615963935852,
          0.674107551574707,
          0.6751229166984558,
          0.6763373017311096,
          0.6764524579048157,
          0.6768194437026978,
          0.6807814240455627,
          0.6846900582313538,
          0.689271092414856,
          0.6908689141273499,
          0.6919841766357422,
          0.6920128464698792,
          0.6956184506416321,
          0.7021403312683105,
          0.7031509876251221,
          0.7035434246063232,
          0.7042351961135864,
          0.70423823595047,
          0.7074923515319824,
          0.7104255557060242,
          0.7141014933586121,
          0.7143386006355286,
          0.7158554792404175,
          0.7183915972709656,
          0.7211231589317322,
          0.7223479151725769,
          0.7223483920097351,
          0.7223486304283142,
          0.7223488092422485,
          0.7223495244979858,
          0.7223498821258545,
          0.7223501205444336,
          0.7235234379768372,
          0.7265528440475464,
          0.7283886075019836,
          0.7287985682487488,
          0.7333037257194519,
          0.7349952459335327,
          0.7350316643714905,
          0.737645149230957,
          0.7388051152229309,
          0.7395205497741699,
          0.7399744987487793,
          0.7413173913955688,
          0.7417969107627869,
          0.7422793507575989,
          0.7465139627456665,
          0.7492759823799133,
          0.7530204057693481,
          0.7566026449203491,
          0.7581678032875061,
          0.7622385621070862,
          0.7644346952438354,
          0.7659341096878052,
          0.7665473222732544,
          0.7676059007644653,
          0.76839280128479,
          0.7730258703231812,
          0.7807065844535828,
          0.7843612432479858,
          0.7890725135803223,
          0.790639340877533,
          0.8019196391105652,
          0.8021088242530823,
          0.8075557947158813,
          0.8094521164894104,
          0.8101560473442078,
          0.8106476664543152,
          0.8137542009353638,
          0.8143022060394287,
          0.8143332600593567,
          0.8144431114196777,
          0.8146496415138245,
          0.8197197914123535,
          0.8204267024993896,
          0.8206932544708252,
          0.8208181262016296,
          0.8217656016349792,
          0.822536051273346,
          0.8265064358711243,
          0.8287948966026306,
          0.8312464952468872,
          0.8323590159416199,
          0.8342015743255615,
          0.8354398608207703,
          0.8371638655662537,
          0.8377846479415894,
          0.838466227054596,
          0.8386169672012329,
          0.8402596712112427,
          0.8411385416984558,
          0.843029797077179,
          0.8448435068130493,
          0.8450862765312195,
          0.8522440195083618,
          0.8542227149009705,
          0.8557417988777161,
          0.856042206287384,
          0.856723427772522,
          0.8570389151573181,
          0.8575924038887024,
          0.8593874573707581,
          0.8607915639877319,
          0.8619887232780457,
          0.8650246262550354,
          0.8666526079177856,
          0.8700990080833435,
          0.8707587718963623,
          0.8717511892318726,
          0.8794214725494385,
          0.8806090354919434,
          0.8829166293144226,
          0.8866033554077148,
          0.8906753659248352,
          0.8934364914894104,
          0.8935273289680481,
          0.8976665735244751,
          0.9022722244262695,
          0.9036311507225037,
          0.9058169722557068,
          0.9063061475753784,
          0.906623363494873,
          0.9081267714500427,
          0.9090204238891602,
          0.909414529800415,
          0.9106049537658691,
          0.9142785668373108,
          0.9208589196205139,
          0.921322226524353,
          0.9214505553245544,
          0.9238540530204773,
          0.9270680546760559,
          0.9289548397064209,
          0.9329788088798523,
          0.9333592653274536,
          0.9375734329223633,
          0.9418228268623352,
          0.9418238401412964,
          0.9456163644790649,
          0.9479730725288391,
          0.9479739665985107,
          0.9553650617599487,
          0.9590910077095032,
          0.9614797234535217,
          0.9627453684806824,
          0.963597297668457,
          0.9644994139671326,
          0.9646831154823303,
          0.9667540192604065,
          0.9671472311019897,
          0.9683582186698914,
          0.9717257022857666,
          0.9744009375572205,
          0.9746163487434387,
          0.9746192097663879,
          0.9756610989570618,
          0.9777854084968567,
          0.9790812134742737,
          0.9794275760650635,
          0.9810013771057129,
          0.9847108125686646,
          0.9855117201805115,
          0.9858437180519104,
          0.9872956275939941,
          0.9932820200920105,
          0.9933691620826721,
          0.9988212585449219,
          1.0018768310546875,
          1.001876950263977,
          1.0018771886825562,
          1.0018783807754517,
          1.0042579174041748,
          1.0064449310302734,
          1.0101450681686401,
          1.0123708248138428,
          1.0123709440231323,
          1.012372374534607,
          1.0123724937438965,
          1.0123724937438965,
          1.012372612953186,
          1.012372612953186,
          1.0123727321624756,
          1.0123728513717651,
          1.0123733282089233,
          1.012373447418213,
          1.0123738050460815,
          1.0123738050460815,
          1.0123738050460815,
          1.012373924255371,
          1.0123744010925293,
          1.0123745203018188,
          1.0123748779296875,
          1.0123755931854248,
          1.0123769044876099,
          1.0128028392791748,
          1.0182297229766846,
          1.0204346179962158,
          1.0210710763931274,
          1.0216516256332397,
          1.0219426155090332,
          1.0219451189041138,
          1.0225614309310913,
          1.0246394872665405,
          1.0247927904129028,
          1.0258126258850098,
          1.027104377746582,
          1.034442663192749,
          1.0349793434143066,
          1.0362824201583862,
          1.0392401218414307,
          1.0392954349517822,
          1.044672966003418,
          1.0458308458328247,
          1.0465450286865234,
          1.0505459308624268,
          1.050889492034912,
          1.0529029369354248,
          1.053911566734314,
          1.0568047761917114,
          1.0602697134017944,
          1.0612478256225586,
          1.0723613500595093,
          1.0738327503204346,
          1.0796812772750854,
          1.0803751945495605,
          1.0839753150939941,
          1.0854885578155518,
          1.08790922164917,
          1.0884767770767212,
          1.0888334512710571,
          1.0903867483139038,
          1.0936975479125977,
          1.096039056777954,
          1.1060326099395752,
          1.1085968017578125,
          1.111085295677185,
          1.1224087476730347,
          1.122410774230957,
          1.1307740211486816,
          1.132163166999817,
          1.13880455493927,
          1.1399788856506348,
          1.140481948852539,
          1.141289472579956,
          1.1452138423919678,
          1.148492455482483,
          1.1485888957977295,
          1.1523038148880005,
          1.1572130918502808,
          1.162176251411438,
          1.162854790687561,
          1.1672450304031372,
          1.1714305877685547,
          1.1769185066223145,
          1.1769194602966309,
          1.178781270980835,
          1.181932806968689,
          1.1819652318954468,
          1.187351107597351,
          1.1874879598617554,
          1.1885231733322144,
          1.1886318922042847,
          1.1936273574829102,
          1.1943042278289795,
          1.1990240812301636,
          1.2004680633544922,
          1.2045235633850098,
          1.2053391933441162,
          1.206525444984436,
          1.2071055173873901,
          1.2073779106140137,
          1.209747076034546,
          1.2130266427993774,
          1.2170330286026,
          1.2272772789001465,
          1.229276418685913,
          1.2332724332809448,
          1.2353107929229736,
          1.2361321449279785,
          1.2364784479141235,
          1.2409799098968506,
          1.2477662563323975,
          1.2504342794418335,
          1.251460313796997,
          1.2517176866531372,
          1.2528525590896606,
          1.2540796995162964,
          1.2615196704864502,
          1.2636163234710693,
          1.2652802467346191,
          1.2684533596038818,
          1.2687174081802368,
          1.2693320512771606,
          1.2737473249435425,
          1.2758878469467163,
          1.276201844215393,
          1.2762126922607422,
          1.2774206399917603,
          1.280411720275879,
          1.2835533618927002,
          1.283556342124939,
          1.283557653427124,
          1.2835583686828613,
          1.2835599184036255,
          1.2835625410079956,
          1.2863048315048218,
          1.2934198379516602,
          1.295238971710205,
          1.2982171773910522,
          1.2988115549087524,
          1.3019896745681763,
          1.3076791763305664,
          1.313512921333313,
          1.3188445568084717,
          1.3191875219345093,
          1.319893717765808,
          1.3287084102630615,
          1.3301936388015747,
          1.3367184400558472,
          1.3382484912872314,
          1.3384590148925781,
          1.3387868404388428,
          1.3402808904647827,
          1.3410241603851318,
          1.3438447713851929,
          1.3527663946151733,
          1.3619962930679321,
          1.3626420497894287,
          1.384320855140686,
          1.389378547668457,
          1.39139723777771,
          1.3975578546524048,
          1.4011991024017334,
          1.4014408588409424,
          1.4062116146087646,
          1.4098331928253174,
          1.418304204940796,
          1.4240537881851196,
          1.42470121383667,
          1.4253365993499756,
          1.4272980690002441,
          1.4272985458374023,
          1.4272990226745605,
          1.427300214767456,
          1.4273008108139038,
          1.4356130361557007,
          1.4356136322021484,
          1.4356142282485962,
          1.4356156587600708,
          1.4356156587600708,
          1.4377716779708862,
          1.4404882192611694,
          1.4414982795715332,
          1.4430292844772339,
          1.4497212171554565,
          1.4584637880325317,
          1.4595175981521606,
          1.4610544443130493,
          1.461054801940918,
          1.4676963090896606,
          1.4694147109985352,
          1.4813511371612549,
          1.4813525676727295,
          1.4889878034591675,
          1.4915825128555298,
          1.4937876462936401,
          1.4960837364196777,
          1.4976826906204224,
          1.5087648630142212,
          1.5156879425048828,
          1.5157371759414673,
          1.5183223485946655,
          1.5280214548110962,
          1.5314676761627197,
          1.5315784215927124,
          1.5359529256820679,
          1.5378475189208984,
          1.5379072427749634,
          1.5396299362182617,
          1.5396308898925781,
          1.5403704643249512,
          1.5440089702606201,
          1.5447022914886475,
          1.5458675622940063,
          1.550744891166687,
          1.5518627166748047,
          1.5524441003799438,
          1.5534769296646118,
          1.5681544542312622,
          1.576899528503418,
          1.5979419946670532,
          1.607086420059204,
          1.6091413497924805,
          1.6097040176391602,
          1.6116645336151123,
          1.616530179977417,
          1.616878867149353,
          1.6175436973571777,
          1.6183782815933228,
          1.6320585012435913,
          1.6360591650009155,
          1.6413273811340332,
          1.6446716785430908,
          1.6481698751449585,
          1.6518744230270386,
          1.6553317308425903,
          1.6583752632141113,
          1.6661556959152222,
          1.6810765266418457,
          1.683247685432434,
          1.693375587463379,
          1.6962558031082153,
          1.7021507024765015,
          1.7021515369415283,
          1.7023310661315918,
          1.7024887800216675,
          1.7042207717895508,
          1.7053015232086182,
          1.7092100381851196,
          1.7099689245224,
          1.7231943607330322,
          1.7250592708587646,
          1.7256096601486206,
          1.7270207405090332,
          1.7421780824661255,
          1.749589204788208,
          1.7538663148880005,
          1.767347812652588,
          1.7675588130950928,
          1.7681050300598145,
          1.7682908773422241,
          1.770453691482544,
          1.7737994194030762,
          1.7780585289001465,
          1.7837152481079102,
          1.7905608415603638,
          1.8011128902435303,
          1.8085204362869263,
          1.8095256090164185,
          1.8180285692214966,
          1.8290132284164429,
          1.8290146589279175,
          1.8318524360656738,
          1.8318527936935425,
          1.8355834484100342,
          1.8355865478515625,
          1.8396542072296143,
          1.8479573726654053,
          1.850355625152588,
          1.8532308340072632,
          1.8590242862701416,
          1.863403558731079,
          1.866330862045288,
          1.86835515499115,
          1.8717014789581299,
          1.8763235807418823,
          1.8793113231658936,
          1.8798704147338867,
          1.8839434385299683,
          1.8854000568389893,
          1.8854029178619385,
          1.8887405395507812,
          1.8893518447875977,
          1.8899246454238892,
          1.899297833442688,
          1.8999930620193481,
          1.8999931812286377,
          1.8999933004379272,
          1.8999937772750854,
          1.8999937772750854,
          1.9030808210372925,
          1.9034647941589355,
          1.9100440740585327,
          1.911115288734436,
          1.9111171960830688,
          1.9185689687728882,
          1.9351606369018555,
          1.9354804754257202,
          1.9455946683883667,
          1.9494327306747437,
          1.949434518814087,
          1.9611843824386597,
          1.9629199504852295,
          1.964443564414978,
          1.9709991216659546,
          1.9835599660873413,
          1.9936538934707642,
          1.994370937347412,
          1.9964953660964966,
          2.0000741481781006,
          2.0082650184631348,
          2.008267402648926,
          2.008268117904663,
          2.018117666244507,
          2.0185024738311768,
          2.018502950668335,
          2.0185039043426514,
          2.0185039043426514,
          2.0185043811798096,
          2.0185043811798096,
          2.0185043811798096,
          2.0185046195983887,
          2.018505096435547,
          2.018505334854126,
          2.018505811691284,
          2.018505811691284,
          2.0185062885284424,
          2.019390106201172,
          2.0201289653778076,
          2.022979259490967,
          2.022982358932495,
          2.033325672149658,
          2.042959451675415,
          2.0531444549560547,
          2.0531866550445557,
          2.0586960315704346,
          2.0601842403411865,
          2.0664234161376953,
          2.093595027923584,
          2.098421812057495,
          2.103663206100464,
          2.1068577766418457,
          2.121962547302246,
          2.1219656467437744,
          2.1243326663970947,
          2.1245028972625732,
          2.1264147758483887,
          2.1277058124542236,
          2.130826234817505,
          2.134491205215454,
          2.1358208656311035,
          2.1363818645477295,
          2.137434720993042,
          2.1374361515045166,
          2.1374409198760986,
          2.1394245624542236,
          2.144747495651245,
          2.1474523544311523,
          2.150651693344116,
          2.1658384799957275,
          2.168067455291748,
          2.1725780963897705,
          2.176633834838867,
          2.2052066326141357,
          2.225787878036499,
          2.2273712158203125,
          2.230764627456665,
          2.2433419227600098,
          2.2507288455963135,
          2.2524588108062744,
          2.2537147998809814,
          2.274888753890991,
          2.275317907333374,
          2.2798614501953125,
          2.28328800201416,
          2.2959346771240234,
          2.307525873184204,
          2.328669548034668,
          2.329007863998413,
          2.3496291637420654,
          2.351163148880005,
          2.3597006797790527,
          2.3661913871765137,
          2.369985342025757,
          2.3795478343963623,
          2.3813068866729736,
          2.3841443061828613,
          2.3889753818511963,
          2.4124794006347656,
          2.4174487590789795,
          2.4230103492736816,
          2.4487292766571045,
          2.4487688541412354,
          2.467794418334961,
          2.486464738845825,
          2.4864649772644043,
          2.4864673614501953,
          2.486469030380249,
          2.4885215759277344,
          2.4885222911834717,
          2.4885244369506836,
          2.4930663108825684,
          2.500066041946411,
          2.513584613800049,
          2.5231869220733643,
          2.5447919368743896,
          2.5617177486419678,
          2.578813314437866,
          2.59275221824646,
          2.610138177871704,
          2.6535210609436035,
          2.6570045948028564,
          2.6667401790618896,
          2.678298234939575,
          2.6788690090179443,
          2.683882713317871,
          2.6913836002349854,
          2.6984541416168213,
          2.715160369873047,
          2.7345755100250244,
          2.7407829761505127,
          2.747931480407715,
          2.7524616718292236,
          2.757817506790161,
          2.762934684753418,
          2.765597343444824,
          2.766774892807007,
          2.766775369644165,
          2.7667758464813232,
          2.771845579147339,
          2.772361993789673,
          2.776484251022339,
          2.7992422580718994,
          2.800104856491089,
          2.8001065254211426,
          2.8090648651123047,
          2.8370792865753174,
          2.844224214553833,
          2.8481104373931885,
          2.8534717559814453,
          2.87589430809021,
          2.8830549716949463,
          2.901435375213623,
          2.908656120300293,
          2.936446189880371,
          2.9382975101470947,
          2.9399988651275635,
          2.9630825519561768,
          2.9633257389068604,
          2.9959917068481445,
          3.000178098678589,
          3.0114598274230957,
          3.0443453788757324,
          3.0475380420684814,
          3.0475382804870605,
          3.0475382804870605,
          3.0560734272003174,
          3.076068639755249,
          3.07629656791687,
          3.07965087890625,
          3.0832650661468506,
          3.0861446857452393,
          3.091221332550049,
          3.1016523838043213,
          3.10539174079895,
          3.105959177017212,
          3.1180009841918945,
          3.1220688819885254,
          3.122737169265747,
          3.1404759883880615,
          3.1811766624450684,
          3.202258586883545,
          3.2258195877075195,
          3.235325574874878,
          3.3049333095550537,
          3.355112314224243,
          3.355938196182251,
          3.3720479011535645,
          3.3726627826690674,
          3.415501832962036,
          3.425771951675415,
          3.4609341621398926,
          3.469383716583252,
          3.5012638568878174,
          3.534111976623535,
          3.5367023944854736,
          3.5775856971740723,
          3.6057138442993164,
          3.60571551322937,
          3.626386880874634,
          3.6280534267425537,
          3.668240547180176,
          3.6682441234588623,
          3.7770068645477295,
          3.798943042755127,
          3.845371961593628,
          3.906243324279785,
          3.9478931427001953,
          3.9873080253601074,
          3.9873132705688477,
          4.0146379470825195,
          4.044940948486328,
          4.049130439758301,
          4.098026275634766,
          4.114952087402344,
          4.144172191619873,
          4.15856409072876,
          4.19238805770874,
          4.194583892822266,
          4.210463047027588,
          4.224699974060059,
          4.226948261260986,
          4.261238098144531,
          4.325080394744873,
          4.363929271697998,
          4.367347240447998,
          4.370025634765625,
          4.376589298248291,
          4.439864635467529,
          4.472238063812256,
          4.476317882537842,
          4.552165985107422,
          4.582627773284912,
          4.60257625579834,
          4.8142008781433105,
          4.868141174316406,
          4.910966396331787,
          4.929132461547852,
          5.089169979095459,
          5.230278491973877,
          5.44887113571167,
          5.465041637420654,
          5.542730808258057,
          5.598012447357178,
          5.6349616050720215,
          5.656589508056641,
          7.102981090545654
         ]
        },
        {
         "hoverinfo": "text",
         "hovertext": [
          "(14.966737747192383, 15.668963432312012)",
          "(14.923943519592285, 16.381738662719727)",
          "(11.159640312194824, 11.57007122039795)",
          "(10.597748756408691, 14.349425315856934)",
          "(9.696914672851562, 9.995741844177246)",
          "(8.990959167480469, 12.242020606994629)",
          "(8.096048355102539, 8.330218315124512)",
          "(8.048998832702637, 8.281835556030273)",
          "(7.388981819152832, 11.368901252746582)",
          "(7.26777982711792, 7.723903179168701)",
          "(7.246639251708984, 8.045547485351562)",
          "(7.243951797485352, 7.7785515785217285)",
          "(7.2070231437683105, 7.3995585441589355)",
          "(7.074110507965088, 13.627967834472656)",
          "(6.512042999267578, 15.011222839355469)",
          "(6.4877519607543945, 6.4889140129089355)",
          "(6.3783183097839355, 7.150905609130859)",
          "(6.091374397277832, 15.322726249694824)",
          "(6.060149669647217, 7.451579570770264)",
          "(6.018146991729736, 16.428024291992188)",
          "(5.978343486785889, 6.221506118774414)",
          "(5.914176940917969, 6.5724196434021)",
          "(5.831096649169922, 7.767075538635254)",
          "(5.771482944488525, 16.347530364990234)",
          "(5.683910369873047, 7.145863056182861)",
          "(5.52530574798584, 7.816138744354248)",
          "(5.464851379394531, 5.6445417404174805)",
          "(5.421905040740967, 6.215134620666504)",
          "(5.41211462020874, 7.491560935974121)",
          "(5.230235576629639, 5.485824108123779)",
          "(5.196601867675781, 5.740877628326416)",
          "(4.937840938568115, 5.829280853271484)",
          "(4.857856273651123, 5.824838161468506)",
          "(4.838226795196533, 6.7279815673828125)",
          "(4.803390026092529, 6.1422624588012695)",
          "(4.775435447692871, 4.904417991638184)",
          "(4.641739368438721, 13.822936058044434)",
          "(4.604789733886719, 4.866814613342285)",
          "(4.600942611694336, 6.3125786781311035)",
          "(4.565354347229004, 7.277565002441406)",
          "(4.421054363250732, 4.696728706359863)",
          "(4.419932842254639, 5.010686874389648)",
          "(4.309656143188477, 4.433025360107422)",
          "(4.300581455230713, 6.089272499084473)",
          "(4.296339511871338, 5.009383201599121)",
          "(4.274415016174316, 4.982680320739746)",
          "(4.20534086227417, 6.220071792602539)",
          "(4.198329448699951, 4.489810943603516)",
          "(4.1703057289123535, 9.057599067687988)",
          "(4.0702619552612305, 5.027085781097412)",
          "(4.057738780975342, 5.803378582000732)",
          "(3.987307548522949, 5.799720764160156)",
          "(3.987307548522949, 4.468240261077881)",
          "(3.9259393215179443, 5.480868339538574)",
          "(3.8791868686676025, 5.4528045654296875)",
          "(3.870959520339966, 5.954296112060547)",
          "(3.8167338371276855, 4.1649322509765625)",
          "(3.7538092136383057, 4.076078414916992)",
          "(3.7412519454956055, 4.462001323699951)",
          "(3.715928554534912, 3.9832959175109863)",
          "(3.611231803894043, 5.435219764709473)",
          "(3.5418801307678223, 4.744115829467773)",
          "(3.5415523052215576, 3.9019854068756104)",
          "(3.525390863418579, 4.152368068695068)",
          "(3.4716410636901855, 5.090053081512451)",
          "(3.425222873687744, 3.4486308097839355)",
          "(3.3698573112487793, 4.586004257202148)",
          "(3.2739322185516357, 4.224440574645996)",
          "(3.2708120346069336, 3.4591574668884277)",
          "(3.2699546813964844, 4.7991156578063965)",
          "(3.2285077571868896, 3.8162074089050293)",
          "(3.216075897216797, 3.3042044639587402)",
          "(3.2160744667053223, 3.3042049407958984)",
          "(3.21081805229187, 3.5611765384674072)",
          "(3.0918128490448, 4.258942127227783)",
          "(3.0375401973724365, 3.533447742462158)",
          "(3.0282421112060547, 3.6079554557800293)",
          "(3.0239741802215576, 3.9360909461975098)",
          "(3.014512538909912, 3.033735513687134)",
          "(2.9667794704437256, 3.474595308303833)",
          "(2.9630823135375977, 5.515316486358643)",
          "(2.9283154010772705, 3.1381072998046875)",
          "(2.9190807342529297, 3.574361562728882)",
          "(2.9190804958343506, 3.1241326332092285)",
          "(2.9015896320343018, 3.075427293777466)",
          "(2.890353202819824, 3.5106139183044434)",
          "(2.88840913772583, 2.9292755126953125)",
          "(2.8719840049743652, 3.1049299240112305)",
          "(2.871220827102661, 4.038159370422363)",
          "(2.8583226203918457, 3.410557270050049)",
          "(2.819978952407837, 4.247718334197998)",
          "(2.8068466186523438, 3.0518686771392822)",
          "(2.7416229248046875, 3.0337235927581787)",
          "(2.7351009845733643, 4.003887176513672)",
          "(2.7320396900177, 2.963006019592285)",
          "(2.715160846710205, 3.012190341949463)",
          "(2.6850082874298096, 3.2067861557006836)",
          "(2.6789345741271973, 4.1389923095703125)",
          "(2.663297176361084, 2.8186395168304443)",
          "(2.6274867057800293, 3.8531248569488525)",
          "(2.544968843460083, 2.795542001724243)",
          "(2.5112268924713135, 2.8633275032043457)",
          "(2.4864659309387207, 3.694286823272705)",
          "(2.486436605453491, 3.9873054027557373)",
          "(2.4839460849761963, 2.8050894737243652)",
          "(2.4381890296936035, 2.871737241744995)",
          "(2.39909029006958, 2.500636339187622)",
          "(2.3745388984680176, 2.6431162357330322)",
          "(2.3464741706848145, 2.6279451847076416)",
          "(2.3385751247406006, 2.603001117706299)",
          "(2.3184497356414795, 2.5821869373321533)",
          "(2.276632785797119, 2.6007578372955322)",
          "(2.27315092086792, 2.3975155353546143)",
          "(2.2674155235290527, 2.3272879123687744)",
          "(2.2610573768615723, 2.6919357776641846)",
          "(2.228977918624878, 2.3545429706573486)",
          "(2.217801809310913, 2.347508668899536)",
          "(2.20275616645813, 2.8370792865753174)",
          "(2.2027549743652344, 3.5112593173980713)",
          "(2.1671690940856934, 2.2315995693206787)",
          "(2.1630613803863525, 2.3861896991729736)",
          "(2.160318613052368, 2.5221548080444336)",
          "(2.155076503753662, 2.326348304748535)",
          "(2.1075544357299805, 2.117882251739502)",
          "(2.086994171142578, 2.2321255207061768)",
          "(2.001960039138794, 2.265591859817505)",
          "(1.9833462238311768, 3.1664535999298096)",
          "(1.9541500806808472, 2.1955771446228027)",
          "(1.9526965618133545, 1.9627610445022583)",
          "(1.9354788064956665, 1.9662787914276123)",
          "(1.8999894857406616, 2.9075193405151367)",
          "(1.8502856492996216, 2.5048553943634033)",
          "(1.828622817993164, 2.712010145187378)",
          "(1.8244974613189697, 1.8867851495742798)",
          "(1.8217586278915405, 1.9276549816131592)",
          "(1.807706356048584, 1.9384665489196777)",
          "(1.7725555896759033, 1.8455524444580078)",
          "(1.7616990804672241, 2.4676945209503174)",
          "(1.7453233003616333, 1.8533381223678589)",
          "(1.7444078922271729, 2.029843330383301)",
          "(1.740776777267456, 2.6526083946228027)",
          "(1.7361726760864258, 1.9144923686981201)",
          "(1.7323001623153687, 2.7567710876464844)",
          "(1.724153757095337, 1.8192269802093506)",
          "(1.691201090812683, 2.0255329608917236)",
          "(1.6602721214294434, 1.8294694423675537)",
          "(1.65989351272583, 2.3222734928131104)",
          "(1.659232258796692, 1.6754778623580933)",
          "(1.649051547050476, 1.6914645433425903)",
          "(1.6426736116409302, 1.9557523727416992)",
          "(1.6406512260437012, 1.705173373222351)",
          "(1.629670262336731, 1.9269318580627441)",
          "(1.6280603408813477, 1.9639577865600586)",
          "(1.599127173423767, 1.9549784660339355)",
          "(1.5712765455245972, 1.6902962923049927)",
          "(1.5526937246322632, 1.6587326526641846)",
          "(1.5295742750167847, 1.721078634262085)",
          "(1.497280240058899, 1.4980778694152832)",
          "(1.4971916675567627, 1.6288331747055054)",
          "(1.4810762405395508, 1.8333323001861572)",
          "(1.464801549911499, 1.8996721506118774)",
          "(1.4499951601028442, 2.016139030456543)",
          "(1.435564398765564, 1.54634428024292)",
          "(1.431516170501709, 1.4711837768554688)",
          "(1.413630485534668, 1.653961420059204)",
          "(1.3955742120742798, 1.682716727256775)",
          "(1.389357089996338, 1.4702811241149902)",
          "(1.3670142889022827, 1.9513546228408813)",
          "(1.3623743057250977, 1.4143304824829102)",
          "(1.3475710153579712, 1.3724621534347534)",
          "(1.3347280025482178, 1.387264370918274)",
          "(1.3129862546920776, 1.4842188358306885)",
          "(1.3024334907531738, 1.3952479362487793)",
          "(1.2923334836959839, 1.3740028142929077)",
          "(1.2835577726364136, 1.397240161895752)",
          "(1.2403947114944458, 1.550296664237976)",
          "(1.2215360403060913, 1.2604724168777466)",
          "(1.2183196544647217, 1.3572018146514893)",
          "(1.1756855249404907, 1.176878809928894)",
          "(1.15880286693573, 1.5264395475387573)",
          "(1.1281622648239136, 1.262026071548462)",
          "(0.989352822303772, 1.1649693250656128)",
          "(0.9822272062301636, 1.095532774925232)",
          "(0.9732639193534851, 1.2912261486053467)",
          "(0.9592686295509338, 1.0858126878738403)",
          "(0.9425649642944336, 1.1121621131896973)",
          "(0.9414834380149841, 1.062520146369934)",
          "(0.933788001537323, 0.9370925426483154)",
          "(0.9313796162605286, 0.9396767616271973)",
          "(0.908176839351654, 0.9334980845451355)",
          "(0.902536928653717, 0.9056533575057983)",
          "(0.8035423159599304, 1.00990891456604)",
          "(0.7427061796188354, 0.8452588319778442)",
          "(0.7215287089347839, 0.979224443435669)",
          "(0.698706328868866, 0.8540724515914917)",
          "(0.675727367401123, 0.7215280532836914)",
          "(0.6589146852493286, 0.6949804425239563)",
          "(0.6454111933708191, 0.7520232200622559)",
          "(0.6140007376670837, 0.6211375594139099)",
          "(0.6118841171264648, 0.685589611530304)",
          "(0.513683021068573, 0.593514084815979)",
          "(0.47376298904418945, 0.5288109183311462)",
          "(0.45094987750053406, 0.46357330679893494)"
         ],
         "mode": "markers",
         "name": "H1",
         "type": "scatter",
         "x": [
          14.966737747192383,
          14.923943519592285,
          11.159640312194824,
          10.597748756408691,
          9.696914672851562,
          8.990959167480469,
          8.096048355102539,
          8.048998832702637,
          7.388981819152832,
          7.26777982711792,
          7.246639251708984,
          7.243951797485352,
          7.2070231437683105,
          7.074110507965088,
          6.512042999267578,
          6.4877519607543945,
          6.3783183097839355,
          6.091374397277832,
          6.060149669647217,
          6.018146991729736,
          5.978343486785889,
          5.914176940917969,
          5.831096649169922,
          5.771482944488525,
          5.683910369873047,
          5.52530574798584,
          5.464851379394531,
          5.421905040740967,
          5.41211462020874,
          5.230235576629639,
          5.196601867675781,
          4.937840938568115,
          4.857856273651123,
          4.838226795196533,
          4.803390026092529,
          4.775435447692871,
          4.641739368438721,
          4.604789733886719,
          4.600942611694336,
          4.565354347229004,
          4.421054363250732,
          4.419932842254639,
          4.309656143188477,
          4.300581455230713,
          4.296339511871338,
          4.274415016174316,
          4.20534086227417,
          4.198329448699951,
          4.1703057289123535,
          4.0702619552612305,
          4.057738780975342,
          3.987307548522949,
          3.987307548522949,
          3.9259393215179443,
          3.8791868686676025,
          3.870959520339966,
          3.8167338371276855,
          3.7538092136383057,
          3.7412519454956055,
          3.715928554534912,
          3.611231803894043,
          3.5418801307678223,
          3.5415523052215576,
          3.525390863418579,
          3.4716410636901855,
          3.425222873687744,
          3.3698573112487793,
          3.2739322185516357,
          3.2708120346069336,
          3.2699546813964844,
          3.2285077571868896,
          3.216075897216797,
          3.2160744667053223,
          3.21081805229187,
          3.0918128490448,
          3.0375401973724365,
          3.0282421112060547,
          3.0239741802215576,
          3.014512538909912,
          2.9667794704437256,
          2.9630823135375977,
          2.9283154010772705,
          2.9190807342529297,
          2.9190804958343506,
          2.9015896320343018,
          2.890353202819824,
          2.88840913772583,
          2.8719840049743652,
          2.871220827102661,
          2.8583226203918457,
          2.819978952407837,
          2.8068466186523438,
          2.7416229248046875,
          2.7351009845733643,
          2.7320396900177,
          2.715160846710205,
          2.6850082874298096,
          2.6789345741271973,
          2.663297176361084,
          2.6274867057800293,
          2.544968843460083,
          2.5112268924713135,
          2.4864659309387207,
          2.486436605453491,
          2.4839460849761963,
          2.4381890296936035,
          2.39909029006958,
          2.3745388984680176,
          2.3464741706848145,
          2.3385751247406006,
          2.3184497356414795,
          2.276632785797119,
          2.27315092086792,
          2.2674155235290527,
          2.2610573768615723,
          2.228977918624878,
          2.217801809310913,
          2.20275616645813,
          2.2027549743652344,
          2.1671690940856934,
          2.1630613803863525,
          2.160318613052368,
          2.155076503753662,
          2.1075544357299805,
          2.086994171142578,
          2.001960039138794,
          1.9833462238311768,
          1.9541500806808472,
          1.9526965618133545,
          1.9354788064956665,
          1.8999894857406616,
          1.8502856492996216,
          1.828622817993164,
          1.8244974613189697,
          1.8217586278915405,
          1.807706356048584,
          1.7725555896759033,
          1.7616990804672241,
          1.7453233003616333,
          1.7444078922271729,
          1.740776777267456,
          1.7361726760864258,
          1.7323001623153687,
          1.724153757095337,
          1.691201090812683,
          1.6602721214294434,
          1.65989351272583,
          1.659232258796692,
          1.649051547050476,
          1.6426736116409302,
          1.6406512260437012,
          1.629670262336731,
          1.6280603408813477,
          1.599127173423767,
          1.5712765455245972,
          1.5526937246322632,
          1.5295742750167847,
          1.497280240058899,
          1.4971916675567627,
          1.4810762405395508,
          1.464801549911499,
          1.4499951601028442,
          1.435564398765564,
          1.431516170501709,
          1.413630485534668,
          1.3955742120742798,
          1.389357089996338,
          1.3670142889022827,
          1.3623743057250977,
          1.3475710153579712,
          1.3347280025482178,
          1.3129862546920776,
          1.3024334907531738,
          1.2923334836959839,
          1.2835577726364136,
          1.2403947114944458,
          1.2215360403060913,
          1.2183196544647217,
          1.1756855249404907,
          1.15880286693573,
          1.1281622648239136,
          0.989352822303772,
          0.9822272062301636,
          0.9732639193534851,
          0.9592686295509338,
          0.9425649642944336,
          0.9414834380149841,
          0.933788001537323,
          0.9313796162605286,
          0.908176839351654,
          0.902536928653717,
          0.8035423159599304,
          0.7427061796188354,
          0.7215287089347839,
          0.698706328868866,
          0.675727367401123,
          0.6589146852493286,
          0.6454111933708191,
          0.6140007376670837,
          0.6118841171264648,
          0.513683021068573,
          0.47376298904418945,
          0.45094987750053406
         ],
         "y": [
          15.668963432312012,
          16.381738662719727,
          11.57007122039795,
          14.349425315856934,
          9.995741844177246,
          12.242020606994629,
          8.330218315124512,
          8.281835556030273,
          11.368901252746582,
          7.723903179168701,
          8.045547485351562,
          7.7785515785217285,
          7.3995585441589355,
          13.627967834472656,
          15.011222839355469,
          6.4889140129089355,
          7.150905609130859,
          15.322726249694824,
          7.451579570770264,
          16.428024291992188,
          6.221506118774414,
          6.5724196434021,
          7.767075538635254,
          16.347530364990234,
          7.145863056182861,
          7.816138744354248,
          5.6445417404174805,
          6.215134620666504,
          7.491560935974121,
          5.485824108123779,
          5.740877628326416,
          5.829280853271484,
          5.824838161468506,
          6.7279815673828125,
          6.1422624588012695,
          4.904417991638184,
          13.822936058044434,
          4.866814613342285,
          6.3125786781311035,
          7.277565002441406,
          4.696728706359863,
          5.010686874389648,
          4.433025360107422,
          6.089272499084473,
          5.009383201599121,
          4.982680320739746,
          6.220071792602539,
          4.489810943603516,
          9.057599067687988,
          5.027085781097412,
          5.803378582000732,
          5.799720764160156,
          4.468240261077881,
          5.480868339538574,
          5.4528045654296875,
          5.954296112060547,
          4.1649322509765625,
          4.076078414916992,
          4.462001323699951,
          3.9832959175109863,
          5.435219764709473,
          4.744115829467773,
          3.9019854068756104,
          4.152368068695068,
          5.090053081512451,
          3.4486308097839355,
          4.586004257202148,
          4.224440574645996,
          3.4591574668884277,
          4.7991156578063965,
          3.8162074089050293,
          3.3042044639587402,
          3.3042049407958984,
          3.5611765384674072,
          4.258942127227783,
          3.533447742462158,
          3.6079554557800293,
          3.9360909461975098,
          3.033735513687134,
          3.474595308303833,
          5.515316486358643,
          3.1381072998046875,
          3.574361562728882,
          3.1241326332092285,
          3.075427293777466,
          3.5106139183044434,
          2.9292755126953125,
          3.1049299240112305,
          4.038159370422363,
          3.410557270050049,
          4.247718334197998,
          3.0518686771392822,
          3.0337235927581787,
          4.003887176513672,
          2.963006019592285,
          3.012190341949463,
          3.2067861557006836,
          4.1389923095703125,
          2.8186395168304443,
          3.8531248569488525,
          2.795542001724243,
          2.8633275032043457,
          3.694286823272705,
          3.9873054027557373,
          2.8050894737243652,
          2.871737241744995,
          2.500636339187622,
          2.6431162357330322,
          2.6279451847076416,
          2.603001117706299,
          2.5821869373321533,
          2.6007578372955322,
          2.3975155353546143,
          2.3272879123687744,
          2.6919357776641846,
          2.3545429706573486,
          2.347508668899536,
          2.8370792865753174,
          3.5112593173980713,
          2.2315995693206787,
          2.3861896991729736,
          2.5221548080444336,
          2.326348304748535,
          2.117882251739502,
          2.2321255207061768,
          2.265591859817505,
          3.1664535999298096,
          2.1955771446228027,
          1.9627610445022583,
          1.9662787914276123,
          2.9075193405151367,
          2.5048553943634033,
          2.712010145187378,
          1.8867851495742798,
          1.9276549816131592,
          1.9384665489196777,
          1.8455524444580078,
          2.4676945209503174,
          1.8533381223678589,
          2.029843330383301,
          2.6526083946228027,
          1.9144923686981201,
          2.7567710876464844,
          1.8192269802093506,
          2.0255329608917236,
          1.8294694423675537,
          2.3222734928131104,
          1.6754778623580933,
          1.6914645433425903,
          1.9557523727416992,
          1.705173373222351,
          1.9269318580627441,
          1.9639577865600586,
          1.9549784660339355,
          1.6902962923049927,
          1.6587326526641846,
          1.721078634262085,
          1.4980778694152832,
          1.6288331747055054,
          1.8333323001861572,
          1.8996721506118774,
          2.016139030456543,
          1.54634428024292,
          1.4711837768554688,
          1.653961420059204,
          1.682716727256775,
          1.4702811241149902,
          1.9513546228408813,
          1.4143304824829102,
          1.3724621534347534,
          1.387264370918274,
          1.4842188358306885,
          1.3952479362487793,
          1.3740028142929077,
          1.397240161895752,
          1.550296664237976,
          1.2604724168777466,
          1.3572018146514893,
          1.176878809928894,
          1.5264395475387573,
          1.262026071548462,
          1.1649693250656128,
          1.095532774925232,
          1.2912261486053467,
          1.0858126878738403,
          1.1121621131896973,
          1.062520146369934,
          0.9370925426483154,
          0.9396767616271973,
          0.9334980845451355,
          0.9056533575057983,
          1.00990891456604,
          0.8452588319778442,
          0.979224443435669,
          0.8540724515914917,
          0.7215280532836914,
          0.6949804425239563,
          0.7520232200622559,
          0.6211375594139099,
          0.685589611530304,
          0.593514084815979,
          0.5288109183311462,
          0.46357330679893494
         ]
        },
        {
         "hoverinfo": "text",
         "hovertext": [
          "(17.726755142211914, 17.751951217651367)",
          "(14.042454719543457, 14.47387409210205)",
          "(6.9232306480407715, 6.938796043395996)",
          "(6.376616477966309, 6.464282035827637)"
         ],
         "mode": "markers",
         "name": "H2",
         "type": "scatter",
         "x": [
          17.726755142211914,
          14.042454719543457,
          6.9232306480407715,
          6.376616477966309
         ],
         "y": [
          17.751951217651367,
          14.47387409210205,
          6.938796043395996,
          6.464282035827637
         ]
        }
       ],
       "layout": {
        "height": 500,
        "plot_bgcolor": "white",
        "template": {
         "data": {
          "bar": [
           {
            "error_x": {
             "color": "#2a3f5f"
            },
            "error_y": {
             "color": "#2a3f5f"
            },
            "marker": {
             "line": {
              "color": "#E5ECF6",
              "width": 0.5
             },
             "pattern": {
              "fillmode": "overlay",
              "size": 10,
              "solidity": 0.2
             }
            },
            "type": "bar"
           }
          ],
          "barpolar": [
           {
            "marker": {
             "line": {
              "color": "#E5ECF6",
              "width": 0.5
             },
             "pattern": {
              "fillmode": "overlay",
              "size": 10,
              "solidity": 0.2
             }
            },
            "type": "barpolar"
           }
          ],
          "carpet": [
           {
            "aaxis": {
             "endlinecolor": "#2a3f5f",
             "gridcolor": "white",
             "linecolor": "white",
             "minorgridcolor": "white",
             "startlinecolor": "#2a3f5f"
            },
            "baxis": {
             "endlinecolor": "#2a3f5f",
             "gridcolor": "white",
             "linecolor": "white",
             "minorgridcolor": "white",
             "startlinecolor": "#2a3f5f"
            },
            "type": "carpet"
           }
          ],
          "choropleth": [
           {
            "colorbar": {
             "outlinewidth": 0,
             "ticks": ""
            },
            "type": "choropleth"
           }
          ],
          "contour": [
           {
            "colorbar": {
             "outlinewidth": 0,
             "ticks": ""
            },
            "colorscale": [
             [
              0,
              "#0d0887"
             ],
             [
              0.1111111111111111,
              "#46039f"
             ],
             [
              0.2222222222222222,
              "#7201a8"
             ],
             [
              0.3333333333333333,
              "#9c179e"
             ],
             [
              0.4444444444444444,
              "#bd3786"
             ],
             [
              0.5555555555555556,
              "#d8576b"
             ],
             [
              0.6666666666666666,
              "#ed7953"
             ],
             [
              0.7777777777777778,
              "#fb9f3a"
             ],
             [
              0.8888888888888888,
              "#fdca26"
             ],
             [
              1,
              "#f0f921"
             ]
            ],
            "type": "contour"
           }
          ],
          "contourcarpet": [
           {
            "colorbar": {
             "outlinewidth": 0,
             "ticks": ""
            },
            "type": "contourcarpet"
           }
          ],
          "heatmap": [
           {
            "colorbar": {
             "outlinewidth": 0,
             "ticks": ""
            },
            "colorscale": [
             [
              0,
              "#0d0887"
             ],
             [
              0.1111111111111111,
              "#46039f"
             ],
             [
              0.2222222222222222,
              "#7201a8"
             ],
             [
              0.3333333333333333,
              "#9c179e"
             ],
             [
              0.4444444444444444,
              "#bd3786"
             ],
             [
              0.5555555555555556,
              "#d8576b"
             ],
             [
              0.6666666666666666,
              "#ed7953"
             ],
             [
              0.7777777777777778,
              "#fb9f3a"
             ],
             [
              0.8888888888888888,
              "#fdca26"
             ],
             [
              1,
              "#f0f921"
             ]
            ],
            "type": "heatmap"
           }
          ],
          "heatmapgl": [
           {
            "colorbar": {
             "outlinewidth": 0,
             "ticks": ""
            },
            "colorscale": [
             [
              0,
              "#0d0887"
             ],
             [
              0.1111111111111111,
              "#46039f"
             ],
             [
              0.2222222222222222,
              "#7201a8"
             ],
             [
              0.3333333333333333,
              "#9c179e"
             ],
             [
              0.4444444444444444,
              "#bd3786"
             ],
             [
              0.5555555555555556,
              "#d8576b"
             ],
             [
              0.6666666666666666,
              "#ed7953"
             ],
             [
              0.7777777777777778,
              "#fb9f3a"
             ],
             [
              0.8888888888888888,
              "#fdca26"
             ],
             [
              1,
              "#f0f921"
             ]
            ],
            "type": "heatmapgl"
           }
          ],
          "histogram": [
           {
            "marker": {
             "pattern": {
              "fillmode": "overlay",
              "size": 10,
              "solidity": 0.2
             }
            },
            "type": "histogram"
           }
          ],
          "histogram2d": [
           {
            "colorbar": {
             "outlinewidth": 0,
             "ticks": ""
            },
            "colorscale": [
             [
              0,
              "#0d0887"
             ],
             [
              0.1111111111111111,
              "#46039f"
             ],
             [
              0.2222222222222222,
              "#7201a8"
             ],
             [
              0.3333333333333333,
              "#9c179e"
             ],
             [
              0.4444444444444444,
              "#bd3786"
             ],
             [
              0.5555555555555556,
              "#d8576b"
             ],
             [
              0.6666666666666666,
              "#ed7953"
             ],
             [
              0.7777777777777778,
              "#fb9f3a"
             ],
             [
              0.8888888888888888,
              "#fdca26"
             ],
             [
              1,
              "#f0f921"
             ]
            ],
            "type": "histogram2d"
           }
          ],
          "histogram2dcontour": [
           {
            "colorbar": {
             "outlinewidth": 0,
             "ticks": ""
            },
            "colorscale": [
             [
              0,
              "#0d0887"
             ],
             [
              0.1111111111111111,
              "#46039f"
             ],
             [
              0.2222222222222222,
              "#7201a8"
             ],
             [
              0.3333333333333333,
              "#9c179e"
             ],
             [
              0.4444444444444444,
              "#bd3786"
             ],
             [
              0.5555555555555556,
              "#d8576b"
             ],
             [
              0.6666666666666666,
              "#ed7953"
             ],
             [
              0.7777777777777778,
              "#fb9f3a"
             ],
             [
              0.8888888888888888,
              "#fdca26"
             ],
             [
              1,
              "#f0f921"
             ]
            ],
            "type": "histogram2dcontour"
           }
          ],
          "mesh3d": [
           {
            "colorbar": {
             "outlinewidth": 0,
             "ticks": ""
            },
            "type": "mesh3d"
           }
          ],
          "parcoords": [
           {
            "line": {
             "colorbar": {
              "outlinewidth": 0,
              "ticks": ""
             }
            },
            "type": "parcoords"
           }
          ],
          "pie": [
           {
            "automargin": true,
            "type": "pie"
           }
          ],
          "scatter": [
           {
            "fillpattern": {
             "fillmode": "overlay",
             "size": 10,
             "solidity": 0.2
            },
            "type": "scatter"
           }
          ],
          "scatter3d": [
           {
            "line": {
             "colorbar": {
              "outlinewidth": 0,
              "ticks": ""
             }
            },
            "marker": {
             "colorbar": {
              "outlinewidth": 0,
              "ticks": ""
             }
            },
            "type": "scatter3d"
           }
          ],
          "scattercarpet": [
           {
            "marker": {
             "colorbar": {
              "outlinewidth": 0,
              "ticks": ""
             }
            },
            "type": "scattercarpet"
           }
          ],
          "scattergeo": [
           {
            "marker": {
             "colorbar": {
              "outlinewidth": 0,
              "ticks": ""
             }
            },
            "type": "scattergeo"
           }
          ],
          "scattergl": [
           {
            "marker": {
             "colorbar": {
              "outlinewidth": 0,
              "ticks": ""
             }
            },
            "type": "scattergl"
           }
          ],
          "scattermapbox": [
           {
            "marker": {
             "colorbar": {
              "outlinewidth": 0,
              "ticks": ""
             }
            },
            "type": "scattermapbox"
           }
          ],
          "scatterpolar": [
           {
            "marker": {
             "colorbar": {
              "outlinewidth": 0,
              "ticks": ""
             }
            },
            "type": "scatterpolar"
           }
          ],
          "scatterpolargl": [
           {
            "marker": {
             "colorbar": {
              "outlinewidth": 0,
              "ticks": ""
             }
            },
            "type": "scatterpolargl"
           }
          ],
          "scatterternary": [
           {
            "marker": {
             "colorbar": {
              "outlinewidth": 0,
              "ticks": ""
             }
            },
            "type": "scatterternary"
           }
          ],
          "surface": [
           {
            "colorbar": {
             "outlinewidth": 0,
             "ticks": ""
            },
            "colorscale": [
             [
              0,
              "#0d0887"
             ],
             [
              0.1111111111111111,
              "#46039f"
             ],
             [
              0.2222222222222222,
              "#7201a8"
             ],
             [
              0.3333333333333333,
              "#9c179e"
             ],
             [
              0.4444444444444444,
              "#bd3786"
             ],
             [
              0.5555555555555556,
              "#d8576b"
             ],
             [
              0.6666666666666666,
              "#ed7953"
             ],
             [
              0.7777777777777778,
              "#fb9f3a"
             ],
             [
              0.8888888888888888,
              "#fdca26"
             ],
             [
              1,
              "#f0f921"
             ]
            ],
            "type": "surface"
           }
          ],
          "table": [
           {
            "cells": {
             "fill": {
              "color": "#EBF0F8"
             },
             "line": {
              "color": "white"
             }
            },
            "header": {
             "fill": {
              "color": "#C8D4E3"
             },
             "line": {
              "color": "white"
             }
            },
            "type": "table"
           }
          ]
         },
         "layout": {
          "annotationdefaults": {
           "arrowcolor": "#2a3f5f",
           "arrowhead": 0,
           "arrowwidth": 1
          },
          "autotypenumbers": "strict",
          "coloraxis": {
           "colorbar": {
            "outlinewidth": 0,
            "ticks": ""
           }
          },
          "colorscale": {
           "diverging": [
            [
             0,
             "#8e0152"
            ],
            [
             0.1,
             "#c51b7d"
            ],
            [
             0.2,
             "#de77ae"
            ],
            [
             0.3,
             "#f1b6da"
            ],
            [
             0.4,
             "#fde0ef"
            ],
            [
             0.5,
             "#f7f7f7"
            ],
            [
             0.6,
             "#e6f5d0"
            ],
            [
             0.7,
             "#b8e186"
            ],
            [
             0.8,
             "#7fbc41"
            ],
            [
             0.9,
             "#4d9221"
            ],
            [
             1,
             "#276419"
            ]
           ],
           "sequential": [
            [
             0,
             "#0d0887"
            ],
            [
             0.1111111111111111,
             "#46039f"
            ],
            [
             0.2222222222222222,
             "#7201a8"
            ],
            [
             0.3333333333333333,
             "#9c179e"
            ],
            [
             0.4444444444444444,
             "#bd3786"
            ],
            [
             0.5555555555555556,
             "#d8576b"
            ],
            [
             0.6666666666666666,
             "#ed7953"
            ],
            [
             0.7777777777777778,
             "#fb9f3a"
            ],
            [
             0.8888888888888888,
             "#fdca26"
            ],
            [
             1,
             "#f0f921"
            ]
           ],
           "sequentialminus": [
            [
             0,
             "#0d0887"
            ],
            [
             0.1111111111111111,
             "#46039f"
            ],
            [
             0.2222222222222222,
             "#7201a8"
            ],
            [
             0.3333333333333333,
             "#9c179e"
            ],
            [
             0.4444444444444444,
             "#bd3786"
            ],
            [
             0.5555555555555556,
             "#d8576b"
            ],
            [
             0.6666666666666666,
             "#ed7953"
            ],
            [
             0.7777777777777778,
             "#fb9f3a"
            ],
            [
             0.8888888888888888,
             "#fdca26"
            ],
            [
             1,
             "#f0f921"
            ]
           ]
          },
          "colorway": [
           "#636efa",
           "#EF553B",
           "#00cc96",
           "#ab63fa",
           "#FFA15A",
           "#19d3f3",
           "#FF6692",
           "#B6E880",
           "#FF97FF",
           "#FECB52"
          ],
          "font": {
           "color": "#2a3f5f"
          },
          "geo": {
           "bgcolor": "white",
           "lakecolor": "white",
           "landcolor": "#E5ECF6",
           "showlakes": true,
           "showland": true,
           "subunitcolor": "white"
          },
          "hoverlabel": {
           "align": "left"
          },
          "hovermode": "closest",
          "mapbox": {
           "style": "light"
          },
          "paper_bgcolor": "white",
          "plot_bgcolor": "#E5ECF6",
          "polar": {
           "angularaxis": {
            "gridcolor": "white",
            "linecolor": "white",
            "ticks": ""
           },
           "bgcolor": "#E5ECF6",
           "radialaxis": {
            "gridcolor": "white",
            "linecolor": "white",
            "ticks": ""
           }
          },
          "scene": {
           "xaxis": {
            "backgroundcolor": "#E5ECF6",
            "gridcolor": "white",
            "gridwidth": 2,
            "linecolor": "white",
            "showbackground": true,
            "ticks": "",
            "zerolinecolor": "white"
           },
           "yaxis": {
            "backgroundcolor": "#E5ECF6",
            "gridcolor": "white",
            "gridwidth": 2,
            "linecolor": "white",
            "showbackground": true,
            "ticks": "",
            "zerolinecolor": "white"
           },
           "zaxis": {
            "backgroundcolor": "#E5ECF6",
            "gridcolor": "white",
            "gridwidth": 2,
            "linecolor": "white",
            "showbackground": true,
            "ticks": "",
            "zerolinecolor": "white"
           }
          },
          "shapedefaults": {
           "line": {
            "color": "#2a3f5f"
           }
          },
          "ternary": {
           "aaxis": {
            "gridcolor": "white",
            "linecolor": "white",
            "ticks": ""
           },
           "baxis": {
            "gridcolor": "white",
            "linecolor": "white",
            "ticks": ""
           },
           "bgcolor": "#E5ECF6",
           "caxis": {
            "gridcolor": "white",
            "linecolor": "white",
            "ticks": ""
           }
          },
          "title": {
           "x": 0.05
          },
          "xaxis": {
           "automargin": true,
           "gridcolor": "white",
           "linecolor": "white",
           "ticks": "",
           "title": {
            "standoff": 15
           },
           "zerolinecolor": "white",
           "zerolinewidth": 2
          },
          "yaxis": {
           "automargin": true,
           "gridcolor": "white",
           "linecolor": "white",
           "ticks": "",
           "title": {
            "standoff": 15
           },
           "zerolinecolor": "white",
           "zerolinewidth": 2
          }
         }
        },
        "width": 500,
        "xaxis": {
         "autorange": false,
         "exponentformat": "e",
         "linecolor": "black",
         "linewidth": 1,
         "mirror": false,
         "range": [
          -0.35503902435302737,
          18.106990242004393
         ],
         "showexponent": "all",
         "showline": true,
         "side": "bottom",
         "ticks": "outside",
         "title": {
          "text": "Birth"
         },
         "type": "linear",
         "zeroline": true
        },
        "yaxis": {
         "autorange": false,
         "exponentformat": "e",
         "linecolor": "black",
         "linewidth": 1,
         "mirror": false,
         "range": [
          -0.35503902435302737,
          18.106990242004393
         ],
         "scaleanchor": "x",
         "scaleratio": 1,
         "showexponent": "all",
         "showline": true,
         "side": "left",
         "ticks": "outside",
         "title": {
          "text": "Death"
         },
         "type": "linear",
         "zeroline": true
        }
       }
      },
      "text/html": [
       "<div>                            <div id=\"007fbe8a-fc4e-4c14-975c-f8258af08105\" class=\"plotly-graph-div\" style=\"height:500px; width:500px;\"></div>            <script type=\"text/javascript\">                require([\"plotly\"], function(Plotly) {                    window.PLOTLYENV=window.PLOTLYENV || {};                                    if (document.getElementById(\"007fbe8a-fc4e-4c14-975c-f8258af08105\")) {                    Plotly.newPlot(                        \"007fbe8a-fc4e-4c14-975c-f8258af08105\",                        [{\"hoverinfo\":\"none\",\"line\":{\"color\":\"black\",\"dash\":\"dash\",\"width\":1},\"mode\":\"lines\",\"showlegend\":false,\"x\":[-0.35503902435302737,18.106990242004393],\"y\":[-0.35503902435302737,18.106990242004393],\"type\":\"scatter\"},{\"hoverinfo\":\"text\",\"hovertext\":[\"(0.0, 0.009743603877723217)\",\"(0.0, 0.01699819788336754)\",\"(0.0, 0.04048620164394379)\",\"(0.0, 0.04232978820800781)\",\"(0.0, 0.048967860639095306)\",\"(0.0, 0.062282636761665344)\",\"(0.0, 0.06414242088794708)\",\"(0.0, 0.07313013821840286)\",\"(0.0, 0.07320162653923035)\",\"(0.0, 0.07556146383285522)\",\"(0.0, 0.08155135810375214)\",\"(0.0, 0.09916175901889801)\",\"(0.0, 0.10116211324930191)\",\"(0.0, 0.1033380851149559)\",\"(0.0, 0.10357039421796799)\",\"(0.0, 0.10504810512065887)\",\"(0.0, 0.11778721213340759)\",\"(0.0, 0.12275788187980652)\",\"(0.0, 0.12457083910703659)\",\"(0.0, 0.12514141201972961)\",\"(0.0, 0.12881365418434143)\",\"(0.0, 0.12934842705726624)\",\"(0.0, 0.13134871423244476)\",\"(0.0, 0.13813786208629608)\",\"(0.0, 0.1485031694173813)\",\"(0.0, 0.15063677728176117)\",\"(0.0, 0.15581698715686798)\",\"(0.0, 0.15868443250656128)\",\"(0.0, 0.16704420745372772)\",\"(0.0, 0.17125922441482544)\",\"(0.0, 0.17230935394763947)\",\"(0.0, 0.17947712540626526)\",\"(0.0, 0.18333806097507477)\",\"(0.0, 0.18342946469783783)\",\"(0.0, 0.18699350953102112)\",\"(0.0, 0.18729794025421143)\",\"(0.0, 0.19189904630184174)\",\"(0.0, 0.19283200800418854)\",\"(0.0, 0.1938806176185608)\",\"(0.0, 0.19551627337932587)\",\"(0.0, 0.20192623138427734)\",\"(0.0, 0.203066885471344)\",\"(0.0, 0.21035388112068176)\",\"(0.0, 0.2118743509054184)\",\"(0.0, 0.21263159811496735)\",\"(0.0, 0.21336352825164795)\",\"(0.0, 0.21829386055469513)\",\"(0.0, 0.21897466480731964)\",\"(0.0, 0.22161252796649933)\",\"(0.0, 0.22305592894554138)\",\"(0.0, 0.226816788315773)\",\"(0.0, 0.23554669320583344)\",\"(0.0, 0.23605461418628693)\",\"(0.0, 0.23943576216697693)\",\"(0.0, 0.25085118412971497)\",\"(0.0, 0.254448264837265)\",\"(0.0, 0.2556694746017456)\",\"(0.0, 0.25676053762435913)\",\"(0.0, 0.2569856345653534)\",\"(0.0, 0.25871750712394714)\",\"(0.0, 0.26077502965927124)\",\"(0.0, 0.2678649127483368)\",\"(0.0, 0.2678653597831726)\",\"(0.0, 0.2735872268676758)\",\"(0.0, 0.2744102478027344)\",\"(0.0, 0.28813913464546204)\",\"(0.0, 0.2917114794254303)\",\"(0.0, 0.29312023520469666)\",\"(0.0, 0.29328402876853943)\",\"(0.0, 0.2954210937023163)\",\"(0.0, 0.2999395728111267)\",\"(0.0, 0.3002625107765198)\",\"(0.0, 0.3012446165084839)\",\"(0.0, 0.30139532685279846)\",\"(0.0, 0.30288058519363403)\",\"(0.0, 0.30316200852394104)\",\"(0.0, 0.3153694272041321)\",\"(0.0, 0.3276016414165497)\",\"(0.0, 0.3280397355556488)\",\"(0.0, 0.3339601159095764)\",\"(0.0, 0.3359469473361969)\",\"(0.0, 0.3385396897792816)\",\"(0.0, 0.34035664796829224)\",\"(0.0, 0.34315595030784607)\",\"(0.0, 0.34377557039260864)\",\"(0.0, 0.3450988829135895)\",\"(0.0, 0.3484460115432739)\",\"(0.0, 0.3522486686706543)\",\"(0.0, 0.3567258417606354)\",\"(0.0, 0.35696572065353394)\",\"(0.0, 0.35743460059165955)\",\"(0.0, 0.35813483595848083)\",\"(0.0, 0.3604789674282074)\",\"(0.0, 0.3608717918395996)\",\"(0.0, 0.3702496588230133)\",\"(0.0, 0.37078481912612915)\",\"(0.0, 0.37236112356185913)\",\"(0.0, 0.3726370632648468)\",\"(0.0, 0.3868284523487091)\",\"(0.0, 0.3890419900417328)\",\"(0.0, 0.3892688751220703)\",\"(0.0, 0.39022305607795715)\",\"(0.0, 0.3936019539833069)\",\"(0.0, 0.39401310682296753)\",\"(0.0, 0.4010868966579437)\",\"(0.0, 0.4048570394515991)\",\"(0.0, 0.4072569012641907)\",\"(0.0, 0.4088127613067627)\",\"(0.0, 0.4096519947052002)\",\"(0.0, 0.4122513234615326)\",\"(0.0, 0.41608476638793945)\",\"(0.0, 0.4187588095664978)\",\"(0.0, 0.41882869601249695)\",\"(0.0, 0.4195185601711273)\",\"(0.0, 0.41998371481895447)\",\"(0.0, 0.42127320170402527)\",\"(0.0, 0.42294248938560486)\",\"(0.0, 0.42296943068504333)\",\"(0.0, 0.42351609468460083)\",\"(0.0, 0.4288666248321533)\",\"(0.0, 0.42940741777420044)\",\"(0.0, 0.42994827032089233)\",\"(0.0, 0.4324267506599426)\",\"(0.0, 0.4345574378967285)\",\"(0.0, 0.43535587191581726)\",\"(0.0, 0.43667879700660706)\",\"(0.0, 0.43752971291542053)\",\"(0.0, 0.44171711802482605)\",\"(0.0, 0.4433799088001251)\",\"(0.0, 0.4447220265865326)\",\"(0.0, 0.44508475065231323)\",\"(0.0, 0.4463338255882263)\",\"(0.0, 0.4483575224876404)\",\"(0.0, 0.449365496635437)\",\"(0.0, 0.45809948444366455)\",\"(0.0, 0.4582446813583374)\",\"(0.0, 0.4596080183982849)\",\"(0.0, 0.46187034249305725)\",\"(0.0, 0.4664278030395508)\",\"(0.0, 0.4668481945991516)\",\"(0.0, 0.4673999845981598)\",\"(0.0, 0.4680477976799011)\",\"(0.0, 0.4683120548725128)\",\"(0.0, 0.4691953957080841)\",\"(0.0, 0.47032079100608826)\",\"(0.0, 0.4703225791454315)\",\"(0.0, 0.4705740511417389)\",\"(0.0, 0.47110527753829956)\",\"(0.0, 0.47172412276268005)\",\"(0.0, 0.47290095686912537)\",\"(0.0, 0.47343331575393677)\",\"(0.0, 0.47348752617836)\",\"(0.0, 0.4737068712711334)\",\"(0.0, 0.4771042466163635)\",\"(0.0, 0.47785502672195435)\",\"(0.0, 0.48118671774864197)\",\"(0.0, 0.4826432764530182)\",\"(0.0, 0.4846596121788025)\",\"(0.0, 0.48917683959007263)\",\"(0.0, 0.4905368685722351)\",\"(0.0, 0.49081477522850037)\",\"(0.0, 0.4918628931045532)\",\"(0.0, 0.4938030242919922)\",\"(0.0, 0.4979405403137207)\",\"(0.0, 0.5002113580703735)\",\"(0.0, 0.5006417036056519)\",\"(0.0, 0.5022289752960205)\",\"(0.0, 0.5027778744697571)\",\"(0.0, 0.5052595734596252)\",\"(0.0, 0.5052607655525208)\",\"(0.0, 0.5052613615989685)\",\"(0.0, 0.5052615404129028)\",\"(0.0, 0.5052616000175476)\",\"(0.0, 0.5052618384361267)\",\"(0.0, 0.5052619576454163)\",\"(0.0, 0.5070616006851196)\",\"(0.0, 0.509149968624115)\",\"(0.0, 0.5092703700065613)\",\"(0.0, 0.5105323195457458)\",\"(0.0, 0.5138777494430542)\",\"(0.0, 0.5177504420280457)\",\"(0.0, 0.519730269908905)\",\"(0.0, 0.5232273936271667)\",\"(0.0, 0.5239862203598022)\",\"(0.0, 0.5254621505737305)\",\"(0.0, 0.5256760120391846)\",\"(0.0, 0.5335115790367126)\",\"(0.0, 0.5354844927787781)\",\"(0.0, 0.5404200553894043)\",\"(0.0, 0.5423600077629089)\",\"(0.0, 0.5442630648612976)\",\"(0.0, 0.5513961315155029)\",\"(0.0, 0.5532016158103943)\",\"(0.0, 0.5550757646560669)\",\"(0.0, 0.5557941794395447)\",\"(0.0, 0.5566309690475464)\",\"(0.0, 0.558227002620697)\",\"(0.0, 0.5612325668334961)\",\"(0.0, 0.565064549446106)\",\"(0.0, 0.5667797923088074)\",\"(0.0, 0.5673710703849792)\",\"(0.0, 0.5677425265312195)\",\"(0.0, 0.5685319900512695)\",\"(0.0, 0.5688344240188599)\",\"(0.0, 0.5733099579811096)\",\"(0.0, 0.5734034180641174)\",\"(0.0, 0.5764690637588501)\",\"(0.0, 0.5805966258049011)\",\"(0.0, 0.5827023386955261)\",\"(0.0, 0.5856212377548218)\",\"(0.0, 0.5862415432929993)\",\"(0.0, 0.5902203321456909)\",\"(0.0, 0.5918603539466858)\",\"(0.0, 0.5923737287521362)\",\"(0.0, 0.5928813815116882)\",\"(0.0, 0.592991292476654)\",\"(0.0, 0.5934870839118958)\",\"(0.0, 0.5962408781051636)\",\"(0.0, 0.599669337272644)\",\"(0.0, 0.601103663444519)\",\"(0.0, 0.6031430959701538)\",\"(0.0, 0.6040503978729248)\",\"(0.0, 0.6073654890060425)\",\"(0.0, 0.6086942553520203)\",\"(0.0, 0.6090459227561951)\",\"(0.0, 0.6098809838294983)\",\"(0.0, 0.6106716990470886)\",\"(0.0, 0.6120040416717529)\",\"(0.0, 0.612385094165802)\",\"(0.0, 0.6135189533233643)\",\"(0.0, 0.6141347885131836)\",\"(0.0, 0.6167886257171631)\",\"(0.0, 0.6175902485847473)\",\"(0.0, 0.6186863780021667)\",\"(0.0, 0.6210388541221619)\",\"(0.0, 0.6220163702964783)\",\"(0.0, 0.6230789422988892)\",\"(0.0, 0.6339775323867798)\",\"(0.0, 0.6349630951881409)\",\"(0.0, 0.6365845203399658)\",\"(0.0, 0.6372042298316956)\",\"(0.0, 0.6372242569923401)\",\"(0.0, 0.6372461318969727)\",\"(0.0, 0.6373113989830017)\",\"(0.0, 0.6435651779174805)\",\"(0.0, 0.6438260674476624)\",\"(0.0, 0.6439875364303589)\",\"(0.0, 0.6444400548934937)\",\"(0.0, 0.6455503702163696)\",\"(0.0, 0.6459156274795532)\",\"(0.0, 0.6468756198883057)\",\"(0.0, 0.6468756794929504)\",\"(0.0, 0.6468778252601624)\",\"(0.0, 0.6468791365623474)\",\"(0.0, 0.6468794941902161)\",\"(0.0, 0.6468796730041504)\",\"(0.0, 0.6468798518180847)\",\"(0.0, 0.6468799710273743)\",\"(0.0, 0.6468800902366638)\",\"(0.0, 0.6468801498413086)\",\"(0.0, 0.6468808650970459)\",\"(0.0, 0.6468819975852966)\",\"(0.0, 0.6468825340270996)\",\"(0.0, 0.6468827724456787)\",\"(0.0, 0.6468830108642578)\",\"(0.0, 0.646885871887207)\",\"(0.0, 0.6477559804916382)\",\"(0.0, 0.6478883624076843)\",\"(0.0, 0.6494900584220886)\",\"(0.0, 0.6498276591300964)\",\"(0.0, 0.650762140750885)\",\"(0.0, 0.6540436148643494)\",\"(0.0, 0.6553512811660767)\",\"(0.0, 0.6560679078102112)\",\"(0.0, 0.6564026474952698)\",\"(0.0, 0.660950243473053)\",\"(0.0, 0.662920355796814)\",\"(0.0, 0.6639426350593567)\",\"(0.0, 0.666180431842804)\",\"(0.0, 0.671749472618103)\",\"(0.0, 0.6720871925354004)\",\"(0.0, 0.6733705997467041)\",\"(0.0, 0.6740615963935852)\",\"(0.0, 0.674107551574707)\",\"(0.0, 0.6751229166984558)\",\"(0.0, 0.6763373017311096)\",\"(0.0, 0.6764524579048157)\",\"(0.0, 0.6768194437026978)\",\"(0.0, 0.6807814240455627)\",\"(0.0, 0.6846900582313538)\",\"(0.0, 0.689271092414856)\",\"(0.0, 0.6908689141273499)\",\"(0.0, 0.6919841766357422)\",\"(0.0, 0.6920128464698792)\",\"(0.0, 0.6956184506416321)\",\"(0.0, 0.7021403312683105)\",\"(0.0, 0.7031509876251221)\",\"(0.0, 0.7035434246063232)\",\"(0.0, 0.7042351961135864)\",\"(0.0, 0.70423823595047)\",\"(0.0, 0.7074923515319824)\",\"(0.0, 0.7104255557060242)\",\"(0.0, 0.7141014933586121)\",\"(0.0, 0.7143386006355286)\",\"(0.0, 0.7158554792404175)\",\"(0.0, 0.7183915972709656)\",\"(0.0, 0.7211231589317322)\",\"(0.0, 0.7223479151725769)\",\"(0.0, 0.7223483920097351)\",\"(0.0, 0.7223486304283142)\",\"(0.0, 0.7223488092422485)\",\"(0.0, 0.7223495244979858)\",\"(0.0, 0.7223498821258545)\",\"(0.0, 0.7223501205444336)\",\"(0.0, 0.7235234379768372)\",\"(0.0, 0.7265528440475464)\",\"(0.0, 0.7283886075019836)\",\"(0.0, 0.7287985682487488)\",\"(0.0, 0.7333037257194519)\",\"(0.0, 0.7349952459335327)\",\"(0.0, 0.7350316643714905)\",\"(0.0, 0.737645149230957)\",\"(0.0, 0.7388051152229309)\",\"(0.0, 0.7395205497741699)\",\"(0.0, 0.7399744987487793)\",\"(0.0, 0.7413173913955688)\",\"(0.0, 0.7417969107627869)\",\"(0.0, 0.7422793507575989)\",\"(0.0, 0.7465139627456665)\",\"(0.0, 0.7492759823799133)\",\"(0.0, 0.7530204057693481)\",\"(0.0, 0.7566026449203491)\",\"(0.0, 0.7581678032875061)\",\"(0.0, 0.7622385621070862)\",\"(0.0, 0.7644346952438354)\",\"(0.0, 0.7659341096878052)\",\"(0.0, 0.7665473222732544)\",\"(0.0, 0.7676059007644653)\",\"(0.0, 0.76839280128479)\",\"(0.0, 0.7730258703231812)\",\"(0.0, 0.7807065844535828)\",\"(0.0, 0.7843612432479858)\",\"(0.0, 0.7890725135803223)\",\"(0.0, 0.790639340877533)\",\"(0.0, 0.8019196391105652)\",\"(0.0, 0.8021088242530823)\",\"(0.0, 0.8075557947158813)\",\"(0.0, 0.8094521164894104)\",\"(0.0, 0.8101560473442078)\",\"(0.0, 0.8106476664543152)\",\"(0.0, 0.8137542009353638)\",\"(0.0, 0.8143022060394287)\",\"(0.0, 0.8143332600593567)\",\"(0.0, 0.8144431114196777)\",\"(0.0, 0.8146496415138245)\",\"(0.0, 0.8197197914123535)\",\"(0.0, 0.8204267024993896)\",\"(0.0, 0.8206932544708252)\",\"(0.0, 0.8208181262016296)\",\"(0.0, 0.8217656016349792)\",\"(0.0, 0.822536051273346)\",\"(0.0, 0.8265064358711243)\",\"(0.0, 0.8287948966026306)\",\"(0.0, 0.8312464952468872)\",\"(0.0, 0.8323590159416199)\",\"(0.0, 0.8342015743255615)\",\"(0.0, 0.8354398608207703)\",\"(0.0, 0.8371638655662537)\",\"(0.0, 0.8377846479415894)\",\"(0.0, 0.838466227054596)\",\"(0.0, 0.8386169672012329)\",\"(0.0, 0.8402596712112427)\",\"(0.0, 0.8411385416984558)\",\"(0.0, 0.843029797077179)\",\"(0.0, 0.8448435068130493)\",\"(0.0, 0.8450862765312195)\",\"(0.0, 0.8522440195083618)\",\"(0.0, 0.8542227149009705)\",\"(0.0, 0.8557417988777161)\",\"(0.0, 0.856042206287384)\",\"(0.0, 0.856723427772522)\",\"(0.0, 0.8570389151573181)\",\"(0.0, 0.8575924038887024)\",\"(0.0, 0.8593874573707581)\",\"(0.0, 0.8607915639877319)\",\"(0.0, 0.8619887232780457)\",\"(0.0, 0.8650246262550354)\",\"(0.0, 0.8666526079177856)\",\"(0.0, 0.8700990080833435)\",\"(0.0, 0.8707587718963623)\",\"(0.0, 0.8717511892318726)\",\"(0.0, 0.8794214725494385)\",\"(0.0, 0.8806090354919434)\",\"(0.0, 0.8829166293144226)\",\"(0.0, 0.8866033554077148)\",\"(0.0, 0.8906753659248352)\",\"(0.0, 0.8934364914894104)\",\"(0.0, 0.8935273289680481)\",\"(0.0, 0.8976665735244751)\",\"(0.0, 0.9022722244262695)\",\"(0.0, 0.9036311507225037)\",\"(0.0, 0.9058169722557068)\",\"(0.0, 0.9063061475753784)\",\"(0.0, 0.906623363494873)\",\"(0.0, 0.9081267714500427)\",\"(0.0, 0.9090204238891602)\",\"(0.0, 0.909414529800415)\",\"(0.0, 0.9106049537658691)\",\"(0.0, 0.9142785668373108)\",\"(0.0, 0.9208589196205139)\",\"(0.0, 0.921322226524353)\",\"(0.0, 0.9214505553245544)\",\"(0.0, 0.9238540530204773)\",\"(0.0, 0.9270680546760559)\",\"(0.0, 0.9289548397064209)\",\"(0.0, 0.9329788088798523)\",\"(0.0, 0.9333592653274536)\",\"(0.0, 0.9375734329223633)\",\"(0.0, 0.9418228268623352)\",\"(0.0, 0.9418238401412964)\",\"(0.0, 0.9456163644790649)\",\"(0.0, 0.9479730725288391)\",\"(0.0, 0.9479739665985107)\",\"(0.0, 0.9553650617599487)\",\"(0.0, 0.9590910077095032)\",\"(0.0, 0.9614797234535217)\",\"(0.0, 0.9627453684806824)\",\"(0.0, 0.963597297668457)\",\"(0.0, 0.9644994139671326)\",\"(0.0, 0.9646831154823303)\",\"(0.0, 0.9667540192604065)\",\"(0.0, 0.9671472311019897)\",\"(0.0, 0.9683582186698914)\",\"(0.0, 0.9717257022857666)\",\"(0.0, 0.9744009375572205)\",\"(0.0, 0.9746163487434387)\",\"(0.0, 0.9746192097663879)\",\"(0.0, 0.9756610989570618)\",\"(0.0, 0.9777854084968567)\",\"(0.0, 0.9790812134742737)\",\"(0.0, 0.9794275760650635)\",\"(0.0, 0.9810013771057129)\",\"(0.0, 0.9847108125686646)\",\"(0.0, 0.9855117201805115)\",\"(0.0, 0.9858437180519104)\",\"(0.0, 0.9872956275939941)\",\"(0.0, 0.9932820200920105)\",\"(0.0, 0.9933691620826721)\",\"(0.0, 0.9988212585449219)\",\"(0.0, 1.0018768310546875)\",\"(0.0, 1.001876950263977)\",\"(0.0, 1.0018771886825562)\",\"(0.0, 1.0018783807754517)\",\"(0.0, 1.0042579174041748)\",\"(0.0, 1.0064449310302734)\",\"(0.0, 1.0101450681686401)\",\"(0.0, 1.0123708248138428)\",\"(0.0, 1.0123709440231323)\",\"(0.0, 1.012372374534607)\",\"(0.0, 1.0123724937438965), multiplicity: 2\",\"(0.0, 1.0123724937438965), multiplicity: 2\",\"(0.0, 1.012372612953186), multiplicity: 2\",\"(0.0, 1.012372612953186), multiplicity: 2\",\"(0.0, 1.0123727321624756)\",\"(0.0, 1.0123728513717651)\",\"(0.0, 1.0123733282089233)\",\"(0.0, 1.012373447418213)\",\"(0.0, 1.0123738050460815), multiplicity: 3\",\"(0.0, 1.0123738050460815), multiplicity: 3\",\"(0.0, 1.0123738050460815), multiplicity: 3\",\"(0.0, 1.012373924255371)\",\"(0.0, 1.0123744010925293)\",\"(0.0, 1.0123745203018188)\",\"(0.0, 1.0123748779296875)\",\"(0.0, 1.0123755931854248)\",\"(0.0, 1.0123769044876099)\",\"(0.0, 1.0128028392791748)\",\"(0.0, 1.0182297229766846)\",\"(0.0, 1.0204346179962158)\",\"(0.0, 1.0210710763931274)\",\"(0.0, 1.0216516256332397)\",\"(0.0, 1.0219426155090332)\",\"(0.0, 1.0219451189041138)\",\"(0.0, 1.0225614309310913)\",\"(0.0, 1.0246394872665405)\",\"(0.0, 1.0247927904129028)\",\"(0.0, 1.0258126258850098)\",\"(0.0, 1.027104377746582)\",\"(0.0, 1.034442663192749)\",\"(0.0, 1.0349793434143066)\",\"(0.0, 1.0362824201583862)\",\"(0.0, 1.0392401218414307)\",\"(0.0, 1.0392954349517822)\",\"(0.0, 1.044672966003418)\",\"(0.0, 1.0458308458328247)\",\"(0.0, 1.0465450286865234)\",\"(0.0, 1.0505459308624268)\",\"(0.0, 1.050889492034912)\",\"(0.0, 1.0529029369354248)\",\"(0.0, 1.053911566734314)\",\"(0.0, 1.0568047761917114)\",\"(0.0, 1.0602697134017944)\",\"(0.0, 1.0612478256225586)\",\"(0.0, 1.0723613500595093)\",\"(0.0, 1.0738327503204346)\",\"(0.0, 1.0796812772750854)\",\"(0.0, 1.0803751945495605)\",\"(0.0, 1.0839753150939941)\",\"(0.0, 1.0854885578155518)\",\"(0.0, 1.08790922164917)\",\"(0.0, 1.0884767770767212)\",\"(0.0, 1.0888334512710571)\",\"(0.0, 1.0903867483139038)\",\"(0.0, 1.0936975479125977)\",\"(0.0, 1.096039056777954)\",\"(0.0, 1.1060326099395752)\",\"(0.0, 1.1085968017578125)\",\"(0.0, 1.111085295677185)\",\"(0.0, 1.1224087476730347)\",\"(0.0, 1.122410774230957)\",\"(0.0, 1.1307740211486816)\",\"(0.0, 1.132163166999817)\",\"(0.0, 1.13880455493927)\",\"(0.0, 1.1399788856506348)\",\"(0.0, 1.140481948852539)\",\"(0.0, 1.141289472579956)\",\"(0.0, 1.1452138423919678)\",\"(0.0, 1.148492455482483)\",\"(0.0, 1.1485888957977295)\",\"(0.0, 1.1523038148880005)\",\"(0.0, 1.1572130918502808)\",\"(0.0, 1.162176251411438)\",\"(0.0, 1.162854790687561)\",\"(0.0, 1.1672450304031372)\",\"(0.0, 1.1714305877685547)\",\"(0.0, 1.1769185066223145)\",\"(0.0, 1.1769194602966309)\",\"(0.0, 1.178781270980835)\",\"(0.0, 1.181932806968689)\",\"(0.0, 1.1819652318954468)\",\"(0.0, 1.187351107597351)\",\"(0.0, 1.1874879598617554)\",\"(0.0, 1.1885231733322144)\",\"(0.0, 1.1886318922042847)\",\"(0.0, 1.1936273574829102)\",\"(0.0, 1.1943042278289795)\",\"(0.0, 1.1990240812301636)\",\"(0.0, 1.2004680633544922)\",\"(0.0, 1.2045235633850098)\",\"(0.0, 1.2053391933441162)\",\"(0.0, 1.206525444984436)\",\"(0.0, 1.2071055173873901)\",\"(0.0, 1.2073779106140137)\",\"(0.0, 1.209747076034546)\",\"(0.0, 1.2130266427993774)\",\"(0.0, 1.2170330286026)\",\"(0.0, 1.2272772789001465)\",\"(0.0, 1.229276418685913)\",\"(0.0, 1.2332724332809448)\",\"(0.0, 1.2353107929229736)\",\"(0.0, 1.2361321449279785)\",\"(0.0, 1.2364784479141235)\",\"(0.0, 1.2409799098968506)\",\"(0.0, 1.2477662563323975)\",\"(0.0, 1.2504342794418335)\",\"(0.0, 1.251460313796997)\",\"(0.0, 1.2517176866531372)\",\"(0.0, 1.2528525590896606)\",\"(0.0, 1.2540796995162964)\",\"(0.0, 1.2615196704864502)\",\"(0.0, 1.2636163234710693)\",\"(0.0, 1.2652802467346191)\",\"(0.0, 1.2684533596038818)\",\"(0.0, 1.2687174081802368)\",\"(0.0, 1.2693320512771606)\",\"(0.0, 1.2737473249435425)\",\"(0.0, 1.2758878469467163)\",\"(0.0, 1.276201844215393)\",\"(0.0, 1.2762126922607422)\",\"(0.0, 1.2774206399917603)\",\"(0.0, 1.280411720275879)\",\"(0.0, 1.2835533618927002)\",\"(0.0, 1.283556342124939)\",\"(0.0, 1.283557653427124)\",\"(0.0, 1.2835583686828613)\",\"(0.0, 1.2835599184036255)\",\"(0.0, 1.2835625410079956)\",\"(0.0, 1.2863048315048218)\",\"(0.0, 1.2934198379516602)\",\"(0.0, 1.295238971710205)\",\"(0.0, 1.2982171773910522)\",\"(0.0, 1.2988115549087524)\",\"(0.0, 1.3019896745681763)\",\"(0.0, 1.3076791763305664)\",\"(0.0, 1.313512921333313)\",\"(0.0, 1.3188445568084717)\",\"(0.0, 1.3191875219345093)\",\"(0.0, 1.319893717765808)\",\"(0.0, 1.3287084102630615)\",\"(0.0, 1.3301936388015747)\",\"(0.0, 1.3367184400558472)\",\"(0.0, 1.3382484912872314)\",\"(0.0, 1.3384590148925781)\",\"(0.0, 1.3387868404388428)\",\"(0.0, 1.3402808904647827)\",\"(0.0, 1.3410241603851318)\",\"(0.0, 1.3438447713851929)\",\"(0.0, 1.3527663946151733)\",\"(0.0, 1.3619962930679321)\",\"(0.0, 1.3626420497894287)\",\"(0.0, 1.384320855140686)\",\"(0.0, 1.389378547668457)\",\"(0.0, 1.39139723777771)\",\"(0.0, 1.3975578546524048)\",\"(0.0, 1.4011991024017334)\",\"(0.0, 1.4014408588409424)\",\"(0.0, 1.4062116146087646)\",\"(0.0, 1.4098331928253174)\",\"(0.0, 1.418304204940796)\",\"(0.0, 1.4240537881851196)\",\"(0.0, 1.42470121383667)\",\"(0.0, 1.4253365993499756)\",\"(0.0, 1.4272980690002441)\",\"(0.0, 1.4272985458374023)\",\"(0.0, 1.4272990226745605)\",\"(0.0, 1.427300214767456)\",\"(0.0, 1.4273008108139038)\",\"(0.0, 1.4356130361557007)\",\"(0.0, 1.4356136322021484)\",\"(0.0, 1.4356142282485962)\",\"(0.0, 1.4356156587600708), multiplicity: 2\",\"(0.0, 1.4356156587600708), multiplicity: 2\",\"(0.0, 1.4377716779708862)\",\"(0.0, 1.4404882192611694)\",\"(0.0, 1.4414982795715332)\",\"(0.0, 1.4430292844772339)\",\"(0.0, 1.4497212171554565)\",\"(0.0, 1.4584637880325317)\",\"(0.0, 1.4595175981521606)\",\"(0.0, 1.4610544443130493)\",\"(0.0, 1.461054801940918)\",\"(0.0, 1.4676963090896606)\",\"(0.0, 1.4694147109985352)\",\"(0.0, 1.4813511371612549)\",\"(0.0, 1.4813525676727295)\",\"(0.0, 1.4889878034591675)\",\"(0.0, 1.4915825128555298)\",\"(0.0, 1.4937876462936401)\",\"(0.0, 1.4960837364196777)\",\"(0.0, 1.4976826906204224)\",\"(0.0, 1.5087648630142212)\",\"(0.0, 1.5156879425048828)\",\"(0.0, 1.5157371759414673)\",\"(0.0, 1.5183223485946655)\",\"(0.0, 1.5280214548110962)\",\"(0.0, 1.5314676761627197)\",\"(0.0, 1.5315784215927124)\",\"(0.0, 1.5359529256820679)\",\"(0.0, 1.5378475189208984)\",\"(0.0, 1.5379072427749634)\",\"(0.0, 1.5396299362182617)\",\"(0.0, 1.5396308898925781)\",\"(0.0, 1.5403704643249512)\",\"(0.0, 1.5440089702606201)\",\"(0.0, 1.5447022914886475)\",\"(0.0, 1.5458675622940063)\",\"(0.0, 1.550744891166687)\",\"(0.0, 1.5518627166748047)\",\"(0.0, 1.5524441003799438)\",\"(0.0, 1.5534769296646118)\",\"(0.0, 1.5681544542312622)\",\"(0.0, 1.576899528503418)\",\"(0.0, 1.5979419946670532)\",\"(0.0, 1.607086420059204)\",\"(0.0, 1.6091413497924805)\",\"(0.0, 1.6097040176391602)\",\"(0.0, 1.6116645336151123)\",\"(0.0, 1.616530179977417)\",\"(0.0, 1.616878867149353)\",\"(0.0, 1.6175436973571777)\",\"(0.0, 1.6183782815933228)\",\"(0.0, 1.6320585012435913)\",\"(0.0, 1.6360591650009155)\",\"(0.0, 1.6413273811340332)\",\"(0.0, 1.6446716785430908)\",\"(0.0, 1.6481698751449585)\",\"(0.0, 1.6518744230270386)\",\"(0.0, 1.6553317308425903)\",\"(0.0, 1.6583752632141113)\",\"(0.0, 1.6661556959152222)\",\"(0.0, 1.6810765266418457)\",\"(0.0, 1.683247685432434)\",\"(0.0, 1.693375587463379)\",\"(0.0, 1.6962558031082153)\",\"(0.0, 1.7021507024765015)\",\"(0.0, 1.7021515369415283)\",\"(0.0, 1.7023310661315918)\",\"(0.0, 1.7024887800216675)\",\"(0.0, 1.7042207717895508)\",\"(0.0, 1.7053015232086182)\",\"(0.0, 1.7092100381851196)\",\"(0.0, 1.7099689245224)\",\"(0.0, 1.7231943607330322)\",\"(0.0, 1.7250592708587646)\",\"(0.0, 1.7256096601486206)\",\"(0.0, 1.7270207405090332)\",\"(0.0, 1.7421780824661255)\",\"(0.0, 1.749589204788208)\",\"(0.0, 1.7538663148880005)\",\"(0.0, 1.767347812652588)\",\"(0.0, 1.7675588130950928)\",\"(0.0, 1.7681050300598145)\",\"(0.0, 1.7682908773422241)\",\"(0.0, 1.770453691482544)\",\"(0.0, 1.7737994194030762)\",\"(0.0, 1.7780585289001465)\",\"(0.0, 1.7837152481079102)\",\"(0.0, 1.7905608415603638)\",\"(0.0, 1.8011128902435303)\",\"(0.0, 1.8085204362869263)\",\"(0.0, 1.8095256090164185)\",\"(0.0, 1.8180285692214966)\",\"(0.0, 1.8290132284164429)\",\"(0.0, 1.8290146589279175)\",\"(0.0, 1.8318524360656738)\",\"(0.0, 1.8318527936935425)\",\"(0.0, 1.8355834484100342)\",\"(0.0, 1.8355865478515625)\",\"(0.0, 1.8396542072296143)\",\"(0.0, 1.8479573726654053)\",\"(0.0, 1.850355625152588)\",\"(0.0, 1.8532308340072632)\",\"(0.0, 1.8590242862701416)\",\"(0.0, 1.863403558731079)\",\"(0.0, 1.866330862045288)\",\"(0.0, 1.86835515499115)\",\"(0.0, 1.8717014789581299)\",\"(0.0, 1.8763235807418823)\",\"(0.0, 1.8793113231658936)\",\"(0.0, 1.8798704147338867)\",\"(0.0, 1.8839434385299683)\",\"(0.0, 1.8854000568389893)\",\"(0.0, 1.8854029178619385)\",\"(0.0, 1.8887405395507812)\",\"(0.0, 1.8893518447875977)\",\"(0.0, 1.8899246454238892)\",\"(0.0, 1.899297833442688)\",\"(0.0, 1.8999930620193481)\",\"(0.0, 1.8999931812286377)\",\"(0.0, 1.8999933004379272)\",\"(0.0, 1.8999937772750854), multiplicity: 2\",\"(0.0, 1.8999937772750854), multiplicity: 2\",\"(0.0, 1.9030808210372925)\",\"(0.0, 1.9034647941589355)\",\"(0.0, 1.9100440740585327)\",\"(0.0, 1.911115288734436)\",\"(0.0, 1.9111171960830688)\",\"(0.0, 1.9185689687728882)\",\"(0.0, 1.9351606369018555)\",\"(0.0, 1.9354804754257202)\",\"(0.0, 1.9455946683883667)\",\"(0.0, 1.9494327306747437)\",\"(0.0, 1.949434518814087)\",\"(0.0, 1.9611843824386597)\",\"(0.0, 1.9629199504852295)\",\"(0.0, 1.964443564414978)\",\"(0.0, 1.9709991216659546)\",\"(0.0, 1.9835599660873413)\",\"(0.0, 1.9936538934707642)\",\"(0.0, 1.994370937347412)\",\"(0.0, 1.9964953660964966)\",\"(0.0, 2.0000741481781006)\",\"(0.0, 2.0082650184631348)\",\"(0.0, 2.008267402648926)\",\"(0.0, 2.008268117904663)\",\"(0.0, 2.018117666244507)\",\"(0.0, 2.0185024738311768)\",\"(0.0, 2.018502950668335)\",\"(0.0, 2.0185039043426514), multiplicity: 2\",\"(0.0, 2.0185039043426514), multiplicity: 2\",\"(0.0, 2.0185043811798096), multiplicity: 3\",\"(0.0, 2.0185043811798096), multiplicity: 3\",\"(0.0, 2.0185043811798096), multiplicity: 3\",\"(0.0, 2.0185046195983887)\",\"(0.0, 2.018505096435547)\",\"(0.0, 2.018505334854126)\",\"(0.0, 2.018505811691284), multiplicity: 2\",\"(0.0, 2.018505811691284), multiplicity: 2\",\"(0.0, 2.0185062885284424)\",\"(0.0, 2.019390106201172)\",\"(0.0, 2.0201289653778076)\",\"(0.0, 2.022979259490967)\",\"(0.0, 2.022982358932495)\",\"(0.0, 2.033325672149658)\",\"(0.0, 2.042959451675415)\",\"(0.0, 2.0531444549560547)\",\"(0.0, 2.0531866550445557)\",\"(0.0, 2.0586960315704346)\",\"(0.0, 2.0601842403411865)\",\"(0.0, 2.0664234161376953)\",\"(0.0, 2.093595027923584)\",\"(0.0, 2.098421812057495)\",\"(0.0, 2.103663206100464)\",\"(0.0, 2.1068577766418457)\",\"(0.0, 2.121962547302246)\",\"(0.0, 2.1219656467437744)\",\"(0.0, 2.1243326663970947)\",\"(0.0, 2.1245028972625732)\",\"(0.0, 2.1264147758483887)\",\"(0.0, 2.1277058124542236)\",\"(0.0, 2.130826234817505)\",\"(0.0, 2.134491205215454)\",\"(0.0, 2.1358208656311035)\",\"(0.0, 2.1363818645477295)\",\"(0.0, 2.137434720993042)\",\"(0.0, 2.1374361515045166)\",\"(0.0, 2.1374409198760986)\",\"(0.0, 2.1394245624542236)\",\"(0.0, 2.144747495651245)\",\"(0.0, 2.1474523544311523)\",\"(0.0, 2.150651693344116)\",\"(0.0, 2.1658384799957275)\",\"(0.0, 2.168067455291748)\",\"(0.0, 2.1725780963897705)\",\"(0.0, 2.176633834838867)\",\"(0.0, 2.2052066326141357)\",\"(0.0, 2.225787878036499)\",\"(0.0, 2.2273712158203125)\",\"(0.0, 2.230764627456665)\",\"(0.0, 2.2433419227600098)\",\"(0.0, 2.2507288455963135)\",\"(0.0, 2.2524588108062744)\",\"(0.0, 2.2537147998809814)\",\"(0.0, 2.274888753890991)\",\"(0.0, 2.275317907333374)\",\"(0.0, 2.2798614501953125)\",\"(0.0, 2.28328800201416)\",\"(0.0, 2.2959346771240234)\",\"(0.0, 2.307525873184204)\",\"(0.0, 2.328669548034668)\",\"(0.0, 2.329007863998413)\",\"(0.0, 2.3496291637420654)\",\"(0.0, 2.351163148880005)\",\"(0.0, 2.3597006797790527)\",\"(0.0, 2.3661913871765137)\",\"(0.0, 2.369985342025757)\",\"(0.0, 2.3795478343963623)\",\"(0.0, 2.3813068866729736)\",\"(0.0, 2.3841443061828613)\",\"(0.0, 2.3889753818511963)\",\"(0.0, 2.4124794006347656)\",\"(0.0, 2.4174487590789795)\",\"(0.0, 2.4230103492736816)\",\"(0.0, 2.4487292766571045)\",\"(0.0, 2.4487688541412354)\",\"(0.0, 2.467794418334961)\",\"(0.0, 2.486464738845825)\",\"(0.0, 2.4864649772644043)\",\"(0.0, 2.4864673614501953)\",\"(0.0, 2.486469030380249)\",\"(0.0, 2.4885215759277344)\",\"(0.0, 2.4885222911834717)\",\"(0.0, 2.4885244369506836)\",\"(0.0, 2.4930663108825684)\",\"(0.0, 2.500066041946411)\",\"(0.0, 2.513584613800049)\",\"(0.0, 2.5231869220733643)\",\"(0.0, 2.5447919368743896)\",\"(0.0, 2.5617177486419678)\",\"(0.0, 2.578813314437866)\",\"(0.0, 2.59275221824646)\",\"(0.0, 2.610138177871704)\",\"(0.0, 2.6535210609436035)\",\"(0.0, 2.6570045948028564)\",\"(0.0, 2.6667401790618896)\",\"(0.0, 2.678298234939575)\",\"(0.0, 2.6788690090179443)\",\"(0.0, 2.683882713317871)\",\"(0.0, 2.6913836002349854)\",\"(0.0, 2.6984541416168213)\",\"(0.0, 2.715160369873047)\",\"(0.0, 2.7345755100250244)\",\"(0.0, 2.7407829761505127)\",\"(0.0, 2.747931480407715)\",\"(0.0, 2.7524616718292236)\",\"(0.0, 2.757817506790161)\",\"(0.0, 2.762934684753418)\",\"(0.0, 2.765597343444824)\",\"(0.0, 2.766774892807007)\",\"(0.0, 2.766775369644165)\",\"(0.0, 2.7667758464813232)\",\"(0.0, 2.771845579147339)\",\"(0.0, 2.772361993789673)\",\"(0.0, 2.776484251022339)\",\"(0.0, 2.7992422580718994)\",\"(0.0, 2.800104856491089)\",\"(0.0, 2.8001065254211426)\",\"(0.0, 2.8090648651123047)\",\"(0.0, 2.8370792865753174)\",\"(0.0, 2.844224214553833)\",\"(0.0, 2.8481104373931885)\",\"(0.0, 2.8534717559814453)\",\"(0.0, 2.87589430809021)\",\"(0.0, 2.8830549716949463)\",\"(0.0, 2.901435375213623)\",\"(0.0, 2.908656120300293)\",\"(0.0, 2.936446189880371)\",\"(0.0, 2.9382975101470947)\",\"(0.0, 2.9399988651275635)\",\"(0.0, 2.9630825519561768)\",\"(0.0, 2.9633257389068604)\",\"(0.0, 2.9959917068481445)\",\"(0.0, 3.000178098678589)\",\"(0.0, 3.0114598274230957)\",\"(0.0, 3.0443453788757324)\",\"(0.0, 3.0475380420684814)\",\"(0.0, 3.0475382804870605), multiplicity: 2\",\"(0.0, 3.0475382804870605), multiplicity: 2\",\"(0.0, 3.0560734272003174)\",\"(0.0, 3.076068639755249)\",\"(0.0, 3.07629656791687)\",\"(0.0, 3.07965087890625)\",\"(0.0, 3.0832650661468506)\",\"(0.0, 3.0861446857452393)\",\"(0.0, 3.091221332550049)\",\"(0.0, 3.1016523838043213)\",\"(0.0, 3.10539174079895)\",\"(0.0, 3.105959177017212)\",\"(0.0, 3.1180009841918945)\",\"(0.0, 3.1220688819885254)\",\"(0.0, 3.122737169265747)\",\"(0.0, 3.1404759883880615)\",\"(0.0, 3.1811766624450684)\",\"(0.0, 3.202258586883545)\",\"(0.0, 3.2258195877075195)\",\"(0.0, 3.235325574874878)\",\"(0.0, 3.3049333095550537)\",\"(0.0, 3.355112314224243)\",\"(0.0, 3.355938196182251)\",\"(0.0, 3.3720479011535645)\",\"(0.0, 3.3726627826690674)\",\"(0.0, 3.415501832962036)\",\"(0.0, 3.425771951675415)\",\"(0.0, 3.4609341621398926)\",\"(0.0, 3.469383716583252)\",\"(0.0, 3.5012638568878174)\",\"(0.0, 3.534111976623535)\",\"(0.0, 3.5367023944854736)\",\"(0.0, 3.5775856971740723)\",\"(0.0, 3.6057138442993164)\",\"(0.0, 3.60571551322937)\",\"(0.0, 3.626386880874634)\",\"(0.0, 3.6280534267425537)\",\"(0.0, 3.668240547180176)\",\"(0.0, 3.6682441234588623)\",\"(0.0, 3.7770068645477295)\",\"(0.0, 3.798943042755127)\",\"(0.0, 3.845371961593628)\",\"(0.0, 3.906243324279785)\",\"(0.0, 3.9478931427001953)\",\"(0.0, 3.9873080253601074)\",\"(0.0, 3.9873132705688477)\",\"(0.0, 4.0146379470825195)\",\"(0.0, 4.044940948486328)\",\"(0.0, 4.049130439758301)\",\"(0.0, 4.098026275634766)\",\"(0.0, 4.114952087402344)\",\"(0.0, 4.144172191619873)\",\"(0.0, 4.15856409072876)\",\"(0.0, 4.19238805770874)\",\"(0.0, 4.194583892822266)\",\"(0.0, 4.210463047027588)\",\"(0.0, 4.224699974060059)\",\"(0.0, 4.226948261260986)\",\"(0.0, 4.261238098144531)\",\"(0.0, 4.325080394744873)\",\"(0.0, 4.363929271697998)\",\"(0.0, 4.367347240447998)\",\"(0.0, 4.370025634765625)\",\"(0.0, 4.376589298248291)\",\"(0.0, 4.439864635467529)\",\"(0.0, 4.472238063812256)\",\"(0.0, 4.476317882537842)\",\"(0.0, 4.552165985107422)\",\"(0.0, 4.582627773284912)\",\"(0.0, 4.60257625579834)\",\"(0.0, 4.8142008781433105)\",\"(0.0, 4.868141174316406)\",\"(0.0, 4.910966396331787)\",\"(0.0, 4.929132461547852)\",\"(0.0, 5.089169979095459)\",\"(0.0, 5.230278491973877)\",\"(0.0, 5.44887113571167)\",\"(0.0, 5.465041637420654)\",\"(0.0, 5.542730808258057)\",\"(0.0, 5.598012447357178)\",\"(0.0, 5.6349616050720215)\",\"(0.0, 5.656589508056641)\",\"(0.0, 7.102981090545654)\"],\"mode\":\"markers\",\"name\":\"H0\",\"x\":[0.0,0.0,0.0,0.0,0.0,0.0,0.0,0.0,0.0,0.0,0.0,0.0,0.0,0.0,0.0,0.0,0.0,0.0,0.0,0.0,0.0,0.0,0.0,0.0,0.0,0.0,0.0,0.0,0.0,0.0,0.0,0.0,0.0,0.0,0.0,0.0,0.0,0.0,0.0,0.0,0.0,0.0,0.0,0.0,0.0,0.0,0.0,0.0,0.0,0.0,0.0,0.0,0.0,0.0,0.0,0.0,0.0,0.0,0.0,0.0,0.0,0.0,0.0,0.0,0.0,0.0,0.0,0.0,0.0,0.0,0.0,0.0,0.0,0.0,0.0,0.0,0.0,0.0,0.0,0.0,0.0,0.0,0.0,0.0,0.0,0.0,0.0,0.0,0.0,0.0,0.0,0.0,0.0,0.0,0.0,0.0,0.0,0.0,0.0,0.0,0.0,0.0,0.0,0.0,0.0,0.0,0.0,0.0,0.0,0.0,0.0,0.0,0.0,0.0,0.0,0.0,0.0,0.0,0.0,0.0,0.0,0.0,0.0,0.0,0.0,0.0,0.0,0.0,0.0,0.0,0.0,0.0,0.0,0.0,0.0,0.0,0.0,0.0,0.0,0.0,0.0,0.0,0.0,0.0,0.0,0.0,0.0,0.0,0.0,0.0,0.0,0.0,0.0,0.0,0.0,0.0,0.0,0.0,0.0,0.0,0.0,0.0,0.0,0.0,0.0,0.0,0.0,0.0,0.0,0.0,0.0,0.0,0.0,0.0,0.0,0.0,0.0,0.0,0.0,0.0,0.0,0.0,0.0,0.0,0.0,0.0,0.0,0.0,0.0,0.0,0.0,0.0,0.0,0.0,0.0,0.0,0.0,0.0,0.0,0.0,0.0,0.0,0.0,0.0,0.0,0.0,0.0,0.0,0.0,0.0,0.0,0.0,0.0,0.0,0.0,0.0,0.0,0.0,0.0,0.0,0.0,0.0,0.0,0.0,0.0,0.0,0.0,0.0,0.0,0.0,0.0,0.0,0.0,0.0,0.0,0.0,0.0,0.0,0.0,0.0,0.0,0.0,0.0,0.0,0.0,0.0,0.0,0.0,0.0,0.0,0.0,0.0,0.0,0.0,0.0,0.0,0.0,0.0,0.0,0.0,0.0,0.0,0.0,0.0,0.0,0.0,0.0,0.0,0.0,0.0,0.0,0.0,0.0,0.0,0.0,0.0,0.0,0.0,0.0,0.0,0.0,0.0,0.0,0.0,0.0,0.0,0.0,0.0,0.0,0.0,0.0,0.0,0.0,0.0,0.0,0.0,0.0,0.0,0.0,0.0,0.0,0.0,0.0,0.0,0.0,0.0,0.0,0.0,0.0,0.0,0.0,0.0,0.0,0.0,0.0,0.0,0.0,0.0,0.0,0.0,0.0,0.0,0.0,0.0,0.0,0.0,0.0,0.0,0.0,0.0,0.0,0.0,0.0,0.0,0.0,0.0,0.0,0.0,0.0,0.0,0.0,0.0,0.0,0.0,0.0,0.0,0.0,0.0,0.0,0.0,0.0,0.0,0.0,0.0,0.0,0.0,0.0,0.0,0.0,0.0,0.0,0.0,0.0,0.0,0.0,0.0,0.0,0.0,0.0,0.0,0.0,0.0,0.0,0.0,0.0,0.0,0.0,0.0,0.0,0.0,0.0,0.0,0.0,0.0,0.0,0.0,0.0,0.0,0.0,0.0,0.0,0.0,0.0,0.0,0.0,0.0,0.0,0.0,0.0,0.0,0.0,0.0,0.0,0.0,0.0,0.0,0.0,0.0,0.0,0.0,0.0,0.0,0.0,0.0,0.0,0.0,0.0,0.0,0.0,0.0,0.0,0.0,0.0,0.0,0.0,0.0,0.0,0.0,0.0,0.0,0.0,0.0,0.0,0.0,0.0,0.0,0.0,0.0,0.0,0.0,0.0,0.0,0.0,0.0,0.0,0.0,0.0,0.0,0.0,0.0,0.0,0.0,0.0,0.0,0.0,0.0,0.0,0.0,0.0,0.0,0.0,0.0,0.0,0.0,0.0,0.0,0.0,0.0,0.0,0.0,0.0,0.0,0.0,0.0,0.0,0.0,0.0,0.0,0.0,0.0,0.0,0.0,0.0,0.0,0.0,0.0,0.0,0.0,0.0,0.0,0.0,0.0,0.0,0.0,0.0,0.0,0.0,0.0,0.0,0.0,0.0,0.0,0.0,0.0,0.0,0.0,0.0,0.0,0.0,0.0,0.0,0.0,0.0,0.0,0.0,0.0,0.0,0.0,0.0,0.0,0.0,0.0,0.0,0.0,0.0,0.0,0.0,0.0,0.0,0.0,0.0,0.0,0.0,0.0,0.0,0.0,0.0,0.0,0.0,0.0,0.0,0.0,0.0,0.0,0.0,0.0,0.0,0.0,0.0,0.0,0.0,0.0,0.0,0.0,0.0,0.0,0.0,0.0,0.0,0.0,0.0,0.0,0.0,0.0,0.0,0.0,0.0,0.0,0.0,0.0,0.0,0.0,0.0,0.0,0.0,0.0,0.0,0.0,0.0,0.0,0.0,0.0,0.0,0.0,0.0,0.0,0.0,0.0,0.0,0.0,0.0,0.0,0.0,0.0,0.0,0.0,0.0,0.0,0.0,0.0,0.0,0.0,0.0,0.0,0.0,0.0,0.0,0.0,0.0,0.0,0.0,0.0,0.0,0.0,0.0,0.0,0.0,0.0,0.0,0.0,0.0,0.0,0.0,0.0,0.0,0.0,0.0,0.0,0.0,0.0,0.0,0.0,0.0,0.0,0.0,0.0,0.0,0.0,0.0,0.0,0.0,0.0,0.0,0.0,0.0,0.0,0.0,0.0,0.0,0.0,0.0,0.0,0.0,0.0,0.0,0.0,0.0,0.0,0.0,0.0,0.0,0.0,0.0,0.0,0.0,0.0,0.0,0.0,0.0,0.0,0.0,0.0,0.0,0.0,0.0,0.0,0.0,0.0,0.0,0.0,0.0,0.0,0.0,0.0,0.0,0.0,0.0,0.0,0.0,0.0,0.0,0.0,0.0,0.0,0.0,0.0,0.0,0.0,0.0,0.0,0.0,0.0,0.0,0.0,0.0,0.0,0.0,0.0,0.0,0.0,0.0,0.0,0.0,0.0,0.0,0.0,0.0,0.0,0.0,0.0,0.0,0.0,0.0,0.0,0.0,0.0,0.0,0.0,0.0,0.0,0.0,0.0,0.0,0.0,0.0,0.0,0.0,0.0,0.0,0.0,0.0,0.0,0.0,0.0,0.0,0.0,0.0,0.0,0.0,0.0,0.0,0.0,0.0,0.0,0.0,0.0,0.0,0.0,0.0,0.0,0.0,0.0,0.0,0.0,0.0,0.0,0.0,0.0,0.0,0.0,0.0,0.0,0.0,0.0,0.0,0.0,0.0,0.0,0.0,0.0,0.0,0.0,0.0,0.0,0.0,0.0,0.0,0.0,0.0,0.0,0.0,0.0,0.0,0.0,0.0,0.0,0.0,0.0,0.0,0.0,0.0,0.0,0.0,0.0,0.0,0.0,0.0,0.0,0.0,0.0,0.0,0.0,0.0,0.0,0.0,0.0,0.0,0.0,0.0,0.0,0.0,0.0,0.0,0.0,0.0,0.0,0.0,0.0,0.0,0.0,0.0,0.0,0.0,0.0,0.0,0.0,0.0,0.0,0.0,0.0,0.0,0.0,0.0,0.0,0.0,0.0,0.0,0.0,0.0,0.0,0.0,0.0,0.0,0.0,0.0,0.0,0.0,0.0,0.0,0.0,0.0,0.0,0.0,0.0,0.0,0.0,0.0,0.0,0.0,0.0,0.0,0.0,0.0,0.0,0.0,0.0,0.0,0.0,0.0,0.0,0.0,0.0,0.0,0.0,0.0,0.0,0.0,0.0,0.0,0.0,0.0,0.0,0.0,0.0,0.0,0.0,0.0,0.0,0.0,0.0,0.0,0.0,0.0,0.0,0.0,0.0,0.0,0.0,0.0,0.0,0.0,0.0,0.0,0.0,0.0,0.0,0.0,0.0,0.0,0.0,0.0,0.0,0.0,0.0,0.0,0.0,0.0,0.0,0.0,0.0,0.0,0.0,0.0,0.0,0.0,0.0,0.0,0.0,0.0,0.0,0.0,0.0,0.0,0.0,0.0,0.0,0.0,0.0,0.0,0.0,0.0,0.0,0.0,0.0,0.0,0.0,0.0,0.0,0.0,0.0,0.0,0.0,0.0,0.0,0.0,0.0,0.0,0.0,0.0,0.0,0.0,0.0,0.0,0.0,0.0,0.0,0.0,0.0,0.0,0.0,0.0,0.0,0.0,0.0,0.0,0.0,0.0,0.0,0.0,0.0,0.0,0.0,0.0,0.0,0.0,0.0,0.0,0.0,0.0],\"y\":[0.009743603877723217,0.01699819788336754,0.04048620164394379,0.04232978820800781,0.048967860639095306,0.062282636761665344,0.06414242088794708,0.07313013821840286,0.07320162653923035,0.07556146383285522,0.08155135810375214,0.09916175901889801,0.10116211324930191,0.1033380851149559,0.10357039421796799,0.10504810512065887,0.11778721213340759,0.12275788187980652,0.12457083910703659,0.12514141201972961,0.12881365418434143,0.12934842705726624,0.13134871423244476,0.13813786208629608,0.1485031694173813,0.15063677728176117,0.15581698715686798,0.15868443250656128,0.16704420745372772,0.17125922441482544,0.17230935394763947,0.17947712540626526,0.18333806097507477,0.18342946469783783,0.18699350953102112,0.18729794025421143,0.19189904630184174,0.19283200800418854,0.1938806176185608,0.19551627337932587,0.20192623138427734,0.203066885471344,0.21035388112068176,0.2118743509054184,0.21263159811496735,0.21336352825164795,0.21829386055469513,0.21897466480731964,0.22161252796649933,0.22305592894554138,0.226816788315773,0.23554669320583344,0.23605461418628693,0.23943576216697693,0.25085118412971497,0.254448264837265,0.2556694746017456,0.25676053762435913,0.2569856345653534,0.25871750712394714,0.26077502965927124,0.2678649127483368,0.2678653597831726,0.2735872268676758,0.2744102478027344,0.28813913464546204,0.2917114794254303,0.29312023520469666,0.29328402876853943,0.2954210937023163,0.2999395728111267,0.3002625107765198,0.3012446165084839,0.30139532685279846,0.30288058519363403,0.30316200852394104,0.3153694272041321,0.3276016414165497,0.3280397355556488,0.3339601159095764,0.3359469473361969,0.3385396897792816,0.34035664796829224,0.34315595030784607,0.34377557039260864,0.3450988829135895,0.3484460115432739,0.3522486686706543,0.3567258417606354,0.35696572065353394,0.35743460059165955,0.35813483595848083,0.3604789674282074,0.3608717918395996,0.3702496588230133,0.37078481912612915,0.37236112356185913,0.3726370632648468,0.3868284523487091,0.3890419900417328,0.3892688751220703,0.39022305607795715,0.3936019539833069,0.39401310682296753,0.4010868966579437,0.4048570394515991,0.4072569012641907,0.4088127613067627,0.4096519947052002,0.4122513234615326,0.41608476638793945,0.4187588095664978,0.41882869601249695,0.4195185601711273,0.41998371481895447,0.42127320170402527,0.42294248938560486,0.42296943068504333,0.42351609468460083,0.4288666248321533,0.42940741777420044,0.42994827032089233,0.4324267506599426,0.4345574378967285,0.43535587191581726,0.43667879700660706,0.43752971291542053,0.44171711802482605,0.4433799088001251,0.4447220265865326,0.44508475065231323,0.4463338255882263,0.4483575224876404,0.449365496635437,0.45809948444366455,0.4582446813583374,0.4596080183982849,0.46187034249305725,0.4664278030395508,0.4668481945991516,0.4673999845981598,0.4680477976799011,0.4683120548725128,0.4691953957080841,0.47032079100608826,0.4703225791454315,0.4705740511417389,0.47110527753829956,0.47172412276268005,0.47290095686912537,0.47343331575393677,0.47348752617836,0.4737068712711334,0.4771042466163635,0.47785502672195435,0.48118671774864197,0.4826432764530182,0.4846596121788025,0.48917683959007263,0.4905368685722351,0.49081477522850037,0.4918628931045532,0.4938030242919922,0.4979405403137207,0.5002113580703735,0.5006417036056519,0.5022289752960205,0.5027778744697571,0.5052595734596252,0.5052607655525208,0.5052613615989685,0.5052615404129028,0.5052616000175476,0.5052618384361267,0.5052619576454163,0.5070616006851196,0.509149968624115,0.5092703700065613,0.5105323195457458,0.5138777494430542,0.5177504420280457,0.519730269908905,0.5232273936271667,0.5239862203598022,0.5254621505737305,0.5256760120391846,0.5335115790367126,0.5354844927787781,0.5404200553894043,0.5423600077629089,0.5442630648612976,0.5513961315155029,0.5532016158103943,0.5550757646560669,0.5557941794395447,0.5566309690475464,0.558227002620697,0.5612325668334961,0.565064549446106,0.5667797923088074,0.5673710703849792,0.5677425265312195,0.5685319900512695,0.5688344240188599,0.5733099579811096,0.5734034180641174,0.5764690637588501,0.5805966258049011,0.5827023386955261,0.5856212377548218,0.5862415432929993,0.5902203321456909,0.5918603539466858,0.5923737287521362,0.5928813815116882,0.592991292476654,0.5934870839118958,0.5962408781051636,0.599669337272644,0.601103663444519,0.6031430959701538,0.6040503978729248,0.6073654890060425,0.6086942553520203,0.6090459227561951,0.6098809838294983,0.6106716990470886,0.6120040416717529,0.612385094165802,0.6135189533233643,0.6141347885131836,0.6167886257171631,0.6175902485847473,0.6186863780021667,0.6210388541221619,0.6220163702964783,0.6230789422988892,0.6339775323867798,0.6349630951881409,0.6365845203399658,0.6372042298316956,0.6372242569923401,0.6372461318969727,0.6373113989830017,0.6435651779174805,0.6438260674476624,0.6439875364303589,0.6444400548934937,0.6455503702163696,0.6459156274795532,0.6468756198883057,0.6468756794929504,0.6468778252601624,0.6468791365623474,0.6468794941902161,0.6468796730041504,0.6468798518180847,0.6468799710273743,0.6468800902366638,0.6468801498413086,0.6468808650970459,0.6468819975852966,0.6468825340270996,0.6468827724456787,0.6468830108642578,0.646885871887207,0.6477559804916382,0.6478883624076843,0.6494900584220886,0.6498276591300964,0.650762140750885,0.6540436148643494,0.6553512811660767,0.6560679078102112,0.6564026474952698,0.660950243473053,0.662920355796814,0.6639426350593567,0.666180431842804,0.671749472618103,0.6720871925354004,0.6733705997467041,0.6740615963935852,0.674107551574707,0.6751229166984558,0.6763373017311096,0.6764524579048157,0.6768194437026978,0.6807814240455627,0.6846900582313538,0.689271092414856,0.6908689141273499,0.6919841766357422,0.6920128464698792,0.6956184506416321,0.7021403312683105,0.7031509876251221,0.7035434246063232,0.7042351961135864,0.70423823595047,0.7074923515319824,0.7104255557060242,0.7141014933586121,0.7143386006355286,0.7158554792404175,0.7183915972709656,0.7211231589317322,0.7223479151725769,0.7223483920097351,0.7223486304283142,0.7223488092422485,0.7223495244979858,0.7223498821258545,0.7223501205444336,0.7235234379768372,0.7265528440475464,0.7283886075019836,0.7287985682487488,0.7333037257194519,0.7349952459335327,0.7350316643714905,0.737645149230957,0.7388051152229309,0.7395205497741699,0.7399744987487793,0.7413173913955688,0.7417969107627869,0.7422793507575989,0.7465139627456665,0.7492759823799133,0.7530204057693481,0.7566026449203491,0.7581678032875061,0.7622385621070862,0.7644346952438354,0.7659341096878052,0.7665473222732544,0.7676059007644653,0.76839280128479,0.7730258703231812,0.7807065844535828,0.7843612432479858,0.7890725135803223,0.790639340877533,0.8019196391105652,0.8021088242530823,0.8075557947158813,0.8094521164894104,0.8101560473442078,0.8106476664543152,0.8137542009353638,0.8143022060394287,0.8143332600593567,0.8144431114196777,0.8146496415138245,0.8197197914123535,0.8204267024993896,0.8206932544708252,0.8208181262016296,0.8217656016349792,0.822536051273346,0.8265064358711243,0.8287948966026306,0.8312464952468872,0.8323590159416199,0.8342015743255615,0.8354398608207703,0.8371638655662537,0.8377846479415894,0.838466227054596,0.8386169672012329,0.8402596712112427,0.8411385416984558,0.843029797077179,0.8448435068130493,0.8450862765312195,0.8522440195083618,0.8542227149009705,0.8557417988777161,0.856042206287384,0.856723427772522,0.8570389151573181,0.8575924038887024,0.8593874573707581,0.8607915639877319,0.8619887232780457,0.8650246262550354,0.8666526079177856,0.8700990080833435,0.8707587718963623,0.8717511892318726,0.8794214725494385,0.8806090354919434,0.8829166293144226,0.8866033554077148,0.8906753659248352,0.8934364914894104,0.8935273289680481,0.8976665735244751,0.9022722244262695,0.9036311507225037,0.9058169722557068,0.9063061475753784,0.906623363494873,0.9081267714500427,0.9090204238891602,0.909414529800415,0.9106049537658691,0.9142785668373108,0.9208589196205139,0.921322226524353,0.9214505553245544,0.9238540530204773,0.9270680546760559,0.9289548397064209,0.9329788088798523,0.9333592653274536,0.9375734329223633,0.9418228268623352,0.9418238401412964,0.9456163644790649,0.9479730725288391,0.9479739665985107,0.9553650617599487,0.9590910077095032,0.9614797234535217,0.9627453684806824,0.963597297668457,0.9644994139671326,0.9646831154823303,0.9667540192604065,0.9671472311019897,0.9683582186698914,0.9717257022857666,0.9744009375572205,0.9746163487434387,0.9746192097663879,0.9756610989570618,0.9777854084968567,0.9790812134742737,0.9794275760650635,0.9810013771057129,0.9847108125686646,0.9855117201805115,0.9858437180519104,0.9872956275939941,0.9932820200920105,0.9933691620826721,0.9988212585449219,1.0018768310546875,1.001876950263977,1.0018771886825562,1.0018783807754517,1.0042579174041748,1.0064449310302734,1.0101450681686401,1.0123708248138428,1.0123709440231323,1.012372374534607,1.0123724937438965,1.0123724937438965,1.012372612953186,1.012372612953186,1.0123727321624756,1.0123728513717651,1.0123733282089233,1.012373447418213,1.0123738050460815,1.0123738050460815,1.0123738050460815,1.012373924255371,1.0123744010925293,1.0123745203018188,1.0123748779296875,1.0123755931854248,1.0123769044876099,1.0128028392791748,1.0182297229766846,1.0204346179962158,1.0210710763931274,1.0216516256332397,1.0219426155090332,1.0219451189041138,1.0225614309310913,1.0246394872665405,1.0247927904129028,1.0258126258850098,1.027104377746582,1.034442663192749,1.0349793434143066,1.0362824201583862,1.0392401218414307,1.0392954349517822,1.044672966003418,1.0458308458328247,1.0465450286865234,1.0505459308624268,1.050889492034912,1.0529029369354248,1.053911566734314,1.0568047761917114,1.0602697134017944,1.0612478256225586,1.0723613500595093,1.0738327503204346,1.0796812772750854,1.0803751945495605,1.0839753150939941,1.0854885578155518,1.08790922164917,1.0884767770767212,1.0888334512710571,1.0903867483139038,1.0936975479125977,1.096039056777954,1.1060326099395752,1.1085968017578125,1.111085295677185,1.1224087476730347,1.122410774230957,1.1307740211486816,1.132163166999817,1.13880455493927,1.1399788856506348,1.140481948852539,1.141289472579956,1.1452138423919678,1.148492455482483,1.1485888957977295,1.1523038148880005,1.1572130918502808,1.162176251411438,1.162854790687561,1.1672450304031372,1.1714305877685547,1.1769185066223145,1.1769194602966309,1.178781270980835,1.181932806968689,1.1819652318954468,1.187351107597351,1.1874879598617554,1.1885231733322144,1.1886318922042847,1.1936273574829102,1.1943042278289795,1.1990240812301636,1.2004680633544922,1.2045235633850098,1.2053391933441162,1.206525444984436,1.2071055173873901,1.2073779106140137,1.209747076034546,1.2130266427993774,1.2170330286026,1.2272772789001465,1.229276418685913,1.2332724332809448,1.2353107929229736,1.2361321449279785,1.2364784479141235,1.2409799098968506,1.2477662563323975,1.2504342794418335,1.251460313796997,1.2517176866531372,1.2528525590896606,1.2540796995162964,1.2615196704864502,1.2636163234710693,1.2652802467346191,1.2684533596038818,1.2687174081802368,1.2693320512771606,1.2737473249435425,1.2758878469467163,1.276201844215393,1.2762126922607422,1.2774206399917603,1.280411720275879,1.2835533618927002,1.283556342124939,1.283557653427124,1.2835583686828613,1.2835599184036255,1.2835625410079956,1.2863048315048218,1.2934198379516602,1.295238971710205,1.2982171773910522,1.2988115549087524,1.3019896745681763,1.3076791763305664,1.313512921333313,1.3188445568084717,1.3191875219345093,1.319893717765808,1.3287084102630615,1.3301936388015747,1.3367184400558472,1.3382484912872314,1.3384590148925781,1.3387868404388428,1.3402808904647827,1.3410241603851318,1.3438447713851929,1.3527663946151733,1.3619962930679321,1.3626420497894287,1.384320855140686,1.389378547668457,1.39139723777771,1.3975578546524048,1.4011991024017334,1.4014408588409424,1.4062116146087646,1.4098331928253174,1.418304204940796,1.4240537881851196,1.42470121383667,1.4253365993499756,1.4272980690002441,1.4272985458374023,1.4272990226745605,1.427300214767456,1.4273008108139038,1.4356130361557007,1.4356136322021484,1.4356142282485962,1.4356156587600708,1.4356156587600708,1.4377716779708862,1.4404882192611694,1.4414982795715332,1.4430292844772339,1.4497212171554565,1.4584637880325317,1.4595175981521606,1.4610544443130493,1.461054801940918,1.4676963090896606,1.4694147109985352,1.4813511371612549,1.4813525676727295,1.4889878034591675,1.4915825128555298,1.4937876462936401,1.4960837364196777,1.4976826906204224,1.5087648630142212,1.5156879425048828,1.5157371759414673,1.5183223485946655,1.5280214548110962,1.5314676761627197,1.5315784215927124,1.5359529256820679,1.5378475189208984,1.5379072427749634,1.5396299362182617,1.5396308898925781,1.5403704643249512,1.5440089702606201,1.5447022914886475,1.5458675622940063,1.550744891166687,1.5518627166748047,1.5524441003799438,1.5534769296646118,1.5681544542312622,1.576899528503418,1.5979419946670532,1.607086420059204,1.6091413497924805,1.6097040176391602,1.6116645336151123,1.616530179977417,1.616878867149353,1.6175436973571777,1.6183782815933228,1.6320585012435913,1.6360591650009155,1.6413273811340332,1.6446716785430908,1.6481698751449585,1.6518744230270386,1.6553317308425903,1.6583752632141113,1.6661556959152222,1.6810765266418457,1.683247685432434,1.693375587463379,1.6962558031082153,1.7021507024765015,1.7021515369415283,1.7023310661315918,1.7024887800216675,1.7042207717895508,1.7053015232086182,1.7092100381851196,1.7099689245224,1.7231943607330322,1.7250592708587646,1.7256096601486206,1.7270207405090332,1.7421780824661255,1.749589204788208,1.7538663148880005,1.767347812652588,1.7675588130950928,1.7681050300598145,1.7682908773422241,1.770453691482544,1.7737994194030762,1.7780585289001465,1.7837152481079102,1.7905608415603638,1.8011128902435303,1.8085204362869263,1.8095256090164185,1.8180285692214966,1.8290132284164429,1.8290146589279175,1.8318524360656738,1.8318527936935425,1.8355834484100342,1.8355865478515625,1.8396542072296143,1.8479573726654053,1.850355625152588,1.8532308340072632,1.8590242862701416,1.863403558731079,1.866330862045288,1.86835515499115,1.8717014789581299,1.8763235807418823,1.8793113231658936,1.8798704147338867,1.8839434385299683,1.8854000568389893,1.8854029178619385,1.8887405395507812,1.8893518447875977,1.8899246454238892,1.899297833442688,1.8999930620193481,1.8999931812286377,1.8999933004379272,1.8999937772750854,1.8999937772750854,1.9030808210372925,1.9034647941589355,1.9100440740585327,1.911115288734436,1.9111171960830688,1.9185689687728882,1.9351606369018555,1.9354804754257202,1.9455946683883667,1.9494327306747437,1.949434518814087,1.9611843824386597,1.9629199504852295,1.964443564414978,1.9709991216659546,1.9835599660873413,1.9936538934707642,1.994370937347412,1.9964953660964966,2.0000741481781006,2.0082650184631348,2.008267402648926,2.008268117904663,2.018117666244507,2.0185024738311768,2.018502950668335,2.0185039043426514,2.0185039043426514,2.0185043811798096,2.0185043811798096,2.0185043811798096,2.0185046195983887,2.018505096435547,2.018505334854126,2.018505811691284,2.018505811691284,2.0185062885284424,2.019390106201172,2.0201289653778076,2.022979259490967,2.022982358932495,2.033325672149658,2.042959451675415,2.0531444549560547,2.0531866550445557,2.0586960315704346,2.0601842403411865,2.0664234161376953,2.093595027923584,2.098421812057495,2.103663206100464,2.1068577766418457,2.121962547302246,2.1219656467437744,2.1243326663970947,2.1245028972625732,2.1264147758483887,2.1277058124542236,2.130826234817505,2.134491205215454,2.1358208656311035,2.1363818645477295,2.137434720993042,2.1374361515045166,2.1374409198760986,2.1394245624542236,2.144747495651245,2.1474523544311523,2.150651693344116,2.1658384799957275,2.168067455291748,2.1725780963897705,2.176633834838867,2.2052066326141357,2.225787878036499,2.2273712158203125,2.230764627456665,2.2433419227600098,2.2507288455963135,2.2524588108062744,2.2537147998809814,2.274888753890991,2.275317907333374,2.2798614501953125,2.28328800201416,2.2959346771240234,2.307525873184204,2.328669548034668,2.329007863998413,2.3496291637420654,2.351163148880005,2.3597006797790527,2.3661913871765137,2.369985342025757,2.3795478343963623,2.3813068866729736,2.3841443061828613,2.3889753818511963,2.4124794006347656,2.4174487590789795,2.4230103492736816,2.4487292766571045,2.4487688541412354,2.467794418334961,2.486464738845825,2.4864649772644043,2.4864673614501953,2.486469030380249,2.4885215759277344,2.4885222911834717,2.4885244369506836,2.4930663108825684,2.500066041946411,2.513584613800049,2.5231869220733643,2.5447919368743896,2.5617177486419678,2.578813314437866,2.59275221824646,2.610138177871704,2.6535210609436035,2.6570045948028564,2.6667401790618896,2.678298234939575,2.6788690090179443,2.683882713317871,2.6913836002349854,2.6984541416168213,2.715160369873047,2.7345755100250244,2.7407829761505127,2.747931480407715,2.7524616718292236,2.757817506790161,2.762934684753418,2.765597343444824,2.766774892807007,2.766775369644165,2.7667758464813232,2.771845579147339,2.772361993789673,2.776484251022339,2.7992422580718994,2.800104856491089,2.8001065254211426,2.8090648651123047,2.8370792865753174,2.844224214553833,2.8481104373931885,2.8534717559814453,2.87589430809021,2.8830549716949463,2.901435375213623,2.908656120300293,2.936446189880371,2.9382975101470947,2.9399988651275635,2.9630825519561768,2.9633257389068604,2.9959917068481445,3.000178098678589,3.0114598274230957,3.0443453788757324,3.0475380420684814,3.0475382804870605,3.0475382804870605,3.0560734272003174,3.076068639755249,3.07629656791687,3.07965087890625,3.0832650661468506,3.0861446857452393,3.091221332550049,3.1016523838043213,3.10539174079895,3.105959177017212,3.1180009841918945,3.1220688819885254,3.122737169265747,3.1404759883880615,3.1811766624450684,3.202258586883545,3.2258195877075195,3.235325574874878,3.3049333095550537,3.355112314224243,3.355938196182251,3.3720479011535645,3.3726627826690674,3.415501832962036,3.425771951675415,3.4609341621398926,3.469383716583252,3.5012638568878174,3.534111976623535,3.5367023944854736,3.5775856971740723,3.6057138442993164,3.60571551322937,3.626386880874634,3.6280534267425537,3.668240547180176,3.6682441234588623,3.7770068645477295,3.798943042755127,3.845371961593628,3.906243324279785,3.9478931427001953,3.9873080253601074,3.9873132705688477,4.0146379470825195,4.044940948486328,4.049130439758301,4.098026275634766,4.114952087402344,4.144172191619873,4.15856409072876,4.19238805770874,4.194583892822266,4.210463047027588,4.224699974060059,4.226948261260986,4.261238098144531,4.325080394744873,4.363929271697998,4.367347240447998,4.370025634765625,4.376589298248291,4.439864635467529,4.472238063812256,4.476317882537842,4.552165985107422,4.582627773284912,4.60257625579834,4.8142008781433105,4.868141174316406,4.910966396331787,4.929132461547852,5.089169979095459,5.230278491973877,5.44887113571167,5.465041637420654,5.542730808258057,5.598012447357178,5.6349616050720215,5.656589508056641,7.102981090545654],\"type\":\"scatter\"},{\"hoverinfo\":\"text\",\"hovertext\":[\"(14.966737747192383, 15.668963432312012)\",\"(14.923943519592285, 16.381738662719727)\",\"(11.159640312194824, 11.57007122039795)\",\"(10.597748756408691, 14.349425315856934)\",\"(9.696914672851562, 9.995741844177246)\",\"(8.990959167480469, 12.242020606994629)\",\"(8.096048355102539, 8.330218315124512)\",\"(8.048998832702637, 8.281835556030273)\",\"(7.388981819152832, 11.368901252746582)\",\"(7.26777982711792, 7.723903179168701)\",\"(7.246639251708984, 8.045547485351562)\",\"(7.243951797485352, 7.7785515785217285)\",\"(7.2070231437683105, 7.3995585441589355)\",\"(7.074110507965088, 13.627967834472656)\",\"(6.512042999267578, 15.011222839355469)\",\"(6.4877519607543945, 6.4889140129089355)\",\"(6.3783183097839355, 7.150905609130859)\",\"(6.091374397277832, 15.322726249694824)\",\"(6.060149669647217, 7.451579570770264)\",\"(6.018146991729736, 16.428024291992188)\",\"(5.978343486785889, 6.221506118774414)\",\"(5.914176940917969, 6.5724196434021)\",\"(5.831096649169922, 7.767075538635254)\",\"(5.771482944488525, 16.347530364990234)\",\"(5.683910369873047, 7.145863056182861)\",\"(5.52530574798584, 7.816138744354248)\",\"(5.464851379394531, 5.6445417404174805)\",\"(5.421905040740967, 6.215134620666504)\",\"(5.41211462020874, 7.491560935974121)\",\"(5.230235576629639, 5.485824108123779)\",\"(5.196601867675781, 5.740877628326416)\",\"(4.937840938568115, 5.829280853271484)\",\"(4.857856273651123, 5.824838161468506)\",\"(4.838226795196533, 6.7279815673828125)\",\"(4.803390026092529, 6.1422624588012695)\",\"(4.775435447692871, 4.904417991638184)\",\"(4.641739368438721, 13.822936058044434)\",\"(4.604789733886719, 4.866814613342285)\",\"(4.600942611694336, 6.3125786781311035)\",\"(4.565354347229004, 7.277565002441406)\",\"(4.421054363250732, 4.696728706359863)\",\"(4.419932842254639, 5.010686874389648)\",\"(4.309656143188477, 4.433025360107422)\",\"(4.300581455230713, 6.089272499084473)\",\"(4.296339511871338, 5.009383201599121)\",\"(4.274415016174316, 4.982680320739746)\",\"(4.20534086227417, 6.220071792602539)\",\"(4.198329448699951, 4.489810943603516)\",\"(4.1703057289123535, 9.057599067687988)\",\"(4.0702619552612305, 5.027085781097412)\",\"(4.057738780975342, 5.803378582000732)\",\"(3.987307548522949, 5.799720764160156)\",\"(3.987307548522949, 4.468240261077881)\",\"(3.9259393215179443, 5.480868339538574)\",\"(3.8791868686676025, 5.4528045654296875)\",\"(3.870959520339966, 5.954296112060547)\",\"(3.8167338371276855, 4.1649322509765625)\",\"(3.7538092136383057, 4.076078414916992)\",\"(3.7412519454956055, 4.462001323699951)\",\"(3.715928554534912, 3.9832959175109863)\",\"(3.611231803894043, 5.435219764709473)\",\"(3.5418801307678223, 4.744115829467773)\",\"(3.5415523052215576, 3.9019854068756104)\",\"(3.525390863418579, 4.152368068695068)\",\"(3.4716410636901855, 5.090053081512451)\",\"(3.425222873687744, 3.4486308097839355)\",\"(3.3698573112487793, 4.586004257202148)\",\"(3.2739322185516357, 4.224440574645996)\",\"(3.2708120346069336, 3.4591574668884277)\",\"(3.2699546813964844, 4.7991156578063965)\",\"(3.2285077571868896, 3.8162074089050293)\",\"(3.216075897216797, 3.3042044639587402)\",\"(3.2160744667053223, 3.3042049407958984)\",\"(3.21081805229187, 3.5611765384674072)\",\"(3.0918128490448, 4.258942127227783)\",\"(3.0375401973724365, 3.533447742462158)\",\"(3.0282421112060547, 3.6079554557800293)\",\"(3.0239741802215576, 3.9360909461975098)\",\"(3.014512538909912, 3.033735513687134)\",\"(2.9667794704437256, 3.474595308303833)\",\"(2.9630823135375977, 5.515316486358643)\",\"(2.9283154010772705, 3.1381072998046875)\",\"(2.9190807342529297, 3.574361562728882)\",\"(2.9190804958343506, 3.1241326332092285)\",\"(2.9015896320343018, 3.075427293777466)\",\"(2.890353202819824, 3.5106139183044434)\",\"(2.88840913772583, 2.9292755126953125)\",\"(2.8719840049743652, 3.1049299240112305)\",\"(2.871220827102661, 4.038159370422363)\",\"(2.8583226203918457, 3.410557270050049)\",\"(2.819978952407837, 4.247718334197998)\",\"(2.8068466186523438, 3.0518686771392822)\",\"(2.7416229248046875, 3.0337235927581787)\",\"(2.7351009845733643, 4.003887176513672)\",\"(2.7320396900177, 2.963006019592285)\",\"(2.715160846710205, 3.012190341949463)\",\"(2.6850082874298096, 3.2067861557006836)\",\"(2.6789345741271973, 4.1389923095703125)\",\"(2.663297176361084, 2.8186395168304443)\",\"(2.6274867057800293, 3.8531248569488525)\",\"(2.544968843460083, 2.795542001724243)\",\"(2.5112268924713135, 2.8633275032043457)\",\"(2.4864659309387207, 3.694286823272705)\",\"(2.486436605453491, 3.9873054027557373)\",\"(2.4839460849761963, 2.8050894737243652)\",\"(2.4381890296936035, 2.871737241744995)\",\"(2.39909029006958, 2.500636339187622)\",\"(2.3745388984680176, 2.6431162357330322)\",\"(2.3464741706848145, 2.6279451847076416)\",\"(2.3385751247406006, 2.603001117706299)\",\"(2.3184497356414795, 2.5821869373321533)\",\"(2.276632785797119, 2.6007578372955322)\",\"(2.27315092086792, 2.3975155353546143)\",\"(2.2674155235290527, 2.3272879123687744)\",\"(2.2610573768615723, 2.6919357776641846)\",\"(2.228977918624878, 2.3545429706573486)\",\"(2.217801809310913, 2.347508668899536)\",\"(2.20275616645813, 2.8370792865753174)\",\"(2.2027549743652344, 3.5112593173980713)\",\"(2.1671690940856934, 2.2315995693206787)\",\"(2.1630613803863525, 2.3861896991729736)\",\"(2.160318613052368, 2.5221548080444336)\",\"(2.155076503753662, 2.326348304748535)\",\"(2.1075544357299805, 2.117882251739502)\",\"(2.086994171142578, 2.2321255207061768)\",\"(2.001960039138794, 2.265591859817505)\",\"(1.9833462238311768, 3.1664535999298096)\",\"(1.9541500806808472, 2.1955771446228027)\",\"(1.9526965618133545, 1.9627610445022583)\",\"(1.9354788064956665, 1.9662787914276123)\",\"(1.8999894857406616, 2.9075193405151367)\",\"(1.8502856492996216, 2.5048553943634033)\",\"(1.828622817993164, 2.712010145187378)\",\"(1.8244974613189697, 1.8867851495742798)\",\"(1.8217586278915405, 1.9276549816131592)\",\"(1.807706356048584, 1.9384665489196777)\",\"(1.7725555896759033, 1.8455524444580078)\",\"(1.7616990804672241, 2.4676945209503174)\",\"(1.7453233003616333, 1.8533381223678589)\",\"(1.7444078922271729, 2.029843330383301)\",\"(1.740776777267456, 2.6526083946228027)\",\"(1.7361726760864258, 1.9144923686981201)\",\"(1.7323001623153687, 2.7567710876464844)\",\"(1.724153757095337, 1.8192269802093506)\",\"(1.691201090812683, 2.0255329608917236)\",\"(1.6602721214294434, 1.8294694423675537)\",\"(1.65989351272583, 2.3222734928131104)\",\"(1.659232258796692, 1.6754778623580933)\",\"(1.649051547050476, 1.6914645433425903)\",\"(1.6426736116409302, 1.9557523727416992)\",\"(1.6406512260437012, 1.705173373222351)\",\"(1.629670262336731, 1.9269318580627441)\",\"(1.6280603408813477, 1.9639577865600586)\",\"(1.599127173423767, 1.9549784660339355)\",\"(1.5712765455245972, 1.6902962923049927)\",\"(1.5526937246322632, 1.6587326526641846)\",\"(1.5295742750167847, 1.721078634262085)\",\"(1.497280240058899, 1.4980778694152832)\",\"(1.4971916675567627, 1.6288331747055054)\",\"(1.4810762405395508, 1.8333323001861572)\",\"(1.464801549911499, 1.8996721506118774)\",\"(1.4499951601028442, 2.016139030456543)\",\"(1.435564398765564, 1.54634428024292)\",\"(1.431516170501709, 1.4711837768554688)\",\"(1.413630485534668, 1.653961420059204)\",\"(1.3955742120742798, 1.682716727256775)\",\"(1.389357089996338, 1.4702811241149902)\",\"(1.3670142889022827, 1.9513546228408813)\",\"(1.3623743057250977, 1.4143304824829102)\",\"(1.3475710153579712, 1.3724621534347534)\",\"(1.3347280025482178, 1.387264370918274)\",\"(1.3129862546920776, 1.4842188358306885)\",\"(1.3024334907531738, 1.3952479362487793)\",\"(1.2923334836959839, 1.3740028142929077)\",\"(1.2835577726364136, 1.397240161895752)\",\"(1.2403947114944458, 1.550296664237976)\",\"(1.2215360403060913, 1.2604724168777466)\",\"(1.2183196544647217, 1.3572018146514893)\",\"(1.1756855249404907, 1.176878809928894)\",\"(1.15880286693573, 1.5264395475387573)\",\"(1.1281622648239136, 1.262026071548462)\",\"(0.989352822303772, 1.1649693250656128)\",\"(0.9822272062301636, 1.095532774925232)\",\"(0.9732639193534851, 1.2912261486053467)\",\"(0.9592686295509338, 1.0858126878738403)\",\"(0.9425649642944336, 1.1121621131896973)\",\"(0.9414834380149841, 1.062520146369934)\",\"(0.933788001537323, 0.9370925426483154)\",\"(0.9313796162605286, 0.9396767616271973)\",\"(0.908176839351654, 0.9334980845451355)\",\"(0.902536928653717, 0.9056533575057983)\",\"(0.8035423159599304, 1.00990891456604)\",\"(0.7427061796188354, 0.8452588319778442)\",\"(0.7215287089347839, 0.979224443435669)\",\"(0.698706328868866, 0.8540724515914917)\",\"(0.675727367401123, 0.7215280532836914)\",\"(0.6589146852493286, 0.6949804425239563)\",\"(0.6454111933708191, 0.7520232200622559)\",\"(0.6140007376670837, 0.6211375594139099)\",\"(0.6118841171264648, 0.685589611530304)\",\"(0.513683021068573, 0.593514084815979)\",\"(0.47376298904418945, 0.5288109183311462)\",\"(0.45094987750053406, 0.46357330679893494)\"],\"mode\":\"markers\",\"name\":\"H1\",\"x\":[14.966737747192383,14.923943519592285,11.159640312194824,10.597748756408691,9.696914672851562,8.990959167480469,8.096048355102539,8.048998832702637,7.388981819152832,7.26777982711792,7.246639251708984,7.243951797485352,7.2070231437683105,7.074110507965088,6.512042999267578,6.4877519607543945,6.3783183097839355,6.091374397277832,6.060149669647217,6.018146991729736,5.978343486785889,5.914176940917969,5.831096649169922,5.771482944488525,5.683910369873047,5.52530574798584,5.464851379394531,5.421905040740967,5.41211462020874,5.230235576629639,5.196601867675781,4.937840938568115,4.857856273651123,4.838226795196533,4.803390026092529,4.775435447692871,4.641739368438721,4.604789733886719,4.600942611694336,4.565354347229004,4.421054363250732,4.419932842254639,4.309656143188477,4.300581455230713,4.296339511871338,4.274415016174316,4.20534086227417,4.198329448699951,4.1703057289123535,4.0702619552612305,4.057738780975342,3.987307548522949,3.987307548522949,3.9259393215179443,3.8791868686676025,3.870959520339966,3.8167338371276855,3.7538092136383057,3.7412519454956055,3.715928554534912,3.611231803894043,3.5418801307678223,3.5415523052215576,3.525390863418579,3.4716410636901855,3.425222873687744,3.3698573112487793,3.2739322185516357,3.2708120346069336,3.2699546813964844,3.2285077571868896,3.216075897216797,3.2160744667053223,3.21081805229187,3.0918128490448,3.0375401973724365,3.0282421112060547,3.0239741802215576,3.014512538909912,2.9667794704437256,2.9630823135375977,2.9283154010772705,2.9190807342529297,2.9190804958343506,2.9015896320343018,2.890353202819824,2.88840913772583,2.8719840049743652,2.871220827102661,2.8583226203918457,2.819978952407837,2.8068466186523438,2.7416229248046875,2.7351009845733643,2.7320396900177,2.715160846710205,2.6850082874298096,2.6789345741271973,2.663297176361084,2.6274867057800293,2.544968843460083,2.5112268924713135,2.4864659309387207,2.486436605453491,2.4839460849761963,2.4381890296936035,2.39909029006958,2.3745388984680176,2.3464741706848145,2.3385751247406006,2.3184497356414795,2.276632785797119,2.27315092086792,2.2674155235290527,2.2610573768615723,2.228977918624878,2.217801809310913,2.20275616645813,2.2027549743652344,2.1671690940856934,2.1630613803863525,2.160318613052368,2.155076503753662,2.1075544357299805,2.086994171142578,2.001960039138794,1.9833462238311768,1.9541500806808472,1.9526965618133545,1.9354788064956665,1.8999894857406616,1.8502856492996216,1.828622817993164,1.8244974613189697,1.8217586278915405,1.807706356048584,1.7725555896759033,1.7616990804672241,1.7453233003616333,1.7444078922271729,1.740776777267456,1.7361726760864258,1.7323001623153687,1.724153757095337,1.691201090812683,1.6602721214294434,1.65989351272583,1.659232258796692,1.649051547050476,1.6426736116409302,1.6406512260437012,1.629670262336731,1.6280603408813477,1.599127173423767,1.5712765455245972,1.5526937246322632,1.5295742750167847,1.497280240058899,1.4971916675567627,1.4810762405395508,1.464801549911499,1.4499951601028442,1.435564398765564,1.431516170501709,1.413630485534668,1.3955742120742798,1.389357089996338,1.3670142889022827,1.3623743057250977,1.3475710153579712,1.3347280025482178,1.3129862546920776,1.3024334907531738,1.2923334836959839,1.2835577726364136,1.2403947114944458,1.2215360403060913,1.2183196544647217,1.1756855249404907,1.15880286693573,1.1281622648239136,0.989352822303772,0.9822272062301636,0.9732639193534851,0.9592686295509338,0.9425649642944336,0.9414834380149841,0.933788001537323,0.9313796162605286,0.908176839351654,0.902536928653717,0.8035423159599304,0.7427061796188354,0.7215287089347839,0.698706328868866,0.675727367401123,0.6589146852493286,0.6454111933708191,0.6140007376670837,0.6118841171264648,0.513683021068573,0.47376298904418945,0.45094987750053406],\"y\":[15.668963432312012,16.381738662719727,11.57007122039795,14.349425315856934,9.995741844177246,12.242020606994629,8.330218315124512,8.281835556030273,11.368901252746582,7.723903179168701,8.045547485351562,7.7785515785217285,7.3995585441589355,13.627967834472656,15.011222839355469,6.4889140129089355,7.150905609130859,15.322726249694824,7.451579570770264,16.428024291992188,6.221506118774414,6.5724196434021,7.767075538635254,16.347530364990234,7.145863056182861,7.816138744354248,5.6445417404174805,6.215134620666504,7.491560935974121,5.485824108123779,5.740877628326416,5.829280853271484,5.824838161468506,6.7279815673828125,6.1422624588012695,4.904417991638184,13.822936058044434,4.866814613342285,6.3125786781311035,7.277565002441406,4.696728706359863,5.010686874389648,4.433025360107422,6.089272499084473,5.009383201599121,4.982680320739746,6.220071792602539,4.489810943603516,9.057599067687988,5.027085781097412,5.803378582000732,5.799720764160156,4.468240261077881,5.480868339538574,5.4528045654296875,5.954296112060547,4.1649322509765625,4.076078414916992,4.462001323699951,3.9832959175109863,5.435219764709473,4.744115829467773,3.9019854068756104,4.152368068695068,5.090053081512451,3.4486308097839355,4.586004257202148,4.224440574645996,3.4591574668884277,4.7991156578063965,3.8162074089050293,3.3042044639587402,3.3042049407958984,3.5611765384674072,4.258942127227783,3.533447742462158,3.6079554557800293,3.9360909461975098,3.033735513687134,3.474595308303833,5.515316486358643,3.1381072998046875,3.574361562728882,3.1241326332092285,3.075427293777466,3.5106139183044434,2.9292755126953125,3.1049299240112305,4.038159370422363,3.410557270050049,4.247718334197998,3.0518686771392822,3.0337235927581787,4.003887176513672,2.963006019592285,3.012190341949463,3.2067861557006836,4.1389923095703125,2.8186395168304443,3.8531248569488525,2.795542001724243,2.8633275032043457,3.694286823272705,3.9873054027557373,2.8050894737243652,2.871737241744995,2.500636339187622,2.6431162357330322,2.6279451847076416,2.603001117706299,2.5821869373321533,2.6007578372955322,2.3975155353546143,2.3272879123687744,2.6919357776641846,2.3545429706573486,2.347508668899536,2.8370792865753174,3.5112593173980713,2.2315995693206787,2.3861896991729736,2.5221548080444336,2.326348304748535,2.117882251739502,2.2321255207061768,2.265591859817505,3.1664535999298096,2.1955771446228027,1.9627610445022583,1.9662787914276123,2.9075193405151367,2.5048553943634033,2.712010145187378,1.8867851495742798,1.9276549816131592,1.9384665489196777,1.8455524444580078,2.4676945209503174,1.8533381223678589,2.029843330383301,2.6526083946228027,1.9144923686981201,2.7567710876464844,1.8192269802093506,2.0255329608917236,1.8294694423675537,2.3222734928131104,1.6754778623580933,1.6914645433425903,1.9557523727416992,1.705173373222351,1.9269318580627441,1.9639577865600586,1.9549784660339355,1.6902962923049927,1.6587326526641846,1.721078634262085,1.4980778694152832,1.6288331747055054,1.8333323001861572,1.8996721506118774,2.016139030456543,1.54634428024292,1.4711837768554688,1.653961420059204,1.682716727256775,1.4702811241149902,1.9513546228408813,1.4143304824829102,1.3724621534347534,1.387264370918274,1.4842188358306885,1.3952479362487793,1.3740028142929077,1.397240161895752,1.550296664237976,1.2604724168777466,1.3572018146514893,1.176878809928894,1.5264395475387573,1.262026071548462,1.1649693250656128,1.095532774925232,1.2912261486053467,1.0858126878738403,1.1121621131896973,1.062520146369934,0.9370925426483154,0.9396767616271973,0.9334980845451355,0.9056533575057983,1.00990891456604,0.8452588319778442,0.979224443435669,0.8540724515914917,0.7215280532836914,0.6949804425239563,0.7520232200622559,0.6211375594139099,0.685589611530304,0.593514084815979,0.5288109183311462,0.46357330679893494],\"type\":\"scatter\"},{\"hoverinfo\":\"text\",\"hovertext\":[\"(17.726755142211914, 17.751951217651367)\",\"(14.042454719543457, 14.47387409210205)\",\"(6.9232306480407715, 6.938796043395996)\",\"(6.376616477966309, 6.464282035827637)\"],\"mode\":\"markers\",\"name\":\"H2\",\"x\":[17.726755142211914,14.042454719543457,6.9232306480407715,6.376616477966309],\"y\":[17.751951217651367,14.47387409210205,6.938796043395996,6.464282035827637],\"type\":\"scatter\"}],                        {\"template\":{\"data\":{\"histogram2dcontour\":[{\"type\":\"histogram2dcontour\",\"colorbar\":{\"outlinewidth\":0,\"ticks\":\"\"},\"colorscale\":[[0.0,\"#0d0887\"],[0.1111111111111111,\"#46039f\"],[0.2222222222222222,\"#7201a8\"],[0.3333333333333333,\"#9c179e\"],[0.4444444444444444,\"#bd3786\"],[0.5555555555555556,\"#d8576b\"],[0.6666666666666666,\"#ed7953\"],[0.7777777777777778,\"#fb9f3a\"],[0.8888888888888888,\"#fdca26\"],[1.0,\"#f0f921\"]]}],\"choropleth\":[{\"type\":\"choropleth\",\"colorbar\":{\"outlinewidth\":0,\"ticks\":\"\"}}],\"histogram2d\":[{\"type\":\"histogram2d\",\"colorbar\":{\"outlinewidth\":0,\"ticks\":\"\"},\"colorscale\":[[0.0,\"#0d0887\"],[0.1111111111111111,\"#46039f\"],[0.2222222222222222,\"#7201a8\"],[0.3333333333333333,\"#9c179e\"],[0.4444444444444444,\"#bd3786\"],[0.5555555555555556,\"#d8576b\"],[0.6666666666666666,\"#ed7953\"],[0.7777777777777778,\"#fb9f3a\"],[0.8888888888888888,\"#fdca26\"],[1.0,\"#f0f921\"]]}],\"heatmap\":[{\"type\":\"heatmap\",\"colorbar\":{\"outlinewidth\":0,\"ticks\":\"\"},\"colorscale\":[[0.0,\"#0d0887\"],[0.1111111111111111,\"#46039f\"],[0.2222222222222222,\"#7201a8\"],[0.3333333333333333,\"#9c179e\"],[0.4444444444444444,\"#bd3786\"],[0.5555555555555556,\"#d8576b\"],[0.6666666666666666,\"#ed7953\"],[0.7777777777777778,\"#fb9f3a\"],[0.8888888888888888,\"#fdca26\"],[1.0,\"#f0f921\"]]}],\"heatmapgl\":[{\"type\":\"heatmapgl\",\"colorbar\":{\"outlinewidth\":0,\"ticks\":\"\"},\"colorscale\":[[0.0,\"#0d0887\"],[0.1111111111111111,\"#46039f\"],[0.2222222222222222,\"#7201a8\"],[0.3333333333333333,\"#9c179e\"],[0.4444444444444444,\"#bd3786\"],[0.5555555555555556,\"#d8576b\"],[0.6666666666666666,\"#ed7953\"],[0.7777777777777778,\"#fb9f3a\"],[0.8888888888888888,\"#fdca26\"],[1.0,\"#f0f921\"]]}],\"contourcarpet\":[{\"type\":\"contourcarpet\",\"colorbar\":{\"outlinewidth\":0,\"ticks\":\"\"}}],\"contour\":[{\"type\":\"contour\",\"colorbar\":{\"outlinewidth\":0,\"ticks\":\"\"},\"colorscale\":[[0.0,\"#0d0887\"],[0.1111111111111111,\"#46039f\"],[0.2222222222222222,\"#7201a8\"],[0.3333333333333333,\"#9c179e\"],[0.4444444444444444,\"#bd3786\"],[0.5555555555555556,\"#d8576b\"],[0.6666666666666666,\"#ed7953\"],[0.7777777777777778,\"#fb9f3a\"],[0.8888888888888888,\"#fdca26\"],[1.0,\"#f0f921\"]]}],\"surface\":[{\"type\":\"surface\",\"colorbar\":{\"outlinewidth\":0,\"ticks\":\"\"},\"colorscale\":[[0.0,\"#0d0887\"],[0.1111111111111111,\"#46039f\"],[0.2222222222222222,\"#7201a8\"],[0.3333333333333333,\"#9c179e\"],[0.4444444444444444,\"#bd3786\"],[0.5555555555555556,\"#d8576b\"],[0.6666666666666666,\"#ed7953\"],[0.7777777777777778,\"#fb9f3a\"],[0.8888888888888888,\"#fdca26\"],[1.0,\"#f0f921\"]]}],\"mesh3d\":[{\"type\":\"mesh3d\",\"colorbar\":{\"outlinewidth\":0,\"ticks\":\"\"}}],\"scatter\":[{\"fillpattern\":{\"fillmode\":\"overlay\",\"size\":10,\"solidity\":0.2},\"type\":\"scatter\"}],\"parcoords\":[{\"type\":\"parcoords\",\"line\":{\"colorbar\":{\"outlinewidth\":0,\"ticks\":\"\"}}}],\"scatterpolargl\":[{\"type\":\"scatterpolargl\",\"marker\":{\"colorbar\":{\"outlinewidth\":0,\"ticks\":\"\"}}}],\"bar\":[{\"error_x\":{\"color\":\"#2a3f5f\"},\"error_y\":{\"color\":\"#2a3f5f\"},\"marker\":{\"line\":{\"color\":\"#E5ECF6\",\"width\":0.5},\"pattern\":{\"fillmode\":\"overlay\",\"size\":10,\"solidity\":0.2}},\"type\":\"bar\"}],\"scattergeo\":[{\"type\":\"scattergeo\",\"marker\":{\"colorbar\":{\"outlinewidth\":0,\"ticks\":\"\"}}}],\"scatterpolar\":[{\"type\":\"scatterpolar\",\"marker\":{\"colorbar\":{\"outlinewidth\":0,\"ticks\":\"\"}}}],\"histogram\":[{\"marker\":{\"pattern\":{\"fillmode\":\"overlay\",\"size\":10,\"solidity\":0.2}},\"type\":\"histogram\"}],\"scattergl\":[{\"type\":\"scattergl\",\"marker\":{\"colorbar\":{\"outlinewidth\":0,\"ticks\":\"\"}}}],\"scatter3d\":[{\"type\":\"scatter3d\",\"line\":{\"colorbar\":{\"outlinewidth\":0,\"ticks\":\"\"}},\"marker\":{\"colorbar\":{\"outlinewidth\":0,\"ticks\":\"\"}}}],\"scattermapbox\":[{\"type\":\"scattermapbox\",\"marker\":{\"colorbar\":{\"outlinewidth\":0,\"ticks\":\"\"}}}],\"scatterternary\":[{\"type\":\"scatterternary\",\"marker\":{\"colorbar\":{\"outlinewidth\":0,\"ticks\":\"\"}}}],\"scattercarpet\":[{\"type\":\"scattercarpet\",\"marker\":{\"colorbar\":{\"outlinewidth\":0,\"ticks\":\"\"}}}],\"carpet\":[{\"aaxis\":{\"endlinecolor\":\"#2a3f5f\",\"gridcolor\":\"white\",\"linecolor\":\"white\",\"minorgridcolor\":\"white\",\"startlinecolor\":\"#2a3f5f\"},\"baxis\":{\"endlinecolor\":\"#2a3f5f\",\"gridcolor\":\"white\",\"linecolor\":\"white\",\"minorgridcolor\":\"white\",\"startlinecolor\":\"#2a3f5f\"},\"type\":\"carpet\"}],\"table\":[{\"cells\":{\"fill\":{\"color\":\"#EBF0F8\"},\"line\":{\"color\":\"white\"}},\"header\":{\"fill\":{\"color\":\"#C8D4E3\"},\"line\":{\"color\":\"white\"}},\"type\":\"table\"}],\"barpolar\":[{\"marker\":{\"line\":{\"color\":\"#E5ECF6\",\"width\":0.5},\"pattern\":{\"fillmode\":\"overlay\",\"size\":10,\"solidity\":0.2}},\"type\":\"barpolar\"}],\"pie\":[{\"automargin\":true,\"type\":\"pie\"}]},\"layout\":{\"autotypenumbers\":\"strict\",\"colorway\":[\"#636efa\",\"#EF553B\",\"#00cc96\",\"#ab63fa\",\"#FFA15A\",\"#19d3f3\",\"#FF6692\",\"#B6E880\",\"#FF97FF\",\"#FECB52\"],\"font\":{\"color\":\"#2a3f5f\"},\"hovermode\":\"closest\",\"hoverlabel\":{\"align\":\"left\"},\"paper_bgcolor\":\"white\",\"plot_bgcolor\":\"#E5ECF6\",\"polar\":{\"bgcolor\":\"#E5ECF6\",\"angularaxis\":{\"gridcolor\":\"white\",\"linecolor\":\"white\",\"ticks\":\"\"},\"radialaxis\":{\"gridcolor\":\"white\",\"linecolor\":\"white\",\"ticks\":\"\"}},\"ternary\":{\"bgcolor\":\"#E5ECF6\",\"aaxis\":{\"gridcolor\":\"white\",\"linecolor\":\"white\",\"ticks\":\"\"},\"baxis\":{\"gridcolor\":\"white\",\"linecolor\":\"white\",\"ticks\":\"\"},\"caxis\":{\"gridcolor\":\"white\",\"linecolor\":\"white\",\"ticks\":\"\"}},\"coloraxis\":{\"colorbar\":{\"outlinewidth\":0,\"ticks\":\"\"}},\"colorscale\":{\"sequential\":[[0.0,\"#0d0887\"],[0.1111111111111111,\"#46039f\"],[0.2222222222222222,\"#7201a8\"],[0.3333333333333333,\"#9c179e\"],[0.4444444444444444,\"#bd3786\"],[0.5555555555555556,\"#d8576b\"],[0.6666666666666666,\"#ed7953\"],[0.7777777777777778,\"#fb9f3a\"],[0.8888888888888888,\"#fdca26\"],[1.0,\"#f0f921\"]],\"sequentialminus\":[[0.0,\"#0d0887\"],[0.1111111111111111,\"#46039f\"],[0.2222222222222222,\"#7201a8\"],[0.3333333333333333,\"#9c179e\"],[0.4444444444444444,\"#bd3786\"],[0.5555555555555556,\"#d8576b\"],[0.6666666666666666,\"#ed7953\"],[0.7777777777777778,\"#fb9f3a\"],[0.8888888888888888,\"#fdca26\"],[1.0,\"#f0f921\"]],\"diverging\":[[0,\"#8e0152\"],[0.1,\"#c51b7d\"],[0.2,\"#de77ae\"],[0.3,\"#f1b6da\"],[0.4,\"#fde0ef\"],[0.5,\"#f7f7f7\"],[0.6,\"#e6f5d0\"],[0.7,\"#b8e186\"],[0.8,\"#7fbc41\"],[0.9,\"#4d9221\"],[1,\"#276419\"]]},\"xaxis\":{\"gridcolor\":\"white\",\"linecolor\":\"white\",\"ticks\":\"\",\"title\":{\"standoff\":15},\"zerolinecolor\":\"white\",\"automargin\":true,\"zerolinewidth\":2},\"yaxis\":{\"gridcolor\":\"white\",\"linecolor\":\"white\",\"ticks\":\"\",\"title\":{\"standoff\":15},\"zerolinecolor\":\"white\",\"automargin\":true,\"zerolinewidth\":2},\"scene\":{\"xaxis\":{\"backgroundcolor\":\"#E5ECF6\",\"gridcolor\":\"white\",\"linecolor\":\"white\",\"showbackground\":true,\"ticks\":\"\",\"zerolinecolor\":\"white\",\"gridwidth\":2},\"yaxis\":{\"backgroundcolor\":\"#E5ECF6\",\"gridcolor\":\"white\",\"linecolor\":\"white\",\"showbackground\":true,\"ticks\":\"\",\"zerolinecolor\":\"white\",\"gridwidth\":2},\"zaxis\":{\"backgroundcolor\":\"#E5ECF6\",\"gridcolor\":\"white\",\"linecolor\":\"white\",\"showbackground\":true,\"ticks\":\"\",\"zerolinecolor\":\"white\",\"gridwidth\":2}},\"shapedefaults\":{\"line\":{\"color\":\"#2a3f5f\"}},\"annotationdefaults\":{\"arrowcolor\":\"#2a3f5f\",\"arrowhead\":0,\"arrowwidth\":1},\"geo\":{\"bgcolor\":\"white\",\"landcolor\":\"#E5ECF6\",\"subunitcolor\":\"white\",\"showland\":true,\"showlakes\":true,\"lakecolor\":\"white\"},\"title\":{\"x\":0.05},\"mapbox\":{\"style\":\"light\"}}},\"xaxis\":{\"title\":{\"text\":\"Birth\"},\"side\":\"bottom\",\"type\":\"linear\",\"range\":[-0.35503902435302737,18.106990242004393],\"autorange\":false,\"ticks\":\"outside\",\"showline\":true,\"zeroline\":true,\"linewidth\":1,\"linecolor\":\"black\",\"mirror\":false,\"showexponent\":\"all\",\"exponentformat\":\"e\"},\"yaxis\":{\"title\":{\"text\":\"Death\"},\"side\":\"left\",\"type\":\"linear\",\"range\":[-0.35503902435302737,18.106990242004393],\"autorange\":false,\"scaleanchor\":\"x\",\"scaleratio\":1,\"ticks\":\"outside\",\"showline\":true,\"zeroline\":true,\"linewidth\":1,\"linecolor\":\"black\",\"mirror\":false,\"showexponent\":\"all\",\"exponentformat\":\"e\"},\"width\":500,\"height\":500,\"plot_bgcolor\":\"white\"},                        {\"responsive\": true}                    ).then(function(){\n",
       "                            \n",
       "var gd = document.getElementById('007fbe8a-fc4e-4c14-975c-f8258af08105');\n",
       "var x = new MutationObserver(function (mutations, observer) {{\n",
       "        var display = window.getComputedStyle(gd).display;\n",
       "        if (!display || display === 'none') {{\n",
       "            console.log([gd, 'removed!']);\n",
       "            Plotly.purge(gd);\n",
       "            observer.disconnect();\n",
       "        }}\n",
       "}});\n",
       "\n",
       "// Listen for the removal of the full notebook cells\n",
       "var notebookContainer = gd.closest('#notebook-container');\n",
       "if (notebookContainer) {{\n",
       "    x.observe(notebookContainer, {childList: true});\n",
       "}}\n",
       "\n",
       "// Listen for the clearing of the current output cell\n",
       "var outputEl = gd.closest('.output');\n",
       "if (outputEl) {{\n",
       "    x.observe(outputEl, {childList: true});\n",
       "}}\n",
       "\n",
       "                        })                };                });            </script>        </div>"
      ]
     },
     "metadata": {},
     "output_type": "display_data"
    }
   ],
   "source": [
    "from gtda.plotting import plot_diagram\n",
    "\n",
    "i = 0\n",
    "\n",
    "plot = plot_diagram(diagrams[i])\n",
    "\n",
    "plot.show()"
   ]
  },
  {
   "cell_type": "code",
   "execution_count": 160,
   "id": "cf18c7d5",
   "metadata": {},
   "outputs": [
    {
     "name": "stdout",
     "output_type": "stream",
     "text": [
      "scaled diagram\n"
     ]
    },
    {
     "data": {
      "application/vnd.plotly.v1+json": {
       "config": {
        "plotlyServerURL": "https://plot.ly"
       },
       "data": [
        {
         "hoverinfo": "none",
         "line": {
          "color": "black",
          "dash": "dash",
          "width": 1
         },
         "mode": "lines",
         "showlegend": false,
         "type": "scatter",
         "x": [
          -0.06714021037099036,
          3.424150728920508
         ],
         "y": [
          -0.06714021037099036,
          3.424150728920508
         ]
        },
        {
         "hoverinfo": "text",
         "hovertext": [
          "(0.0, 0.0018425794609875147)",
          "(0.0, 0.0032144708145722695)",
          "(0.0, 0.007656206526733443)",
          "(0.0, 0.008004840849323605)",
          "(0.0, 0.009260143925635378)",
          "(0.0, 0.011778055503217621)",
          "(0.0, 0.01212975289116173)",
          "(0.0, 0.013829389243592045)",
          "(0.0, 0.013842908154388323)",
          "(0.0, 0.014289168879174849)",
          "(0.0, 0.015421897210041724)",
          "(0.0, 0.01875213963709591)",
          "(0.0, 0.019130419754585962)",
          "(0.0, 0.019541910319848723)",
          "(0.0, 0.019585841496360234)",
          "(0.0, 0.01986528632937532)",
          "(0.0, 0.022274335098966487)",
          "(0.0, 0.023214321380942354)",
          "(0.0, 0.02355716349485263)",
          "(0.0, 0.02366506257850972)",
          "(0.0, 0.02435950768046589)",
          "(0.0, 0.024460636741572055)",
          "(0.0, 0.024838904178478772)",
          "(0.0, 0.026122776609060074)",
          "(0.0, 0.028082924274622164)",
          "(0.0, 0.02848640352912019)",
          "(0.0, 0.029466015225086104)",
          "(0.0, 0.03000826796577158)",
          "(0.0, 0.03158915629101887)",
          "(0.0, 0.03238624367036002)",
          "(0.0, 0.03258483005921799)",
          "(0.0, 0.033940302699163045)",
          "(0.0, 0.03467043096264361)",
          "(0.0, 0.03468771600669246)",
          "(0.0, 0.035361700282949465)",
          "(0.0, 0.03541927013132215)",
          "(0.0, 0.036289369491639134)",
          "(0.0, 0.03646579867453751)",
          "(0.0, 0.036664097636839726)",
          "(0.0, 0.03697341087944005)",
          "(0.0, 0.03818557602017603)",
          "(0.0, 0.038401281196545706)",
          "(0.0, 0.03977929991367284)",
          "(0.0, 0.040066830731999015)",
          "(0.0, 0.04021003115072653)",
          "(0.0, 0.04034844394476559)",
          "(0.0, 0.04128080215138439)",
          "(0.0, 0.041409546705102024)",
          "(0.0, 0.041908383946331895)",
          "(0.0, 0.04218134054753699)",
          "(0.0, 0.04289254374485647)",
          "(0.0, 0.0445434260722442)",
          "(0.0, 0.04463947726419875)",
          "(0.0, 0.04527887454491359)",
          "(0.0, 0.04743760578142624)",
          "(0.0, 0.048117837358409736)",
          "(0.0, 0.04834877614223426)",
          "(0.0, 0.048555103322745666)",
          "(0.0, 0.04859767063207106)",
          "(0.0, 0.04892517910281345)",
          "(0.0, 0.049314270122079416)",
          "(0.0, 0.05065501355999589)",
          "(0.0, 0.05065509809721817)",
          "(0.0, 0.051737140727513356)",
          "(0.0, 0.051892779389545673)",
          "(0.0, 0.054489002022987)",
          "(0.0, 0.055164555873671)",
          "(0.0, 0.0554309608401494)",
          "(0.0, 0.0554619352783928)",
          "(0.0, 0.05586606828740978)",
          "(0.0, 0.05672054235114201)",
          "(0.0, 0.05678161204051709)",
          "(0.0, 0.05696733468205145)",
          "(0.0, 0.05699583499758945)",
          "(0.0, 0.05727670710070737)",
          "(0.0, 0.05732992610004004)",
          "(0.0, 0.05963842911535877)",
          "(0.0, 0.06195162112860663)",
          "(0.0, 0.06203446760644104)",
          "(0.0, 0.06315405039924338)",
          "(0.0, 0.06352977326575947)",
          "(0.0, 0.06402007788335387)",
          "(0.0, 0.06436367660540356)",
          "(0.0, 0.06489304305550615)",
          "(0.0, 0.06501021728140106)",
          "(0.0, 0.06526046436679434)",
          "(0.0, 0.06589342836489367)",
          "(0.0, 0.06661253579249633)",
          "(0.0, 0.06745919861688988)",
          "(0.0, 0.06750456129036533)",
          "(0.0, 0.06759322956490743)",
          "(0.0, 0.06772564866988684)",
          "(0.0, 0.06816893932026392)",
          "(0.0, 0.06824322499538878)",
          "(0.0, 0.07001664120856396)",
          "(0.0, 0.07011784353526278)",
          "(0.0, 0.07041593305265172)",
          "(0.0, 0.07046811506205776)",
          "(0.0, 0.07315179990566999)",
          "(0.0, 0.07357039441551168)",
          "(0.0, 0.07361329987372618)",
          "(0.0, 0.07379374175677546)",
          "(0.0, 0.07443271353347149)",
          "(0.0, 0.07451046523470982)",
          "(0.0, 0.07584816533262422)",
          "(0.0, 0.0765611240862597)",
          "(0.0, 0.07701495371034771)",
          "(0.0, 0.07730917705877105)",
          "(0.0, 0.07746788160406472)",
          "(0.0, 0.07795943173673404)",
          "(0.0, 0.07868436096104439)",
          "(0.0, 0.07919004008146413)",
          "(0.0, 0.0792032560672139)",
          "(0.0, 0.0793337139086364)",
          "(0.0, 0.07942167770632616)",
          "(0.0, 0.07966552814190025)",
          "(0.0, 0.07998120140152344)",
          "(0.0, 0.07998629617811952)",
          "(0.0, 0.08008967392933833)",
          "(0.0, 0.08110149430699293)",
          "(0.0, 0.08120376180269247)",
          "(0.0, 0.08130604057002164)",
          "(0.0, 0.08177473747360128)",
          "(0.0, 0.08217766441824707)",
          "(0.0, 0.08232865353305399)",
          "(0.0, 0.08257882735285463)",
          "(0.0, 0.08273974113755721)",
          "(0.0, 0.08353160693446886)",
          "(0.0, 0.08384605158646158)",
          "(0.0, 0.08409985487100544)",
          "(0.0, 0.08416844837316344)",
          "(0.0, 0.08440465664384342)",
          "(0.0, 0.0847873510132902)",
          "(0.0, 0.08497796554208716)",
          "(0.0, 0.08662961997610505)",
          "(0.0, 0.0866570776659016)",
          "(0.0, 0.08691489365059635)",
          "(0.0, 0.08734271398929619)",
          "(0.0, 0.08820455969881123)",
          "(0.0, 0.08828405850264336)",
          "(0.0, 0.08838840561401098)",
          "(0.0, 0.08851091132072435)",
          "(0.0, 0.08856088409072146)",
          "(0.0, 0.08872792964194677)",
          "(0.0, 0.08894074928112927)",
          "(0.0, 0.0889410874300184)",
          "(0.0, 0.08898864243545831)",
          "(0.0, 0.08908910083460106)",
          "(0.0, 0.08920612852931067)",
          "(0.0, 0.08942867558487021)",
          "(0.0, 0.08952934814497607)",
          "(0.0, 0.08953959969213121)",
          "(0.0, 0.0895810792891966)",
          "(0.0, 0.09022354527108022)",
          "(0.0, 0.09036552271799207)",
          "(0.0, 0.09099556736401535)",
          "(0.0, 0.09127101217746288)",
          "(0.0, 0.09165231450064945)",
          "(0.0, 0.0925065518601593)",
          "(0.0, 0.09276374226940917)",
          "(0.0, 0.09281629624259324)",
          "(0.0, 0.09301450221395095)",
          "(0.0, 0.09338139375864618)",
          "(0.0, 0.0941638252015514)",
          "(0.0, 0.09459325174747456)",
          "(0.0, 0.09467463291345611)",
          "(0.0, 0.09497479641069832)",
          "(0.0, 0.09507859684802854)",
          "(0.0, 0.0955479024196086)",
          "(0.0, 0.09554812785220135)",
          "(0.0, 0.09554824056849771)",
          "(0.0, 0.09554827438338663)",
          "(0.0, 0.09554828565501626)",
          "(0.0, 0.09554833074153482)",
          "(0.0, 0.0955483532847941)",
          "(0.0, 0.09588867759843413)",
          "(0.0, 0.09628360168603742)",
          "(0.0, 0.09630637037790483)",
          "(0.0, 0.09654501332058647)",
          "(0.0, 0.09717765607724115)",
          "(0.0, 0.09791000766966768)",
          "(0.0, 0.09828440611970136)",
          "(0.0, 0.09894573517378305)",
          "(0.0, 0.09908923429069597)",
          "(0.0, 0.09936834238377563)",
          "(0.0, 0.09940878499091439)",
          "(0.0, 0.10089054215140873)",
          "(0.0, 0.1012636330924045)",
          "(0.0, 0.10219698038452397)",
          "(0.0, 0.1025638381143303)",
          "(0.0, 0.10292371870539112)",
          "(0.0, 0.10427262843897984)",
          "(0.0, 0.10461405737232433)",
          "(0.0, 0.10496847122301105)",
          "(0.0, 0.10510432817502983)",
          "(0.0, 0.10526257058350837)",
          "(0.0, 0.10556439101030728)",
          "(0.0, 0.10613276293476986)",
          "(0.0, 0.10685741600415409)",
          "(0.0, 0.10718177969022766)",
          "(0.0, 0.10729359425623002)",
          "(0.0, 0.10736383905212989)",
          "(0.0, 0.10751313178667639)",
          "(0.0, 0.10757032403545622)",
          "(0.0, 0.10841667689003474)",
          "(0.0, 0.10843435080530608)",
          "(0.0, 0.10901408453244311)",
          "(0.0, 0.10979463361319888)",
          "(0.0, 0.11019283774502663)",
          "(0.0, 0.11074482071999653)",
          "(0.0, 0.11086212456963228)",
          "(0.0, 0.11161453966281326)",
          "(0.0, 0.11192467855228451)",
          "(0.0, 0.11202176109835088)",
          "(0.0, 0.11211776156797205)",
          "(0.0, 0.11213854645302329)",
          "(0.0, 0.11223230386834665)",
          "(0.0, 0.11275306442922113)",
          "(0.0, 0.1134014085659606)",
          "(0.0, 0.11367264906155342)",
          "(0.0, 0.11405831914122445)",
          "(0.0, 0.11422989588756396)",
          "(0.0, 0.11485680138473323)",
          "(0.0, 0.11510807982423832)",
          "(0.0, 0.1151745824390986)",
          "(0.0, 0.11533249797031765)",
          "(0.0, 0.11548202740908653)",
          "(0.0, 0.11573398214636986)",
          "(0.0, 0.11580604167464134)",
          "(0.0, 0.11602046188523235)",
          "(0.0, 0.1161369203626453)",
          "(0.0, 0.11663877840061797)",
          "(0.0, 0.11679037054761049)",
          "(0.0, 0.11699765581664107)",
          "(0.0, 0.11744252449516739)",
          "(0.0, 0.11762737922121966)",
          "(0.0, 0.11782831856276442)",
          "(0.0, 0.11988931349869175)",
          "(0.0, 0.12007568989474507)",
          "(0.0, 0.12038231203576948)",
          "(0.0, 0.12049950316910885)",
          "(0.0, 0.120503290436667)",
          "(0.0, 0.1205074271247439)",
          "(0.0, 0.12051976955919677)",
          "(0.0, 0.12170240021237554)",
          "(0.0, 0.12175173613529815)",
          "(0.0, 0.12178227097998569)",
          "(0.0, 0.12186784519219233)",
          "(0.0, 0.1220778131090766)",
          "(0.0, 0.12214688565549418)",
          "(0.0, 0.12232842652243309)",
          "(0.0, 0.12232843779406273)",
          "(0.0, 0.12232884357272968)",
          "(0.0, 0.1223290915485817)",
          "(0.0, 0.12232915917835951)",
          "(0.0, 0.12232919299324843)",
          "(0.0, 0.12232922680813735)",
          "(0.0, 0.12232924935139662)",
          "(0.0, 0.1223292718946559)",
          "(0.0, 0.12232928316628552)",
          "(0.0, 0.12232941842584118)",
          "(0.0, 0.12232963258680428)",
          "(0.0, 0.12232973403147102)",
          "(0.0, 0.12232977911798958)",
          "(0.0, 0.12232982420450812)",
          "(0.0, 0.12233036524273071)",
          "(0.0, 0.12249490849217652)",
          "(0.0, 0.12251994278160104)",
          "(0.0, 0.12282283401321549)",
          "(0.0, 0.12288667652348136)",
          "(0.0, 0.12306339313293548)",
          "(0.0, 0.12368394143098929)",
          "(0.0, 0.12393122971360276)",
          "(0.0, 0.12406674851673244)",
          "(0.0, 0.1241300499887757)",
          "(0.0, 0.12499003024358578)",
          "(0.0, 0.12536259141798858)",
          "(0.0, 0.12555591113789852)",
          "(0.0, 0.1259790932010026)",
          "(0.0, 0.12703223537290767)",
          "(0.0, 0.1270961004264328)",
          "(0.0, 0.1273388011557839)",
          "(0.0, 0.1274694731581695)",
          "(0.0, 0.12747816358461989)",
          "(0.0, 0.1276701757954919)",
          "(0.0, 0.12789982397772293)",
          "(0.0, 0.12792160076618225)",
          "(0.0, 0.12799100018985932)",
          "(0.0, 0.12874023668348258)",
          "(0.0, 0.12947938506858042)",
          "(0.0, 0.13034568870761704)",
          "(0.0, 0.13064784728330506)",
          "(0.0, 0.13085875074544923)",
          "(0.0, 0.13086417239930478)",
          "(0.0, 0.13154601581932643)",
          "(0.0, 0.13277934626261392)",
          "(0.0, 0.13297046801474455)",
          "(0.0, 0.13304468042427675)",
          "(0.0, 0.13317549895784767)",
          "(0.0, 0.13317607381095917)",
          "(0.0, 0.13379144843100943)",
          "(0.0, 0.1343461365970923)",
          "(0.0, 0.135041280540086)",
          "(0.0, 0.1350861190827833)",
          "(0.0, 0.13537297078542385)",
          "(0.0, 0.13585256735486279)",
          "(0.0, 0.13636912359788253)",
          "(0.0, 0.13660073304367049)",
          "(0.0, 0.13660082321670758)",
          "(0.0, 0.13660086830322613)",
          "(0.0, 0.13660090211811504)",
          "(0.0, 0.13660103737767068)",
          "(0.0, 0.13660110500744851)",
          "(0.0, 0.13660115009396706)",
          "(0.0, 0.13682303212337799)",
          "(0.0, 0.1373959126996955)",
          "(0.0, 0.13774306762089578)",
          "(0.0, 0.13782059388954138)",
          "(0.0, 0.13867254874404966)",
          "(0.0, 0.13899242632152756)",
          "(0.0, 0.13899931328723597)",
          "(0.0, 0.13949354043194417)",
          "(0.0, 0.13971289761631633)",
          "(0.0, 0.13984819098685328)",
          "(0.0, 0.1399340357181712)",
          "(0.0, 0.14018798553390036)",
          "(0.0, 0.1402786657943327)",
          "(0.0, 0.1403698983646173)",
          "(0.0, 0.14117069129220172)",
          "(0.0, 0.14169300733796616)",
          "(0.0, 0.14240110238341314)",
          "(0.0, 0.14307852732461693)",
          "(0.0, 0.1433745090472637)",
          "(0.0, 0.1441443162649751)",
          "(0.0, 0.14455961945896267)",
          "(0.0, 0.14484316857411947)",
          "(0.0, 0.14495913109982836)",
          "(0.0, 0.14515931524218742)",
          "(0.0, 0.1453081232966595)",
          "(0.0, 0.1461842670683695)",
          "(0.0, 0.14763674053506606)",
          "(0.0, 0.14832786050627922)",
          "(0.0, 0.1492187926560734)",
          "(0.0, 0.14951508998435)",
          "(0.0, 0.15164826843647483)",
          "(0.0, 0.15168404458894372)",
          "(0.0, 0.15271410246335154)",
          "(0.0, 0.15307270936026332)",
          "(0.0, 0.15320582730628024)",
          "(0.0, 0.153298795707529)",
          "(0.0, 0.1538862617725972)",
          "(0.0, 0.15398989313548286)",
          "(0.0, 0.15399576565452391)",
          "(0.0, 0.15401653926794553)",
          "(0.0, 0.1540555954646389)",
          "(0.0, 0.15501439409647946)",
          "(0.0, 0.15514807562397825)",
          "(0.0, 0.1551984823517164)",
          "(0.0, 0.15522209641580664)",
          "(0.0, 0.1554012702405217)",
          "(0.0, 0.1555469673252139)",
          "(0.0, 0.156297793118616)",
          "(0.0, 0.15673055606691183)",
          "(0.0, 0.15719416946552503)",
          "(0.0, 0.15740455443270587)",
          "(0.0, 0.1577529943196848)",
          "(0.0, 0.15798716242540042)",
          "(0.0, 0.15831318304103068)",
          "(0.0, 0.1584305770637035)",
          "(0.0, 0.15855946814860641)",
          "(0.0, 0.15858797409995926)",
          "(0.0, 0.15889862021276419)",
          "(0.0, 0.15906482039176667)",
          "(0.0, 0.1594224692001593)",
          "(0.0, 0.15976545361839375)",
          "(0.0, 0.15981136296590662)",
          "(0.0, 0.1611649391541652)",
          "(0.0, 0.1615391234432358)",
          "(0.0, 0.1618263921961729)",
          "(0.0, 0.16188320120954505)",
          "(0.0, 0.16201202466467016)",
          "(0.0, 0.16207168540034056)",
          "(0.0, 0.16217635375315284)",
          "(0.0, 0.1625158101513108)",
          "(0.0, 0.1627813359306775)",
          "(0.0, 0.16300772661194335)",
          "(0.0, 0.16358183579589133)",
          "(0.0, 0.16388969781617585)",
          "(0.0, 0.16454143471343619)",
          "(0.0, 0.16466620038189184)",
          "(0.0, 0.16485387301535345)",
          "(0.0, 0.16630437394686345)",
          "(0.0, 0.16652894989575773)",
          "(0.0, 0.16696533103716713)",
          "(0.0, 0.16766251514512517)",
          "(0.0, 0.16843255906705895)",
          "(0.0, 0.1689547060383788)",
          "(0.0, 0.16897188400194613)",
          "(0.0, 0.1697546423221108)",
          "(0.0, 0.17062560114418762)",
          "(0.0, 0.1708825830282892)",
          "(0.0, 0.17129593623034955)",
          "(0.0, 0.17138844249478316)",
          "(0.0, 0.17144843010771305)",
          "(0.0, 0.17173273442205553)",
          "(0.0, 0.17190172996520808)",
          "(0.0, 0.17197625798037014)",
          "(0.0, 0.172201374967487)",
          "(0.0, 0.17289607931692483)",
          "(0.0, 0.17414046722888654)",
          "(0.0, 0.17422808160605754)",
          "(0.0, 0.17425234942466672)",
          "(0.0, 0.1747068666181626)",
          "(0.0, 0.17531465543146693)",
          "(0.0, 0.17567145886763677)",
          "(0.0, 0.17643241785608285)",
          "(0.0, 0.17650436466805794)",
          "(0.0, 0.17730129142667678)",
          "(0.0, 0.17810487971841124)",
          "(0.0, 0.17810507133611508)",
          "(0.0, 0.1788222625866794)",
          "(0.0, 0.17926793155090995)",
          "(0.0, 0.17926810062535453)",
          "(0.0, 0.18066580524364326)",
          "(0.0, 0.18137040608390267)",
          "(0.0, 0.18182212791324848)",
          "(0.0, 0.18206146969696765)",
          "(0.0, 0.18222257509937406)",
          "(0.0, 0.1823931712139351)",
          "(0.0, 0.18242791037647738)",
          "(0.0, 0.18281953187659694)",
          "(0.0, 0.18289389081731444)",
          "(0.0, 0.18312289651665614)",
          "(0.0, 0.18375970977627665)",
          "(0.0, 0.18426561432928912)",
          "(0.0, 0.18430634999879844)",
          "(0.0, 0.18430689103702103)",
          "(0.0, 0.18450391912308164)",
          "(0.0, 0.18490564000335624)",
          "(0.0, 0.18515068523167189)",
          "(0.0, 0.18521618467149445)",
          "(0.0, 0.1855138007804386)",
          "(0.0, 0.1862152793792885)",
          "(0.0, 0.18636673626672534)",
          "(0.0, 0.1864295192438053)",
          "(0.0, 0.18670408487014115)",
          "(0.0, 0.18783615099276682)",
          "(0.0, 0.1878526301152966)",
          "(0.0, 0.1888836573498532)",
          "(0.0, 0.18946148617158154)",
          "(0.0, 0.1894615087148408)",
          "(0.0, 0.18946155380135934)",
          "(0.0, 0.1894617792339521)",
          "(0.0, 0.18991176523233377)",
          "(0.0, 0.19032534386698682)",
          "(0.0, 0.1910250640916133)",
          "(0.0, 0.19144596928553062)",
          "(0.0, 0.1914459918287899)",
          "(0.0, 0.19144626234790119)",
          "(0.0, 0.19144628489116047), multiplicity: 2",
          "(0.0, 0.19144628489116047), multiplicity: 2",
          "(0.0, 0.19144630743441973), multiplicity: 2",
          "(0.0, 0.19144630743441973), multiplicity: 2",
          "(0.0, 0.19144632997767902)",
          "(0.0, 0.19144635252093828)",
          "(0.0, 0.1914464426939754)",
          "(0.0, 0.19144646523723466)",
          "(0.0, 0.1914465328670125), multiplicity: 3",
          "(0.0, 0.1914465328670125), multiplicity: 3",
          "(0.0, 0.1914465328670125), multiplicity: 3",
          "(0.0, 0.19144655541027175)",
          "(0.0, 0.19144664558330887)",
          "(0.0, 0.19144666812656813)",
          "(0.0, 0.19144673575634596)",
          "(0.0, 0.1914468710159016)",
          "(0.0, 0.19144711899175362)",
          "(0.0, 0.19152766605714203)",
          "(0.0, 0.19255392539236205)",
          "(0.0, 0.19297088551590633)",
          "(0.0, 0.19309124397717378)",
          "(0.0, 0.19320102964984143)",
          "(0.0, 0.19325605774573087)",
          "(0.0, 0.19325653115417565)",
          "(0.0, 0.19337307980462567)",
          "(0.0, 0.19376605390030172)",
          "(0.0, 0.19379504453172894)",
          "(0.0, 0.19398790211482372)",
          "(0.0, 0.19423218087232405)",
          "(0.0, 0.1956198988267541)",
          "(0.0, 0.19572138858000868)",
          "(0.0, 0.19596780894714008)",
          "(0.0, 0.19652712975300388)",
          "(0.0, 0.19653758982530734)",
          "(0.0, 0.19755451625118764)",
          "(0.0, 0.19777347892852248)",
          "(0.0, 0.19790853559483704)",
          "(0.0, 0.19866513246261347)",
          "(0.0, 0.19873010213584308)",
          "(0.0, 0.1991108577849922)",
          "(0.0, 0.1993015963017152)",
          "(0.0, 0.1998487212043114)",
          "(0.0, 0.20050396357838893)",
          "(0.0, 0.2006889310207376)",
          "(0.0, 0.20279057145313714)",
          "(0.0, 0.2030688229023644)",
          "(0.0, 0.2041748177456389)",
          "(0.0, 0.20430604205787675)",
          "(0.0, 0.20498684848797175)",
          "(0.0, 0.2052730126212044)",
          "(0.0, 0.20573077604403583)",
          "(0.0, 0.20583810450144252)",
          "(0.0, 0.20590555393319232)",
          "(0.0, 0.20619929260154127)",
          "(0.0, 0.20682538654137664)",
          "(0.0, 0.2072681812400497)",
          "(0.0, 0.20915802775156372)",
          "(0.0, 0.20964293325856184)",
          "(0.0, 0.21011352379592058)",
          "(0.0, 0.2122548629079028)",
          "(0.0, 0.21225524614331048)",
          "(0.0, 0.21383679104098413)",
          "(0.0, 0.21409948764131187)",
          "(0.0, 0.2153554177020222)",
          "(0.0, 0.21557749134913698)",
          "(0.0, 0.21567262390327607)",
          "(0.0, 0.21582533194160267)",
          "(0.0, 0.2165674560369248)",
          "(0.0, 0.217187463296756)",
          "(0.0, 0.2172057007935092)",
          "(0.0, 0.21790821638228572)",
          "(0.0, 0.21883659288573512)",
          "(0.0, 0.21977515894237667)",
          "(0.0, 0.21990347517416808)",
          "(0.0, 0.2207336983267356)",
          "(0.0, 0.2215252147031285)",
          "(0.0, 0.22256301618709715)",
          "(0.0, 0.22256319653317136)",
          "(0.0, 0.22291527715652312)",
          "(0.0, 0.22351125330196756)",
          "(0.0, 0.22351738506849025)",
          "(0.0, 0.2245358895225198)",
          "(0.0, 0.22456176918416712)",
          "(0.0, 0.22475753484770833)",
          "(0.0, 0.22477809430016685)",
          "(0.0, 0.22572276958007184)",
          "(0.0, 0.2258507702062334)",
          "(0.0, 0.22674332547069537)",
          "(0.0, 0.22701639197028942)",
          "(0.0, 0.22778331365081367)",
          "(0.0, 0.22793755463077095)",
          "(0.0, 0.22816188260381318)",
          "(0.0, 0.2282715781034437)",
          "(0.0, 0.22832308945088634)",
          "(0.0, 0.2287711141857111)",
          "(0.0, 0.22939130179161651)",
          "(0.0, 0.2301489356493196)",
          "(0.0, 0.23208619063508826)",
          "(0.0, 0.23246424109312444)",
          "(0.0, 0.23321991368727063)",
          "(0.0, 0.23360538087760818)",
          "(0.0, 0.23376070393401066)",
          "(0.0, 0.23382619210220357)",
          "(0.0, 0.23467744811567434)",
          "(0.0, 0.23596079077966267)",
          "(0.0, 0.23646533146548904)",
          "(0.0, 0.2366593612980661)",
          "(0.0, 0.23670803219484013)",
          "(0.0, 0.23692264402313498)",
          "(0.0, 0.23715470433410843)",
          "(0.0, 0.23856165168869978)",
          "(0.0, 0.23895814253282266)",
          "(0.0, 0.23927280134577847)",
          "(0.0, 0.2398728578211516)",
          "(0.0, 0.239922791140445)",
          "(0.0, 0.24003902418526518)",
          "(0.0, 0.24087398142228036)",
          "(0.0, 0.24127876818581634)",
          "(0.0, 0.2413381471307458)",
          "(0.0, 0.2413401985673398)",
          "(0.0, 0.24156862941357002)",
          "(0.0, 0.24213426233203073)",
          "(0.0, 0.24272836738695536)",
          "(0.0, 0.24272893096843723)",
          "(0.0, 0.24272917894428925)",
          "(0.0, 0.2427293142038449)",
          "(0.0, 0.24272960726621548)",
          "(0.0, 0.24273010321791952)",
          "(0.0, 0.243248688354274)",
          "(0.0, 0.2445941827840826)",
          "(0.0, 0.24493819292061406)",
          "(0.0, 0.2455013911670731)",
          "(0.0, 0.2456137918578166)",
          "(0.0, 0.24621479515007927)",
          "(0.0, 0.24729071728548138)",
          "(0.0, 0.24839391676460584)",
          "(0.0, 0.24940216403566542)",
          "(0.0, 0.24946702099259865)",
          "(0.0, 0.24960056726054178)",
          "(0.0, 0.2512674834810886)",
          "(0.0, 0.2515483499483917)",
          "(0.0, 0.25278223270153144)",
          "(0.0, 0.2530715754343218)",
          "(0.0, 0.2531113868302009)",
          "(0.0, 0.2531733807932062)",
          "(0.0, 0.25345591546169566)",
          "(0.0, 0.2535964726832732)",
          "(0.0, 0.25412986874097115)",
          "(0.0, 0.25581700626508735)",
          "(0.0, 0.25756244065768785)",
          "(0.0, 0.25768455749317876)",
          "(0.0, 0.2617841619085736)",
          "(0.0, 0.26274060476982003)",
          "(0.0, 0.26312235232237724)",
          "(0.0, 0.2642873654184329)",
          "(0.0, 0.26497594927297763)",
          "(0.0, 0.2650216670027867)",
          "(0.0, 0.2659238482389589)",
          "(0.0, 0.2666087124557234)",
          "(0.0, 0.2682106364597813)",
          "(0.0, 0.2692979203978579)",
          "(0.0, 0.2694203528389786)",
          "(0.0, 0.2695405084109126)",
          "(0.0, 0.269911435199018)",
          "(0.0, 0.2699115253720551)",
          "(0.0, 0.2699116155450922)",
          "(0.0, 0.26991184097768495)",
          "(0.0, 0.2699119536939813)",
          "(0.0, 0.2714838500766854)",
          "(0.0, 0.27148396279298176)",
          "(0.0, 0.27148407550927817)",
          "(0.0, 0.27148434602838944), multiplicity: 2",
          "(0.0, 0.27148434602838944), multiplicity: 2",
          "(0.0, 0.2718920634156311)",
          "(0.0, 0.27240577920798226)",
          "(0.0, 0.27259678824381656)",
          "(0.0, 0.2728863113226811)",
          "(0.0, 0.2741517997253239)",
          "(0.0, 0.27580507727400955)",
          "(0.0, 0.2760043596859976)",
          "(0.0, 0.2762949873845667)",
          "(0.0, 0.2762950550143445)",
          "(0.0, 0.27755100761831414)",
          "(0.0, 0.2778759687007585)",
          "(0.0, 0.2801332252519311)",
          "(0.0, 0.28013349577104235)",
          "(0.0, 0.2815773689843256)",
          "(0.0, 0.2820680455656981)",
          "(0.0, 0.2824850507757609)",
          "(0.0, 0.28291925649265026)",
          "(0.0, 0.28322162922930144)",
          "(0.0, 0.2853173407845117)",
          "(0.0, 0.28662654056688813)",
          "(0.0, 0.28663585093296856)",
          "(0.0, 0.287124724053599)",
          "(0.0, 0.28895888871470465)",
          "(0.0, 0.28961059179707604)",
          "(0.0, 0.2896315344849422)",
          "(0.0, 0.29045878192728547)",
          "(0.0, 0.2908170619469378)",
          "(0.0, 0.2908283561198344)",
          "(0.0, 0.2911541287596126)",
          "(0.0, 0.2911543091056868)",
          "(0.0, 0.2912941674862269)",
          "(0.0, 0.2919822328458083)",
          "(0.0, 0.2921133444417498)",
          "(0.0, 0.29233370480115967)",
          "(0.0, 0.29325603971112346)",
          "(0.0, 0.293467427853342)",
          "(0.0, 0.2935773713288246)",
          "(0.0, 0.2937726861271803)",
          "(0.0, 0.29654830238211466)",
          "(0.0, 0.2982020533392451)",
          "(0.0, 0.3021813218366318)",
          "(0.0, 0.30391059271233234)",
          "(0.0, 0.3042991934157091)",
          "(0.0, 0.30440559759948554)",
          "(0.0, 0.30477634404151677)",
          "(0.0, 0.30569646971207165)",
          "(0.0, 0.30576240874545)",
          "(0.0, 0.30588813250242486)",
          "(0.0, 0.30604595786060684)",
          "(0.0, 0.3086329772084493)",
          "(0.0, 0.3093895289897072)",
          "(0.0, 0.3103857832468326)",
          "(0.0, 0.31101821184252415)",
          "(0.0, 0.3116797437859393)",
          "(0.0, 0.3123802981111589)",
          "(0.0, 0.31303409771664287)",
          "(0.0, 0.3136096496691844)",
          "(0.0, 0.31508098057226425)",
          "(0.0, 0.31790260761937816)",
          "(0.0, 0.3183131880005477)",
          "(0.0, 0.3202284407652643)",
          "(0.0, 0.3207731084525996)",
          "(0.0, 0.321887872623732)",
          "(0.0, 0.32188803042654685)",
          "(0.0, 0.32192198057501453)",
          "(0.0, 0.32195180530703493)",
          "(0.0, 0.32227933632103656)",
          "(0.0, 0.32248371350962074)",
          "(0.0, 0.3232228393514593)",
          "(0.0, 0.32336634974000183)",
          "(0.0, 0.3258673665537114)",
          "(0.0, 0.3262200333018043)",
          "(0.0, 0.3263241155298755)",
          "(0.0, 0.32659096008990973)",
          "(0.0, 0.3294573129634246)",
          "(0.0, 0.3308588048492715)",
          "(0.0, 0.33166763444878733)",
          "(0.0, 0.3342170741834189)",
          "(0.0, 0.33425697575233504)",
          "(0.0, 0.3343602689663316)",
          "(0.0, 0.3343954139075408)",
          "(0.0, 0.3348044162605611)",
          "(0.0, 0.33543711537536397)",
          "(0.0, 0.3362425409427294)",
          "(0.0, 0.3373122636818309)",
          "(0.0, 0.3386068103456788)",
          "(0.0, 0.34060227202689464)",
          "(0.0, 0.3420030876149633)",
          "(0.0, 0.3421931723771673)",
          "(0.0, 0.3438011379747109)",
          "(0.0, 0.3458784091438345)",
          "(0.0, 0.34587867966294583)",
          "(0.0, 0.3464153219499793)",
          "(0.0, 0.34641538957975715)",
          "(0.0, 0.34712088087875786)",
          "(0.0, 0.34712146700349905)",
          "(0.0, 0.3478906880964693)",
          "(0.0, 0.3494608711914685)",
          "(0.0, 0.3499143964815563)",
          "(0.0, 0.35045811735200205)",
          "(0.0, 0.35155369720949164)",
          "(0.0, 0.3523818463822059)",
          "(0.0, 0.35293541865695466)",
          "(0.0, 0.35331822574269783)",
          "(0.0, 0.35395103757379703)",
          "(0.0, 0.35482510736565376)",
          "(0.0, 0.3553901090728548)",
          "(0.0, 0.355495836958853)",
          "(0.0, 0.3562660724984906)",
          "(0.0, 0.3565415285835678)",
          "(0.0, 0.3565420696217904)",
          "(0.0, 0.3571732357949626)",
          "(0.0, 0.3572888376285231)",
          "(0.0, 0.35739715798933785)",
          "(0.0, 0.3591696893795865)",
          "(0.0, 0.3593011616676764)",
          "(0.0, 0.35930118421093565)",
          "(0.0, 0.3593012067541949)",
          "(0.0, 0.359301296927232), multiplicity: 2",
          "(0.0, 0.359301296927232), multiplicity: 2",
          "(0.0, 0.3598850771694089)",
          "(0.0, 0.35995768900753256)",
          "(0.0, 0.3612018740301608)",
          "(0.0, 0.36140444775800296)",
          "(0.0, 0.3614048084501514)",
          "(0.0, 0.3628139875874109)",
          "(0.0, 0.3659515809565186)",
          "(0.0, 0.36601206452115254)",
          "(0.0, 0.36792472481105254)",
          "(0.0, 0.3686505275866598)",
          "(0.0, 0.3686508657355489)",
          "(0.0, 0.3708728420859566)",
          "(0.0, 0.3712010493977365)",
          "(0.0, 0.3714891747945261)",
          "(0.0, 0.3727288737085587)",
          "(0.0, 0.375104211851812)",
          "(0.0, 0.3770130397876353)",
          "(0.0, 0.3771486374921724)",
          "(0.0, 0.3775503809157063)",
          "(0.0, 0.3782271521023911)",
          "(0.0, 0.3797760994471536)",
          "(0.0, 0.3797765503123391)",
          "(0.0, 0.37977668557189476)",
          "(0.0, 0.381639299826205)",
          "(0.0, 0.38171206946714364)",
          "(0.0, 0.38171215964018074)",
          "(0.0, 0.3817123399862549), multiplicity: 2",
          "(0.0, 0.3817123399862549), multiplicity: 2",
          "(0.0, 0.381712430159292), multiplicity: 3",
          "(0.0, 0.381712430159292), multiplicity: 3",
          "(0.0, 0.381712430159292), multiplicity: 3",
          "(0.0, 0.3817124752458106)",
          "(0.0, 0.3817125654188477)",
          "(0.0, 0.3817126105053662)",
          "(0.0, 0.3817127006784033), multiplicity: 2",
          "(0.0, 0.3817127006784033), multiplicity: 2",
          "(0.0, 0.38171279085144044)",
          "(0.0, 0.3818799265757028)",
          "(0.0, 0.3820196496966872)",
          "(0.0, 0.38255865902594455)",
          "(0.0, 0.3825592451506857)",
          "(0.0, 0.3845152335849116)",
          "(0.0, 0.38633704453993467)",
          "(0.0, 0.3882630955258438)",
          "(0.0, 0.38827107583962706)",
          "(0.0, 0.38931293511026516)",
          "(0.0, 0.38959436515905016)",
          "(0.0, 0.39077423426296776)",
          "(0.0, 0.39591256443596157)",
          "(0.0, 0.3968253410039929)",
          "(0.0, 0.39781652302778153)",
          "(0.0, 0.39842063728982413)",
          "(0.0, 0.4012770485859989)",
          "(0.0, 0.40127763471074)",
          "(0.0, 0.4017252536668978)",
          "(0.0, 0.40175744544114206)",
          "(0.0, 0.4021189942333892)",
          "(0.0, 0.40236313773133386)",
          "(0.0, 0.40295323008610756)",
          "(0.0, 0.403646300049248)",
          "(0.0, 0.4038977475631977)",
          "(0.0, 0.4040038361413443)",
          "(0.0, 0.4042029382072581)",
          "(0.0, 0.40420320872636945)",
          "(0.0, 0.40420411045674043)",
          "(0.0, 0.4045792302910709)",
          "(0.0, 0.4055858319042034)",
          "(0.0, 0.40609733845714563)",
          "(0.0, 0.4067023544495592)",
          "(0.0, 0.4095742755081149)",
          "(0.0, 0.40999578937003267)",
          "(0.0, 0.4108487812144676)",
          "(0.0, 0.4116157479815104)",
          "(0.0, 0.41701905162401864)",
          "(0.0, 0.42091110025127165)",
          "(0.0, 0.4212105198209578)",
          "(0.0, 0.42185223623947055)",
          "(0.0, 0.42423068535250374)",
          "(0.0, 0.42562760095671787)",
          "(0.0, 0.42595474873531186)",
          "(0.0, 0.4261922645150298)",
          "(0.0, 0.43019639822739647)",
          "(0.0, 0.43027755396078526)",
          "(0.0, 0.43113676774478)",
          "(0.0, 0.4317847511893711)",
          "(0.0, 0.43417632047930216)",
          "(0.0, 0.4363682917516153)",
          "(0.0, 0.4403666994761262)",
          "(0.0, 0.4404306772459477)",
          "(0.0, 0.44433030040831706)",
          "(0.0, 0.44462038706866347)",
          "(0.0, 0.44623489021139673)",
          "(0.0, 0.44746232559238386)",
          "(0.0, 0.4481797873620595)",
          "(0.0, 0.4499881174480363)",
          "(0.0, 0.45032076578189334)",
          "(0.0, 0.450857340439149)",
          "(0.0, 0.45177092856451423)",
          "(0.0, 0.4562156928226636)",
          "(0.0, 0.4571554311287874)",
          "(0.0, 0.4582071643469878)",
          "(0.0, 0.4630707823624605)",
          "(0.0, 0.4630782667245397)",
          "(0.0, 0.4666761258182583)",
          "(0.0, 0.4702068059993384)",
          "(0.0, 0.47020685108585697)",
          "(0.0, 0.47020730195104243)",
          "(0.0, 0.4702076175566723)",
          "(0.0, 0.47059576739486353)",
          "(0.0, 0.4705959026544192)",
          "(0.0, 0.47059630843308614)",
          "(0.0, 0.471455206611451)",
          "(0.0, 0.472778901709541)",
          "(0.0, 0.475335352397807)",
          "(0.0, 0.4771512119323816)",
          "(0.0, 0.4812368620702855)",
          "(0.0, 0.48443764419514)",
          "(0.0, 0.48767052792120175)",
          "(0.0, 0.4903064661416702)",
          "(0.0, 0.493594265247325)",
          "(0.0, 0.501798253249081)",
          "(0.0, 0.5024570123716054)",
          "(0.0, 0.5042980752700491)",
          "(0.0, 0.5064837795162839)",
          "(0.0, 0.506591716641691)",
          "(0.0, 0.5075398410402651)",
          "(0.0, 0.5089583080003457)",
          "(0.0, 0.5102953937944449)",
          "(0.0, 0.5134546512357155)",
          "(0.0, 0.5171261817007438)",
          "(0.0, 0.5183000542976943)",
          "(0.0, 0.5196518833833591)",
          "(0.0, 0.5205085723223151)",
          "(0.0, 0.5215213958750073)",
          "(0.0, 0.5224890878226318)",
          "(0.0, 0.5229926140617908)",
          "(0.0, 0.523215296376906)",
          "(0.0, 0.523215386549943)",
          "(0.0, 0.5232154767229802)",
          "(0.0, 0.5241741964534133)",
          "(0.0, 0.5242718538525911)",
          "(0.0, 0.5250513997583092)",
          "(0.0, 0.5293550882999177)",
          "(0.0, 0.5295182113240292)",
          "(0.0, 0.5295185269296591)",
          "(0.0, 0.5312126077776318)",
          "(0.0, 0.5365103187936976)",
          "(0.0, 0.5378614715815841)",
          "(0.0, 0.5385963818339383)",
          "(0.0, 0.5396102423765573)",
          "(0.0, 0.5438504941865668)",
          "(0.0, 0.5452046226846776)",
          "(0.0, 0.5486804776592017)",
          "(0.0, 0.550045967959987)",
          "(0.0, 0.5553012525620977)",
          "(0.0, 0.5556513493786334)",
          "(0.0, 0.5559730867750015)",
          "(0.0, 0.5603383635009483)",
          "(0.0, 0.5603843517498687)",
          "(0.0, 0.566561700742832)",
          "(0.0, 0.5673533749220397)",
          "(0.0, 0.5694868238932759)",
          "(0.0, 0.5757056975698231)",
          "(0.0, 0.5763094511397173)",
          "(0.0, 0.5763094962262358), multiplicity: 2",
          "(0.0, 0.5763094962262358), multiplicity: 2",
          "(0.0, 0.5779235485037836)",
          "(0.0, 0.5817047744684424)",
          "(0.0, 0.5817478771801755)",
          "(0.0, 0.5823821994096462)",
          "(0.0, 0.5830656659443355)",
          "(0.0, 0.5836102209153744)",
          "(0.0, 0.5845702481548455)",
          "(0.0, 0.5865428284278976)",
          "(0.0, 0.5872499653848254)",
          "(0.0, 0.5873572712989729)",
          "(0.0, 0.5896344560913442)",
          "(0.0, 0.590403722270833)",
          "(0.0, 0.5905300997823268)",
          "(0.0, 0.5938846269354346)",
          "(0.0, 0.6015813916035107)",
          "(0.0, 0.6055681219197172)",
          "(0.0, 0.6100236618557999)",
          "(0.0, 0.6118213064368805)",
          "(0.0, 0.6249845860464709)",
          "(0.0, 0.6344737652594759)",
          "(0.0, 0.6346299449597308)",
          "(0.0, 0.637676395931591)",
          "(0.0, 0.6377926740629297)",
          "(0.0, 0.6458938197158747)",
          "(0.0, 0.647835966588906)",
          "(0.0, 0.6544853714310808)",
          "(0.0, 0.6560832376484693)",
          "(0.0, 0.662111981476294)",
          "(0.0, 0.668323776569429)",
          "(0.0, 0.6688136415934676)",
          "(0.0, 0.6765449425347524)",
          "(0.0, 0.6818641598201661)",
          "(0.0, 0.681864475425796)",
          "(0.0, 0.6857735667570606)",
          "(0.0, 0.6860887215217205)",
          "(0.0, 0.6936883698288412)",
          "(0.0, 0.6936890461266194)",
          "(0.0, 0.7142567945045305)",
          "(0.0, 0.7184050698166994)",
          "(0.0, 0.7271850831794417)",
          "(0.0, 0.7386962574898288)",
          "(0.0, 0.7465725115882497)",
          "(0.0, 0.7540261246617891)",
          "(0.0, 0.7540271165651972)",
          "(0.0, 0.7591943922830997)",
          "(0.0, 0.7649248887907205)",
          "(0.0, 0.7657171490946695)",
          "(0.0, 0.7749636726648418)",
          "(0.0, 0.7781644547896964)",
          "(0.0, 0.7836901683300661)",
          "(0.0, 0.7864117709357784)",
          "(0.0, 0.7928081051493358)",
          "(0.0, 0.7932233519851752)",
          "(0.0, 0.7962262042935981)",
          "(0.0, 0.7989185006622533)",
          "(0.0, 0.7993436665321736)",
          "(0.0, 0.8058280998029764)",
          "(0.0, 0.8179010972210068)",
          "(0.0, 0.82524767489951)",
          "(0.0, 0.8258940352294334)",
          "(0.0, 0.8264005371788166)",
          "(0.0, 0.8276417690344798)",
          "(0.0, 0.8396075507113999)",
          "(0.0, 0.8457295785461032)",
          "(0.0, 0.8465010990515194)",
          "(0.0, 0.8608444731976203)",
          "(0.0, 0.8666049973265949)",
          "(0.0, 0.8703773863336179)",
          "(0.0, 0.9103969917553439)",
          "(0.0, 0.9205974558849832)",
          "(0.0, 0.9286959865198523)",
          "(0.0, 0.9321313087142006)",
          "(0.0, 0.9623954539443693)",
          "(0.0, 0.9890800001208319)",
          "(0.0, 1.0304173041336808)",
          "(0.0, 1.033475252167771)",
          "(0.0, 1.04816678441011)",
          "(0.0, 1.0586209052931077)",
          "(0.0, 1.0656082335918098)",
          "(0.0, 1.0696982120354945)",
          "(0.0, 1.3432203559860176)"
         ],
         "mode": "markers",
         "name": "H0",
         "type": "scatter",
         "x": [
          0,
          0,
          0,
          0,
          0,
          0,
          0,
          0,
          0,
          0,
          0,
          0,
          0,
          0,
          0,
          0,
          0,
          0,
          0,
          0,
          0,
          0,
          0,
          0,
          0,
          0,
          0,
          0,
          0,
          0,
          0,
          0,
          0,
          0,
          0,
          0,
          0,
          0,
          0,
          0,
          0,
          0,
          0,
          0,
          0,
          0,
          0,
          0,
          0,
          0,
          0,
          0,
          0,
          0,
          0,
          0,
          0,
          0,
          0,
          0,
          0,
          0,
          0,
          0,
          0,
          0,
          0,
          0,
          0,
          0,
          0,
          0,
          0,
          0,
          0,
          0,
          0,
          0,
          0,
          0,
          0,
          0,
          0,
          0,
          0,
          0,
          0,
          0,
          0,
          0,
          0,
          0,
          0,
          0,
          0,
          0,
          0,
          0,
          0,
          0,
          0,
          0,
          0,
          0,
          0,
          0,
          0,
          0,
          0,
          0,
          0,
          0,
          0,
          0,
          0,
          0,
          0,
          0,
          0,
          0,
          0,
          0,
          0,
          0,
          0,
          0,
          0,
          0,
          0,
          0,
          0,
          0,
          0,
          0,
          0,
          0,
          0,
          0,
          0,
          0,
          0,
          0,
          0,
          0,
          0,
          0,
          0,
          0,
          0,
          0,
          0,
          0,
          0,
          0,
          0,
          0,
          0,
          0,
          0,
          0,
          0,
          0,
          0,
          0,
          0,
          0,
          0,
          0,
          0,
          0,
          0,
          0,
          0,
          0,
          0,
          0,
          0,
          0,
          0,
          0,
          0,
          0,
          0,
          0,
          0,
          0,
          0,
          0,
          0,
          0,
          0,
          0,
          0,
          0,
          0,
          0,
          0,
          0,
          0,
          0,
          0,
          0,
          0,
          0,
          0,
          0,
          0,
          0,
          0,
          0,
          0,
          0,
          0,
          0,
          0,
          0,
          0,
          0,
          0,
          0,
          0,
          0,
          0,
          0,
          0,
          0,
          0,
          0,
          0,
          0,
          0,
          0,
          0,
          0,
          0,
          0,
          0,
          0,
          0,
          0,
          0,
          0,
          0,
          0,
          0,
          0,
          0,
          0,
          0,
          0,
          0,
          0,
          0,
          0,
          0,
          0,
          0,
          0,
          0,
          0,
          0,
          0,
          0,
          0,
          0,
          0,
          0,
          0,
          0,
          0,
          0,
          0,
          0,
          0,
          0,
          0,
          0,
          0,
          0,
          0,
          0,
          0,
          0,
          0,
          0,
          0,
          0,
          0,
          0,
          0,
          0,
          0,
          0,
          0,
          0,
          0,
          0,
          0,
          0,
          0,
          0,
          0,
          0,
          0,
          0,
          0,
          0,
          0,
          0,
          0,
          0,
          0,
          0,
          0,
          0,
          0,
          0,
          0,
          0,
          0,
          0,
          0,
          0,
          0,
          0,
          0,
          0,
          0,
          0,
          0,
          0,
          0,
          0,
          0,
          0,
          0,
          0,
          0,
          0,
          0,
          0,
          0,
          0,
          0,
          0,
          0,
          0,
          0,
          0,
          0,
          0,
          0,
          0,
          0,
          0,
          0,
          0,
          0,
          0,
          0,
          0,
          0,
          0,
          0,
          0,
          0,
          0,
          0,
          0,
          0,
          0,
          0,
          0,
          0,
          0,
          0,
          0,
          0,
          0,
          0,
          0,
          0,
          0,
          0,
          0,
          0,
          0,
          0,
          0,
          0,
          0,
          0,
          0,
          0,
          0,
          0,
          0,
          0,
          0,
          0,
          0,
          0,
          0,
          0,
          0,
          0,
          0,
          0,
          0,
          0,
          0,
          0,
          0,
          0,
          0,
          0,
          0,
          0,
          0,
          0,
          0,
          0,
          0,
          0,
          0,
          0,
          0,
          0,
          0,
          0,
          0,
          0,
          0,
          0,
          0,
          0,
          0,
          0,
          0,
          0,
          0,
          0,
          0,
          0,
          0,
          0,
          0,
          0,
          0,
          0,
          0,
          0,
          0,
          0,
          0,
          0,
          0,
          0,
          0,
          0,
          0,
          0,
          0,
          0,
          0,
          0,
          0,
          0,
          0,
          0,
          0,
          0,
          0,
          0,
          0,
          0,
          0,
          0,
          0,
          0,
          0,
          0,
          0,
          0,
          0,
          0,
          0,
          0,
          0,
          0,
          0,
          0,
          0,
          0,
          0,
          0,
          0,
          0,
          0,
          0,
          0,
          0,
          0,
          0,
          0,
          0,
          0,
          0,
          0,
          0,
          0,
          0,
          0,
          0,
          0,
          0,
          0,
          0,
          0,
          0,
          0,
          0,
          0,
          0,
          0,
          0,
          0,
          0,
          0,
          0,
          0,
          0,
          0,
          0,
          0,
          0,
          0,
          0,
          0,
          0,
          0,
          0,
          0,
          0,
          0,
          0,
          0,
          0,
          0,
          0,
          0,
          0,
          0,
          0,
          0,
          0,
          0,
          0,
          0,
          0,
          0,
          0,
          0,
          0,
          0,
          0,
          0,
          0,
          0,
          0,
          0,
          0,
          0,
          0,
          0,
          0,
          0,
          0,
          0,
          0,
          0,
          0,
          0,
          0,
          0,
          0,
          0,
          0,
          0,
          0,
          0,
          0,
          0,
          0,
          0,
          0,
          0,
          0,
          0,
          0,
          0,
          0,
          0,
          0,
          0,
          0,
          0,
          0,
          0,
          0,
          0,
          0,
          0,
          0,
          0,
          0,
          0,
          0,
          0,
          0,
          0,
          0,
          0,
          0,
          0,
          0,
          0,
          0,
          0,
          0,
          0,
          0,
          0,
          0,
          0,
          0,
          0,
          0,
          0,
          0,
          0,
          0,
          0,
          0,
          0,
          0,
          0,
          0,
          0,
          0,
          0,
          0,
          0,
          0,
          0,
          0,
          0,
          0,
          0,
          0,
          0,
          0,
          0,
          0,
          0,
          0,
          0,
          0,
          0,
          0,
          0,
          0,
          0,
          0,
          0,
          0,
          0,
          0,
          0,
          0,
          0,
          0,
          0,
          0,
          0,
          0,
          0,
          0,
          0,
          0,
          0,
          0,
          0,
          0,
          0,
          0,
          0,
          0,
          0,
          0,
          0,
          0,
          0,
          0,
          0,
          0,
          0,
          0,
          0,
          0,
          0,
          0,
          0,
          0,
          0,
          0,
          0,
          0,
          0,
          0,
          0,
          0,
          0,
          0,
          0,
          0,
          0,
          0,
          0,
          0,
          0,
          0,
          0,
          0,
          0,
          0,
          0,
          0,
          0,
          0,
          0,
          0,
          0,
          0,
          0,
          0,
          0,
          0,
          0,
          0,
          0,
          0,
          0,
          0,
          0,
          0,
          0,
          0,
          0,
          0,
          0,
          0,
          0,
          0,
          0,
          0,
          0,
          0,
          0,
          0,
          0,
          0,
          0,
          0,
          0,
          0,
          0,
          0,
          0,
          0,
          0,
          0,
          0,
          0,
          0,
          0,
          0,
          0,
          0,
          0,
          0,
          0,
          0,
          0,
          0,
          0,
          0,
          0,
          0,
          0,
          0,
          0,
          0,
          0,
          0,
          0,
          0,
          0,
          0,
          0,
          0,
          0,
          0,
          0,
          0,
          0,
          0,
          0,
          0,
          0,
          0,
          0,
          0,
          0,
          0,
          0,
          0,
          0,
          0,
          0,
          0,
          0,
          0,
          0,
          0,
          0,
          0,
          0,
          0,
          0,
          0,
          0,
          0,
          0,
          0,
          0,
          0,
          0,
          0,
          0,
          0,
          0,
          0,
          0,
          0,
          0,
          0,
          0,
          0,
          0,
          0,
          0,
          0,
          0,
          0,
          0,
          0,
          0,
          0,
          0,
          0,
          0,
          0,
          0,
          0,
          0,
          0,
          0,
          0,
          0,
          0,
          0,
          0,
          0,
          0,
          0,
          0,
          0,
          0,
          0,
          0,
          0,
          0,
          0,
          0,
          0,
          0,
          0,
          0,
          0,
          0,
          0,
          0,
          0,
          0,
          0,
          0,
          0,
          0,
          0,
          0,
          0,
          0,
          0,
          0,
          0,
          0,
          0,
          0,
          0,
          0,
          0,
          0,
          0,
          0,
          0,
          0,
          0,
          0,
          0,
          0,
          0,
          0,
          0,
          0,
          0,
          0,
          0,
          0,
          0,
          0,
          0,
          0,
          0,
          0,
          0,
          0,
          0,
          0,
          0,
          0,
          0,
          0,
          0,
          0,
          0,
          0,
          0,
          0,
          0,
          0,
          0,
          0,
          0,
          0,
          0,
          0,
          0,
          0,
          0,
          0,
          0,
          0,
          0,
          0,
          0,
          0,
          0,
          0,
          0,
          0,
          0,
          0,
          0,
          0,
          0,
          0,
          0,
          0,
          0,
          0,
          0,
          0,
          0,
          0,
          0,
          0,
          0,
          0
         ],
         "y": [
          0.0018425794609875147,
          0.0032144708145722695,
          0.007656206526733443,
          0.008004840849323605,
          0.009260143925635378,
          0.011778055503217621,
          0.01212975289116173,
          0.013829389243592045,
          0.013842908154388323,
          0.014289168879174849,
          0.015421897210041724,
          0.01875213963709591,
          0.019130419754585962,
          0.019541910319848723,
          0.019585841496360234,
          0.01986528632937532,
          0.022274335098966487,
          0.023214321380942354,
          0.02355716349485263,
          0.02366506257850972,
          0.02435950768046589,
          0.024460636741572055,
          0.024838904178478772,
          0.026122776609060074,
          0.028082924274622164,
          0.02848640352912019,
          0.029466015225086104,
          0.03000826796577158,
          0.03158915629101887,
          0.03238624367036002,
          0.03258483005921799,
          0.033940302699163045,
          0.03467043096264361,
          0.03468771600669246,
          0.035361700282949465,
          0.03541927013132215,
          0.036289369491639134,
          0.03646579867453751,
          0.036664097636839726,
          0.03697341087944005,
          0.03818557602017603,
          0.038401281196545706,
          0.03977929991367284,
          0.040066830731999015,
          0.04021003115072653,
          0.04034844394476559,
          0.04128080215138439,
          0.041409546705102024,
          0.041908383946331895,
          0.04218134054753699,
          0.04289254374485647,
          0.0445434260722442,
          0.04463947726419875,
          0.04527887454491359,
          0.04743760578142624,
          0.048117837358409736,
          0.04834877614223426,
          0.048555103322745666,
          0.04859767063207106,
          0.04892517910281345,
          0.049314270122079416,
          0.05065501355999589,
          0.05065509809721817,
          0.051737140727513356,
          0.051892779389545673,
          0.054489002022987,
          0.055164555873671,
          0.0554309608401494,
          0.0554619352783928,
          0.05586606828740978,
          0.05672054235114201,
          0.05678161204051709,
          0.05696733468205145,
          0.05699583499758945,
          0.05727670710070737,
          0.05732992610004004,
          0.05963842911535877,
          0.06195162112860663,
          0.06203446760644104,
          0.06315405039924338,
          0.06352977326575947,
          0.06402007788335387,
          0.06436367660540356,
          0.06489304305550615,
          0.06501021728140106,
          0.06526046436679434,
          0.06589342836489367,
          0.06661253579249633,
          0.06745919861688988,
          0.06750456129036533,
          0.06759322956490743,
          0.06772564866988684,
          0.06816893932026392,
          0.06824322499538878,
          0.07001664120856396,
          0.07011784353526278,
          0.07041593305265172,
          0.07046811506205776,
          0.07315179990566999,
          0.07357039441551168,
          0.07361329987372618,
          0.07379374175677546,
          0.07443271353347149,
          0.07451046523470982,
          0.07584816533262422,
          0.0765611240862597,
          0.07701495371034771,
          0.07730917705877105,
          0.07746788160406472,
          0.07795943173673404,
          0.07868436096104439,
          0.07919004008146413,
          0.0792032560672139,
          0.0793337139086364,
          0.07942167770632616,
          0.07966552814190025,
          0.07998120140152344,
          0.07998629617811952,
          0.08008967392933833,
          0.08110149430699293,
          0.08120376180269247,
          0.08130604057002164,
          0.08177473747360128,
          0.08217766441824707,
          0.08232865353305399,
          0.08257882735285463,
          0.08273974113755721,
          0.08353160693446886,
          0.08384605158646158,
          0.08409985487100544,
          0.08416844837316344,
          0.08440465664384342,
          0.0847873510132902,
          0.08497796554208716,
          0.08662961997610505,
          0.0866570776659016,
          0.08691489365059635,
          0.08734271398929619,
          0.08820455969881123,
          0.08828405850264336,
          0.08838840561401098,
          0.08851091132072435,
          0.08856088409072146,
          0.08872792964194677,
          0.08894074928112927,
          0.0889410874300184,
          0.08898864243545831,
          0.08908910083460106,
          0.08920612852931067,
          0.08942867558487021,
          0.08952934814497607,
          0.08953959969213121,
          0.0895810792891966,
          0.09022354527108022,
          0.09036552271799207,
          0.09099556736401535,
          0.09127101217746288,
          0.09165231450064945,
          0.0925065518601593,
          0.09276374226940917,
          0.09281629624259324,
          0.09301450221395095,
          0.09338139375864618,
          0.0941638252015514,
          0.09459325174747456,
          0.09467463291345611,
          0.09497479641069832,
          0.09507859684802854,
          0.0955479024196086,
          0.09554812785220135,
          0.09554824056849771,
          0.09554827438338663,
          0.09554828565501626,
          0.09554833074153482,
          0.0955483532847941,
          0.09588867759843413,
          0.09628360168603742,
          0.09630637037790483,
          0.09654501332058647,
          0.09717765607724115,
          0.09791000766966768,
          0.09828440611970136,
          0.09894573517378305,
          0.09908923429069597,
          0.09936834238377563,
          0.09940878499091439,
          0.10089054215140873,
          0.1012636330924045,
          0.10219698038452397,
          0.1025638381143303,
          0.10292371870539112,
          0.10427262843897984,
          0.10461405737232433,
          0.10496847122301105,
          0.10510432817502983,
          0.10526257058350837,
          0.10556439101030728,
          0.10613276293476986,
          0.10685741600415409,
          0.10718177969022766,
          0.10729359425623002,
          0.10736383905212989,
          0.10751313178667639,
          0.10757032403545622,
          0.10841667689003474,
          0.10843435080530608,
          0.10901408453244311,
          0.10979463361319888,
          0.11019283774502663,
          0.11074482071999653,
          0.11086212456963228,
          0.11161453966281326,
          0.11192467855228451,
          0.11202176109835088,
          0.11211776156797205,
          0.11213854645302329,
          0.11223230386834665,
          0.11275306442922113,
          0.1134014085659606,
          0.11367264906155342,
          0.11405831914122445,
          0.11422989588756396,
          0.11485680138473323,
          0.11510807982423832,
          0.1151745824390986,
          0.11533249797031765,
          0.11548202740908653,
          0.11573398214636986,
          0.11580604167464134,
          0.11602046188523235,
          0.1161369203626453,
          0.11663877840061797,
          0.11679037054761049,
          0.11699765581664107,
          0.11744252449516739,
          0.11762737922121966,
          0.11782831856276442,
          0.11988931349869175,
          0.12007568989474507,
          0.12038231203576948,
          0.12049950316910885,
          0.120503290436667,
          0.1205074271247439,
          0.12051976955919677,
          0.12170240021237554,
          0.12175173613529815,
          0.12178227097998569,
          0.12186784519219233,
          0.1220778131090766,
          0.12214688565549418,
          0.12232842652243309,
          0.12232843779406273,
          0.12232884357272968,
          0.1223290915485817,
          0.12232915917835951,
          0.12232919299324843,
          0.12232922680813735,
          0.12232924935139662,
          0.1223292718946559,
          0.12232928316628552,
          0.12232941842584118,
          0.12232963258680428,
          0.12232973403147102,
          0.12232977911798958,
          0.12232982420450812,
          0.12233036524273071,
          0.12249490849217652,
          0.12251994278160104,
          0.12282283401321549,
          0.12288667652348136,
          0.12306339313293548,
          0.12368394143098929,
          0.12393122971360276,
          0.12406674851673244,
          0.1241300499887757,
          0.12499003024358578,
          0.12536259141798858,
          0.12555591113789852,
          0.1259790932010026,
          0.12703223537290767,
          0.1270961004264328,
          0.1273388011557839,
          0.1274694731581695,
          0.12747816358461989,
          0.1276701757954919,
          0.12789982397772293,
          0.12792160076618225,
          0.12799100018985932,
          0.12874023668348258,
          0.12947938506858042,
          0.13034568870761704,
          0.13064784728330506,
          0.13085875074544923,
          0.13086417239930478,
          0.13154601581932643,
          0.13277934626261392,
          0.13297046801474455,
          0.13304468042427675,
          0.13317549895784767,
          0.13317607381095917,
          0.13379144843100943,
          0.1343461365970923,
          0.135041280540086,
          0.1350861190827833,
          0.13537297078542385,
          0.13585256735486279,
          0.13636912359788253,
          0.13660073304367049,
          0.13660082321670758,
          0.13660086830322613,
          0.13660090211811504,
          0.13660103737767068,
          0.13660110500744851,
          0.13660115009396706,
          0.13682303212337799,
          0.1373959126996955,
          0.13774306762089578,
          0.13782059388954138,
          0.13867254874404966,
          0.13899242632152756,
          0.13899931328723597,
          0.13949354043194417,
          0.13971289761631633,
          0.13984819098685328,
          0.1399340357181712,
          0.14018798553390036,
          0.1402786657943327,
          0.1403698983646173,
          0.14117069129220172,
          0.14169300733796616,
          0.14240110238341314,
          0.14307852732461693,
          0.1433745090472637,
          0.1441443162649751,
          0.14455961945896267,
          0.14484316857411947,
          0.14495913109982836,
          0.14515931524218742,
          0.1453081232966595,
          0.1461842670683695,
          0.14763674053506606,
          0.14832786050627922,
          0.1492187926560734,
          0.14951508998435,
          0.15164826843647483,
          0.15168404458894372,
          0.15271410246335154,
          0.15307270936026332,
          0.15320582730628024,
          0.153298795707529,
          0.1538862617725972,
          0.15398989313548286,
          0.15399576565452391,
          0.15401653926794553,
          0.1540555954646389,
          0.15501439409647946,
          0.15514807562397825,
          0.1551984823517164,
          0.15522209641580664,
          0.1554012702405217,
          0.1555469673252139,
          0.156297793118616,
          0.15673055606691183,
          0.15719416946552503,
          0.15740455443270587,
          0.1577529943196848,
          0.15798716242540042,
          0.15831318304103068,
          0.1584305770637035,
          0.15855946814860641,
          0.15858797409995926,
          0.15889862021276419,
          0.15906482039176667,
          0.1594224692001593,
          0.15976545361839375,
          0.15981136296590662,
          0.1611649391541652,
          0.1615391234432358,
          0.1618263921961729,
          0.16188320120954505,
          0.16201202466467016,
          0.16207168540034056,
          0.16217635375315284,
          0.1625158101513108,
          0.1627813359306775,
          0.16300772661194335,
          0.16358183579589133,
          0.16388969781617585,
          0.16454143471343619,
          0.16466620038189184,
          0.16485387301535345,
          0.16630437394686345,
          0.16652894989575773,
          0.16696533103716713,
          0.16766251514512517,
          0.16843255906705895,
          0.1689547060383788,
          0.16897188400194613,
          0.1697546423221108,
          0.17062560114418762,
          0.1708825830282892,
          0.17129593623034955,
          0.17138844249478316,
          0.17144843010771305,
          0.17173273442205553,
          0.17190172996520808,
          0.17197625798037014,
          0.172201374967487,
          0.17289607931692483,
          0.17414046722888654,
          0.17422808160605754,
          0.17425234942466672,
          0.1747068666181626,
          0.17531465543146693,
          0.17567145886763677,
          0.17643241785608285,
          0.17650436466805794,
          0.17730129142667678,
          0.17810487971841124,
          0.17810507133611508,
          0.1788222625866794,
          0.17926793155090995,
          0.17926810062535453,
          0.18066580524364326,
          0.18137040608390267,
          0.18182212791324848,
          0.18206146969696765,
          0.18222257509937406,
          0.1823931712139351,
          0.18242791037647738,
          0.18281953187659694,
          0.18289389081731444,
          0.18312289651665614,
          0.18375970977627665,
          0.18426561432928912,
          0.18430634999879844,
          0.18430689103702103,
          0.18450391912308164,
          0.18490564000335624,
          0.18515068523167189,
          0.18521618467149445,
          0.1855138007804386,
          0.1862152793792885,
          0.18636673626672534,
          0.1864295192438053,
          0.18670408487014115,
          0.18783615099276682,
          0.1878526301152966,
          0.1888836573498532,
          0.18946148617158154,
          0.1894615087148408,
          0.18946155380135934,
          0.1894617792339521,
          0.18991176523233377,
          0.19032534386698682,
          0.1910250640916133,
          0.19144596928553062,
          0.1914459918287899,
          0.19144626234790119,
          0.19144628489116047,
          0.19144628489116047,
          0.19144630743441973,
          0.19144630743441973,
          0.19144632997767902,
          0.19144635252093828,
          0.1914464426939754,
          0.19144646523723466,
          0.1914465328670125,
          0.1914465328670125,
          0.1914465328670125,
          0.19144655541027175,
          0.19144664558330887,
          0.19144666812656813,
          0.19144673575634596,
          0.1914468710159016,
          0.19144711899175362,
          0.19152766605714203,
          0.19255392539236205,
          0.19297088551590633,
          0.19309124397717378,
          0.19320102964984143,
          0.19325605774573087,
          0.19325653115417565,
          0.19337307980462567,
          0.19376605390030172,
          0.19379504453172894,
          0.19398790211482372,
          0.19423218087232405,
          0.1956198988267541,
          0.19572138858000868,
          0.19596780894714008,
          0.19652712975300388,
          0.19653758982530734,
          0.19755451625118764,
          0.19777347892852248,
          0.19790853559483704,
          0.19866513246261347,
          0.19873010213584308,
          0.1991108577849922,
          0.1993015963017152,
          0.1998487212043114,
          0.20050396357838893,
          0.2006889310207376,
          0.20279057145313714,
          0.2030688229023644,
          0.2041748177456389,
          0.20430604205787675,
          0.20498684848797175,
          0.2052730126212044,
          0.20573077604403583,
          0.20583810450144252,
          0.20590555393319232,
          0.20619929260154127,
          0.20682538654137664,
          0.2072681812400497,
          0.20915802775156372,
          0.20964293325856184,
          0.21011352379592058,
          0.2122548629079028,
          0.21225524614331048,
          0.21383679104098413,
          0.21409948764131187,
          0.2153554177020222,
          0.21557749134913698,
          0.21567262390327607,
          0.21582533194160267,
          0.2165674560369248,
          0.217187463296756,
          0.2172057007935092,
          0.21790821638228572,
          0.21883659288573512,
          0.21977515894237667,
          0.21990347517416808,
          0.2207336983267356,
          0.2215252147031285,
          0.22256301618709715,
          0.22256319653317136,
          0.22291527715652312,
          0.22351125330196756,
          0.22351738506849025,
          0.2245358895225198,
          0.22456176918416712,
          0.22475753484770833,
          0.22477809430016685,
          0.22572276958007184,
          0.2258507702062334,
          0.22674332547069537,
          0.22701639197028942,
          0.22778331365081367,
          0.22793755463077095,
          0.22816188260381318,
          0.2282715781034437,
          0.22832308945088634,
          0.2287711141857111,
          0.22939130179161651,
          0.2301489356493196,
          0.23208619063508826,
          0.23246424109312444,
          0.23321991368727063,
          0.23360538087760818,
          0.23376070393401066,
          0.23382619210220357,
          0.23467744811567434,
          0.23596079077966267,
          0.23646533146548904,
          0.2366593612980661,
          0.23670803219484013,
          0.23692264402313498,
          0.23715470433410843,
          0.23856165168869978,
          0.23895814253282266,
          0.23927280134577847,
          0.2398728578211516,
          0.239922791140445,
          0.24003902418526518,
          0.24087398142228036,
          0.24127876818581634,
          0.2413381471307458,
          0.2413401985673398,
          0.24156862941357002,
          0.24213426233203073,
          0.24272836738695536,
          0.24272893096843723,
          0.24272917894428925,
          0.2427293142038449,
          0.24272960726621548,
          0.24273010321791952,
          0.243248688354274,
          0.2445941827840826,
          0.24493819292061406,
          0.2455013911670731,
          0.2456137918578166,
          0.24621479515007927,
          0.24729071728548138,
          0.24839391676460584,
          0.24940216403566542,
          0.24946702099259865,
          0.24960056726054178,
          0.2512674834810886,
          0.2515483499483917,
          0.25278223270153144,
          0.2530715754343218,
          0.2531113868302009,
          0.2531733807932062,
          0.25345591546169566,
          0.2535964726832732,
          0.25412986874097115,
          0.25581700626508735,
          0.25756244065768785,
          0.25768455749317876,
          0.2617841619085736,
          0.26274060476982003,
          0.26312235232237724,
          0.2642873654184329,
          0.26497594927297763,
          0.2650216670027867,
          0.2659238482389589,
          0.2666087124557234,
          0.2682106364597813,
          0.2692979203978579,
          0.2694203528389786,
          0.2695405084109126,
          0.269911435199018,
          0.2699115253720551,
          0.2699116155450922,
          0.26991184097768495,
          0.2699119536939813,
          0.2714838500766854,
          0.27148396279298176,
          0.27148407550927817,
          0.27148434602838944,
          0.27148434602838944,
          0.2718920634156311,
          0.27240577920798226,
          0.27259678824381656,
          0.2728863113226811,
          0.2741517997253239,
          0.27580507727400955,
          0.2760043596859976,
          0.2762949873845667,
          0.2762950550143445,
          0.27755100761831414,
          0.2778759687007585,
          0.2801332252519311,
          0.28013349577104235,
          0.2815773689843256,
          0.2820680455656981,
          0.2824850507757609,
          0.28291925649265026,
          0.28322162922930144,
          0.2853173407845117,
          0.28662654056688813,
          0.28663585093296856,
          0.287124724053599,
          0.28895888871470465,
          0.28961059179707604,
          0.2896315344849422,
          0.29045878192728547,
          0.2908170619469378,
          0.2908283561198344,
          0.2911541287596126,
          0.2911543091056868,
          0.2912941674862269,
          0.2919822328458083,
          0.2921133444417498,
          0.29233370480115967,
          0.29325603971112346,
          0.293467427853342,
          0.2935773713288246,
          0.2937726861271803,
          0.29654830238211466,
          0.2982020533392451,
          0.3021813218366318,
          0.30391059271233234,
          0.3042991934157091,
          0.30440559759948554,
          0.30477634404151677,
          0.30569646971207165,
          0.30576240874545,
          0.30588813250242486,
          0.30604595786060684,
          0.3086329772084493,
          0.3093895289897072,
          0.3103857832468326,
          0.31101821184252415,
          0.3116797437859393,
          0.3123802981111589,
          0.31303409771664287,
          0.3136096496691844,
          0.31508098057226425,
          0.31790260761937816,
          0.3183131880005477,
          0.3202284407652643,
          0.3207731084525996,
          0.321887872623732,
          0.32188803042654685,
          0.32192198057501453,
          0.32195180530703493,
          0.32227933632103656,
          0.32248371350962074,
          0.3232228393514593,
          0.32336634974000183,
          0.3258673665537114,
          0.3262200333018043,
          0.3263241155298755,
          0.32659096008990973,
          0.3294573129634246,
          0.3308588048492715,
          0.33166763444878733,
          0.3342170741834189,
          0.33425697575233504,
          0.3343602689663316,
          0.3343954139075408,
          0.3348044162605611,
          0.33543711537536397,
          0.3362425409427294,
          0.3373122636818309,
          0.3386068103456788,
          0.34060227202689464,
          0.3420030876149633,
          0.3421931723771673,
          0.3438011379747109,
          0.3458784091438345,
          0.34587867966294583,
          0.3464153219499793,
          0.34641538957975715,
          0.34712088087875786,
          0.34712146700349905,
          0.3478906880964693,
          0.3494608711914685,
          0.3499143964815563,
          0.35045811735200205,
          0.35155369720949164,
          0.3523818463822059,
          0.35293541865695466,
          0.35331822574269783,
          0.35395103757379703,
          0.35482510736565376,
          0.3553901090728548,
          0.355495836958853,
          0.3562660724984906,
          0.3565415285835678,
          0.3565420696217904,
          0.3571732357949626,
          0.3572888376285231,
          0.35739715798933785,
          0.3591696893795865,
          0.3593011616676764,
          0.35930118421093565,
          0.3593012067541949,
          0.359301296927232,
          0.359301296927232,
          0.3598850771694089,
          0.35995768900753256,
          0.3612018740301608,
          0.36140444775800296,
          0.3614048084501514,
          0.3628139875874109,
          0.3659515809565186,
          0.36601206452115254,
          0.36792472481105254,
          0.3686505275866598,
          0.3686508657355489,
          0.3708728420859566,
          0.3712010493977365,
          0.3714891747945261,
          0.3727288737085587,
          0.375104211851812,
          0.3770130397876353,
          0.3771486374921724,
          0.3775503809157063,
          0.3782271521023911,
          0.3797760994471536,
          0.3797765503123391,
          0.37977668557189476,
          0.381639299826205,
          0.38171206946714364,
          0.38171215964018074,
          0.3817123399862549,
          0.3817123399862549,
          0.381712430159292,
          0.381712430159292,
          0.381712430159292,
          0.3817124752458106,
          0.3817125654188477,
          0.3817126105053662,
          0.3817127006784033,
          0.3817127006784033,
          0.38171279085144044,
          0.3818799265757028,
          0.3820196496966872,
          0.38255865902594455,
          0.3825592451506857,
          0.3845152335849116,
          0.38633704453993467,
          0.3882630955258438,
          0.38827107583962706,
          0.38931293511026516,
          0.38959436515905016,
          0.39077423426296776,
          0.39591256443596157,
          0.3968253410039929,
          0.39781652302778153,
          0.39842063728982413,
          0.4012770485859989,
          0.40127763471074,
          0.4017252536668978,
          0.40175744544114206,
          0.4021189942333892,
          0.40236313773133386,
          0.40295323008610756,
          0.403646300049248,
          0.4038977475631977,
          0.4040038361413443,
          0.4042029382072581,
          0.40420320872636945,
          0.40420411045674043,
          0.4045792302910709,
          0.4055858319042034,
          0.40609733845714563,
          0.4067023544495592,
          0.4095742755081149,
          0.40999578937003267,
          0.4108487812144676,
          0.4116157479815104,
          0.41701905162401864,
          0.42091110025127165,
          0.4212105198209578,
          0.42185223623947055,
          0.42423068535250374,
          0.42562760095671787,
          0.42595474873531186,
          0.4261922645150298,
          0.43019639822739647,
          0.43027755396078526,
          0.43113676774478,
          0.4317847511893711,
          0.43417632047930216,
          0.4363682917516153,
          0.4403666994761262,
          0.4404306772459477,
          0.44433030040831706,
          0.44462038706866347,
          0.44623489021139673,
          0.44746232559238386,
          0.4481797873620595,
          0.4499881174480363,
          0.45032076578189334,
          0.450857340439149,
          0.45177092856451423,
          0.4562156928226636,
          0.4571554311287874,
          0.4582071643469878,
          0.4630707823624605,
          0.4630782667245397,
          0.4666761258182583,
          0.4702068059993384,
          0.47020685108585697,
          0.47020730195104243,
          0.4702076175566723,
          0.47059576739486353,
          0.4705959026544192,
          0.47059630843308614,
          0.471455206611451,
          0.472778901709541,
          0.475335352397807,
          0.4771512119323816,
          0.4812368620702855,
          0.48443764419514,
          0.48767052792120175,
          0.4903064661416702,
          0.493594265247325,
          0.501798253249081,
          0.5024570123716054,
          0.5042980752700491,
          0.5064837795162839,
          0.506591716641691,
          0.5075398410402651,
          0.5089583080003457,
          0.5102953937944449,
          0.5134546512357155,
          0.5171261817007438,
          0.5183000542976943,
          0.5196518833833591,
          0.5205085723223151,
          0.5215213958750073,
          0.5224890878226318,
          0.5229926140617908,
          0.523215296376906,
          0.523215386549943,
          0.5232154767229802,
          0.5241741964534133,
          0.5242718538525911,
          0.5250513997583092,
          0.5293550882999177,
          0.5295182113240292,
          0.5295185269296591,
          0.5312126077776318,
          0.5365103187936976,
          0.5378614715815841,
          0.5385963818339383,
          0.5396102423765573,
          0.5438504941865668,
          0.5452046226846776,
          0.5486804776592017,
          0.550045967959987,
          0.5553012525620977,
          0.5556513493786334,
          0.5559730867750015,
          0.5603383635009483,
          0.5603843517498687,
          0.566561700742832,
          0.5673533749220397,
          0.5694868238932759,
          0.5757056975698231,
          0.5763094511397173,
          0.5763094962262358,
          0.5763094962262358,
          0.5779235485037836,
          0.5817047744684424,
          0.5817478771801755,
          0.5823821994096462,
          0.5830656659443355,
          0.5836102209153744,
          0.5845702481548455,
          0.5865428284278976,
          0.5872499653848254,
          0.5873572712989729,
          0.5896344560913442,
          0.590403722270833,
          0.5905300997823268,
          0.5938846269354346,
          0.6015813916035107,
          0.6055681219197172,
          0.6100236618557999,
          0.6118213064368805,
          0.6249845860464709,
          0.6344737652594759,
          0.6346299449597308,
          0.637676395931591,
          0.6377926740629297,
          0.6458938197158747,
          0.647835966588906,
          0.6544853714310808,
          0.6560832376484693,
          0.662111981476294,
          0.668323776569429,
          0.6688136415934676,
          0.6765449425347524,
          0.6818641598201661,
          0.681864475425796,
          0.6857735667570606,
          0.6860887215217205,
          0.6936883698288412,
          0.6936890461266194,
          0.7142567945045305,
          0.7184050698166994,
          0.7271850831794417,
          0.7386962574898288,
          0.7465725115882497,
          0.7540261246617891,
          0.7540271165651972,
          0.7591943922830997,
          0.7649248887907205,
          0.7657171490946695,
          0.7749636726648418,
          0.7781644547896964,
          0.7836901683300661,
          0.7864117709357784,
          0.7928081051493358,
          0.7932233519851752,
          0.7962262042935981,
          0.7989185006622533,
          0.7993436665321736,
          0.8058280998029764,
          0.8179010972210068,
          0.82524767489951,
          0.8258940352294334,
          0.8264005371788166,
          0.8276417690344798,
          0.8396075507113999,
          0.8457295785461032,
          0.8465010990515194,
          0.8608444731976203,
          0.8666049973265949,
          0.8703773863336179,
          0.9103969917553439,
          0.9205974558849832,
          0.9286959865198523,
          0.9321313087142006,
          0.9623954539443693,
          0.9890800001208319,
          1.0304173041336808,
          1.033475252167771,
          1.04816678441011,
          1.0586209052931077,
          1.0656082335918098,
          1.0696982120354945,
          1.3432203559860176
         ]
        },
        {
         "hoverinfo": "text",
         "hovertext": [
          "(2.830308366087562, 2.9631038533238163)",
          "(2.822215696700104, 3.097894328832842)",
          "(2.110361247163438, 2.1879764264236035)",
          "(2.004103865091398, 2.713570532605691)",
          "(1.8337502258270997, 1.8902604057543202)",
          "(1.7002494050946593, 2.3150464668423147)",
          "(1.531015895297201, 1.5752989720859896)",
          "(1.5221185217266748, 1.5661494747037354)",
          "(1.3973049713883208, 2.149933864840266)",
          "(1.3743848789916167, 1.4606407993587254)",
          "(1.3703870573918469, 1.5214658492841546)",
          "(1.3698788421547587, 1.4709751704484562)",
          "(1.3628953912966517, 1.3993050995242065)",
          "(1.3377607392818411, 2.5771381864371725)",
          "(1.2314700833591115, 2.8387207890645714)",
          "(1.2268764885032308, 1.2270962401946404)",
          "(1.206181866662122, 1.3522831970796199)",
          "(1.1519188889924377, 2.897628129010023)",
          "(1.146014088004105, 1.4091426171795236)",
          "(1.1380711058582311, 3.1066472451979363)",
          "(1.1305440017594564, 1.1765276518548886)",
          "(1.1184096866761988, 1.2428877031435088)",
          "(1.1026986580764224, 1.4688049759646025)",
          "(1.091425315151383, 3.0914253151513833)",
          "(1.0748647663691002, 1.3513296172123015)",
          "(1.044871591115413, 1.4780831502707963)",
          "(1.0334392731259687, 1.0674199000801594)",
          "(1.0253178385396766, 1.1753227597331761)",
          "(1.0234664057419665, 1.4167033558211362)",
          "(0.989071884547493, 1.0374053538166796)",
          "(0.9827115293757379, 1.0856376489382418)",
          "(0.9337781388907337, 1.1023552791511506)",
          "(0.9186525136478019, 1.1015151369645024)",
          "(0.9149404504025979, 1.2723054842474693)",
          "(0.9083525886582428, 1.1615421555116083)",
          "(0.9030661943583329, 0.9274576402013762)",
          "(0.8777833880435693, 2.614007957500005)",
          "(0.87079596957183, 0.9203465944957747)",
          "(0.8700684535085179, 1.193750070729476)",
          "(0.8633384790576953, 1.3762353198859185)",
          "(0.8360504047439313, 0.8881822328548256)",
          "(0.8358383177606753, 0.9475537835952612)",
          "(0.8149842699899759, 0.8383141988402936)",
          "(0.813268186920951, 1.1515214062449066)",
          "(0.8124660075829212, 0.9473072505118334)",
          "(0.8083199415101612, 0.9422575604343076)",
          "(0.7952575655290842, 1.176256411359296)",
          "(0.7939316611915853, 0.8490527254823006)",
          "(0.7886321918012962, 1.7128514477213477)",
          "(0.7697132574067344, 0.9506549245141217)",
          "(0.7673450429334119, 1.0974569896029136)",
          "(0.754026034488752, 1.0967652722353296)",
          "(0.754026034488752, 0.8449735678030679)",
          "(0.7424208998737082, 1.0364681854421132)",
          "(0.7335797041052944, 1.0311611415167077)",
          "(0.7320238585231937, 1.125996485325533)",
          "(0.721769425830851, 0.7876160318462312)",
          "(0.709869966422717, 0.770813188113264)",
          "(0.707495304577242, 0.8437937437856687)",
          "(0.7027064850960426, 0.7532674087276409)",
          "(0.682907642205472, 1.0278357402545828)",
          "(0.6697927855168035, 0.8971434489356177)",
          "(0.6697307915537982, 0.7378910573550562)",
          "(0.6666745568074128, 0.7852400624917182)",
          "(0.6565101168060945, 0.9625624544090761)",
          "(0.6477321323366868, 0.6521587267278608)",
          "(0.6372621409991597, 0.8672435126022906)",
          "(0.6191220762125377, 0.7988694465300716)",
          "(0.6185320289442825, 0.6541493866948511)",
          "(0.6183698978235791, 0.9075442775536903)",
          "(0.6105320123524437, 0.721669874797894)",
          "(0.6081810660157255, 0.6248467565592656)",
          "(0.6081807954966143, 0.6248468467323027)",
          "(0.607186773022157, 0.6734418628955942)",
          "(0.5846821078073664, 0.8053939166293463)",
          "(0.5744187930708694, 0.6681981655287506)",
          "(0.5726604639339637, 0.682288063267567)",
          "(0.571853370165412, 0.7443406387470204)",
          "(0.5700641116767816, 0.573699302407859)",
          "(0.5610374750575744, 0.6570687838574393)",
          "(0.5603383184144298, 1.042982556161233)",
          "(0.5537636670200097, 0.5934366923736469)",
          "(0.5520173308970382, 0.6759352375444097)",
          "(0.5520172858105197, 0.5907939911753961)",
          "(0.5487096486367031, 0.5815834917335446)",
          "(0.5465847661039914, 0.6638801394742434)",
          "(0.5462171306317402, 0.5539452304302079)",
          "(0.5431110301958392, 0.5871626327983953)",
          "(0.5429667082499627, 0.7636424478571031)",
          "(0.5405275726829621, 0.64495877040768)",
          "(0.5332765333372649, 0.8032714236821177)",
          "(0.5307931228090488, 0.5771284026626474)",
          "(0.5184588941025436, 0.5736970480819316)",
          "(0.5172255523876265, 0.757161350988673)",
          "(0.5166466414894529, 0.560323890728494)",
          "(0.5134547414087526, 0.569624968986111)",
          "(0.5077526944943365, 0.6064243149069691)",
          "(0.5066041154342921, 0.7827106186280632)",
          "(0.503646980855678, 0.5330232372760547)",
          "(0.49687498576956757, 0.7286512065896291)",
          "(0.4812703162670491, 0.528655345532032)",
          "(0.4748894918158726, 0.5414740288803498)",
          "(0.47020703143193116, 0.6986138916342821)",
          "(0.4702014857901496, 0.754025628710085)",
          "(0.4697305120173832, 0.5304608351673402)",
          "(0.46107755246391285, 0.5430643656491406)",
          "(0.4536837241139699, 0.47288674866191105)",
          "(0.4490408947798333, 0.4998306324930694)",
          "(0.44373367050835366, 0.496961687144738)",
          "(0.44223990906229554, 0.4922446003145506)",
          "(0.43843406585850886, 0.4883085021586749)",
          "(0.4305262061105849, 0.4918203812615199)",
          "(0.42986776259369036, 0.4533859276589515)",
          "(0.4287831613034675, 0.4401054231011328)",
          "(0.4275807940267937, 0.509062728377306)",
          "(0.42151435786946184, 0.44525953355561887)",
          "(0.4194008822259431, 0.44392930091233923)",
          "(0.41655565238636855, 0.5365103187936976)",
          "(0.4165554269537758, 0.6640021886799564)",
          "(0.4098259033681388, 0.4220101292274303)",
          "(0.4090491077400522, 0.4512441376817838)",
          "(0.4085304324306607, 0.4769560323935815)",
          "(0.4075391151473164, 0.4399277371315299)",
          "(0.39855238009702526, 0.4005054379075455)",
          "(0.3946642990834046, 0.42210959008735016)",
          "(0.3785837864641164, 0.4284382945230836)",
          "(0.3750637917879325, 0.5987971638235333)",
          "(0.369542609442677, 0.41519805222632944)",
          "(0.36926773948234093, 0.3711709992331234)",
          "(0.3660117489155227, 0.3718362282710596)",
          "(0.3593004853698981, 0.5498309954395437)",
          "(0.3499011635883621, 0.4736845996941601)",
          "(0.34580457996971, 0.5128589230661231)",
          "(0.3450244479392508, 0.35680345871308017)",
          "(0.34450651655741527, 0.3645322122660669)",
          "(0.34184913969737657, 0.3665767506227237)",
          "(0.3352018990080921, 0.34900608347886136)",
          "(0.3331488618426887, 0.46665723456698616)",
          "(0.3300520943161275, 0.35047840628534926)",
          "(0.3298789846281573, 0.38385669989497995)",
          "(0.3291923169506509, 0.5016256620560742)",
          "(0.3283216511909446, 0.36204307574999506)",
          "(0.327589333413407, 0.5213235111450943)",
          "(0.32604879470435394, 0.34402776536019913)",
          "(0.31981722917283506, 0.3830415807261265)",
          "(0.31396835801076295, 0.34596468219707865)",
          "(0.3138967606193066, 0.43915716344300315)",
          "(0.31377171316011004, 0.31684386344754334)",
          "(0.31184647373153473, 0.3198670497758321)",
          "(0.3106403642738214, 0.3698456133905878)",
          "(0.31025791788022666, 0.3224594795059004)",
          "(0.30818134555214055, 0.36439546485530677)",
          "(0.3078768988356361, 0.3713973110129818)",
          "(0.30240544692034055, 0.36969926255137664)",
          "(0.2971387103425182, 0.31964612583494034)",
          "(0.29362457691374577, 0.3136772343604899)",
          "(0.2892525372100165, 0.3254672687881046)",
          "(0.2831455231859901, 0.28329636013379694)",
          "(0.28312877354434907, 0.30802304678551384)",
          "(0.28008124049604366, 0.34669517397061506)",
          "(0.2770035896533473, 0.359240475213709)",
          "(0.2742036041351371, 0.38126512680876407)",
          "(0.27147465242690133, 0.29242385529499904)",
          "(0.27070910588519287, 0.2782105106683946)",
          "(0.26732680543665865, 0.31277496295128054)",
          "(0.26391224558410237, 0.31821278032373834)",
          "(0.2627365469831506, 0.27803981310916676)",
          "(0.2585113766135958, 0.369013970012686)",
          "(0.25763392533284785, 0.2674591794551195)",
          "(0.2548345259393787, 0.25954160356244815)",
          "(0.2524058279014223, 0.2623408000665838)",
          "(0.24829432064513038, 0.2806755258970425)",
          "(0.24629872370435887, 0.26385054468346764)",
          "(0.24438874606231253, 0.259832952645314)",
          "(0.24272920148754853, 0.2642272876324659)",
          "(0.23456678325589497, 0.29317127705625073)",
          "(0.23100048472516094, 0.2383636091559718)",
          "(0.23039224504667108, 0.25665577331291994)",
          "(0.22232985125641924, 0.22255550928175868)",
          "(0.2191372297914221, 0.2886597396641298)",
          "(0.2133428907735354, 0.23865741545409858)",
          "(0.18709311389544409, 0.22030334750718217)",
          "(0.18574561311556004, 0.20717244001791016)",
          "(0.18405059672232732, 0.24417934172691014)",
          "(0.18140399554022194, 0.2053343077431722)",
          "(0.17824522277902569, 0.21031715705694864)",
          "(0.17804069905925626, 0.20092953522697612)",
          "(0.1765854415000393, 0.17721035191876275)",
          "(0.17613000003291315, 0.177699044693319)",
          "(0.17174220259095088, 0.1765306162934833)",
          "(0.17067565845140703, 0.17126499560699507)",
          "(0.1519551272817216, 0.19098040589499016)",
          "(0.14045061450445023, 0.1598439943337067)",
          "(0.13644581576593495, 0.18517777095769042)",
          "(0.13212995386431817, 0.16151070766492007)",
          "(0.12778448139164408, 0.13644569177800894)",
          "(0.12460509281984117, 0.13142536429568838)",
          "(0.12205149385387343, 0.14221252801958054)",
          "(0.11611157046759094, 0.1174611903138468)",
          "(0.11571130362753955, 0.1296494965030671)",
          "(0.09714083166321597, 0.11223740991657236)",
          "(0.08959169152850016, 0.10000161635169)",
          "(0.08527758236529197, 0.08766475571966448)"
         ],
         "mode": "markers",
         "name": "H1",
         "type": "scatter",
         "x": [
          2.830308366087562,
          2.822215696700104,
          2.110361247163438,
          2.004103865091398,
          1.8337502258270997,
          1.7002494050946593,
          1.531015895297201,
          1.5221185217266748,
          1.3973049713883208,
          1.3743848789916167,
          1.3703870573918469,
          1.3698788421547587,
          1.3628953912966517,
          1.3377607392818411,
          1.2314700833591115,
          1.2268764885032308,
          1.206181866662122,
          1.1519188889924377,
          1.146014088004105,
          1.1380711058582311,
          1.1305440017594564,
          1.1184096866761988,
          1.1026986580764224,
          1.091425315151383,
          1.0748647663691002,
          1.044871591115413,
          1.0334392731259687,
          1.0253178385396766,
          1.0234664057419665,
          0.989071884547493,
          0.9827115293757379,
          0.9337781388907337,
          0.9186525136478019,
          0.9149404504025979,
          0.9083525886582428,
          0.9030661943583329,
          0.8777833880435693,
          0.87079596957183,
          0.8700684535085179,
          0.8633384790576953,
          0.8360504047439313,
          0.8358383177606753,
          0.8149842699899759,
          0.813268186920951,
          0.8124660075829212,
          0.8083199415101612,
          0.7952575655290842,
          0.7939316611915853,
          0.7886321918012962,
          0.7697132574067344,
          0.7673450429334119,
          0.754026034488752,
          0.754026034488752,
          0.7424208998737082,
          0.7335797041052944,
          0.7320238585231937,
          0.721769425830851,
          0.709869966422717,
          0.707495304577242,
          0.7027064850960426,
          0.682907642205472,
          0.6697927855168035,
          0.6697307915537982,
          0.6666745568074128,
          0.6565101168060945,
          0.6477321323366868,
          0.6372621409991597,
          0.6191220762125377,
          0.6185320289442825,
          0.6183698978235791,
          0.6105320123524437,
          0.6081810660157255,
          0.6081807954966143,
          0.607186773022157,
          0.5846821078073664,
          0.5744187930708694,
          0.5726604639339637,
          0.571853370165412,
          0.5700641116767816,
          0.5610374750575744,
          0.5603383184144298,
          0.5537636670200097,
          0.5520173308970382,
          0.5520172858105197,
          0.5487096486367031,
          0.5465847661039914,
          0.5462171306317402,
          0.5431110301958392,
          0.5429667082499627,
          0.5405275726829621,
          0.5332765333372649,
          0.5307931228090488,
          0.5184588941025436,
          0.5172255523876265,
          0.5166466414894529,
          0.5134547414087526,
          0.5077526944943365,
          0.5066041154342921,
          0.503646980855678,
          0.49687498576956757,
          0.4812703162670491,
          0.4748894918158726,
          0.47020703143193116,
          0.4702014857901496,
          0.4697305120173832,
          0.46107755246391285,
          0.4536837241139699,
          0.4490408947798333,
          0.44373367050835366,
          0.44223990906229554,
          0.43843406585850886,
          0.4305262061105849,
          0.42986776259369036,
          0.4287831613034675,
          0.4275807940267937,
          0.42151435786946184,
          0.4194008822259431,
          0.41655565238636855,
          0.4165554269537758,
          0.4098259033681388,
          0.4090491077400522,
          0.4085304324306607,
          0.4075391151473164,
          0.39855238009702526,
          0.3946642990834046,
          0.3785837864641164,
          0.3750637917879325,
          0.369542609442677,
          0.36926773948234093,
          0.3660117489155227,
          0.3593004853698981,
          0.3499011635883621,
          0.34580457996971,
          0.3450244479392508,
          0.34450651655741527,
          0.34184913969737657,
          0.3352018990080921,
          0.3331488618426887,
          0.3300520943161275,
          0.3298789846281573,
          0.3291923169506509,
          0.3283216511909446,
          0.327589333413407,
          0.32604879470435394,
          0.31981722917283506,
          0.31396835801076295,
          0.3138967606193066,
          0.31377171316011004,
          0.31184647373153473,
          0.3106403642738214,
          0.31025791788022666,
          0.30818134555214055,
          0.3078768988356361,
          0.30240544692034055,
          0.2971387103425182,
          0.29362457691374577,
          0.2892525372100165,
          0.2831455231859901,
          0.28312877354434907,
          0.28008124049604366,
          0.2770035896533473,
          0.2742036041351371,
          0.27147465242690133,
          0.27070910588519287,
          0.26732680543665865,
          0.26391224558410237,
          0.2627365469831506,
          0.2585113766135958,
          0.25763392533284785,
          0.2548345259393787,
          0.2524058279014223,
          0.24829432064513038,
          0.24629872370435887,
          0.24438874606231253,
          0.24272920148754853,
          0.23456678325589497,
          0.23100048472516094,
          0.23039224504667108,
          0.22232985125641924,
          0.2191372297914221,
          0.2133428907735354,
          0.18709311389544409,
          0.18574561311556004,
          0.18405059672232732,
          0.18140399554022194,
          0.17824522277902569,
          0.17804069905925626,
          0.1765854415000393,
          0.17613000003291315,
          0.17174220259095088,
          0.17067565845140703,
          0.1519551272817216,
          0.14045061450445023,
          0.13644581576593495,
          0.13212995386431817,
          0.12778448139164408,
          0.12460509281984117,
          0.12205149385387343,
          0.11611157046759094,
          0.11571130362753955,
          0.09714083166321597,
          0.08959169152850016,
          0.08527758236529197
         ],
         "y": [
          2.9631038533238163,
          3.097894328832842,
          2.1879764264236035,
          2.713570532605691,
          1.8902604057543202,
          2.3150464668423147,
          1.5752989720859896,
          1.5661494747037354,
          2.149933864840266,
          1.4606407993587254,
          1.5214658492841546,
          1.4709751704484562,
          1.3993050995242065,
          2.5771381864371725,
          2.8387207890645714,
          1.2270962401946404,
          1.3522831970796199,
          2.897628129010023,
          1.4091426171795236,
          3.1066472451979363,
          1.1765276518548886,
          1.2428877031435088,
          1.4688049759646025,
          3.0914253151513833,
          1.3513296172123015,
          1.4780831502707963,
          1.0674199000801594,
          1.1753227597331761,
          1.4167033558211362,
          1.0374053538166796,
          1.0856376489382418,
          1.1023552791511506,
          1.1015151369645024,
          1.2723054842474693,
          1.1615421555116083,
          0.9274576402013762,
          2.614007957500005,
          0.9203465944957747,
          1.193750070729476,
          1.3762353198859185,
          0.8881822328548256,
          0.9475537835952612,
          0.8383141988402936,
          1.1515214062449066,
          0.9473072505118334,
          0.9422575604343076,
          1.176256411359296,
          0.8490527254823006,
          1.7128514477213477,
          0.9506549245141217,
          1.0974569896029136,
          1.0967652722353296,
          0.8449735678030679,
          1.0364681854421132,
          1.0311611415167077,
          1.125996485325533,
          0.7876160318462312,
          0.770813188113264,
          0.8437937437856687,
          0.7532674087276409,
          1.0278357402545828,
          0.8971434489356177,
          0.7378910573550562,
          0.7852400624917182,
          0.9625624544090761,
          0.6521587267278608,
          0.8672435126022906,
          0.7988694465300716,
          0.6541493866948511,
          0.9075442775536903,
          0.721669874797894,
          0.6248467565592656,
          0.6248468467323027,
          0.6734418628955942,
          0.8053939166293463,
          0.6681981655287506,
          0.682288063267567,
          0.7443406387470204,
          0.573699302407859,
          0.6570687838574393,
          1.042982556161233,
          0.5934366923736469,
          0.6759352375444097,
          0.5907939911753961,
          0.5815834917335446,
          0.6638801394742434,
          0.5539452304302079,
          0.5871626327983953,
          0.7636424478571031,
          0.64495877040768,
          0.8032714236821177,
          0.5771284026626474,
          0.5736970480819316,
          0.757161350988673,
          0.560323890728494,
          0.569624968986111,
          0.6064243149069691,
          0.7827106186280632,
          0.5330232372760547,
          0.7286512065896291,
          0.528655345532032,
          0.5414740288803498,
          0.6986138916342821,
          0.754025628710085,
          0.5304608351673402,
          0.5430643656491406,
          0.47288674866191105,
          0.4998306324930694,
          0.496961687144738,
          0.4922446003145506,
          0.4883085021586749,
          0.4918203812615199,
          0.4533859276589515,
          0.4401054231011328,
          0.509062728377306,
          0.44525953355561887,
          0.44392930091233923,
          0.5365103187936976,
          0.6640021886799564,
          0.4220101292274303,
          0.4512441376817838,
          0.4769560323935815,
          0.4399277371315299,
          0.4005054379075455,
          0.42210959008735016,
          0.4284382945230836,
          0.5987971638235333,
          0.41519805222632944,
          0.3711709992331234,
          0.3718362282710596,
          0.5498309954395437,
          0.4736845996941601,
          0.5128589230661231,
          0.35680345871308017,
          0.3645322122660669,
          0.3665767506227237,
          0.34900608347886136,
          0.46665723456698616,
          0.35047840628534926,
          0.38385669989497995,
          0.5016256620560742,
          0.36204307574999506,
          0.5213235111450943,
          0.34402776536019913,
          0.3830415807261265,
          0.34596468219707865,
          0.43915716344300315,
          0.31684386344754334,
          0.3198670497758321,
          0.3698456133905878,
          0.3224594795059004,
          0.36439546485530677,
          0.3713973110129818,
          0.36969926255137664,
          0.31964612583494034,
          0.3136772343604899,
          0.3254672687881046,
          0.28329636013379694,
          0.30802304678551384,
          0.34669517397061506,
          0.359240475213709,
          0.38126512680876407,
          0.29242385529499904,
          0.2782105106683946,
          0.31277496295128054,
          0.31821278032373834,
          0.27803981310916676,
          0.369013970012686,
          0.2674591794551195,
          0.25954160356244815,
          0.2623408000665838,
          0.2806755258970425,
          0.26385054468346764,
          0.259832952645314,
          0.2642272876324659,
          0.29317127705625073,
          0.2383636091559718,
          0.25665577331291994,
          0.22255550928175868,
          0.2886597396641298,
          0.23865741545409858,
          0.22030334750718217,
          0.20717244001791016,
          0.24417934172691014,
          0.2053343077431722,
          0.21031715705694864,
          0.20092953522697612,
          0.17721035191876275,
          0.177699044693319,
          0.1765306162934833,
          0.17126499560699507,
          0.19098040589499016,
          0.1598439943337067,
          0.18517777095769042,
          0.16151070766492007,
          0.13644569177800894,
          0.13142536429568838,
          0.14221252801958054,
          0.1174611903138468,
          0.1296494965030671,
          0.11223740991657236,
          0.10000161635169,
          0.08766475571966448
         ]
        },
        {
         "hoverinfo": "text",
         "hovertext": [
          "(3.352245775269224, 3.357010518549518)",
          "(2.6555203775508995, 2.7371046132120003)",
          "(1.3092283672291525, 1.3121718856791647)",
          "(1.2058600390927168, 1.2224381716172341)"
         ],
         "mode": "markers",
         "name": "H2",
         "type": "scatter",
         "x": [
          3.352245775269224,
          2.6555203775508995,
          1.3092283672291525,
          1.2058600390927168
         ],
         "y": [
          3.357010518549518,
          2.7371046132120003,
          1.3121718856791647,
          1.2224381716172341
         ]
        }
       ],
       "layout": {
        "height": 500,
        "plot_bgcolor": "white",
        "template": {
         "data": {
          "bar": [
           {
            "error_x": {
             "color": "#2a3f5f"
            },
            "error_y": {
             "color": "#2a3f5f"
            },
            "marker": {
             "line": {
              "color": "#E5ECF6",
              "width": 0.5
             },
             "pattern": {
              "fillmode": "overlay",
              "size": 10,
              "solidity": 0.2
             }
            },
            "type": "bar"
           }
          ],
          "barpolar": [
           {
            "marker": {
             "line": {
              "color": "#E5ECF6",
              "width": 0.5
             },
             "pattern": {
              "fillmode": "overlay",
              "size": 10,
              "solidity": 0.2
             }
            },
            "type": "barpolar"
           }
          ],
          "carpet": [
           {
            "aaxis": {
             "endlinecolor": "#2a3f5f",
             "gridcolor": "white",
             "linecolor": "white",
             "minorgridcolor": "white",
             "startlinecolor": "#2a3f5f"
            },
            "baxis": {
             "endlinecolor": "#2a3f5f",
             "gridcolor": "white",
             "linecolor": "white",
             "minorgridcolor": "white",
             "startlinecolor": "#2a3f5f"
            },
            "type": "carpet"
           }
          ],
          "choropleth": [
           {
            "colorbar": {
             "outlinewidth": 0,
             "ticks": ""
            },
            "type": "choropleth"
           }
          ],
          "contour": [
           {
            "colorbar": {
             "outlinewidth": 0,
             "ticks": ""
            },
            "colorscale": [
             [
              0,
              "#0d0887"
             ],
             [
              0.1111111111111111,
              "#46039f"
             ],
             [
              0.2222222222222222,
              "#7201a8"
             ],
             [
              0.3333333333333333,
              "#9c179e"
             ],
             [
              0.4444444444444444,
              "#bd3786"
             ],
             [
              0.5555555555555556,
              "#d8576b"
             ],
             [
              0.6666666666666666,
              "#ed7953"
             ],
             [
              0.7777777777777778,
              "#fb9f3a"
             ],
             [
              0.8888888888888888,
              "#fdca26"
             ],
             [
              1,
              "#f0f921"
             ]
            ],
            "type": "contour"
           }
          ],
          "contourcarpet": [
           {
            "colorbar": {
             "outlinewidth": 0,
             "ticks": ""
            },
            "type": "contourcarpet"
           }
          ],
          "heatmap": [
           {
            "colorbar": {
             "outlinewidth": 0,
             "ticks": ""
            },
            "colorscale": [
             [
              0,
              "#0d0887"
             ],
             [
              0.1111111111111111,
              "#46039f"
             ],
             [
              0.2222222222222222,
              "#7201a8"
             ],
             [
              0.3333333333333333,
              "#9c179e"
             ],
             [
              0.4444444444444444,
              "#bd3786"
             ],
             [
              0.5555555555555556,
              "#d8576b"
             ],
             [
              0.6666666666666666,
              "#ed7953"
             ],
             [
              0.7777777777777778,
              "#fb9f3a"
             ],
             [
              0.8888888888888888,
              "#fdca26"
             ],
             [
              1,
              "#f0f921"
             ]
            ],
            "type": "heatmap"
           }
          ],
          "heatmapgl": [
           {
            "colorbar": {
             "outlinewidth": 0,
             "ticks": ""
            },
            "colorscale": [
             [
              0,
              "#0d0887"
             ],
             [
              0.1111111111111111,
              "#46039f"
             ],
             [
              0.2222222222222222,
              "#7201a8"
             ],
             [
              0.3333333333333333,
              "#9c179e"
             ],
             [
              0.4444444444444444,
              "#bd3786"
             ],
             [
              0.5555555555555556,
              "#d8576b"
             ],
             [
              0.6666666666666666,
              "#ed7953"
             ],
             [
              0.7777777777777778,
              "#fb9f3a"
             ],
             [
              0.8888888888888888,
              "#fdca26"
             ],
             [
              1,
              "#f0f921"
             ]
            ],
            "type": "heatmapgl"
           }
          ],
          "histogram": [
           {
            "marker": {
             "pattern": {
              "fillmode": "overlay",
              "size": 10,
              "solidity": 0.2
             }
            },
            "type": "histogram"
           }
          ],
          "histogram2d": [
           {
            "colorbar": {
             "outlinewidth": 0,
             "ticks": ""
            },
            "colorscale": [
             [
              0,
              "#0d0887"
             ],
             [
              0.1111111111111111,
              "#46039f"
             ],
             [
              0.2222222222222222,
              "#7201a8"
             ],
             [
              0.3333333333333333,
              "#9c179e"
             ],
             [
              0.4444444444444444,
              "#bd3786"
             ],
             [
              0.5555555555555556,
              "#d8576b"
             ],
             [
              0.6666666666666666,
              "#ed7953"
             ],
             [
              0.7777777777777778,
              "#fb9f3a"
             ],
             [
              0.8888888888888888,
              "#fdca26"
             ],
             [
              1,
              "#f0f921"
             ]
            ],
            "type": "histogram2d"
           }
          ],
          "histogram2dcontour": [
           {
            "colorbar": {
             "outlinewidth": 0,
             "ticks": ""
            },
            "colorscale": [
             [
              0,
              "#0d0887"
             ],
             [
              0.1111111111111111,
              "#46039f"
             ],
             [
              0.2222222222222222,
              "#7201a8"
             ],
             [
              0.3333333333333333,
              "#9c179e"
             ],
             [
              0.4444444444444444,
              "#bd3786"
             ],
             [
              0.5555555555555556,
              "#d8576b"
             ],
             [
              0.6666666666666666,
              "#ed7953"
             ],
             [
              0.7777777777777778,
              "#fb9f3a"
             ],
             [
              0.8888888888888888,
              "#fdca26"
             ],
             [
              1,
              "#f0f921"
             ]
            ],
            "type": "histogram2dcontour"
           }
          ],
          "mesh3d": [
           {
            "colorbar": {
             "outlinewidth": 0,
             "ticks": ""
            },
            "type": "mesh3d"
           }
          ],
          "parcoords": [
           {
            "line": {
             "colorbar": {
              "outlinewidth": 0,
              "ticks": ""
             }
            },
            "type": "parcoords"
           }
          ],
          "pie": [
           {
            "automargin": true,
            "type": "pie"
           }
          ],
          "scatter": [
           {
            "fillpattern": {
             "fillmode": "overlay",
             "size": 10,
             "solidity": 0.2
            },
            "type": "scatter"
           }
          ],
          "scatter3d": [
           {
            "line": {
             "colorbar": {
              "outlinewidth": 0,
              "ticks": ""
             }
            },
            "marker": {
             "colorbar": {
              "outlinewidth": 0,
              "ticks": ""
             }
            },
            "type": "scatter3d"
           }
          ],
          "scattercarpet": [
           {
            "marker": {
             "colorbar": {
              "outlinewidth": 0,
              "ticks": ""
             }
            },
            "type": "scattercarpet"
           }
          ],
          "scattergeo": [
           {
            "marker": {
             "colorbar": {
              "outlinewidth": 0,
              "ticks": ""
             }
            },
            "type": "scattergeo"
           }
          ],
          "scattergl": [
           {
            "marker": {
             "colorbar": {
              "outlinewidth": 0,
              "ticks": ""
             }
            },
            "type": "scattergl"
           }
          ],
          "scattermapbox": [
           {
            "marker": {
             "colorbar": {
              "outlinewidth": 0,
              "ticks": ""
             }
            },
            "type": "scattermapbox"
           }
          ],
          "scatterpolar": [
           {
            "marker": {
             "colorbar": {
              "outlinewidth": 0,
              "ticks": ""
             }
            },
            "type": "scatterpolar"
           }
          ],
          "scatterpolargl": [
           {
            "marker": {
             "colorbar": {
              "outlinewidth": 0,
              "ticks": ""
             }
            },
            "type": "scatterpolargl"
           }
          ],
          "scatterternary": [
           {
            "marker": {
             "colorbar": {
              "outlinewidth": 0,
              "ticks": ""
             }
            },
            "type": "scatterternary"
           }
          ],
          "surface": [
           {
            "colorbar": {
             "outlinewidth": 0,
             "ticks": ""
            },
            "colorscale": [
             [
              0,
              "#0d0887"
             ],
             [
              0.1111111111111111,
              "#46039f"
             ],
             [
              0.2222222222222222,
              "#7201a8"
             ],
             [
              0.3333333333333333,
              "#9c179e"
             ],
             [
              0.4444444444444444,
              "#bd3786"
             ],
             [
              0.5555555555555556,
              "#d8576b"
             ],
             [
              0.6666666666666666,
              "#ed7953"
             ],
             [
              0.7777777777777778,
              "#fb9f3a"
             ],
             [
              0.8888888888888888,
              "#fdca26"
             ],
             [
              1,
              "#f0f921"
             ]
            ],
            "type": "surface"
           }
          ],
          "table": [
           {
            "cells": {
             "fill": {
              "color": "#EBF0F8"
             },
             "line": {
              "color": "white"
             }
            },
            "header": {
             "fill": {
              "color": "#C8D4E3"
             },
             "line": {
              "color": "white"
             }
            },
            "type": "table"
           }
          ]
         },
         "layout": {
          "annotationdefaults": {
           "arrowcolor": "#2a3f5f",
           "arrowhead": 0,
           "arrowwidth": 1
          },
          "autotypenumbers": "strict",
          "coloraxis": {
           "colorbar": {
            "outlinewidth": 0,
            "ticks": ""
           }
          },
          "colorscale": {
           "diverging": [
            [
             0,
             "#8e0152"
            ],
            [
             0.1,
             "#c51b7d"
            ],
            [
             0.2,
             "#de77ae"
            ],
            [
             0.3,
             "#f1b6da"
            ],
            [
             0.4,
             "#fde0ef"
            ],
            [
             0.5,
             "#f7f7f7"
            ],
            [
             0.6,
             "#e6f5d0"
            ],
            [
             0.7,
             "#b8e186"
            ],
            [
             0.8,
             "#7fbc41"
            ],
            [
             0.9,
             "#4d9221"
            ],
            [
             1,
             "#276419"
            ]
           ],
           "sequential": [
            [
             0,
             "#0d0887"
            ],
            [
             0.1111111111111111,
             "#46039f"
            ],
            [
             0.2222222222222222,
             "#7201a8"
            ],
            [
             0.3333333333333333,
             "#9c179e"
            ],
            [
             0.4444444444444444,
             "#bd3786"
            ],
            [
             0.5555555555555556,
             "#d8576b"
            ],
            [
             0.6666666666666666,
             "#ed7953"
            ],
            [
             0.7777777777777778,
             "#fb9f3a"
            ],
            [
             0.8888888888888888,
             "#fdca26"
            ],
            [
             1,
             "#f0f921"
            ]
           ],
           "sequentialminus": [
            [
             0,
             "#0d0887"
            ],
            [
             0.1111111111111111,
             "#46039f"
            ],
            [
             0.2222222222222222,
             "#7201a8"
            ],
            [
             0.3333333333333333,
             "#9c179e"
            ],
            [
             0.4444444444444444,
             "#bd3786"
            ],
            [
             0.5555555555555556,
             "#d8576b"
            ],
            [
             0.6666666666666666,
             "#ed7953"
            ],
            [
             0.7777777777777778,
             "#fb9f3a"
            ],
            [
             0.8888888888888888,
             "#fdca26"
            ],
            [
             1,
             "#f0f921"
            ]
           ]
          },
          "colorway": [
           "#636efa",
           "#EF553B",
           "#00cc96",
           "#ab63fa",
           "#FFA15A",
           "#19d3f3",
           "#FF6692",
           "#B6E880",
           "#FF97FF",
           "#FECB52"
          ],
          "font": {
           "color": "#2a3f5f"
          },
          "geo": {
           "bgcolor": "white",
           "lakecolor": "white",
           "landcolor": "#E5ECF6",
           "showlakes": true,
           "showland": true,
           "subunitcolor": "white"
          },
          "hoverlabel": {
           "align": "left"
          },
          "hovermode": "closest",
          "mapbox": {
           "style": "light"
          },
          "paper_bgcolor": "white",
          "plot_bgcolor": "#E5ECF6",
          "polar": {
           "angularaxis": {
            "gridcolor": "white",
            "linecolor": "white",
            "ticks": ""
           },
           "bgcolor": "#E5ECF6",
           "radialaxis": {
            "gridcolor": "white",
            "linecolor": "white",
            "ticks": ""
           }
          },
          "scene": {
           "xaxis": {
            "backgroundcolor": "#E5ECF6",
            "gridcolor": "white",
            "gridwidth": 2,
            "linecolor": "white",
            "showbackground": true,
            "ticks": "",
            "zerolinecolor": "white"
           },
           "yaxis": {
            "backgroundcolor": "#E5ECF6",
            "gridcolor": "white",
            "gridwidth": 2,
            "linecolor": "white",
            "showbackground": true,
            "ticks": "",
            "zerolinecolor": "white"
           },
           "zaxis": {
            "backgroundcolor": "#E5ECF6",
            "gridcolor": "white",
            "gridwidth": 2,
            "linecolor": "white",
            "showbackground": true,
            "ticks": "",
            "zerolinecolor": "white"
           }
          },
          "shapedefaults": {
           "line": {
            "color": "#2a3f5f"
           }
          },
          "ternary": {
           "aaxis": {
            "gridcolor": "white",
            "linecolor": "white",
            "ticks": ""
           },
           "baxis": {
            "gridcolor": "white",
            "linecolor": "white",
            "ticks": ""
           },
           "bgcolor": "#E5ECF6",
           "caxis": {
            "gridcolor": "white",
            "linecolor": "white",
            "ticks": ""
           }
          },
          "title": {
           "x": 0.05
          },
          "xaxis": {
           "automargin": true,
           "gridcolor": "white",
           "linecolor": "white",
           "ticks": "",
           "title": {
            "standoff": 15
           },
           "zerolinecolor": "white",
           "zerolinewidth": 2
          },
          "yaxis": {
           "automargin": true,
           "gridcolor": "white",
           "linecolor": "white",
           "ticks": "",
           "title": {
            "standoff": 15
           },
           "zerolinecolor": "white",
           "zerolinewidth": 2
          }
         }
        },
        "width": 500,
        "xaxis": {
         "autorange": false,
         "exponentformat": "e",
         "linecolor": "black",
         "linewidth": 1,
         "mirror": false,
         "range": [
          -0.06714021037099036,
          3.424150728920508
         ],
         "showexponent": "all",
         "showline": true,
         "side": "bottom",
         "ticks": "outside",
         "title": {
          "text": "Birth"
         },
         "type": "linear",
         "zeroline": true
        },
        "yaxis": {
         "autorange": false,
         "exponentformat": "e",
         "linecolor": "black",
         "linewidth": 1,
         "mirror": false,
         "range": [
          -0.06714021037099036,
          3.424150728920508
         ],
         "scaleanchor": "x",
         "scaleratio": 1,
         "showexponent": "all",
         "showline": true,
         "side": "left",
         "ticks": "outside",
         "title": {
          "text": "Death"
         },
         "type": "linear",
         "zeroline": true
        }
       }
      },
      "text/html": [
       "<div>                            <div id=\"449a7073-8b50-41ad-a3ec-b3a7b7f60f72\" class=\"plotly-graph-div\" style=\"height:500px; width:500px;\"></div>            <script type=\"text/javascript\">                require([\"plotly\"], function(Plotly) {                    window.PLOTLYENV=window.PLOTLYENV || {};                                    if (document.getElementById(\"449a7073-8b50-41ad-a3ec-b3a7b7f60f72\")) {                    Plotly.newPlot(                        \"449a7073-8b50-41ad-a3ec-b3a7b7f60f72\",                        [{\"hoverinfo\":\"none\",\"line\":{\"color\":\"black\",\"dash\":\"dash\",\"width\":1},\"mode\":\"lines\",\"showlegend\":false,\"x\":[-0.06714021037099036,3.424150728920508],\"y\":[-0.06714021037099036,3.424150728920508],\"type\":\"scatter\"},{\"hoverinfo\":\"text\",\"hovertext\":[\"(0.0, 0.0018425794609875147)\",\"(0.0, 0.0032144708145722695)\",\"(0.0, 0.007656206526733443)\",\"(0.0, 0.008004840849323605)\",\"(0.0, 0.009260143925635378)\",\"(0.0, 0.011778055503217621)\",\"(0.0, 0.01212975289116173)\",\"(0.0, 0.013829389243592045)\",\"(0.0, 0.013842908154388323)\",\"(0.0, 0.014289168879174849)\",\"(0.0, 0.015421897210041724)\",\"(0.0, 0.01875213963709591)\",\"(0.0, 0.019130419754585962)\",\"(0.0, 0.019541910319848723)\",\"(0.0, 0.019585841496360234)\",\"(0.0, 0.01986528632937532)\",\"(0.0, 0.022274335098966487)\",\"(0.0, 0.023214321380942354)\",\"(0.0, 0.02355716349485263)\",\"(0.0, 0.02366506257850972)\",\"(0.0, 0.02435950768046589)\",\"(0.0, 0.024460636741572055)\",\"(0.0, 0.024838904178478772)\",\"(0.0, 0.026122776609060074)\",\"(0.0, 0.028082924274622164)\",\"(0.0, 0.02848640352912019)\",\"(0.0, 0.029466015225086104)\",\"(0.0, 0.03000826796577158)\",\"(0.0, 0.03158915629101887)\",\"(0.0, 0.03238624367036002)\",\"(0.0, 0.03258483005921799)\",\"(0.0, 0.033940302699163045)\",\"(0.0, 0.03467043096264361)\",\"(0.0, 0.03468771600669246)\",\"(0.0, 0.035361700282949465)\",\"(0.0, 0.03541927013132215)\",\"(0.0, 0.036289369491639134)\",\"(0.0, 0.03646579867453751)\",\"(0.0, 0.036664097636839726)\",\"(0.0, 0.03697341087944005)\",\"(0.0, 0.03818557602017603)\",\"(0.0, 0.038401281196545706)\",\"(0.0, 0.03977929991367284)\",\"(0.0, 0.040066830731999015)\",\"(0.0, 0.04021003115072653)\",\"(0.0, 0.04034844394476559)\",\"(0.0, 0.04128080215138439)\",\"(0.0, 0.041409546705102024)\",\"(0.0, 0.041908383946331895)\",\"(0.0, 0.04218134054753699)\",\"(0.0, 0.04289254374485647)\",\"(0.0, 0.0445434260722442)\",\"(0.0, 0.04463947726419875)\",\"(0.0, 0.04527887454491359)\",\"(0.0, 0.04743760578142624)\",\"(0.0, 0.048117837358409736)\",\"(0.0, 0.04834877614223426)\",\"(0.0, 0.048555103322745666)\",\"(0.0, 0.04859767063207106)\",\"(0.0, 0.04892517910281345)\",\"(0.0, 0.049314270122079416)\",\"(0.0, 0.05065501355999589)\",\"(0.0, 0.05065509809721817)\",\"(0.0, 0.051737140727513356)\",\"(0.0, 0.051892779389545673)\",\"(0.0, 0.054489002022987)\",\"(0.0, 0.055164555873671)\",\"(0.0, 0.0554309608401494)\",\"(0.0, 0.0554619352783928)\",\"(0.0, 0.05586606828740978)\",\"(0.0, 0.05672054235114201)\",\"(0.0, 0.05678161204051709)\",\"(0.0, 0.05696733468205145)\",\"(0.0, 0.05699583499758945)\",\"(0.0, 0.05727670710070737)\",\"(0.0, 0.05732992610004004)\",\"(0.0, 0.05963842911535877)\",\"(0.0, 0.06195162112860663)\",\"(0.0, 0.06203446760644104)\",\"(0.0, 0.06315405039924338)\",\"(0.0, 0.06352977326575947)\",\"(0.0, 0.06402007788335387)\",\"(0.0, 0.06436367660540356)\",\"(0.0, 0.06489304305550615)\",\"(0.0, 0.06501021728140106)\",\"(0.0, 0.06526046436679434)\",\"(0.0, 0.06589342836489367)\",\"(0.0, 0.06661253579249633)\",\"(0.0, 0.06745919861688988)\",\"(0.0, 0.06750456129036533)\",\"(0.0, 0.06759322956490743)\",\"(0.0, 0.06772564866988684)\",\"(0.0, 0.06816893932026392)\",\"(0.0, 0.06824322499538878)\",\"(0.0, 0.07001664120856396)\",\"(0.0, 0.07011784353526278)\",\"(0.0, 0.07041593305265172)\",\"(0.0, 0.07046811506205776)\",\"(0.0, 0.07315179990566999)\",\"(0.0, 0.07357039441551168)\",\"(0.0, 0.07361329987372618)\",\"(0.0, 0.07379374175677546)\",\"(0.0, 0.07443271353347149)\",\"(0.0, 0.07451046523470982)\",\"(0.0, 0.07584816533262422)\",\"(0.0, 0.0765611240862597)\",\"(0.0, 0.07701495371034771)\",\"(0.0, 0.07730917705877105)\",\"(0.0, 0.07746788160406472)\",\"(0.0, 0.07795943173673404)\",\"(0.0, 0.07868436096104439)\",\"(0.0, 0.07919004008146413)\",\"(0.0, 0.0792032560672139)\",\"(0.0, 0.0793337139086364)\",\"(0.0, 0.07942167770632616)\",\"(0.0, 0.07966552814190025)\",\"(0.0, 0.07998120140152344)\",\"(0.0, 0.07998629617811952)\",\"(0.0, 0.08008967392933833)\",\"(0.0, 0.08110149430699293)\",\"(0.0, 0.08120376180269247)\",\"(0.0, 0.08130604057002164)\",\"(0.0, 0.08177473747360128)\",\"(0.0, 0.08217766441824707)\",\"(0.0, 0.08232865353305399)\",\"(0.0, 0.08257882735285463)\",\"(0.0, 0.08273974113755721)\",\"(0.0, 0.08353160693446886)\",\"(0.0, 0.08384605158646158)\",\"(0.0, 0.08409985487100544)\",\"(0.0, 0.08416844837316344)\",\"(0.0, 0.08440465664384342)\",\"(0.0, 0.0847873510132902)\",\"(0.0, 0.08497796554208716)\",\"(0.0, 0.08662961997610505)\",\"(0.0, 0.0866570776659016)\",\"(0.0, 0.08691489365059635)\",\"(0.0, 0.08734271398929619)\",\"(0.0, 0.08820455969881123)\",\"(0.0, 0.08828405850264336)\",\"(0.0, 0.08838840561401098)\",\"(0.0, 0.08851091132072435)\",\"(0.0, 0.08856088409072146)\",\"(0.0, 0.08872792964194677)\",\"(0.0, 0.08894074928112927)\",\"(0.0, 0.0889410874300184)\",\"(0.0, 0.08898864243545831)\",\"(0.0, 0.08908910083460106)\",\"(0.0, 0.08920612852931067)\",\"(0.0, 0.08942867558487021)\",\"(0.0, 0.08952934814497607)\",\"(0.0, 0.08953959969213121)\",\"(0.0, 0.0895810792891966)\",\"(0.0, 0.09022354527108022)\",\"(0.0, 0.09036552271799207)\",\"(0.0, 0.09099556736401535)\",\"(0.0, 0.09127101217746288)\",\"(0.0, 0.09165231450064945)\",\"(0.0, 0.0925065518601593)\",\"(0.0, 0.09276374226940917)\",\"(0.0, 0.09281629624259324)\",\"(0.0, 0.09301450221395095)\",\"(0.0, 0.09338139375864618)\",\"(0.0, 0.0941638252015514)\",\"(0.0, 0.09459325174747456)\",\"(0.0, 0.09467463291345611)\",\"(0.0, 0.09497479641069832)\",\"(0.0, 0.09507859684802854)\",\"(0.0, 0.0955479024196086)\",\"(0.0, 0.09554812785220135)\",\"(0.0, 0.09554824056849771)\",\"(0.0, 0.09554827438338663)\",\"(0.0, 0.09554828565501626)\",\"(0.0, 0.09554833074153482)\",\"(0.0, 0.0955483532847941)\",\"(0.0, 0.09588867759843413)\",\"(0.0, 0.09628360168603742)\",\"(0.0, 0.09630637037790483)\",\"(0.0, 0.09654501332058647)\",\"(0.0, 0.09717765607724115)\",\"(0.0, 0.09791000766966768)\",\"(0.0, 0.09828440611970136)\",\"(0.0, 0.09894573517378305)\",\"(0.0, 0.09908923429069597)\",\"(0.0, 0.09936834238377563)\",\"(0.0, 0.09940878499091439)\",\"(0.0, 0.10089054215140873)\",\"(0.0, 0.1012636330924045)\",\"(0.0, 0.10219698038452397)\",\"(0.0, 0.1025638381143303)\",\"(0.0, 0.10292371870539112)\",\"(0.0, 0.10427262843897984)\",\"(0.0, 0.10461405737232433)\",\"(0.0, 0.10496847122301105)\",\"(0.0, 0.10510432817502983)\",\"(0.0, 0.10526257058350837)\",\"(0.0, 0.10556439101030728)\",\"(0.0, 0.10613276293476986)\",\"(0.0, 0.10685741600415409)\",\"(0.0, 0.10718177969022766)\",\"(0.0, 0.10729359425623002)\",\"(0.0, 0.10736383905212989)\",\"(0.0, 0.10751313178667639)\",\"(0.0, 0.10757032403545622)\",\"(0.0, 0.10841667689003474)\",\"(0.0, 0.10843435080530608)\",\"(0.0, 0.10901408453244311)\",\"(0.0, 0.10979463361319888)\",\"(0.0, 0.11019283774502663)\",\"(0.0, 0.11074482071999653)\",\"(0.0, 0.11086212456963228)\",\"(0.0, 0.11161453966281326)\",\"(0.0, 0.11192467855228451)\",\"(0.0, 0.11202176109835088)\",\"(0.0, 0.11211776156797205)\",\"(0.0, 0.11213854645302329)\",\"(0.0, 0.11223230386834665)\",\"(0.0, 0.11275306442922113)\",\"(0.0, 0.1134014085659606)\",\"(0.0, 0.11367264906155342)\",\"(0.0, 0.11405831914122445)\",\"(0.0, 0.11422989588756396)\",\"(0.0, 0.11485680138473323)\",\"(0.0, 0.11510807982423832)\",\"(0.0, 0.1151745824390986)\",\"(0.0, 0.11533249797031765)\",\"(0.0, 0.11548202740908653)\",\"(0.0, 0.11573398214636986)\",\"(0.0, 0.11580604167464134)\",\"(0.0, 0.11602046188523235)\",\"(0.0, 0.1161369203626453)\",\"(0.0, 0.11663877840061797)\",\"(0.0, 0.11679037054761049)\",\"(0.0, 0.11699765581664107)\",\"(0.0, 0.11744252449516739)\",\"(0.0, 0.11762737922121966)\",\"(0.0, 0.11782831856276442)\",\"(0.0, 0.11988931349869175)\",\"(0.0, 0.12007568989474507)\",\"(0.0, 0.12038231203576948)\",\"(0.0, 0.12049950316910885)\",\"(0.0, 0.120503290436667)\",\"(0.0, 0.1205074271247439)\",\"(0.0, 0.12051976955919677)\",\"(0.0, 0.12170240021237554)\",\"(0.0, 0.12175173613529815)\",\"(0.0, 0.12178227097998569)\",\"(0.0, 0.12186784519219233)\",\"(0.0, 0.1220778131090766)\",\"(0.0, 0.12214688565549418)\",\"(0.0, 0.12232842652243309)\",\"(0.0, 0.12232843779406273)\",\"(0.0, 0.12232884357272968)\",\"(0.0, 0.1223290915485817)\",\"(0.0, 0.12232915917835951)\",\"(0.0, 0.12232919299324843)\",\"(0.0, 0.12232922680813735)\",\"(0.0, 0.12232924935139662)\",\"(0.0, 0.1223292718946559)\",\"(0.0, 0.12232928316628552)\",\"(0.0, 0.12232941842584118)\",\"(0.0, 0.12232963258680428)\",\"(0.0, 0.12232973403147102)\",\"(0.0, 0.12232977911798958)\",\"(0.0, 0.12232982420450812)\",\"(0.0, 0.12233036524273071)\",\"(0.0, 0.12249490849217652)\",\"(0.0, 0.12251994278160104)\",\"(0.0, 0.12282283401321549)\",\"(0.0, 0.12288667652348136)\",\"(0.0, 0.12306339313293548)\",\"(0.0, 0.12368394143098929)\",\"(0.0, 0.12393122971360276)\",\"(0.0, 0.12406674851673244)\",\"(0.0, 0.1241300499887757)\",\"(0.0, 0.12499003024358578)\",\"(0.0, 0.12536259141798858)\",\"(0.0, 0.12555591113789852)\",\"(0.0, 0.1259790932010026)\",\"(0.0, 0.12703223537290767)\",\"(0.0, 0.1270961004264328)\",\"(0.0, 0.1273388011557839)\",\"(0.0, 0.1274694731581695)\",\"(0.0, 0.12747816358461989)\",\"(0.0, 0.1276701757954919)\",\"(0.0, 0.12789982397772293)\",\"(0.0, 0.12792160076618225)\",\"(0.0, 0.12799100018985932)\",\"(0.0, 0.12874023668348258)\",\"(0.0, 0.12947938506858042)\",\"(0.0, 0.13034568870761704)\",\"(0.0, 0.13064784728330506)\",\"(0.0, 0.13085875074544923)\",\"(0.0, 0.13086417239930478)\",\"(0.0, 0.13154601581932643)\",\"(0.0, 0.13277934626261392)\",\"(0.0, 0.13297046801474455)\",\"(0.0, 0.13304468042427675)\",\"(0.0, 0.13317549895784767)\",\"(0.0, 0.13317607381095917)\",\"(0.0, 0.13379144843100943)\",\"(0.0, 0.1343461365970923)\",\"(0.0, 0.135041280540086)\",\"(0.0, 0.1350861190827833)\",\"(0.0, 0.13537297078542385)\",\"(0.0, 0.13585256735486279)\",\"(0.0, 0.13636912359788253)\",\"(0.0, 0.13660073304367049)\",\"(0.0, 0.13660082321670758)\",\"(0.0, 0.13660086830322613)\",\"(0.0, 0.13660090211811504)\",\"(0.0, 0.13660103737767068)\",\"(0.0, 0.13660110500744851)\",\"(0.0, 0.13660115009396706)\",\"(0.0, 0.13682303212337799)\",\"(0.0, 0.1373959126996955)\",\"(0.0, 0.13774306762089578)\",\"(0.0, 0.13782059388954138)\",\"(0.0, 0.13867254874404966)\",\"(0.0, 0.13899242632152756)\",\"(0.0, 0.13899931328723597)\",\"(0.0, 0.13949354043194417)\",\"(0.0, 0.13971289761631633)\",\"(0.0, 0.13984819098685328)\",\"(0.0, 0.1399340357181712)\",\"(0.0, 0.14018798553390036)\",\"(0.0, 0.1402786657943327)\",\"(0.0, 0.1403698983646173)\",\"(0.0, 0.14117069129220172)\",\"(0.0, 0.14169300733796616)\",\"(0.0, 0.14240110238341314)\",\"(0.0, 0.14307852732461693)\",\"(0.0, 0.1433745090472637)\",\"(0.0, 0.1441443162649751)\",\"(0.0, 0.14455961945896267)\",\"(0.0, 0.14484316857411947)\",\"(0.0, 0.14495913109982836)\",\"(0.0, 0.14515931524218742)\",\"(0.0, 0.1453081232966595)\",\"(0.0, 0.1461842670683695)\",\"(0.0, 0.14763674053506606)\",\"(0.0, 0.14832786050627922)\",\"(0.0, 0.1492187926560734)\",\"(0.0, 0.14951508998435)\",\"(0.0, 0.15164826843647483)\",\"(0.0, 0.15168404458894372)\",\"(0.0, 0.15271410246335154)\",\"(0.0, 0.15307270936026332)\",\"(0.0, 0.15320582730628024)\",\"(0.0, 0.153298795707529)\",\"(0.0, 0.1538862617725972)\",\"(0.0, 0.15398989313548286)\",\"(0.0, 0.15399576565452391)\",\"(0.0, 0.15401653926794553)\",\"(0.0, 0.1540555954646389)\",\"(0.0, 0.15501439409647946)\",\"(0.0, 0.15514807562397825)\",\"(0.0, 0.1551984823517164)\",\"(0.0, 0.15522209641580664)\",\"(0.0, 0.1554012702405217)\",\"(0.0, 0.1555469673252139)\",\"(0.0, 0.156297793118616)\",\"(0.0, 0.15673055606691183)\",\"(0.0, 0.15719416946552503)\",\"(0.0, 0.15740455443270587)\",\"(0.0, 0.1577529943196848)\",\"(0.0, 0.15798716242540042)\",\"(0.0, 0.15831318304103068)\",\"(0.0, 0.1584305770637035)\",\"(0.0, 0.15855946814860641)\",\"(0.0, 0.15858797409995926)\",\"(0.0, 0.15889862021276419)\",\"(0.0, 0.15906482039176667)\",\"(0.0, 0.1594224692001593)\",\"(0.0, 0.15976545361839375)\",\"(0.0, 0.15981136296590662)\",\"(0.0, 0.1611649391541652)\",\"(0.0, 0.1615391234432358)\",\"(0.0, 0.1618263921961729)\",\"(0.0, 0.16188320120954505)\",\"(0.0, 0.16201202466467016)\",\"(0.0, 0.16207168540034056)\",\"(0.0, 0.16217635375315284)\",\"(0.0, 0.1625158101513108)\",\"(0.0, 0.1627813359306775)\",\"(0.0, 0.16300772661194335)\",\"(0.0, 0.16358183579589133)\",\"(0.0, 0.16388969781617585)\",\"(0.0, 0.16454143471343619)\",\"(0.0, 0.16466620038189184)\",\"(0.0, 0.16485387301535345)\",\"(0.0, 0.16630437394686345)\",\"(0.0, 0.16652894989575773)\",\"(0.0, 0.16696533103716713)\",\"(0.0, 0.16766251514512517)\",\"(0.0, 0.16843255906705895)\",\"(0.0, 0.1689547060383788)\",\"(0.0, 0.16897188400194613)\",\"(0.0, 0.1697546423221108)\",\"(0.0, 0.17062560114418762)\",\"(0.0, 0.1708825830282892)\",\"(0.0, 0.17129593623034955)\",\"(0.0, 0.17138844249478316)\",\"(0.0, 0.17144843010771305)\",\"(0.0, 0.17173273442205553)\",\"(0.0, 0.17190172996520808)\",\"(0.0, 0.17197625798037014)\",\"(0.0, 0.172201374967487)\",\"(0.0, 0.17289607931692483)\",\"(0.0, 0.17414046722888654)\",\"(0.0, 0.17422808160605754)\",\"(0.0, 0.17425234942466672)\",\"(0.0, 0.1747068666181626)\",\"(0.0, 0.17531465543146693)\",\"(0.0, 0.17567145886763677)\",\"(0.0, 0.17643241785608285)\",\"(0.0, 0.17650436466805794)\",\"(0.0, 0.17730129142667678)\",\"(0.0, 0.17810487971841124)\",\"(0.0, 0.17810507133611508)\",\"(0.0, 0.1788222625866794)\",\"(0.0, 0.17926793155090995)\",\"(0.0, 0.17926810062535453)\",\"(0.0, 0.18066580524364326)\",\"(0.0, 0.18137040608390267)\",\"(0.0, 0.18182212791324848)\",\"(0.0, 0.18206146969696765)\",\"(0.0, 0.18222257509937406)\",\"(0.0, 0.1823931712139351)\",\"(0.0, 0.18242791037647738)\",\"(0.0, 0.18281953187659694)\",\"(0.0, 0.18289389081731444)\",\"(0.0, 0.18312289651665614)\",\"(0.0, 0.18375970977627665)\",\"(0.0, 0.18426561432928912)\",\"(0.0, 0.18430634999879844)\",\"(0.0, 0.18430689103702103)\",\"(0.0, 0.18450391912308164)\",\"(0.0, 0.18490564000335624)\",\"(0.0, 0.18515068523167189)\",\"(0.0, 0.18521618467149445)\",\"(0.0, 0.1855138007804386)\",\"(0.0, 0.1862152793792885)\",\"(0.0, 0.18636673626672534)\",\"(0.0, 0.1864295192438053)\",\"(0.0, 0.18670408487014115)\",\"(0.0, 0.18783615099276682)\",\"(0.0, 0.1878526301152966)\",\"(0.0, 0.1888836573498532)\",\"(0.0, 0.18946148617158154)\",\"(0.0, 0.1894615087148408)\",\"(0.0, 0.18946155380135934)\",\"(0.0, 0.1894617792339521)\",\"(0.0, 0.18991176523233377)\",\"(0.0, 0.19032534386698682)\",\"(0.0, 0.1910250640916133)\",\"(0.0, 0.19144596928553062)\",\"(0.0, 0.1914459918287899)\",\"(0.0, 0.19144626234790119)\",\"(0.0, 0.19144628489116047), multiplicity: 2\",\"(0.0, 0.19144628489116047), multiplicity: 2\",\"(0.0, 0.19144630743441973), multiplicity: 2\",\"(0.0, 0.19144630743441973), multiplicity: 2\",\"(0.0, 0.19144632997767902)\",\"(0.0, 0.19144635252093828)\",\"(0.0, 0.1914464426939754)\",\"(0.0, 0.19144646523723466)\",\"(0.0, 0.1914465328670125), multiplicity: 3\",\"(0.0, 0.1914465328670125), multiplicity: 3\",\"(0.0, 0.1914465328670125), multiplicity: 3\",\"(0.0, 0.19144655541027175)\",\"(0.0, 0.19144664558330887)\",\"(0.0, 0.19144666812656813)\",\"(0.0, 0.19144673575634596)\",\"(0.0, 0.1914468710159016)\",\"(0.0, 0.19144711899175362)\",\"(0.0, 0.19152766605714203)\",\"(0.0, 0.19255392539236205)\",\"(0.0, 0.19297088551590633)\",\"(0.0, 0.19309124397717378)\",\"(0.0, 0.19320102964984143)\",\"(0.0, 0.19325605774573087)\",\"(0.0, 0.19325653115417565)\",\"(0.0, 0.19337307980462567)\",\"(0.0, 0.19376605390030172)\",\"(0.0, 0.19379504453172894)\",\"(0.0, 0.19398790211482372)\",\"(0.0, 0.19423218087232405)\",\"(0.0, 0.1956198988267541)\",\"(0.0, 0.19572138858000868)\",\"(0.0, 0.19596780894714008)\",\"(0.0, 0.19652712975300388)\",\"(0.0, 0.19653758982530734)\",\"(0.0, 0.19755451625118764)\",\"(0.0, 0.19777347892852248)\",\"(0.0, 0.19790853559483704)\",\"(0.0, 0.19866513246261347)\",\"(0.0, 0.19873010213584308)\",\"(0.0, 0.1991108577849922)\",\"(0.0, 0.1993015963017152)\",\"(0.0, 0.1998487212043114)\",\"(0.0, 0.20050396357838893)\",\"(0.0, 0.2006889310207376)\",\"(0.0, 0.20279057145313714)\",\"(0.0, 0.2030688229023644)\",\"(0.0, 0.2041748177456389)\",\"(0.0, 0.20430604205787675)\",\"(0.0, 0.20498684848797175)\",\"(0.0, 0.2052730126212044)\",\"(0.0, 0.20573077604403583)\",\"(0.0, 0.20583810450144252)\",\"(0.0, 0.20590555393319232)\",\"(0.0, 0.20619929260154127)\",\"(0.0, 0.20682538654137664)\",\"(0.0, 0.2072681812400497)\",\"(0.0, 0.20915802775156372)\",\"(0.0, 0.20964293325856184)\",\"(0.0, 0.21011352379592058)\",\"(0.0, 0.2122548629079028)\",\"(0.0, 0.21225524614331048)\",\"(0.0, 0.21383679104098413)\",\"(0.0, 0.21409948764131187)\",\"(0.0, 0.2153554177020222)\",\"(0.0, 0.21557749134913698)\",\"(0.0, 0.21567262390327607)\",\"(0.0, 0.21582533194160267)\",\"(0.0, 0.2165674560369248)\",\"(0.0, 0.217187463296756)\",\"(0.0, 0.2172057007935092)\",\"(0.0, 0.21790821638228572)\",\"(0.0, 0.21883659288573512)\",\"(0.0, 0.21977515894237667)\",\"(0.0, 0.21990347517416808)\",\"(0.0, 0.2207336983267356)\",\"(0.0, 0.2215252147031285)\",\"(0.0, 0.22256301618709715)\",\"(0.0, 0.22256319653317136)\",\"(0.0, 0.22291527715652312)\",\"(0.0, 0.22351125330196756)\",\"(0.0, 0.22351738506849025)\",\"(0.0, 0.2245358895225198)\",\"(0.0, 0.22456176918416712)\",\"(0.0, 0.22475753484770833)\",\"(0.0, 0.22477809430016685)\",\"(0.0, 0.22572276958007184)\",\"(0.0, 0.2258507702062334)\",\"(0.0, 0.22674332547069537)\",\"(0.0, 0.22701639197028942)\",\"(0.0, 0.22778331365081367)\",\"(0.0, 0.22793755463077095)\",\"(0.0, 0.22816188260381318)\",\"(0.0, 0.2282715781034437)\",\"(0.0, 0.22832308945088634)\",\"(0.0, 0.2287711141857111)\",\"(0.0, 0.22939130179161651)\",\"(0.0, 0.2301489356493196)\",\"(0.0, 0.23208619063508826)\",\"(0.0, 0.23246424109312444)\",\"(0.0, 0.23321991368727063)\",\"(0.0, 0.23360538087760818)\",\"(0.0, 0.23376070393401066)\",\"(0.0, 0.23382619210220357)\",\"(0.0, 0.23467744811567434)\",\"(0.0, 0.23596079077966267)\",\"(0.0, 0.23646533146548904)\",\"(0.0, 0.2366593612980661)\",\"(0.0, 0.23670803219484013)\",\"(0.0, 0.23692264402313498)\",\"(0.0, 0.23715470433410843)\",\"(0.0, 0.23856165168869978)\",\"(0.0, 0.23895814253282266)\",\"(0.0, 0.23927280134577847)\",\"(0.0, 0.2398728578211516)\",\"(0.0, 0.239922791140445)\",\"(0.0, 0.24003902418526518)\",\"(0.0, 0.24087398142228036)\",\"(0.0, 0.24127876818581634)\",\"(0.0, 0.2413381471307458)\",\"(0.0, 0.2413401985673398)\",\"(0.0, 0.24156862941357002)\",\"(0.0, 0.24213426233203073)\",\"(0.0, 0.24272836738695536)\",\"(0.0, 0.24272893096843723)\",\"(0.0, 0.24272917894428925)\",\"(0.0, 0.2427293142038449)\",\"(0.0, 0.24272960726621548)\",\"(0.0, 0.24273010321791952)\",\"(0.0, 0.243248688354274)\",\"(0.0, 0.2445941827840826)\",\"(0.0, 0.24493819292061406)\",\"(0.0, 0.2455013911670731)\",\"(0.0, 0.2456137918578166)\",\"(0.0, 0.24621479515007927)\",\"(0.0, 0.24729071728548138)\",\"(0.0, 0.24839391676460584)\",\"(0.0, 0.24940216403566542)\",\"(0.0, 0.24946702099259865)\",\"(0.0, 0.24960056726054178)\",\"(0.0, 0.2512674834810886)\",\"(0.0, 0.2515483499483917)\",\"(0.0, 0.25278223270153144)\",\"(0.0, 0.2530715754343218)\",\"(0.0, 0.2531113868302009)\",\"(0.0, 0.2531733807932062)\",\"(0.0, 0.25345591546169566)\",\"(0.0, 0.2535964726832732)\",\"(0.0, 0.25412986874097115)\",\"(0.0, 0.25581700626508735)\",\"(0.0, 0.25756244065768785)\",\"(0.0, 0.25768455749317876)\",\"(0.0, 0.2617841619085736)\",\"(0.0, 0.26274060476982003)\",\"(0.0, 0.26312235232237724)\",\"(0.0, 0.2642873654184329)\",\"(0.0, 0.26497594927297763)\",\"(0.0, 0.2650216670027867)\",\"(0.0, 0.2659238482389589)\",\"(0.0, 0.2666087124557234)\",\"(0.0, 0.2682106364597813)\",\"(0.0, 0.2692979203978579)\",\"(0.0, 0.2694203528389786)\",\"(0.0, 0.2695405084109126)\",\"(0.0, 0.269911435199018)\",\"(0.0, 0.2699115253720551)\",\"(0.0, 0.2699116155450922)\",\"(0.0, 0.26991184097768495)\",\"(0.0, 0.2699119536939813)\",\"(0.0, 0.2714838500766854)\",\"(0.0, 0.27148396279298176)\",\"(0.0, 0.27148407550927817)\",\"(0.0, 0.27148434602838944), multiplicity: 2\",\"(0.0, 0.27148434602838944), multiplicity: 2\",\"(0.0, 0.2718920634156311)\",\"(0.0, 0.27240577920798226)\",\"(0.0, 0.27259678824381656)\",\"(0.0, 0.2728863113226811)\",\"(0.0, 0.2741517997253239)\",\"(0.0, 0.27580507727400955)\",\"(0.0, 0.2760043596859976)\",\"(0.0, 0.2762949873845667)\",\"(0.0, 0.2762950550143445)\",\"(0.0, 0.27755100761831414)\",\"(0.0, 0.2778759687007585)\",\"(0.0, 0.2801332252519311)\",\"(0.0, 0.28013349577104235)\",\"(0.0, 0.2815773689843256)\",\"(0.0, 0.2820680455656981)\",\"(0.0, 0.2824850507757609)\",\"(0.0, 0.28291925649265026)\",\"(0.0, 0.28322162922930144)\",\"(0.0, 0.2853173407845117)\",\"(0.0, 0.28662654056688813)\",\"(0.0, 0.28663585093296856)\",\"(0.0, 0.287124724053599)\",\"(0.0, 0.28895888871470465)\",\"(0.0, 0.28961059179707604)\",\"(0.0, 0.2896315344849422)\",\"(0.0, 0.29045878192728547)\",\"(0.0, 0.2908170619469378)\",\"(0.0, 0.2908283561198344)\",\"(0.0, 0.2911541287596126)\",\"(0.0, 0.2911543091056868)\",\"(0.0, 0.2912941674862269)\",\"(0.0, 0.2919822328458083)\",\"(0.0, 0.2921133444417498)\",\"(0.0, 0.29233370480115967)\",\"(0.0, 0.29325603971112346)\",\"(0.0, 0.293467427853342)\",\"(0.0, 0.2935773713288246)\",\"(0.0, 0.2937726861271803)\",\"(0.0, 0.29654830238211466)\",\"(0.0, 0.2982020533392451)\",\"(0.0, 0.3021813218366318)\",\"(0.0, 0.30391059271233234)\",\"(0.0, 0.3042991934157091)\",\"(0.0, 0.30440559759948554)\",\"(0.0, 0.30477634404151677)\",\"(0.0, 0.30569646971207165)\",\"(0.0, 0.30576240874545)\",\"(0.0, 0.30588813250242486)\",\"(0.0, 0.30604595786060684)\",\"(0.0, 0.3086329772084493)\",\"(0.0, 0.3093895289897072)\",\"(0.0, 0.3103857832468326)\",\"(0.0, 0.31101821184252415)\",\"(0.0, 0.3116797437859393)\",\"(0.0, 0.3123802981111589)\",\"(0.0, 0.31303409771664287)\",\"(0.0, 0.3136096496691844)\",\"(0.0, 0.31508098057226425)\",\"(0.0, 0.31790260761937816)\",\"(0.0, 0.3183131880005477)\",\"(0.0, 0.3202284407652643)\",\"(0.0, 0.3207731084525996)\",\"(0.0, 0.321887872623732)\",\"(0.0, 0.32188803042654685)\",\"(0.0, 0.32192198057501453)\",\"(0.0, 0.32195180530703493)\",\"(0.0, 0.32227933632103656)\",\"(0.0, 0.32248371350962074)\",\"(0.0, 0.3232228393514593)\",\"(0.0, 0.32336634974000183)\",\"(0.0, 0.3258673665537114)\",\"(0.0, 0.3262200333018043)\",\"(0.0, 0.3263241155298755)\",\"(0.0, 0.32659096008990973)\",\"(0.0, 0.3294573129634246)\",\"(0.0, 0.3308588048492715)\",\"(0.0, 0.33166763444878733)\",\"(0.0, 0.3342170741834189)\",\"(0.0, 0.33425697575233504)\",\"(0.0, 0.3343602689663316)\",\"(0.0, 0.3343954139075408)\",\"(0.0, 0.3348044162605611)\",\"(0.0, 0.33543711537536397)\",\"(0.0, 0.3362425409427294)\",\"(0.0, 0.3373122636818309)\",\"(0.0, 0.3386068103456788)\",\"(0.0, 0.34060227202689464)\",\"(0.0, 0.3420030876149633)\",\"(0.0, 0.3421931723771673)\",\"(0.0, 0.3438011379747109)\",\"(0.0, 0.3458784091438345)\",\"(0.0, 0.34587867966294583)\",\"(0.0, 0.3464153219499793)\",\"(0.0, 0.34641538957975715)\",\"(0.0, 0.34712088087875786)\",\"(0.0, 0.34712146700349905)\",\"(0.0, 0.3478906880964693)\",\"(0.0, 0.3494608711914685)\",\"(0.0, 0.3499143964815563)\",\"(0.0, 0.35045811735200205)\",\"(0.0, 0.35155369720949164)\",\"(0.0, 0.3523818463822059)\",\"(0.0, 0.35293541865695466)\",\"(0.0, 0.35331822574269783)\",\"(0.0, 0.35395103757379703)\",\"(0.0, 0.35482510736565376)\",\"(0.0, 0.3553901090728548)\",\"(0.0, 0.355495836958853)\",\"(0.0, 0.3562660724984906)\",\"(0.0, 0.3565415285835678)\",\"(0.0, 0.3565420696217904)\",\"(0.0, 0.3571732357949626)\",\"(0.0, 0.3572888376285231)\",\"(0.0, 0.35739715798933785)\",\"(0.0, 0.3591696893795865)\",\"(0.0, 0.3593011616676764)\",\"(0.0, 0.35930118421093565)\",\"(0.0, 0.3593012067541949)\",\"(0.0, 0.359301296927232), multiplicity: 2\",\"(0.0, 0.359301296927232), multiplicity: 2\",\"(0.0, 0.3598850771694089)\",\"(0.0, 0.35995768900753256)\",\"(0.0, 0.3612018740301608)\",\"(0.0, 0.36140444775800296)\",\"(0.0, 0.3614048084501514)\",\"(0.0, 0.3628139875874109)\",\"(0.0, 0.3659515809565186)\",\"(0.0, 0.36601206452115254)\",\"(0.0, 0.36792472481105254)\",\"(0.0, 0.3686505275866598)\",\"(0.0, 0.3686508657355489)\",\"(0.0, 0.3708728420859566)\",\"(0.0, 0.3712010493977365)\",\"(0.0, 0.3714891747945261)\",\"(0.0, 0.3727288737085587)\",\"(0.0, 0.375104211851812)\",\"(0.0, 0.3770130397876353)\",\"(0.0, 0.3771486374921724)\",\"(0.0, 0.3775503809157063)\",\"(0.0, 0.3782271521023911)\",\"(0.0, 0.3797760994471536)\",\"(0.0, 0.3797765503123391)\",\"(0.0, 0.37977668557189476)\",\"(0.0, 0.381639299826205)\",\"(0.0, 0.38171206946714364)\",\"(0.0, 0.38171215964018074)\",\"(0.0, 0.3817123399862549), multiplicity: 2\",\"(0.0, 0.3817123399862549), multiplicity: 2\",\"(0.0, 0.381712430159292), multiplicity: 3\",\"(0.0, 0.381712430159292), multiplicity: 3\",\"(0.0, 0.381712430159292), multiplicity: 3\",\"(0.0, 0.3817124752458106)\",\"(0.0, 0.3817125654188477)\",\"(0.0, 0.3817126105053662)\",\"(0.0, 0.3817127006784033), multiplicity: 2\",\"(0.0, 0.3817127006784033), multiplicity: 2\",\"(0.0, 0.38171279085144044)\",\"(0.0, 0.3818799265757028)\",\"(0.0, 0.3820196496966872)\",\"(0.0, 0.38255865902594455)\",\"(0.0, 0.3825592451506857)\",\"(0.0, 0.3845152335849116)\",\"(0.0, 0.38633704453993467)\",\"(0.0, 0.3882630955258438)\",\"(0.0, 0.38827107583962706)\",\"(0.0, 0.38931293511026516)\",\"(0.0, 0.38959436515905016)\",\"(0.0, 0.39077423426296776)\",\"(0.0, 0.39591256443596157)\",\"(0.0, 0.3968253410039929)\",\"(0.0, 0.39781652302778153)\",\"(0.0, 0.39842063728982413)\",\"(0.0, 0.4012770485859989)\",\"(0.0, 0.40127763471074)\",\"(0.0, 0.4017252536668978)\",\"(0.0, 0.40175744544114206)\",\"(0.0, 0.4021189942333892)\",\"(0.0, 0.40236313773133386)\",\"(0.0, 0.40295323008610756)\",\"(0.0, 0.403646300049248)\",\"(0.0, 0.4038977475631977)\",\"(0.0, 0.4040038361413443)\",\"(0.0, 0.4042029382072581)\",\"(0.0, 0.40420320872636945)\",\"(0.0, 0.40420411045674043)\",\"(0.0, 0.4045792302910709)\",\"(0.0, 0.4055858319042034)\",\"(0.0, 0.40609733845714563)\",\"(0.0, 0.4067023544495592)\",\"(0.0, 0.4095742755081149)\",\"(0.0, 0.40999578937003267)\",\"(0.0, 0.4108487812144676)\",\"(0.0, 0.4116157479815104)\",\"(0.0, 0.41701905162401864)\",\"(0.0, 0.42091110025127165)\",\"(0.0, 0.4212105198209578)\",\"(0.0, 0.42185223623947055)\",\"(0.0, 0.42423068535250374)\",\"(0.0, 0.42562760095671787)\",\"(0.0, 0.42595474873531186)\",\"(0.0, 0.4261922645150298)\",\"(0.0, 0.43019639822739647)\",\"(0.0, 0.43027755396078526)\",\"(0.0, 0.43113676774478)\",\"(0.0, 0.4317847511893711)\",\"(0.0, 0.43417632047930216)\",\"(0.0, 0.4363682917516153)\",\"(0.0, 0.4403666994761262)\",\"(0.0, 0.4404306772459477)\",\"(0.0, 0.44433030040831706)\",\"(0.0, 0.44462038706866347)\",\"(0.0, 0.44623489021139673)\",\"(0.0, 0.44746232559238386)\",\"(0.0, 0.4481797873620595)\",\"(0.0, 0.4499881174480363)\",\"(0.0, 0.45032076578189334)\",\"(0.0, 0.450857340439149)\",\"(0.0, 0.45177092856451423)\",\"(0.0, 0.4562156928226636)\",\"(0.0, 0.4571554311287874)\",\"(0.0, 0.4582071643469878)\",\"(0.0, 0.4630707823624605)\",\"(0.0, 0.4630782667245397)\",\"(0.0, 0.4666761258182583)\",\"(0.0, 0.4702068059993384)\",\"(0.0, 0.47020685108585697)\",\"(0.0, 0.47020730195104243)\",\"(0.0, 0.4702076175566723)\",\"(0.0, 0.47059576739486353)\",\"(0.0, 0.4705959026544192)\",\"(0.0, 0.47059630843308614)\",\"(0.0, 0.471455206611451)\",\"(0.0, 0.472778901709541)\",\"(0.0, 0.475335352397807)\",\"(0.0, 0.4771512119323816)\",\"(0.0, 0.4812368620702855)\",\"(0.0, 0.48443764419514)\",\"(0.0, 0.48767052792120175)\",\"(0.0, 0.4903064661416702)\",\"(0.0, 0.493594265247325)\",\"(0.0, 0.501798253249081)\",\"(0.0, 0.5024570123716054)\",\"(0.0, 0.5042980752700491)\",\"(0.0, 0.5064837795162839)\",\"(0.0, 0.506591716641691)\",\"(0.0, 0.5075398410402651)\",\"(0.0, 0.5089583080003457)\",\"(0.0, 0.5102953937944449)\",\"(0.0, 0.5134546512357155)\",\"(0.0, 0.5171261817007438)\",\"(0.0, 0.5183000542976943)\",\"(0.0, 0.5196518833833591)\",\"(0.0, 0.5205085723223151)\",\"(0.0, 0.5215213958750073)\",\"(0.0, 0.5224890878226318)\",\"(0.0, 0.5229926140617908)\",\"(0.0, 0.523215296376906)\",\"(0.0, 0.523215386549943)\",\"(0.0, 0.5232154767229802)\",\"(0.0, 0.5241741964534133)\",\"(0.0, 0.5242718538525911)\",\"(0.0, 0.5250513997583092)\",\"(0.0, 0.5293550882999177)\",\"(0.0, 0.5295182113240292)\",\"(0.0, 0.5295185269296591)\",\"(0.0, 0.5312126077776318)\",\"(0.0, 0.5365103187936976)\",\"(0.0, 0.5378614715815841)\",\"(0.0, 0.5385963818339383)\",\"(0.0, 0.5396102423765573)\",\"(0.0, 0.5438504941865668)\",\"(0.0, 0.5452046226846776)\",\"(0.0, 0.5486804776592017)\",\"(0.0, 0.550045967959987)\",\"(0.0, 0.5553012525620977)\",\"(0.0, 0.5556513493786334)\",\"(0.0, 0.5559730867750015)\",\"(0.0, 0.5603383635009483)\",\"(0.0, 0.5603843517498687)\",\"(0.0, 0.566561700742832)\",\"(0.0, 0.5673533749220397)\",\"(0.0, 0.5694868238932759)\",\"(0.0, 0.5757056975698231)\",\"(0.0, 0.5763094511397173)\",\"(0.0, 0.5763094962262358), multiplicity: 2\",\"(0.0, 0.5763094962262358), multiplicity: 2\",\"(0.0, 0.5779235485037836)\",\"(0.0, 0.5817047744684424)\",\"(0.0, 0.5817478771801755)\",\"(0.0, 0.5823821994096462)\",\"(0.0, 0.5830656659443355)\",\"(0.0, 0.5836102209153744)\",\"(0.0, 0.5845702481548455)\",\"(0.0, 0.5865428284278976)\",\"(0.0, 0.5872499653848254)\",\"(0.0, 0.5873572712989729)\",\"(0.0, 0.5896344560913442)\",\"(0.0, 0.590403722270833)\",\"(0.0, 0.5905300997823268)\",\"(0.0, 0.5938846269354346)\",\"(0.0, 0.6015813916035107)\",\"(0.0, 0.6055681219197172)\",\"(0.0, 0.6100236618557999)\",\"(0.0, 0.6118213064368805)\",\"(0.0, 0.6249845860464709)\",\"(0.0, 0.6344737652594759)\",\"(0.0, 0.6346299449597308)\",\"(0.0, 0.637676395931591)\",\"(0.0, 0.6377926740629297)\",\"(0.0, 0.6458938197158747)\",\"(0.0, 0.647835966588906)\",\"(0.0, 0.6544853714310808)\",\"(0.0, 0.6560832376484693)\",\"(0.0, 0.662111981476294)\",\"(0.0, 0.668323776569429)\",\"(0.0, 0.6688136415934676)\",\"(0.0, 0.6765449425347524)\",\"(0.0, 0.6818641598201661)\",\"(0.0, 0.681864475425796)\",\"(0.0, 0.6857735667570606)\",\"(0.0, 0.6860887215217205)\",\"(0.0, 0.6936883698288412)\",\"(0.0, 0.6936890461266194)\",\"(0.0, 0.7142567945045305)\",\"(0.0, 0.7184050698166994)\",\"(0.0, 0.7271850831794417)\",\"(0.0, 0.7386962574898288)\",\"(0.0, 0.7465725115882497)\",\"(0.0, 0.7540261246617891)\",\"(0.0, 0.7540271165651972)\",\"(0.0, 0.7591943922830997)\",\"(0.0, 0.7649248887907205)\",\"(0.0, 0.7657171490946695)\",\"(0.0, 0.7749636726648418)\",\"(0.0, 0.7781644547896964)\",\"(0.0, 0.7836901683300661)\",\"(0.0, 0.7864117709357784)\",\"(0.0, 0.7928081051493358)\",\"(0.0, 0.7932233519851752)\",\"(0.0, 0.7962262042935981)\",\"(0.0, 0.7989185006622533)\",\"(0.0, 0.7993436665321736)\",\"(0.0, 0.8058280998029764)\",\"(0.0, 0.8179010972210068)\",\"(0.0, 0.82524767489951)\",\"(0.0, 0.8258940352294334)\",\"(0.0, 0.8264005371788166)\",\"(0.0, 0.8276417690344798)\",\"(0.0, 0.8396075507113999)\",\"(0.0, 0.8457295785461032)\",\"(0.0, 0.8465010990515194)\",\"(0.0, 0.8608444731976203)\",\"(0.0, 0.8666049973265949)\",\"(0.0, 0.8703773863336179)\",\"(0.0, 0.9103969917553439)\",\"(0.0, 0.9205974558849832)\",\"(0.0, 0.9286959865198523)\",\"(0.0, 0.9321313087142006)\",\"(0.0, 0.9623954539443693)\",\"(0.0, 0.9890800001208319)\",\"(0.0, 1.0304173041336808)\",\"(0.0, 1.033475252167771)\",\"(0.0, 1.04816678441011)\",\"(0.0, 1.0586209052931077)\",\"(0.0, 1.0656082335918098)\",\"(0.0, 1.0696982120354945)\",\"(0.0, 1.3432203559860176)\"],\"mode\":\"markers\",\"name\":\"H0\",\"x\":[0.0,0.0,0.0,0.0,0.0,0.0,0.0,0.0,0.0,0.0,0.0,0.0,0.0,0.0,0.0,0.0,0.0,0.0,0.0,0.0,0.0,0.0,0.0,0.0,0.0,0.0,0.0,0.0,0.0,0.0,0.0,0.0,0.0,0.0,0.0,0.0,0.0,0.0,0.0,0.0,0.0,0.0,0.0,0.0,0.0,0.0,0.0,0.0,0.0,0.0,0.0,0.0,0.0,0.0,0.0,0.0,0.0,0.0,0.0,0.0,0.0,0.0,0.0,0.0,0.0,0.0,0.0,0.0,0.0,0.0,0.0,0.0,0.0,0.0,0.0,0.0,0.0,0.0,0.0,0.0,0.0,0.0,0.0,0.0,0.0,0.0,0.0,0.0,0.0,0.0,0.0,0.0,0.0,0.0,0.0,0.0,0.0,0.0,0.0,0.0,0.0,0.0,0.0,0.0,0.0,0.0,0.0,0.0,0.0,0.0,0.0,0.0,0.0,0.0,0.0,0.0,0.0,0.0,0.0,0.0,0.0,0.0,0.0,0.0,0.0,0.0,0.0,0.0,0.0,0.0,0.0,0.0,0.0,0.0,0.0,0.0,0.0,0.0,0.0,0.0,0.0,0.0,0.0,0.0,0.0,0.0,0.0,0.0,0.0,0.0,0.0,0.0,0.0,0.0,0.0,0.0,0.0,0.0,0.0,0.0,0.0,0.0,0.0,0.0,0.0,0.0,0.0,0.0,0.0,0.0,0.0,0.0,0.0,0.0,0.0,0.0,0.0,0.0,0.0,0.0,0.0,0.0,0.0,0.0,0.0,0.0,0.0,0.0,0.0,0.0,0.0,0.0,0.0,0.0,0.0,0.0,0.0,0.0,0.0,0.0,0.0,0.0,0.0,0.0,0.0,0.0,0.0,0.0,0.0,0.0,0.0,0.0,0.0,0.0,0.0,0.0,0.0,0.0,0.0,0.0,0.0,0.0,0.0,0.0,0.0,0.0,0.0,0.0,0.0,0.0,0.0,0.0,0.0,0.0,0.0,0.0,0.0,0.0,0.0,0.0,0.0,0.0,0.0,0.0,0.0,0.0,0.0,0.0,0.0,0.0,0.0,0.0,0.0,0.0,0.0,0.0,0.0,0.0,0.0,0.0,0.0,0.0,0.0,0.0,0.0,0.0,0.0,0.0,0.0,0.0,0.0,0.0,0.0,0.0,0.0,0.0,0.0,0.0,0.0,0.0,0.0,0.0,0.0,0.0,0.0,0.0,0.0,0.0,0.0,0.0,0.0,0.0,0.0,0.0,0.0,0.0,0.0,0.0,0.0,0.0,0.0,0.0,0.0,0.0,0.0,0.0,0.0,0.0,0.0,0.0,0.0,0.0,0.0,0.0,0.0,0.0,0.0,0.0,0.0,0.0,0.0,0.0,0.0,0.0,0.0,0.0,0.0,0.0,0.0,0.0,0.0,0.0,0.0,0.0,0.0,0.0,0.0,0.0,0.0,0.0,0.0,0.0,0.0,0.0,0.0,0.0,0.0,0.0,0.0,0.0,0.0,0.0,0.0,0.0,0.0,0.0,0.0,0.0,0.0,0.0,0.0,0.0,0.0,0.0,0.0,0.0,0.0,0.0,0.0,0.0,0.0,0.0,0.0,0.0,0.0,0.0,0.0,0.0,0.0,0.0,0.0,0.0,0.0,0.0,0.0,0.0,0.0,0.0,0.0,0.0,0.0,0.0,0.0,0.0,0.0,0.0,0.0,0.0,0.0,0.0,0.0,0.0,0.0,0.0,0.0,0.0,0.0,0.0,0.0,0.0,0.0,0.0,0.0,0.0,0.0,0.0,0.0,0.0,0.0,0.0,0.0,0.0,0.0,0.0,0.0,0.0,0.0,0.0,0.0,0.0,0.0,0.0,0.0,0.0,0.0,0.0,0.0,0.0,0.0,0.0,0.0,0.0,0.0,0.0,0.0,0.0,0.0,0.0,0.0,0.0,0.0,0.0,0.0,0.0,0.0,0.0,0.0,0.0,0.0,0.0,0.0,0.0,0.0,0.0,0.0,0.0,0.0,0.0,0.0,0.0,0.0,0.0,0.0,0.0,0.0,0.0,0.0,0.0,0.0,0.0,0.0,0.0,0.0,0.0,0.0,0.0,0.0,0.0,0.0,0.0,0.0,0.0,0.0,0.0,0.0,0.0,0.0,0.0,0.0,0.0,0.0,0.0,0.0,0.0,0.0,0.0,0.0,0.0,0.0,0.0,0.0,0.0,0.0,0.0,0.0,0.0,0.0,0.0,0.0,0.0,0.0,0.0,0.0,0.0,0.0,0.0,0.0,0.0,0.0,0.0,0.0,0.0,0.0,0.0,0.0,0.0,0.0,0.0,0.0,0.0,0.0,0.0,0.0,0.0,0.0,0.0,0.0,0.0,0.0,0.0,0.0,0.0,0.0,0.0,0.0,0.0,0.0,0.0,0.0,0.0,0.0,0.0,0.0,0.0,0.0,0.0,0.0,0.0,0.0,0.0,0.0,0.0,0.0,0.0,0.0,0.0,0.0,0.0,0.0,0.0,0.0,0.0,0.0,0.0,0.0,0.0,0.0,0.0,0.0,0.0,0.0,0.0,0.0,0.0,0.0,0.0,0.0,0.0,0.0,0.0,0.0,0.0,0.0,0.0,0.0,0.0,0.0,0.0,0.0,0.0,0.0,0.0,0.0,0.0,0.0,0.0,0.0,0.0,0.0,0.0,0.0,0.0,0.0,0.0,0.0,0.0,0.0,0.0,0.0,0.0,0.0,0.0,0.0,0.0,0.0,0.0,0.0,0.0,0.0,0.0,0.0,0.0,0.0,0.0,0.0,0.0,0.0,0.0,0.0,0.0,0.0,0.0,0.0,0.0,0.0,0.0,0.0,0.0,0.0,0.0,0.0,0.0,0.0,0.0,0.0,0.0,0.0,0.0,0.0,0.0,0.0,0.0,0.0,0.0,0.0,0.0,0.0,0.0,0.0,0.0,0.0,0.0,0.0,0.0,0.0,0.0,0.0,0.0,0.0,0.0,0.0,0.0,0.0,0.0,0.0,0.0,0.0,0.0,0.0,0.0,0.0,0.0,0.0,0.0,0.0,0.0,0.0,0.0,0.0,0.0,0.0,0.0,0.0,0.0,0.0,0.0,0.0,0.0,0.0,0.0,0.0,0.0,0.0,0.0,0.0,0.0,0.0,0.0,0.0,0.0,0.0,0.0,0.0,0.0,0.0,0.0,0.0,0.0,0.0,0.0,0.0,0.0,0.0,0.0,0.0,0.0,0.0,0.0,0.0,0.0,0.0,0.0,0.0,0.0,0.0,0.0,0.0,0.0,0.0,0.0,0.0,0.0,0.0,0.0,0.0,0.0,0.0,0.0,0.0,0.0,0.0,0.0,0.0,0.0,0.0,0.0,0.0,0.0,0.0,0.0,0.0,0.0,0.0,0.0,0.0,0.0,0.0,0.0,0.0,0.0,0.0,0.0,0.0,0.0,0.0,0.0,0.0,0.0,0.0,0.0,0.0,0.0,0.0,0.0,0.0,0.0,0.0,0.0,0.0,0.0,0.0,0.0,0.0,0.0,0.0,0.0,0.0,0.0,0.0,0.0,0.0,0.0,0.0,0.0,0.0,0.0,0.0,0.0,0.0,0.0,0.0,0.0,0.0,0.0,0.0,0.0,0.0,0.0,0.0,0.0,0.0,0.0,0.0,0.0,0.0,0.0,0.0,0.0,0.0,0.0,0.0,0.0,0.0,0.0,0.0,0.0,0.0,0.0,0.0,0.0,0.0,0.0,0.0,0.0,0.0,0.0,0.0,0.0,0.0,0.0,0.0,0.0,0.0,0.0,0.0,0.0,0.0,0.0,0.0,0.0,0.0,0.0,0.0,0.0,0.0,0.0,0.0,0.0,0.0,0.0,0.0,0.0,0.0,0.0,0.0,0.0,0.0,0.0,0.0,0.0,0.0,0.0,0.0,0.0,0.0,0.0,0.0,0.0,0.0,0.0,0.0,0.0,0.0,0.0,0.0,0.0,0.0,0.0,0.0,0.0,0.0,0.0,0.0,0.0,0.0,0.0,0.0,0.0,0.0,0.0,0.0,0.0,0.0,0.0,0.0,0.0,0.0,0.0,0.0,0.0,0.0,0.0,0.0,0.0,0.0,0.0,0.0,0.0,0.0,0.0,0.0,0.0,0.0,0.0,0.0,0.0,0.0,0.0,0.0,0.0,0.0,0.0,0.0,0.0,0.0,0.0,0.0,0.0,0.0,0.0,0.0,0.0,0.0,0.0,0.0,0.0,0.0,0.0,0.0,0.0,0.0,0.0,0.0,0.0,0.0,0.0,0.0,0.0,0.0,0.0,0.0,0.0,0.0,0.0,0.0,0.0,0.0,0.0,0.0],\"y\":[0.0018425794609875147,0.0032144708145722695,0.007656206526733443,0.008004840849323605,0.009260143925635378,0.011778055503217621,0.01212975289116173,0.013829389243592045,0.013842908154388323,0.014289168879174849,0.015421897210041724,0.01875213963709591,0.019130419754585962,0.019541910319848723,0.019585841496360234,0.01986528632937532,0.022274335098966487,0.023214321380942354,0.02355716349485263,0.02366506257850972,0.02435950768046589,0.024460636741572055,0.024838904178478772,0.026122776609060074,0.028082924274622164,0.02848640352912019,0.029466015225086104,0.03000826796577158,0.03158915629101887,0.03238624367036002,0.03258483005921799,0.033940302699163045,0.03467043096264361,0.03468771600669246,0.035361700282949465,0.03541927013132215,0.036289369491639134,0.03646579867453751,0.036664097636839726,0.03697341087944005,0.03818557602017603,0.038401281196545706,0.03977929991367284,0.040066830731999015,0.04021003115072653,0.04034844394476559,0.04128080215138439,0.041409546705102024,0.041908383946331895,0.04218134054753699,0.04289254374485647,0.0445434260722442,0.04463947726419875,0.04527887454491359,0.04743760578142624,0.048117837358409736,0.04834877614223426,0.048555103322745666,0.04859767063207106,0.04892517910281345,0.049314270122079416,0.05065501355999589,0.05065509809721817,0.051737140727513356,0.051892779389545673,0.054489002022987,0.055164555873671,0.0554309608401494,0.0554619352783928,0.05586606828740978,0.05672054235114201,0.05678161204051709,0.05696733468205145,0.05699583499758945,0.05727670710070737,0.05732992610004004,0.05963842911535877,0.06195162112860663,0.06203446760644104,0.06315405039924338,0.06352977326575947,0.06402007788335387,0.06436367660540356,0.06489304305550615,0.06501021728140106,0.06526046436679434,0.06589342836489367,0.06661253579249633,0.06745919861688988,0.06750456129036533,0.06759322956490743,0.06772564866988684,0.06816893932026392,0.06824322499538878,0.07001664120856396,0.07011784353526278,0.07041593305265172,0.07046811506205776,0.07315179990566999,0.07357039441551168,0.07361329987372618,0.07379374175677546,0.07443271353347149,0.07451046523470982,0.07584816533262422,0.0765611240862597,0.07701495371034771,0.07730917705877105,0.07746788160406472,0.07795943173673404,0.07868436096104439,0.07919004008146413,0.0792032560672139,0.0793337139086364,0.07942167770632616,0.07966552814190025,0.07998120140152344,0.07998629617811952,0.08008967392933833,0.08110149430699293,0.08120376180269247,0.08130604057002164,0.08177473747360128,0.08217766441824707,0.08232865353305399,0.08257882735285463,0.08273974113755721,0.08353160693446886,0.08384605158646158,0.08409985487100544,0.08416844837316344,0.08440465664384342,0.0847873510132902,0.08497796554208716,0.08662961997610505,0.0866570776659016,0.08691489365059635,0.08734271398929619,0.08820455969881123,0.08828405850264336,0.08838840561401098,0.08851091132072435,0.08856088409072146,0.08872792964194677,0.08894074928112927,0.0889410874300184,0.08898864243545831,0.08908910083460106,0.08920612852931067,0.08942867558487021,0.08952934814497607,0.08953959969213121,0.0895810792891966,0.09022354527108022,0.09036552271799207,0.09099556736401535,0.09127101217746288,0.09165231450064945,0.0925065518601593,0.09276374226940917,0.09281629624259324,0.09301450221395095,0.09338139375864618,0.0941638252015514,0.09459325174747456,0.09467463291345611,0.09497479641069832,0.09507859684802854,0.0955479024196086,0.09554812785220135,0.09554824056849771,0.09554827438338663,0.09554828565501626,0.09554833074153482,0.0955483532847941,0.09588867759843413,0.09628360168603742,0.09630637037790483,0.09654501332058647,0.09717765607724115,0.09791000766966768,0.09828440611970136,0.09894573517378305,0.09908923429069597,0.09936834238377563,0.09940878499091439,0.10089054215140873,0.1012636330924045,0.10219698038452397,0.1025638381143303,0.10292371870539112,0.10427262843897984,0.10461405737232433,0.10496847122301105,0.10510432817502983,0.10526257058350837,0.10556439101030728,0.10613276293476986,0.10685741600415409,0.10718177969022766,0.10729359425623002,0.10736383905212989,0.10751313178667639,0.10757032403545622,0.10841667689003474,0.10843435080530608,0.10901408453244311,0.10979463361319888,0.11019283774502663,0.11074482071999653,0.11086212456963228,0.11161453966281326,0.11192467855228451,0.11202176109835088,0.11211776156797205,0.11213854645302329,0.11223230386834665,0.11275306442922113,0.1134014085659606,0.11367264906155342,0.11405831914122445,0.11422989588756396,0.11485680138473323,0.11510807982423832,0.1151745824390986,0.11533249797031765,0.11548202740908653,0.11573398214636986,0.11580604167464134,0.11602046188523235,0.1161369203626453,0.11663877840061797,0.11679037054761049,0.11699765581664107,0.11744252449516739,0.11762737922121966,0.11782831856276442,0.11988931349869175,0.12007568989474507,0.12038231203576948,0.12049950316910885,0.120503290436667,0.1205074271247439,0.12051976955919677,0.12170240021237554,0.12175173613529815,0.12178227097998569,0.12186784519219233,0.1220778131090766,0.12214688565549418,0.12232842652243309,0.12232843779406273,0.12232884357272968,0.1223290915485817,0.12232915917835951,0.12232919299324843,0.12232922680813735,0.12232924935139662,0.1223292718946559,0.12232928316628552,0.12232941842584118,0.12232963258680428,0.12232973403147102,0.12232977911798958,0.12232982420450812,0.12233036524273071,0.12249490849217652,0.12251994278160104,0.12282283401321549,0.12288667652348136,0.12306339313293548,0.12368394143098929,0.12393122971360276,0.12406674851673244,0.1241300499887757,0.12499003024358578,0.12536259141798858,0.12555591113789852,0.1259790932010026,0.12703223537290767,0.1270961004264328,0.1273388011557839,0.1274694731581695,0.12747816358461989,0.1276701757954919,0.12789982397772293,0.12792160076618225,0.12799100018985932,0.12874023668348258,0.12947938506858042,0.13034568870761704,0.13064784728330506,0.13085875074544923,0.13086417239930478,0.13154601581932643,0.13277934626261392,0.13297046801474455,0.13304468042427675,0.13317549895784767,0.13317607381095917,0.13379144843100943,0.1343461365970923,0.135041280540086,0.1350861190827833,0.13537297078542385,0.13585256735486279,0.13636912359788253,0.13660073304367049,0.13660082321670758,0.13660086830322613,0.13660090211811504,0.13660103737767068,0.13660110500744851,0.13660115009396706,0.13682303212337799,0.1373959126996955,0.13774306762089578,0.13782059388954138,0.13867254874404966,0.13899242632152756,0.13899931328723597,0.13949354043194417,0.13971289761631633,0.13984819098685328,0.1399340357181712,0.14018798553390036,0.1402786657943327,0.1403698983646173,0.14117069129220172,0.14169300733796616,0.14240110238341314,0.14307852732461693,0.1433745090472637,0.1441443162649751,0.14455961945896267,0.14484316857411947,0.14495913109982836,0.14515931524218742,0.1453081232966595,0.1461842670683695,0.14763674053506606,0.14832786050627922,0.1492187926560734,0.14951508998435,0.15164826843647483,0.15168404458894372,0.15271410246335154,0.15307270936026332,0.15320582730628024,0.153298795707529,0.1538862617725972,0.15398989313548286,0.15399576565452391,0.15401653926794553,0.1540555954646389,0.15501439409647946,0.15514807562397825,0.1551984823517164,0.15522209641580664,0.1554012702405217,0.1555469673252139,0.156297793118616,0.15673055606691183,0.15719416946552503,0.15740455443270587,0.1577529943196848,0.15798716242540042,0.15831318304103068,0.1584305770637035,0.15855946814860641,0.15858797409995926,0.15889862021276419,0.15906482039176667,0.1594224692001593,0.15976545361839375,0.15981136296590662,0.1611649391541652,0.1615391234432358,0.1618263921961729,0.16188320120954505,0.16201202466467016,0.16207168540034056,0.16217635375315284,0.1625158101513108,0.1627813359306775,0.16300772661194335,0.16358183579589133,0.16388969781617585,0.16454143471343619,0.16466620038189184,0.16485387301535345,0.16630437394686345,0.16652894989575773,0.16696533103716713,0.16766251514512517,0.16843255906705895,0.1689547060383788,0.16897188400194613,0.1697546423221108,0.17062560114418762,0.1708825830282892,0.17129593623034955,0.17138844249478316,0.17144843010771305,0.17173273442205553,0.17190172996520808,0.17197625798037014,0.172201374967487,0.17289607931692483,0.17414046722888654,0.17422808160605754,0.17425234942466672,0.1747068666181626,0.17531465543146693,0.17567145886763677,0.17643241785608285,0.17650436466805794,0.17730129142667678,0.17810487971841124,0.17810507133611508,0.1788222625866794,0.17926793155090995,0.17926810062535453,0.18066580524364326,0.18137040608390267,0.18182212791324848,0.18206146969696765,0.18222257509937406,0.1823931712139351,0.18242791037647738,0.18281953187659694,0.18289389081731444,0.18312289651665614,0.18375970977627665,0.18426561432928912,0.18430634999879844,0.18430689103702103,0.18450391912308164,0.18490564000335624,0.18515068523167189,0.18521618467149445,0.1855138007804386,0.1862152793792885,0.18636673626672534,0.1864295192438053,0.18670408487014115,0.18783615099276682,0.1878526301152966,0.1888836573498532,0.18946148617158154,0.1894615087148408,0.18946155380135934,0.1894617792339521,0.18991176523233377,0.19032534386698682,0.1910250640916133,0.19144596928553062,0.1914459918287899,0.19144626234790119,0.19144628489116047,0.19144628489116047,0.19144630743441973,0.19144630743441973,0.19144632997767902,0.19144635252093828,0.1914464426939754,0.19144646523723466,0.1914465328670125,0.1914465328670125,0.1914465328670125,0.19144655541027175,0.19144664558330887,0.19144666812656813,0.19144673575634596,0.1914468710159016,0.19144711899175362,0.19152766605714203,0.19255392539236205,0.19297088551590633,0.19309124397717378,0.19320102964984143,0.19325605774573087,0.19325653115417565,0.19337307980462567,0.19376605390030172,0.19379504453172894,0.19398790211482372,0.19423218087232405,0.1956198988267541,0.19572138858000868,0.19596780894714008,0.19652712975300388,0.19653758982530734,0.19755451625118764,0.19777347892852248,0.19790853559483704,0.19866513246261347,0.19873010213584308,0.1991108577849922,0.1993015963017152,0.1998487212043114,0.20050396357838893,0.2006889310207376,0.20279057145313714,0.2030688229023644,0.2041748177456389,0.20430604205787675,0.20498684848797175,0.2052730126212044,0.20573077604403583,0.20583810450144252,0.20590555393319232,0.20619929260154127,0.20682538654137664,0.2072681812400497,0.20915802775156372,0.20964293325856184,0.21011352379592058,0.2122548629079028,0.21225524614331048,0.21383679104098413,0.21409948764131187,0.2153554177020222,0.21557749134913698,0.21567262390327607,0.21582533194160267,0.2165674560369248,0.217187463296756,0.2172057007935092,0.21790821638228572,0.21883659288573512,0.21977515894237667,0.21990347517416808,0.2207336983267356,0.2215252147031285,0.22256301618709715,0.22256319653317136,0.22291527715652312,0.22351125330196756,0.22351738506849025,0.2245358895225198,0.22456176918416712,0.22475753484770833,0.22477809430016685,0.22572276958007184,0.2258507702062334,0.22674332547069537,0.22701639197028942,0.22778331365081367,0.22793755463077095,0.22816188260381318,0.2282715781034437,0.22832308945088634,0.2287711141857111,0.22939130179161651,0.2301489356493196,0.23208619063508826,0.23246424109312444,0.23321991368727063,0.23360538087760818,0.23376070393401066,0.23382619210220357,0.23467744811567434,0.23596079077966267,0.23646533146548904,0.2366593612980661,0.23670803219484013,0.23692264402313498,0.23715470433410843,0.23856165168869978,0.23895814253282266,0.23927280134577847,0.2398728578211516,0.239922791140445,0.24003902418526518,0.24087398142228036,0.24127876818581634,0.2413381471307458,0.2413401985673398,0.24156862941357002,0.24213426233203073,0.24272836738695536,0.24272893096843723,0.24272917894428925,0.2427293142038449,0.24272960726621548,0.24273010321791952,0.243248688354274,0.2445941827840826,0.24493819292061406,0.2455013911670731,0.2456137918578166,0.24621479515007927,0.24729071728548138,0.24839391676460584,0.24940216403566542,0.24946702099259865,0.24960056726054178,0.2512674834810886,0.2515483499483917,0.25278223270153144,0.2530715754343218,0.2531113868302009,0.2531733807932062,0.25345591546169566,0.2535964726832732,0.25412986874097115,0.25581700626508735,0.25756244065768785,0.25768455749317876,0.2617841619085736,0.26274060476982003,0.26312235232237724,0.2642873654184329,0.26497594927297763,0.2650216670027867,0.2659238482389589,0.2666087124557234,0.2682106364597813,0.2692979203978579,0.2694203528389786,0.2695405084109126,0.269911435199018,0.2699115253720551,0.2699116155450922,0.26991184097768495,0.2699119536939813,0.2714838500766854,0.27148396279298176,0.27148407550927817,0.27148434602838944,0.27148434602838944,0.2718920634156311,0.27240577920798226,0.27259678824381656,0.2728863113226811,0.2741517997253239,0.27580507727400955,0.2760043596859976,0.2762949873845667,0.2762950550143445,0.27755100761831414,0.2778759687007585,0.2801332252519311,0.28013349577104235,0.2815773689843256,0.2820680455656981,0.2824850507757609,0.28291925649265026,0.28322162922930144,0.2853173407845117,0.28662654056688813,0.28663585093296856,0.287124724053599,0.28895888871470465,0.28961059179707604,0.2896315344849422,0.29045878192728547,0.2908170619469378,0.2908283561198344,0.2911541287596126,0.2911543091056868,0.2912941674862269,0.2919822328458083,0.2921133444417498,0.29233370480115967,0.29325603971112346,0.293467427853342,0.2935773713288246,0.2937726861271803,0.29654830238211466,0.2982020533392451,0.3021813218366318,0.30391059271233234,0.3042991934157091,0.30440559759948554,0.30477634404151677,0.30569646971207165,0.30576240874545,0.30588813250242486,0.30604595786060684,0.3086329772084493,0.3093895289897072,0.3103857832468326,0.31101821184252415,0.3116797437859393,0.3123802981111589,0.31303409771664287,0.3136096496691844,0.31508098057226425,0.31790260761937816,0.3183131880005477,0.3202284407652643,0.3207731084525996,0.321887872623732,0.32188803042654685,0.32192198057501453,0.32195180530703493,0.32227933632103656,0.32248371350962074,0.3232228393514593,0.32336634974000183,0.3258673665537114,0.3262200333018043,0.3263241155298755,0.32659096008990973,0.3294573129634246,0.3308588048492715,0.33166763444878733,0.3342170741834189,0.33425697575233504,0.3343602689663316,0.3343954139075408,0.3348044162605611,0.33543711537536397,0.3362425409427294,0.3373122636818309,0.3386068103456788,0.34060227202689464,0.3420030876149633,0.3421931723771673,0.3438011379747109,0.3458784091438345,0.34587867966294583,0.3464153219499793,0.34641538957975715,0.34712088087875786,0.34712146700349905,0.3478906880964693,0.3494608711914685,0.3499143964815563,0.35045811735200205,0.35155369720949164,0.3523818463822059,0.35293541865695466,0.35331822574269783,0.35395103757379703,0.35482510736565376,0.3553901090728548,0.355495836958853,0.3562660724984906,0.3565415285835678,0.3565420696217904,0.3571732357949626,0.3572888376285231,0.35739715798933785,0.3591696893795865,0.3593011616676764,0.35930118421093565,0.3593012067541949,0.359301296927232,0.359301296927232,0.3598850771694089,0.35995768900753256,0.3612018740301608,0.36140444775800296,0.3614048084501514,0.3628139875874109,0.3659515809565186,0.36601206452115254,0.36792472481105254,0.3686505275866598,0.3686508657355489,0.3708728420859566,0.3712010493977365,0.3714891747945261,0.3727288737085587,0.375104211851812,0.3770130397876353,0.3771486374921724,0.3775503809157063,0.3782271521023911,0.3797760994471536,0.3797765503123391,0.37977668557189476,0.381639299826205,0.38171206946714364,0.38171215964018074,0.3817123399862549,0.3817123399862549,0.381712430159292,0.381712430159292,0.381712430159292,0.3817124752458106,0.3817125654188477,0.3817126105053662,0.3817127006784033,0.3817127006784033,0.38171279085144044,0.3818799265757028,0.3820196496966872,0.38255865902594455,0.3825592451506857,0.3845152335849116,0.38633704453993467,0.3882630955258438,0.38827107583962706,0.38931293511026516,0.38959436515905016,0.39077423426296776,0.39591256443596157,0.3968253410039929,0.39781652302778153,0.39842063728982413,0.4012770485859989,0.40127763471074,0.4017252536668978,0.40175744544114206,0.4021189942333892,0.40236313773133386,0.40295323008610756,0.403646300049248,0.4038977475631977,0.4040038361413443,0.4042029382072581,0.40420320872636945,0.40420411045674043,0.4045792302910709,0.4055858319042034,0.40609733845714563,0.4067023544495592,0.4095742755081149,0.40999578937003267,0.4108487812144676,0.4116157479815104,0.41701905162401864,0.42091110025127165,0.4212105198209578,0.42185223623947055,0.42423068535250374,0.42562760095671787,0.42595474873531186,0.4261922645150298,0.43019639822739647,0.43027755396078526,0.43113676774478,0.4317847511893711,0.43417632047930216,0.4363682917516153,0.4403666994761262,0.4404306772459477,0.44433030040831706,0.44462038706866347,0.44623489021139673,0.44746232559238386,0.4481797873620595,0.4499881174480363,0.45032076578189334,0.450857340439149,0.45177092856451423,0.4562156928226636,0.4571554311287874,0.4582071643469878,0.4630707823624605,0.4630782667245397,0.4666761258182583,0.4702068059993384,0.47020685108585697,0.47020730195104243,0.4702076175566723,0.47059576739486353,0.4705959026544192,0.47059630843308614,0.471455206611451,0.472778901709541,0.475335352397807,0.4771512119323816,0.4812368620702855,0.48443764419514,0.48767052792120175,0.4903064661416702,0.493594265247325,0.501798253249081,0.5024570123716054,0.5042980752700491,0.5064837795162839,0.506591716641691,0.5075398410402651,0.5089583080003457,0.5102953937944449,0.5134546512357155,0.5171261817007438,0.5183000542976943,0.5196518833833591,0.5205085723223151,0.5215213958750073,0.5224890878226318,0.5229926140617908,0.523215296376906,0.523215386549943,0.5232154767229802,0.5241741964534133,0.5242718538525911,0.5250513997583092,0.5293550882999177,0.5295182113240292,0.5295185269296591,0.5312126077776318,0.5365103187936976,0.5378614715815841,0.5385963818339383,0.5396102423765573,0.5438504941865668,0.5452046226846776,0.5486804776592017,0.550045967959987,0.5553012525620977,0.5556513493786334,0.5559730867750015,0.5603383635009483,0.5603843517498687,0.566561700742832,0.5673533749220397,0.5694868238932759,0.5757056975698231,0.5763094511397173,0.5763094962262358,0.5763094962262358,0.5779235485037836,0.5817047744684424,0.5817478771801755,0.5823821994096462,0.5830656659443355,0.5836102209153744,0.5845702481548455,0.5865428284278976,0.5872499653848254,0.5873572712989729,0.5896344560913442,0.590403722270833,0.5905300997823268,0.5938846269354346,0.6015813916035107,0.6055681219197172,0.6100236618557999,0.6118213064368805,0.6249845860464709,0.6344737652594759,0.6346299449597308,0.637676395931591,0.6377926740629297,0.6458938197158747,0.647835966588906,0.6544853714310808,0.6560832376484693,0.662111981476294,0.668323776569429,0.6688136415934676,0.6765449425347524,0.6818641598201661,0.681864475425796,0.6857735667570606,0.6860887215217205,0.6936883698288412,0.6936890461266194,0.7142567945045305,0.7184050698166994,0.7271850831794417,0.7386962574898288,0.7465725115882497,0.7540261246617891,0.7540271165651972,0.7591943922830997,0.7649248887907205,0.7657171490946695,0.7749636726648418,0.7781644547896964,0.7836901683300661,0.7864117709357784,0.7928081051493358,0.7932233519851752,0.7962262042935981,0.7989185006622533,0.7993436665321736,0.8058280998029764,0.8179010972210068,0.82524767489951,0.8258940352294334,0.8264005371788166,0.8276417690344798,0.8396075507113999,0.8457295785461032,0.8465010990515194,0.8608444731976203,0.8666049973265949,0.8703773863336179,0.9103969917553439,0.9205974558849832,0.9286959865198523,0.9321313087142006,0.9623954539443693,0.9890800001208319,1.0304173041336808,1.033475252167771,1.04816678441011,1.0586209052931077,1.0656082335918098,1.0696982120354945,1.3432203559860176],\"type\":\"scatter\"},{\"hoverinfo\":\"text\",\"hovertext\":[\"(2.830308366087562, 2.9631038533238163)\",\"(2.822215696700104, 3.097894328832842)\",\"(2.110361247163438, 2.1879764264236035)\",\"(2.004103865091398, 2.713570532605691)\",\"(1.8337502258270997, 1.8902604057543202)\",\"(1.7002494050946593, 2.3150464668423147)\",\"(1.531015895297201, 1.5752989720859896)\",\"(1.5221185217266748, 1.5661494747037354)\",\"(1.3973049713883208, 2.149933864840266)\",\"(1.3743848789916167, 1.4606407993587254)\",\"(1.3703870573918469, 1.5214658492841546)\",\"(1.3698788421547587, 1.4709751704484562)\",\"(1.3628953912966517, 1.3993050995242065)\",\"(1.3377607392818411, 2.5771381864371725)\",\"(1.2314700833591115, 2.8387207890645714)\",\"(1.2268764885032308, 1.2270962401946404)\",\"(1.206181866662122, 1.3522831970796199)\",\"(1.1519188889924377, 2.897628129010023)\",\"(1.146014088004105, 1.4091426171795236)\",\"(1.1380711058582311, 3.1066472451979363)\",\"(1.1305440017594564, 1.1765276518548886)\",\"(1.1184096866761988, 1.2428877031435088)\",\"(1.1026986580764224, 1.4688049759646025)\",\"(1.091425315151383, 3.0914253151513833)\",\"(1.0748647663691002, 1.3513296172123015)\",\"(1.044871591115413, 1.4780831502707963)\",\"(1.0334392731259687, 1.0674199000801594)\",\"(1.0253178385396766, 1.1753227597331761)\",\"(1.0234664057419665, 1.4167033558211362)\",\"(0.989071884547493, 1.0374053538166796)\",\"(0.9827115293757379, 1.0856376489382418)\",\"(0.9337781388907337, 1.1023552791511506)\",\"(0.9186525136478019, 1.1015151369645024)\",\"(0.9149404504025979, 1.2723054842474693)\",\"(0.9083525886582428, 1.1615421555116083)\",\"(0.9030661943583329, 0.9274576402013762)\",\"(0.8777833880435693, 2.614007957500005)\",\"(0.87079596957183, 0.9203465944957747)\",\"(0.8700684535085179, 1.193750070729476)\",\"(0.8633384790576953, 1.3762353198859185)\",\"(0.8360504047439313, 0.8881822328548256)\",\"(0.8358383177606753, 0.9475537835952612)\",\"(0.8149842699899759, 0.8383141988402936)\",\"(0.813268186920951, 1.1515214062449066)\",\"(0.8124660075829212, 0.9473072505118334)\",\"(0.8083199415101612, 0.9422575604343076)\",\"(0.7952575655290842, 1.176256411359296)\",\"(0.7939316611915853, 0.8490527254823006)\",\"(0.7886321918012962, 1.7128514477213477)\",\"(0.7697132574067344, 0.9506549245141217)\",\"(0.7673450429334119, 1.0974569896029136)\",\"(0.754026034488752, 1.0967652722353296)\",\"(0.754026034488752, 0.8449735678030679)\",\"(0.7424208998737082, 1.0364681854421132)\",\"(0.7335797041052944, 1.0311611415167077)\",\"(0.7320238585231937, 1.125996485325533)\",\"(0.721769425830851, 0.7876160318462312)\",\"(0.709869966422717, 0.770813188113264)\",\"(0.707495304577242, 0.8437937437856687)\",\"(0.7027064850960426, 0.7532674087276409)\",\"(0.682907642205472, 1.0278357402545828)\",\"(0.6697927855168035, 0.8971434489356177)\",\"(0.6697307915537982, 0.7378910573550562)\",\"(0.6666745568074128, 0.7852400624917182)\",\"(0.6565101168060945, 0.9625624544090761)\",\"(0.6477321323366868, 0.6521587267278608)\",\"(0.6372621409991597, 0.8672435126022906)\",\"(0.6191220762125377, 0.7988694465300716)\",\"(0.6185320289442825, 0.6541493866948511)\",\"(0.6183698978235791, 0.9075442775536903)\",\"(0.6105320123524437, 0.721669874797894)\",\"(0.6081810660157255, 0.6248467565592656)\",\"(0.6081807954966143, 0.6248468467323027)\",\"(0.607186773022157, 0.6734418628955942)\",\"(0.5846821078073664, 0.8053939166293463)\",\"(0.5744187930708694, 0.6681981655287506)\",\"(0.5726604639339637, 0.682288063267567)\",\"(0.571853370165412, 0.7443406387470204)\",\"(0.5700641116767816, 0.573699302407859)\",\"(0.5610374750575744, 0.6570687838574393)\",\"(0.5603383184144298, 1.042982556161233)\",\"(0.5537636670200097, 0.5934366923736469)\",\"(0.5520173308970382, 0.6759352375444097)\",\"(0.5520172858105197, 0.5907939911753961)\",\"(0.5487096486367031, 0.5815834917335446)\",\"(0.5465847661039914, 0.6638801394742434)\",\"(0.5462171306317402, 0.5539452304302079)\",\"(0.5431110301958392, 0.5871626327983953)\",\"(0.5429667082499627, 0.7636424478571031)\",\"(0.5405275726829621, 0.64495877040768)\",\"(0.5332765333372649, 0.8032714236821177)\",\"(0.5307931228090488, 0.5771284026626474)\",\"(0.5184588941025436, 0.5736970480819316)\",\"(0.5172255523876265, 0.757161350988673)\",\"(0.5166466414894529, 0.560323890728494)\",\"(0.5134547414087526, 0.569624968986111)\",\"(0.5077526944943365, 0.6064243149069691)\",\"(0.5066041154342921, 0.7827106186280632)\",\"(0.503646980855678, 0.5330232372760547)\",\"(0.49687498576956757, 0.7286512065896291)\",\"(0.4812703162670491, 0.528655345532032)\",\"(0.4748894918158726, 0.5414740288803498)\",\"(0.47020703143193116, 0.6986138916342821)\",\"(0.4702014857901496, 0.754025628710085)\",\"(0.4697305120173832, 0.5304608351673402)\",\"(0.46107755246391285, 0.5430643656491406)\",\"(0.4536837241139699, 0.47288674866191105)\",\"(0.4490408947798333, 0.4998306324930694)\",\"(0.44373367050835366, 0.496961687144738)\",\"(0.44223990906229554, 0.4922446003145506)\",\"(0.43843406585850886, 0.4883085021586749)\",\"(0.4305262061105849, 0.4918203812615199)\",\"(0.42986776259369036, 0.4533859276589515)\",\"(0.4287831613034675, 0.4401054231011328)\",\"(0.4275807940267937, 0.509062728377306)\",\"(0.42151435786946184, 0.44525953355561887)\",\"(0.4194008822259431, 0.44392930091233923)\",\"(0.41655565238636855, 0.5365103187936976)\",\"(0.4165554269537758, 0.6640021886799564)\",\"(0.4098259033681388, 0.4220101292274303)\",\"(0.4090491077400522, 0.4512441376817838)\",\"(0.4085304324306607, 0.4769560323935815)\",\"(0.4075391151473164, 0.4399277371315299)\",\"(0.39855238009702526, 0.4005054379075455)\",\"(0.3946642990834046, 0.42210959008735016)\",\"(0.3785837864641164, 0.4284382945230836)\",\"(0.3750637917879325, 0.5987971638235333)\",\"(0.369542609442677, 0.41519805222632944)\",\"(0.36926773948234093, 0.3711709992331234)\",\"(0.3660117489155227, 0.3718362282710596)\",\"(0.3593004853698981, 0.5498309954395437)\",\"(0.3499011635883621, 0.4736845996941601)\",\"(0.34580457996971, 0.5128589230661231)\",\"(0.3450244479392508, 0.35680345871308017)\",\"(0.34450651655741527, 0.3645322122660669)\",\"(0.34184913969737657, 0.3665767506227237)\",\"(0.3352018990080921, 0.34900608347886136)\",\"(0.3331488618426887, 0.46665723456698616)\",\"(0.3300520943161275, 0.35047840628534926)\",\"(0.3298789846281573, 0.38385669989497995)\",\"(0.3291923169506509, 0.5016256620560742)\",\"(0.3283216511909446, 0.36204307574999506)\",\"(0.327589333413407, 0.5213235111450943)\",\"(0.32604879470435394, 0.34402776536019913)\",\"(0.31981722917283506, 0.3830415807261265)\",\"(0.31396835801076295, 0.34596468219707865)\",\"(0.3138967606193066, 0.43915716344300315)\",\"(0.31377171316011004, 0.31684386344754334)\",\"(0.31184647373153473, 0.3198670497758321)\",\"(0.3106403642738214, 0.3698456133905878)\",\"(0.31025791788022666, 0.3224594795059004)\",\"(0.30818134555214055, 0.36439546485530677)\",\"(0.3078768988356361, 0.3713973110129818)\",\"(0.30240544692034055, 0.36969926255137664)\",\"(0.2971387103425182, 0.31964612583494034)\",\"(0.29362457691374577, 0.3136772343604899)\",\"(0.2892525372100165, 0.3254672687881046)\",\"(0.2831455231859901, 0.28329636013379694)\",\"(0.28312877354434907, 0.30802304678551384)\",\"(0.28008124049604366, 0.34669517397061506)\",\"(0.2770035896533473, 0.359240475213709)\",\"(0.2742036041351371, 0.38126512680876407)\",\"(0.27147465242690133, 0.29242385529499904)\",\"(0.27070910588519287, 0.2782105106683946)\",\"(0.26732680543665865, 0.31277496295128054)\",\"(0.26391224558410237, 0.31821278032373834)\",\"(0.2627365469831506, 0.27803981310916676)\",\"(0.2585113766135958, 0.369013970012686)\",\"(0.25763392533284785, 0.2674591794551195)\",\"(0.2548345259393787, 0.25954160356244815)\",\"(0.2524058279014223, 0.2623408000665838)\",\"(0.24829432064513038, 0.2806755258970425)\",\"(0.24629872370435887, 0.26385054468346764)\",\"(0.24438874606231253, 0.259832952645314)\",\"(0.24272920148754853, 0.2642272876324659)\",\"(0.23456678325589497, 0.29317127705625073)\",\"(0.23100048472516094, 0.2383636091559718)\",\"(0.23039224504667108, 0.25665577331291994)\",\"(0.22232985125641924, 0.22255550928175868)\",\"(0.2191372297914221, 0.2886597396641298)\",\"(0.2133428907735354, 0.23865741545409858)\",\"(0.18709311389544409, 0.22030334750718217)\",\"(0.18574561311556004, 0.20717244001791016)\",\"(0.18405059672232732, 0.24417934172691014)\",\"(0.18140399554022194, 0.2053343077431722)\",\"(0.17824522277902569, 0.21031715705694864)\",\"(0.17804069905925626, 0.20092953522697612)\",\"(0.1765854415000393, 0.17721035191876275)\",\"(0.17613000003291315, 0.177699044693319)\",\"(0.17174220259095088, 0.1765306162934833)\",\"(0.17067565845140703, 0.17126499560699507)\",\"(0.1519551272817216, 0.19098040589499016)\",\"(0.14045061450445023, 0.1598439943337067)\",\"(0.13644581576593495, 0.18517777095769042)\",\"(0.13212995386431817, 0.16151070766492007)\",\"(0.12778448139164408, 0.13644569177800894)\",\"(0.12460509281984117, 0.13142536429568838)\",\"(0.12205149385387343, 0.14221252801958054)\",\"(0.11611157046759094, 0.1174611903138468)\",\"(0.11571130362753955, 0.1296494965030671)\",\"(0.09714083166321597, 0.11223740991657236)\",\"(0.08959169152850016, 0.10000161635169)\",\"(0.08527758236529197, 0.08766475571966448)\"],\"mode\":\"markers\",\"name\":\"H1\",\"x\":[2.830308366087562,2.822215696700104,2.110361247163438,2.004103865091398,1.8337502258270997,1.7002494050946593,1.531015895297201,1.5221185217266748,1.3973049713883208,1.3743848789916167,1.3703870573918469,1.3698788421547587,1.3628953912966517,1.3377607392818411,1.2314700833591115,1.2268764885032308,1.206181866662122,1.1519188889924377,1.146014088004105,1.1380711058582311,1.1305440017594564,1.1184096866761988,1.1026986580764224,1.091425315151383,1.0748647663691002,1.044871591115413,1.0334392731259687,1.0253178385396766,1.0234664057419665,0.989071884547493,0.9827115293757379,0.9337781388907337,0.9186525136478019,0.9149404504025979,0.9083525886582428,0.9030661943583329,0.8777833880435693,0.87079596957183,0.8700684535085179,0.8633384790576953,0.8360504047439313,0.8358383177606753,0.8149842699899759,0.813268186920951,0.8124660075829212,0.8083199415101612,0.7952575655290842,0.7939316611915853,0.7886321918012962,0.7697132574067344,0.7673450429334119,0.754026034488752,0.754026034488752,0.7424208998737082,0.7335797041052944,0.7320238585231937,0.721769425830851,0.709869966422717,0.707495304577242,0.7027064850960426,0.682907642205472,0.6697927855168035,0.6697307915537982,0.6666745568074128,0.6565101168060945,0.6477321323366868,0.6372621409991597,0.6191220762125377,0.6185320289442825,0.6183698978235791,0.6105320123524437,0.6081810660157255,0.6081807954966143,0.607186773022157,0.5846821078073664,0.5744187930708694,0.5726604639339637,0.571853370165412,0.5700641116767816,0.5610374750575744,0.5603383184144298,0.5537636670200097,0.5520173308970382,0.5520172858105197,0.5487096486367031,0.5465847661039914,0.5462171306317402,0.5431110301958392,0.5429667082499627,0.5405275726829621,0.5332765333372649,0.5307931228090488,0.5184588941025436,0.5172255523876265,0.5166466414894529,0.5134547414087526,0.5077526944943365,0.5066041154342921,0.503646980855678,0.49687498576956757,0.4812703162670491,0.4748894918158726,0.47020703143193116,0.4702014857901496,0.4697305120173832,0.46107755246391285,0.4536837241139699,0.4490408947798333,0.44373367050835366,0.44223990906229554,0.43843406585850886,0.4305262061105849,0.42986776259369036,0.4287831613034675,0.4275807940267937,0.42151435786946184,0.4194008822259431,0.41655565238636855,0.4165554269537758,0.4098259033681388,0.4090491077400522,0.4085304324306607,0.4075391151473164,0.39855238009702526,0.3946642990834046,0.3785837864641164,0.3750637917879325,0.369542609442677,0.36926773948234093,0.3660117489155227,0.3593004853698981,0.3499011635883621,0.34580457996971,0.3450244479392508,0.34450651655741527,0.34184913969737657,0.3352018990080921,0.3331488618426887,0.3300520943161275,0.3298789846281573,0.3291923169506509,0.3283216511909446,0.327589333413407,0.32604879470435394,0.31981722917283506,0.31396835801076295,0.3138967606193066,0.31377171316011004,0.31184647373153473,0.3106403642738214,0.31025791788022666,0.30818134555214055,0.3078768988356361,0.30240544692034055,0.2971387103425182,0.29362457691374577,0.2892525372100165,0.2831455231859901,0.28312877354434907,0.28008124049604366,0.2770035896533473,0.2742036041351371,0.27147465242690133,0.27070910588519287,0.26732680543665865,0.26391224558410237,0.2627365469831506,0.2585113766135958,0.25763392533284785,0.2548345259393787,0.2524058279014223,0.24829432064513038,0.24629872370435887,0.24438874606231253,0.24272920148754853,0.23456678325589497,0.23100048472516094,0.23039224504667108,0.22232985125641924,0.2191372297914221,0.2133428907735354,0.18709311389544409,0.18574561311556004,0.18405059672232732,0.18140399554022194,0.17824522277902569,0.17804069905925626,0.1765854415000393,0.17613000003291315,0.17174220259095088,0.17067565845140703,0.1519551272817216,0.14045061450445023,0.13644581576593495,0.13212995386431817,0.12778448139164408,0.12460509281984117,0.12205149385387343,0.11611157046759094,0.11571130362753955,0.09714083166321597,0.08959169152850016,0.08527758236529197],\"y\":[2.9631038533238163,3.097894328832842,2.1879764264236035,2.713570532605691,1.8902604057543202,2.3150464668423147,1.5752989720859896,1.5661494747037354,2.149933864840266,1.4606407993587254,1.5214658492841546,1.4709751704484562,1.3993050995242065,2.5771381864371725,2.8387207890645714,1.2270962401946404,1.3522831970796199,2.897628129010023,1.4091426171795236,3.1066472451979363,1.1765276518548886,1.2428877031435088,1.4688049759646025,3.0914253151513833,1.3513296172123015,1.4780831502707963,1.0674199000801594,1.1753227597331761,1.4167033558211362,1.0374053538166796,1.0856376489382418,1.1023552791511506,1.1015151369645024,1.2723054842474693,1.1615421555116083,0.9274576402013762,2.614007957500005,0.9203465944957747,1.193750070729476,1.3762353198859185,0.8881822328548256,0.9475537835952612,0.8383141988402936,1.1515214062449066,0.9473072505118334,0.9422575604343076,1.176256411359296,0.8490527254823006,1.7128514477213477,0.9506549245141217,1.0974569896029136,1.0967652722353296,0.8449735678030679,1.0364681854421132,1.0311611415167077,1.125996485325533,0.7876160318462312,0.770813188113264,0.8437937437856687,0.7532674087276409,1.0278357402545828,0.8971434489356177,0.7378910573550562,0.7852400624917182,0.9625624544090761,0.6521587267278608,0.8672435126022906,0.7988694465300716,0.6541493866948511,0.9075442775536903,0.721669874797894,0.6248467565592656,0.6248468467323027,0.6734418628955942,0.8053939166293463,0.6681981655287506,0.682288063267567,0.7443406387470204,0.573699302407859,0.6570687838574393,1.042982556161233,0.5934366923736469,0.6759352375444097,0.5907939911753961,0.5815834917335446,0.6638801394742434,0.5539452304302079,0.5871626327983953,0.7636424478571031,0.64495877040768,0.8032714236821177,0.5771284026626474,0.5736970480819316,0.757161350988673,0.560323890728494,0.569624968986111,0.6064243149069691,0.7827106186280632,0.5330232372760547,0.7286512065896291,0.528655345532032,0.5414740288803498,0.6986138916342821,0.754025628710085,0.5304608351673402,0.5430643656491406,0.47288674866191105,0.4998306324930694,0.496961687144738,0.4922446003145506,0.4883085021586749,0.4918203812615199,0.4533859276589515,0.4401054231011328,0.509062728377306,0.44525953355561887,0.44392930091233923,0.5365103187936976,0.6640021886799564,0.4220101292274303,0.4512441376817838,0.4769560323935815,0.4399277371315299,0.4005054379075455,0.42210959008735016,0.4284382945230836,0.5987971638235333,0.41519805222632944,0.3711709992331234,0.3718362282710596,0.5498309954395437,0.4736845996941601,0.5128589230661231,0.35680345871308017,0.3645322122660669,0.3665767506227237,0.34900608347886136,0.46665723456698616,0.35047840628534926,0.38385669989497995,0.5016256620560742,0.36204307574999506,0.5213235111450943,0.34402776536019913,0.3830415807261265,0.34596468219707865,0.43915716344300315,0.31684386344754334,0.3198670497758321,0.3698456133905878,0.3224594795059004,0.36439546485530677,0.3713973110129818,0.36969926255137664,0.31964612583494034,0.3136772343604899,0.3254672687881046,0.28329636013379694,0.30802304678551384,0.34669517397061506,0.359240475213709,0.38126512680876407,0.29242385529499904,0.2782105106683946,0.31277496295128054,0.31821278032373834,0.27803981310916676,0.369013970012686,0.2674591794551195,0.25954160356244815,0.2623408000665838,0.2806755258970425,0.26385054468346764,0.259832952645314,0.2642272876324659,0.29317127705625073,0.2383636091559718,0.25665577331291994,0.22255550928175868,0.2886597396641298,0.23865741545409858,0.22030334750718217,0.20717244001791016,0.24417934172691014,0.2053343077431722,0.21031715705694864,0.20092953522697612,0.17721035191876275,0.177699044693319,0.1765306162934833,0.17126499560699507,0.19098040589499016,0.1598439943337067,0.18517777095769042,0.16151070766492007,0.13644569177800894,0.13142536429568838,0.14221252801958054,0.1174611903138468,0.1296494965030671,0.11223740991657236,0.10000161635169,0.08766475571966448],\"type\":\"scatter\"},{\"hoverinfo\":\"text\",\"hovertext\":[\"(3.352245775269224, 3.357010518549518)\",\"(2.6555203775508995, 2.7371046132120003)\",\"(1.3092283672291525, 1.3121718856791647)\",\"(1.2058600390927168, 1.2224381716172341)\"],\"mode\":\"markers\",\"name\":\"H2\",\"x\":[3.352245775269224,2.6555203775508995,1.3092283672291525,1.2058600390927168],\"y\":[3.357010518549518,2.7371046132120003,1.3121718856791647,1.2224381716172341],\"type\":\"scatter\"}],                        {\"template\":{\"data\":{\"histogram2dcontour\":[{\"type\":\"histogram2dcontour\",\"colorbar\":{\"outlinewidth\":0,\"ticks\":\"\"},\"colorscale\":[[0.0,\"#0d0887\"],[0.1111111111111111,\"#46039f\"],[0.2222222222222222,\"#7201a8\"],[0.3333333333333333,\"#9c179e\"],[0.4444444444444444,\"#bd3786\"],[0.5555555555555556,\"#d8576b\"],[0.6666666666666666,\"#ed7953\"],[0.7777777777777778,\"#fb9f3a\"],[0.8888888888888888,\"#fdca26\"],[1.0,\"#f0f921\"]]}],\"choropleth\":[{\"type\":\"choropleth\",\"colorbar\":{\"outlinewidth\":0,\"ticks\":\"\"}}],\"histogram2d\":[{\"type\":\"histogram2d\",\"colorbar\":{\"outlinewidth\":0,\"ticks\":\"\"},\"colorscale\":[[0.0,\"#0d0887\"],[0.1111111111111111,\"#46039f\"],[0.2222222222222222,\"#7201a8\"],[0.3333333333333333,\"#9c179e\"],[0.4444444444444444,\"#bd3786\"],[0.5555555555555556,\"#d8576b\"],[0.6666666666666666,\"#ed7953\"],[0.7777777777777778,\"#fb9f3a\"],[0.8888888888888888,\"#fdca26\"],[1.0,\"#f0f921\"]]}],\"heatmap\":[{\"type\":\"heatmap\",\"colorbar\":{\"outlinewidth\":0,\"ticks\":\"\"},\"colorscale\":[[0.0,\"#0d0887\"],[0.1111111111111111,\"#46039f\"],[0.2222222222222222,\"#7201a8\"],[0.3333333333333333,\"#9c179e\"],[0.4444444444444444,\"#bd3786\"],[0.5555555555555556,\"#d8576b\"],[0.6666666666666666,\"#ed7953\"],[0.7777777777777778,\"#fb9f3a\"],[0.8888888888888888,\"#fdca26\"],[1.0,\"#f0f921\"]]}],\"heatmapgl\":[{\"type\":\"heatmapgl\",\"colorbar\":{\"outlinewidth\":0,\"ticks\":\"\"},\"colorscale\":[[0.0,\"#0d0887\"],[0.1111111111111111,\"#46039f\"],[0.2222222222222222,\"#7201a8\"],[0.3333333333333333,\"#9c179e\"],[0.4444444444444444,\"#bd3786\"],[0.5555555555555556,\"#d8576b\"],[0.6666666666666666,\"#ed7953\"],[0.7777777777777778,\"#fb9f3a\"],[0.8888888888888888,\"#fdca26\"],[1.0,\"#f0f921\"]]}],\"contourcarpet\":[{\"type\":\"contourcarpet\",\"colorbar\":{\"outlinewidth\":0,\"ticks\":\"\"}}],\"contour\":[{\"type\":\"contour\",\"colorbar\":{\"outlinewidth\":0,\"ticks\":\"\"},\"colorscale\":[[0.0,\"#0d0887\"],[0.1111111111111111,\"#46039f\"],[0.2222222222222222,\"#7201a8\"],[0.3333333333333333,\"#9c179e\"],[0.4444444444444444,\"#bd3786\"],[0.5555555555555556,\"#d8576b\"],[0.6666666666666666,\"#ed7953\"],[0.7777777777777778,\"#fb9f3a\"],[0.8888888888888888,\"#fdca26\"],[1.0,\"#f0f921\"]]}],\"surface\":[{\"type\":\"surface\",\"colorbar\":{\"outlinewidth\":0,\"ticks\":\"\"},\"colorscale\":[[0.0,\"#0d0887\"],[0.1111111111111111,\"#46039f\"],[0.2222222222222222,\"#7201a8\"],[0.3333333333333333,\"#9c179e\"],[0.4444444444444444,\"#bd3786\"],[0.5555555555555556,\"#d8576b\"],[0.6666666666666666,\"#ed7953\"],[0.7777777777777778,\"#fb9f3a\"],[0.8888888888888888,\"#fdca26\"],[1.0,\"#f0f921\"]]}],\"mesh3d\":[{\"type\":\"mesh3d\",\"colorbar\":{\"outlinewidth\":0,\"ticks\":\"\"}}],\"scatter\":[{\"fillpattern\":{\"fillmode\":\"overlay\",\"size\":10,\"solidity\":0.2},\"type\":\"scatter\"}],\"parcoords\":[{\"type\":\"parcoords\",\"line\":{\"colorbar\":{\"outlinewidth\":0,\"ticks\":\"\"}}}],\"scatterpolargl\":[{\"type\":\"scatterpolargl\",\"marker\":{\"colorbar\":{\"outlinewidth\":0,\"ticks\":\"\"}}}],\"bar\":[{\"error_x\":{\"color\":\"#2a3f5f\"},\"error_y\":{\"color\":\"#2a3f5f\"},\"marker\":{\"line\":{\"color\":\"#E5ECF6\",\"width\":0.5},\"pattern\":{\"fillmode\":\"overlay\",\"size\":10,\"solidity\":0.2}},\"type\":\"bar\"}],\"scattergeo\":[{\"type\":\"scattergeo\",\"marker\":{\"colorbar\":{\"outlinewidth\":0,\"ticks\":\"\"}}}],\"scatterpolar\":[{\"type\":\"scatterpolar\",\"marker\":{\"colorbar\":{\"outlinewidth\":0,\"ticks\":\"\"}}}],\"histogram\":[{\"marker\":{\"pattern\":{\"fillmode\":\"overlay\",\"size\":10,\"solidity\":0.2}},\"type\":\"histogram\"}],\"scattergl\":[{\"type\":\"scattergl\",\"marker\":{\"colorbar\":{\"outlinewidth\":0,\"ticks\":\"\"}}}],\"scatter3d\":[{\"type\":\"scatter3d\",\"line\":{\"colorbar\":{\"outlinewidth\":0,\"ticks\":\"\"}},\"marker\":{\"colorbar\":{\"outlinewidth\":0,\"ticks\":\"\"}}}],\"scattermapbox\":[{\"type\":\"scattermapbox\",\"marker\":{\"colorbar\":{\"outlinewidth\":0,\"ticks\":\"\"}}}],\"scatterternary\":[{\"type\":\"scatterternary\",\"marker\":{\"colorbar\":{\"outlinewidth\":0,\"ticks\":\"\"}}}],\"scattercarpet\":[{\"type\":\"scattercarpet\",\"marker\":{\"colorbar\":{\"outlinewidth\":0,\"ticks\":\"\"}}}],\"carpet\":[{\"aaxis\":{\"endlinecolor\":\"#2a3f5f\",\"gridcolor\":\"white\",\"linecolor\":\"white\",\"minorgridcolor\":\"white\",\"startlinecolor\":\"#2a3f5f\"},\"baxis\":{\"endlinecolor\":\"#2a3f5f\",\"gridcolor\":\"white\",\"linecolor\":\"white\",\"minorgridcolor\":\"white\",\"startlinecolor\":\"#2a3f5f\"},\"type\":\"carpet\"}],\"table\":[{\"cells\":{\"fill\":{\"color\":\"#EBF0F8\"},\"line\":{\"color\":\"white\"}},\"header\":{\"fill\":{\"color\":\"#C8D4E3\"},\"line\":{\"color\":\"white\"}},\"type\":\"table\"}],\"barpolar\":[{\"marker\":{\"line\":{\"color\":\"#E5ECF6\",\"width\":0.5},\"pattern\":{\"fillmode\":\"overlay\",\"size\":10,\"solidity\":0.2}},\"type\":\"barpolar\"}],\"pie\":[{\"automargin\":true,\"type\":\"pie\"}]},\"layout\":{\"autotypenumbers\":\"strict\",\"colorway\":[\"#636efa\",\"#EF553B\",\"#00cc96\",\"#ab63fa\",\"#FFA15A\",\"#19d3f3\",\"#FF6692\",\"#B6E880\",\"#FF97FF\",\"#FECB52\"],\"font\":{\"color\":\"#2a3f5f\"},\"hovermode\":\"closest\",\"hoverlabel\":{\"align\":\"left\"},\"paper_bgcolor\":\"white\",\"plot_bgcolor\":\"#E5ECF6\",\"polar\":{\"bgcolor\":\"#E5ECF6\",\"angularaxis\":{\"gridcolor\":\"white\",\"linecolor\":\"white\",\"ticks\":\"\"},\"radialaxis\":{\"gridcolor\":\"white\",\"linecolor\":\"white\",\"ticks\":\"\"}},\"ternary\":{\"bgcolor\":\"#E5ECF6\",\"aaxis\":{\"gridcolor\":\"white\",\"linecolor\":\"white\",\"ticks\":\"\"},\"baxis\":{\"gridcolor\":\"white\",\"linecolor\":\"white\",\"ticks\":\"\"},\"caxis\":{\"gridcolor\":\"white\",\"linecolor\":\"white\",\"ticks\":\"\"}},\"coloraxis\":{\"colorbar\":{\"outlinewidth\":0,\"ticks\":\"\"}},\"colorscale\":{\"sequential\":[[0.0,\"#0d0887\"],[0.1111111111111111,\"#46039f\"],[0.2222222222222222,\"#7201a8\"],[0.3333333333333333,\"#9c179e\"],[0.4444444444444444,\"#bd3786\"],[0.5555555555555556,\"#d8576b\"],[0.6666666666666666,\"#ed7953\"],[0.7777777777777778,\"#fb9f3a\"],[0.8888888888888888,\"#fdca26\"],[1.0,\"#f0f921\"]],\"sequentialminus\":[[0.0,\"#0d0887\"],[0.1111111111111111,\"#46039f\"],[0.2222222222222222,\"#7201a8\"],[0.3333333333333333,\"#9c179e\"],[0.4444444444444444,\"#bd3786\"],[0.5555555555555556,\"#d8576b\"],[0.6666666666666666,\"#ed7953\"],[0.7777777777777778,\"#fb9f3a\"],[0.8888888888888888,\"#fdca26\"],[1.0,\"#f0f921\"]],\"diverging\":[[0,\"#8e0152\"],[0.1,\"#c51b7d\"],[0.2,\"#de77ae\"],[0.3,\"#f1b6da\"],[0.4,\"#fde0ef\"],[0.5,\"#f7f7f7\"],[0.6,\"#e6f5d0\"],[0.7,\"#b8e186\"],[0.8,\"#7fbc41\"],[0.9,\"#4d9221\"],[1,\"#276419\"]]},\"xaxis\":{\"gridcolor\":\"white\",\"linecolor\":\"white\",\"ticks\":\"\",\"title\":{\"standoff\":15},\"zerolinecolor\":\"white\",\"automargin\":true,\"zerolinewidth\":2},\"yaxis\":{\"gridcolor\":\"white\",\"linecolor\":\"white\",\"ticks\":\"\",\"title\":{\"standoff\":15},\"zerolinecolor\":\"white\",\"automargin\":true,\"zerolinewidth\":2},\"scene\":{\"xaxis\":{\"backgroundcolor\":\"#E5ECF6\",\"gridcolor\":\"white\",\"linecolor\":\"white\",\"showbackground\":true,\"ticks\":\"\",\"zerolinecolor\":\"white\",\"gridwidth\":2},\"yaxis\":{\"backgroundcolor\":\"#E5ECF6\",\"gridcolor\":\"white\",\"linecolor\":\"white\",\"showbackground\":true,\"ticks\":\"\",\"zerolinecolor\":\"white\",\"gridwidth\":2},\"zaxis\":{\"backgroundcolor\":\"#E5ECF6\",\"gridcolor\":\"white\",\"linecolor\":\"white\",\"showbackground\":true,\"ticks\":\"\",\"zerolinecolor\":\"white\",\"gridwidth\":2}},\"shapedefaults\":{\"line\":{\"color\":\"#2a3f5f\"}},\"annotationdefaults\":{\"arrowcolor\":\"#2a3f5f\",\"arrowhead\":0,\"arrowwidth\":1},\"geo\":{\"bgcolor\":\"white\",\"landcolor\":\"#E5ECF6\",\"subunitcolor\":\"white\",\"showland\":true,\"showlakes\":true,\"lakecolor\":\"white\"},\"title\":{\"x\":0.05},\"mapbox\":{\"style\":\"light\"}}},\"xaxis\":{\"title\":{\"text\":\"Birth\"},\"side\":\"bottom\",\"type\":\"linear\",\"range\":[-0.06714021037099036,3.424150728920508],\"autorange\":false,\"ticks\":\"outside\",\"showline\":true,\"zeroline\":true,\"linewidth\":1,\"linecolor\":\"black\",\"mirror\":false,\"showexponent\":\"all\",\"exponentformat\":\"e\"},\"yaxis\":{\"title\":{\"text\":\"Death\"},\"side\":\"left\",\"type\":\"linear\",\"range\":[-0.06714021037099036,3.424150728920508],\"autorange\":false,\"scaleanchor\":\"x\",\"scaleratio\":1,\"ticks\":\"outside\",\"showline\":true,\"zeroline\":true,\"linewidth\":1,\"linecolor\":\"black\",\"mirror\":false,\"showexponent\":\"all\",\"exponentformat\":\"e\"},\"width\":500,\"height\":500,\"plot_bgcolor\":\"white\"},                        {\"responsive\": true}                    ).then(function(){\n",
       "                            \n",
       "var gd = document.getElementById('449a7073-8b50-41ad-a3ec-b3a7b7f60f72');\n",
       "var x = new MutationObserver(function (mutations, observer) {{\n",
       "        var display = window.getComputedStyle(gd).display;\n",
       "        if (!display || display === 'none') {{\n",
       "            console.log([gd, 'removed!']);\n",
       "            Plotly.purge(gd);\n",
       "            observer.disconnect();\n",
       "        }}\n",
       "}});\n",
       "\n",
       "// Listen for the removal of the full notebook cells\n",
       "var notebookContainer = gd.closest('#notebook-container');\n",
       "if (notebookContainer) {{\n",
       "    x.observe(notebookContainer, {childList: true});\n",
       "}}\n",
       "\n",
       "// Listen for the clearing of the current output cell\n",
       "var outputEl = gd.closest('.output');\n",
       "if (outputEl) {{\n",
       "    x.observe(outputEl, {childList: true});\n",
       "}}\n",
       "\n",
       "                        })                };                });            </script>        </div>"
      ]
     },
     "metadata": {},
     "output_type": "display_data"
    }
   ],
   "source": [
    "\n",
    "'Rescaling diagrams'\n",
    "\n",
    "window_number =  0\n",
    "\n",
    "diagramScaler = Scaler()\n",
    "\n",
    "X_scaled = diagramScaler.fit_transform(diagrams)\n",
    "\n",
    "print(\"scaled diagram\")\n",
    "plot = diagramScaler.plot(X_scaled, sample=window_number)\n",
    "\n",
    "plot.show()\n",
    "\n"
   ]
  },
  {
   "cell_type": "code",
   "execution_count": 77,
   "id": "815162be",
   "metadata": {},
   "outputs": [
    {
     "data": {
      "text/plain": [
       "7.095064377287131"
      ]
     },
     "execution_count": 77,
     "metadata": {},
     "output_type": "execute_result"
    }
   ],
   "source": [
    "np.log(1206)"
   ]
  },
  {
   "cell_type": "code",
   "execution_count": 28,
   "id": "931b2c32",
   "metadata": {},
   "outputs": [
    {
     "name": "stdout",
     "output_type": "stream",
     "text": [
      "n_point_clouds, n_homology_dims [[9.5936181  6.32616886 1.05361311]]\n"
     ]
    }
   ],
   "source": [
    "\n",
    "\n",
    "PE = PersistenceEntropy()\n",
    "\n",
    "X_persistence_entropy = PE.fit_transform(X_scaled)\n",
    "\n",
    "print(\"n_point_clouds, n_homology_dims\",X_persistence_entropy)\n",
    "\n",
    "\n",
    "#fig = plot_point_cloud(X_persistence_entropy)\n",
    "#fig.show()"
   ]
  },
  {
   "cell_type": "code",
   "execution_count": null,
   "id": "f666c471",
   "metadata": {},
   "outputs": [],
   "source": []
  },
  {
   "cell_type": "code",
   "execution_count": null,
   "id": "84a072cd",
   "metadata": {},
   "outputs": [],
   "source": []
  },
  {
   "cell_type": "code",
   "execution_count": null,
   "id": "976542d6",
   "metadata": {},
   "outputs": [],
   "source": []
  },
  {
   "cell_type": "code",
   "execution_count": null,
   "id": "084ad109",
   "metadata": {},
   "outputs": [],
   "source": []
  },
  {
   "cell_type": "code",
   "execution_count": 163,
   "id": "45c6a053",
   "metadata": {},
   "outputs": [],
   "source": [
    "Pe_exp = np.exp(PE_X)"
   ]
  },
  {
   "cell_type": "code",
   "execution_count": 167,
   "id": "11cafb13",
   "metadata": {},
   "outputs": [],
   "source": [
    "df2 = pd.DataFrame(Pe_exp)\n",
    "df2.columns=['Entropy1', 'Entropy2', 'Entropy3']\n",
    "df2[\"Names\"] = arr"
   ]
  },
  {
   "cell_type": "code",
   "execution_count": 168,
   "id": "954414a7",
   "metadata": {},
   "outputs": [
    {
     "data": {
      "application/vnd.plotly.v1+json": {
       "config": {
        "plotlyServerURL": "https://plot.ly"
       },
       "data": [
        {
         "hovertemplate": "Names=859_female.ply<br>Entropy1=%{x}<br>Entropy2=%{y}<br>Entropy3=%{z}<extra></extra>",
         "legendgroup": "859_female.ply",
         "marker": {
          "color": "#636efa",
          "symbol": "circle"
         },
         "mode": "markers",
         "name": "859_female.ply",
         "scene": "scene",
         "showlegend": true,
         "type": "scatter3d",
         "x": [
          18403.180648687703
         ],
         "y": [
          1752.2938499382965
         ],
         "z": [
          3.3448595344236054
         ]
        },
        {
         "hovertemplate": "Names=26_male.ply<br>Entropy1=%{x}<br>Entropy2=%{y}<br>Entropy3=%{z}<extra></extra>",
         "legendgroup": "26_male.ply",
         "marker": {
          "color": "#EF553B",
          "symbol": "circle"
         },
         "mode": "markers",
         "name": "26_male.ply",
         "scene": "scene",
         "showlegend": true,
         "type": "scatter3d",
         "x": [
          18448.84175516034
         ],
         "y": [
          1611.6293260408308
         ],
         "z": [
          4.392050314130041
         ]
        },
        {
         "hovertemplate": "Names=517_female.ply<br>Entropy1=%{x}<br>Entropy2=%{y}<br>Entropy3=%{z}<extra></extra>",
         "legendgroup": "517_female.ply",
         "marker": {
          "color": "#00cc96",
          "symbol": "circle"
         },
         "mode": "markers",
         "name": "517_female.ply",
         "scene": "scene",
         "showlegend": true,
         "type": "scatter3d",
         "x": [
          18289.077450337514
         ],
         "y": [
          1526.512865129178
         ],
         "z": [
          3.5166177105976524
         ]
        },
        {
         "hovertemplate": "Names=850_male.ply<br>Entropy1=%{x}<br>Entropy2=%{y}<br>Entropy3=%{z}<extra></extra>",
         "legendgroup": "850_male.ply",
         "marker": {
          "color": "#ab63fa",
          "symbol": "circle"
         },
         "mode": "markers",
         "name": "850_male.ply",
         "scene": "scene",
         "showlegend": true,
         "type": "scatter3d",
         "x": [
          18380.790615983806
         ],
         "y": [
          1651.7657893023813
         ],
         "z": [
          5.117621447119501
         ]
        },
        {
         "hovertemplate": "Names=439_female.ply<br>Entropy1=%{x}<br>Entropy2=%{y}<br>Entropy3=%{z}<extra></extra>",
         "legendgroup": "439_female.ply",
         "marker": {
          "color": "#FFA15A",
          "symbol": "circle"
         },
         "mode": "markers",
         "name": "439_female.ply",
         "scene": "scene",
         "showlegend": true,
         "type": "scatter3d",
         "x": [
          18320.28161302527
         ],
         "y": [
          1816.9969503567158
         ],
         "z": [
          6.582353327812944
         ]
        },
        {
         "hovertemplate": "Names=705_female.ply<br>Entropy1=%{x}<br>Entropy2=%{y}<br>Entropy3=%{z}<extra></extra>",
         "legendgroup": "705_female.ply",
         "marker": {
          "color": "#19d3f3",
          "symbol": "circle"
         },
         "mode": "markers",
         "name": "705_female.ply",
         "scene": "scene",
         "showlegend": true,
         "type": "scatter3d",
         "x": [
          18262.74826103574
         ],
         "y": [
          1741.7681945718914
         ],
         "z": [
          6.369399085194934
         ]
        },
        {
         "hovertemplate": "Names=195_female.ply<br>Entropy1=%{x}<br>Entropy2=%{y}<br>Entropy3=%{z}<extra></extra>",
         "legendgroup": "195_female.ply",
         "marker": {
          "color": "#FF6692",
          "symbol": "circle"
         },
         "mode": "markers",
         "name": "195_female.ply",
         "scene": "scene",
         "showlegend": true,
         "type": "scatter3d",
         "x": [
          18677.622154051907
         ],
         "y": [
          1552.6290898302377
         ],
         "z": [
          6.086178130851294
         ]
        },
        {
         "hovertemplate": "Names=176_female.ply<br>Entropy1=%{x}<br>Entropy2=%{y}<br>Entropy3=%{z}<extra></extra>",
         "legendgroup": "176_female.ply",
         "marker": {
          "color": "#B6E880",
          "symbol": "circle"
         },
         "mode": "markers",
         "name": "176_female.ply",
         "scene": "scene",
         "showlegend": true,
         "type": "scatter3d",
         "x": [
          18481.63471708215
         ],
         "y": [
          1924.602015206795
         ],
         "z": [
          3.7753415672555786
         ]
        },
        {
         "hovertemplate": "Names=439_male.ply<br>Entropy1=%{x}<br>Entropy2=%{y}<br>Entropy3=%{z}<extra></extra>",
         "legendgroup": "439_male.ply",
         "marker": {
          "color": "#FF97FF",
          "symbol": "circle"
         },
         "mode": "markers",
         "name": "439_male.ply",
         "scene": "scene",
         "showlegend": true,
         "type": "scatter3d",
         "x": [
          18296.9300879449
         ],
         "y": [
          1758.9628243894845
         ],
         "z": [
          4.583840619784177
         ]
        },
        {
         "hovertemplate": "Names=59_female.ply<br>Entropy1=%{x}<br>Entropy2=%{y}<br>Entropy3=%{z}<extra></extra>",
         "legendgroup": "59_female.ply",
         "marker": {
          "color": "#FECB52",
          "symbol": "circle"
         },
         "mode": "markers",
         "name": "59_female.ply",
         "scene": "scene",
         "showlegend": true,
         "type": "scatter3d",
         "x": [
          18020.24126846999
         ],
         "y": [
          1505.5270572068837
         ],
         "z": [
          7.900147340537477
         ]
        },
        {
         "hovertemplate": "Names=787_male.ply<br>Entropy1=%{x}<br>Entropy2=%{y}<br>Entropy3=%{z}<extra></extra>",
         "legendgroup": "787_male.ply",
         "marker": {
          "color": "#636efa",
          "symbol": "circle"
         },
         "mode": "markers",
         "name": "787_male.ply",
         "scene": "scene",
         "showlegend": true,
         "type": "scatter3d",
         "x": [
          18121.686151750248
         ],
         "y": [
          1664.6778163556671
         ],
         "z": [
          14.016970582820404
         ]
        },
        {
         "hovertemplate": "Names=91_male.ply<br>Entropy1=%{x}<br>Entropy2=%{y}<br>Entropy3=%{z}<extra></extra>",
         "legendgroup": "91_male.ply",
         "marker": {
          "color": "#EF553B",
          "symbol": "circle"
         },
         "mode": "markers",
         "name": "91_male.ply",
         "scene": "scene",
         "showlegend": true,
         "type": "scatter3d",
         "x": [
          18431.202215874335
         ],
         "y": [
          1631.927401239556
         ],
         "z": [
          4.174715407035952
         ]
        },
        {
         "hovertemplate": "Names=900_male.ply<br>Entropy1=%{x}<br>Entropy2=%{y}<br>Entropy3=%{z}<extra></extra>",
         "legendgroup": "900_male.ply",
         "marker": {
          "color": "#00cc96",
          "symbol": "circle"
         },
         "mode": "markers",
         "name": "900_male.ply",
         "scene": "scene",
         "showlegend": true,
         "type": "scatter3d",
         "x": [
          18383.127882099187
         ],
         "y": [
          1519.1756329899401
         ],
         "z": [
          4.88316888108704
         ]
        },
        {
         "hovertemplate": "Names=359_female.ply<br>Entropy1=%{x}<br>Entropy2=%{y}<br>Entropy3=%{z}<extra></extra>",
         "legendgroup": "359_female.ply",
         "marker": {
          "color": "#ab63fa",
          "symbol": "circle"
         },
         "mode": "markers",
         "name": "359_female.ply",
         "scene": "scene",
         "showlegend": true,
         "type": "scatter3d",
         "x": [
          18469.335771763974
         ],
         "y": [
          1608.7664110867022
         ],
         "z": [
          11.49104561619481
         ]
        },
        {
         "hovertemplate": "Names=853_female.ply<br>Entropy1=%{x}<br>Entropy2=%{y}<br>Entropy3=%{z}<extra></extra>",
         "legendgroup": "853_female.ply",
         "marker": {
          "color": "#FFA15A",
          "symbol": "circle"
         },
         "mode": "markers",
         "name": "853_female.ply",
         "scene": "scene",
         "showlegend": true,
         "type": "scatter3d",
         "x": [
          18517.80183979425
         ],
         "y": [
          1733.8395303372295
         ],
         "z": [
          7.147497889955889
         ]
        },
        {
         "hovertemplate": "Names=359_male.ply<br>Entropy1=%{x}<br>Entropy2=%{y}<br>Entropy3=%{z}<extra></extra>",
         "legendgroup": "359_male.ply",
         "marker": {
          "color": "#19d3f3",
          "symbol": "circle"
         },
         "mode": "markers",
         "name": "359_male.ply",
         "scene": "scene",
         "showlegend": true,
         "type": "scatter3d",
         "x": [
          18461.1429298508
         ],
         "y": [
          1619.2141047618106
         ],
         "z": [
          4.0626782759346405
         ]
        },
        {
         "hovertemplate": "Names=796_male.ply<br>Entropy1=%{x}<br>Entropy2=%{y}<br>Entropy3=%{z}<extra></extra>",
         "legendgroup": "796_male.ply",
         "marker": {
          "color": "#FF6692",
          "symbol": "circle"
         },
         "mode": "markers",
         "name": "796_male.ply",
         "scene": "scene",
         "showlegend": true,
         "type": "scatter3d",
         "x": [
          18036.40113337964
         ],
         "y": [
          1940.187118032125
         ],
         "z": [
          6.809233167978073
         ]
        },
        {
         "hovertemplate": "Names=705_male.ply<br>Entropy1=%{x}<br>Entropy2=%{y}<br>Entropy3=%{z}<extra></extra>",
         "legendgroup": "705_male.ply",
         "marker": {
          "color": "#B6E880",
          "symbol": "circle"
         },
         "mode": "markers",
         "name": "705_male.ply",
         "scene": "scene",
         "showlegend": true,
         "type": "scatter3d",
         "x": [
          18233.061481064826
         ],
         "y": [
          1697.6959377201385
         ],
         "z": [
          10.741877311127386
         ]
        },
        {
         "hovertemplate": "Names=176_male.ply<br>Entropy1=%{x}<br>Entropy2=%{y}<br>Entropy3=%{z}<extra></extra>",
         "legendgroup": "176_male.ply",
         "marker": {
          "color": "#FF97FF",
          "symbol": "circle"
         },
         "mode": "markers",
         "name": "176_male.ply",
         "scene": "scene",
         "showlegend": true,
         "type": "scatter3d",
         "x": [
          18560.735429696146
         ],
         "y": [
          1764.6648770856898
         ],
         "z": [
          3.010561692031816
         ]
        },
        {
         "hovertemplate": "Names=595_male.ply<br>Entropy1=%{x}<br>Entropy2=%{y}<br>Entropy3=%{z}<extra></extra>",
         "legendgroup": "595_male.ply",
         "marker": {
          "color": "#FECB52",
          "symbol": "circle"
         },
         "mode": "markers",
         "name": "595_male.ply",
         "scene": "scene",
         "showlegend": true,
         "type": "scatter3d",
         "x": [
          17811.82265674519
         ],
         "y": [
          1583.1410834349506
         ],
         "z": [
          2.9475242479166144
         ]
        },
        {
         "hovertemplate": "Names=321_female.ply<br>Entropy1=%{x}<br>Entropy2=%{y}<br>Entropy3=%{z}<extra></extra>",
         "legendgroup": "321_female.ply",
         "marker": {
          "color": "#636efa",
          "symbol": "circle"
         },
         "mode": "markers",
         "name": "321_female.ply",
         "scene": "scene",
         "showlegend": true,
         "type": "scatter3d",
         "x": [
          18206.946207425775
         ],
         "y": [
          1722.06244948358
         ],
         "z": [
          5.952997713028969
         ]
        },
        {
         "hovertemplate": "Names=26_female.ply<br>Entropy1=%{x}<br>Entropy2=%{y}<br>Entropy3=%{z}<extra></extra>",
         "legendgroup": "26_female.ply",
         "marker": {
          "color": "#EF553B",
          "symbol": "circle"
         },
         "mode": "markers",
         "name": "26_female.ply",
         "scene": "scene",
         "showlegend": true,
         "type": "scatter3d",
         "x": [
          18265.24129631916
         ],
         "y": [
          1654.8948317141671
         ],
         "z": [
          4.190538894068126
         ]
        },
        {
         "hovertemplate": "Names=365_female.ply<br>Entropy1=%{x}<br>Entropy2=%{y}<br>Entropy3=%{z}<extra></extra>",
         "legendgroup": "365_female.ply",
         "marker": {
          "color": "#00cc96",
          "symbol": "circle"
         },
         "mode": "markers",
         "name": "365_female.ply",
         "scene": "scene",
         "showlegend": true,
         "type": "scatter3d",
         "x": [
          18460.814324431274
         ],
         "y": [
          1505.9957404961065
         ],
         "z": [
          5.56322146135681
         ]
        },
        {
         "hovertemplate": "Names=900_female.ply<br>Entropy1=%{x}<br>Entropy2=%{y}<br>Entropy3=%{z}<extra></extra>",
         "legendgroup": "900_female.ply",
         "marker": {
          "color": "#ab63fa",
          "symbol": "circle"
         },
         "mode": "markers",
         "name": "900_female.ply",
         "scene": "scene",
         "showlegend": true,
         "type": "scatter3d",
         "x": [
          18279.642720742693
         ],
         "y": [
          1644.234080150204
         ],
         "z": [
          5.186210830139371
         ]
        },
        {
         "hovertemplate": "Names=853_male.ply<br>Entropy1=%{x}<br>Entropy2=%{y}<br>Entropy3=%{z}<extra></extra>",
         "legendgroup": "853_male.ply",
         "marker": {
          "color": "#FFA15A",
          "symbol": "circle"
         },
         "mode": "markers",
         "name": "853_male.ply",
         "scene": "scene",
         "showlegend": true,
         "type": "scatter3d",
         "x": [
          18619.814902645707
         ],
         "y": [
          1588.3217426398844
         ],
         "z": [
          5.854509271740104
         ]
        },
        {
         "hovertemplate": "Names=362_male.ply<br>Entropy1=%{x}<br>Entropy2=%{y}<br>Entropy3=%{z}<extra></extra>",
         "legendgroup": "362_male.ply",
         "marker": {
          "color": "#19d3f3",
          "symbol": "circle"
         },
         "mode": "markers",
         "name": "362_male.ply",
         "scene": "scene",
         "showlegend": true,
         "type": "scatter3d",
         "x": [
          18346.482394789113
         ],
         "y": [
          1581.9510405033498
         ],
         "z": [
          3.8652858967412445
         ]
        },
        {
         "hovertemplate": "Names=59_male.ply<br>Entropy1=%{x}<br>Entropy2=%{y}<br>Entropy3=%{z}<extra></extra>",
         "legendgroup": "59_male.ply",
         "marker": {
          "color": "#FF6692",
          "symbol": "circle"
         },
         "mode": "markers",
         "name": "59_male.ply",
         "scene": "scene",
         "showlegend": true,
         "type": "scatter3d",
         "x": [
          18122.59968897464
         ],
         "y": [
          1531.5410964045432
         ],
         "z": [
          10.73993771805367
         ]
        },
        {
         "hovertemplate": "Names=321_male.ply<br>Entropy1=%{x}<br>Entropy2=%{y}<br>Entropy3=%{z}<extra></extra>",
         "legendgroup": "321_male.ply",
         "marker": {
          "color": "#B6E880",
          "symbol": "circle"
         },
         "mode": "markers",
         "name": "321_male.ply",
         "scene": "scene",
         "showlegend": true,
         "type": "scatter3d",
         "x": [
          18183.983897486334
         ],
         "y": [
          1460.8432405526598
         ],
         "z": [
          10.150080637119178
         ]
        },
        {
         "hovertemplate": "Names=859_male.ply<br>Entropy1=%{x}<br>Entropy2=%{y}<br>Entropy3=%{z}<extra></extra>",
         "legendgroup": "859_male.ply",
         "marker": {
          "color": "#FF97FF",
          "symbol": "circle"
         },
         "mode": "markers",
         "name": "859_male.ply",
         "scene": "scene",
         "showlegend": true,
         "type": "scatter3d",
         "x": [
          18148.637717699006
         ],
         "y": [
          1633.1599553326778
         ],
         "z": [
          6.877894822358899
         ]
        },
        {
         "hovertemplate": "Names=365_male.ply<br>Entropy1=%{x}<br>Entropy2=%{y}<br>Entropy3=%{z}<extra></extra>",
         "legendgroup": "365_male.ply",
         "marker": {
          "color": "#FECB52",
          "symbol": "circle"
         },
         "mode": "markers",
         "name": "365_male.ply",
         "scene": "scene",
         "showlegend": true,
         "type": "scatter3d",
         "x": [
          18388.65854259467
         ],
         "y": [
          1688.6097394753922
         ],
         "z": [
          4.413536916971578
         ]
        },
        {
         "hovertemplate": "Names=739_male.ply<br>Entropy1=%{x}<br>Entropy2=%{y}<br>Entropy3=%{z}<extra></extra>",
         "legendgroup": "739_male.ply",
         "marker": {
          "color": "#636efa",
          "symbol": "circle"
         },
         "mode": "markers",
         "name": "739_male.ply",
         "scene": "scene",
         "showlegend": true,
         "type": "scatter3d",
         "x": [
          18332.316676504088
         ],
         "y": [
          1779.8302792425316
         ],
         "z": [
          6.679969622444729
         ]
        },
        {
         "hovertemplate": "Names=395_female.ply<br>Entropy1=%{x}<br>Entropy2=%{y}<br>Entropy3=%{z}<extra></extra>",
         "legendgroup": "395_female.ply",
         "marker": {
          "color": "#EF553B",
          "symbol": "circle"
         },
         "mode": "markers",
         "name": "395_female.ply",
         "scene": "scene",
         "showlegend": true,
         "type": "scatter3d",
         "x": [
          18343.12988147669
         ],
         "y": [
          1781.2911401948736
         ],
         "z": [
          4.516447529379339
         ]
        },
        {
         "hovertemplate": "Names=517_male.ply<br>Entropy1=%{x}<br>Entropy2=%{y}<br>Entropy3=%{z}<extra></extra>",
         "legendgroup": "517_male.ply",
         "marker": {
          "color": "#00cc96",
          "symbol": "circle"
         },
         "mode": "markers",
         "name": "517_male.ply",
         "scene": "scene",
         "showlegend": true,
         "type": "scatter3d",
         "x": [
          18204.27599045069
         ],
         "y": [
          1758.6415967546397
         ],
         "z": [
          5.649876237210852
         ]
        },
        {
         "hovertemplate": "Names=405_female.ply<br>Entropy1=%{x}<br>Entropy2=%{y}<br>Entropy3=%{z}<extra></extra>",
         "legendgroup": "405_female.ply",
         "marker": {
          "color": "#ab63fa",
          "symbol": "circle"
         },
         "mode": "markers",
         "name": "405_female.ply",
         "scene": "scene",
         "showlegend": true,
         "type": "scatter3d",
         "x": [
          18207.869140920582
         ],
         "y": [
          1631.9782202500783
         ],
         "z": [
          7.5571120255067585
         ]
        },
        {
         "hovertemplate": "Names=439_male_2.ply<br>Entropy1=%{x}<br>Entropy2=%{y}<br>Entropy3=%{z}<extra></extra>",
         "legendgroup": "439_male_2.ply",
         "marker": {
          "color": "#FFA15A",
          "symbol": "circle"
         },
         "mode": "markers",
         "name": "439_male_2.ply",
         "scene": "scene",
         "showlegend": true,
         "type": "scatter3d",
         "x": [
          18325.45599114058
         ],
         "y": [
          1834.8809114677829
         ],
         "z": [
          3.6186414668502245
         ]
        },
        {
         "hovertemplate": "Names=796_female.ply<br>Entropy1=%{x}<br>Entropy2=%{y}<br>Entropy3=%{z}<extra></extra>",
         "legendgroup": "796_female.ply",
         "marker": {
          "color": "#19d3f3",
          "symbol": "circle"
         },
         "mode": "markers",
         "name": "796_female.ply",
         "scene": "scene",
         "showlegend": true,
         "type": "scatter3d",
         "x": [
          18290.262438052778
         ],
         "y": [
          1602.8651731572857
         ],
         "z": [
          3.8049174273975357
         ]
        },
        {
         "hovertemplate": "Names=362_female.ply<br>Entropy1=%{x}<br>Entropy2=%{y}<br>Entropy3=%{z}<extra></extra>",
         "legendgroup": "362_female.ply",
         "marker": {
          "color": "#FF6692",
          "symbol": "circle"
         },
         "mode": "markers",
         "name": "362_female.ply",
         "scene": "scene",
         "showlegend": true,
         "type": "scatter3d",
         "x": [
          17836.840171237607
         ],
         "y": [
          1577.7316185869493
         ],
         "z": [
          4.826834645845834
         ]
        },
        {
         "hovertemplate": "Names=595_female.ply<br>Entropy1=%{x}<br>Entropy2=%{y}<br>Entropy3=%{z}<extra></extra>",
         "legendgroup": "595_female.ply",
         "marker": {
          "color": "#B6E880",
          "symbol": "circle"
         },
         "mode": "markers",
         "name": "595_female.ply",
         "scene": "scene",
         "showlegend": true,
         "type": "scatter3d",
         "x": [
          17923.410383478295
         ],
         "y": [
          1817.9004767915737
         ],
         "z": [
          5.528551409758763
         ]
        },
        {
         "hovertemplate": "Names=304_male.ply<br>Entropy1=%{x}<br>Entropy2=%{y}<br>Entropy3=%{z}<extra></extra>",
         "legendgroup": "304_male.ply",
         "marker": {
          "color": "#FF97FF",
          "symbol": "circle"
         },
         "mode": "markers",
         "name": "304_male.ply",
         "scene": "scene",
         "showlegend": true,
         "type": "scatter3d",
         "x": [
          18279.012632317757
         ],
         "y": [
          1727.2769325820348
         ],
         "z": [
          11.408193325348583
         ]
        },
        {
         "hovertemplate": "Names=787_female.ply<br>Entropy1=%{x}<br>Entropy2=%{y}<br>Entropy3=%{z}<extra></extra>",
         "legendgroup": "787_female.ply",
         "marker": {
          "color": "#FECB52",
          "symbol": "circle"
         },
         "mode": "markers",
         "name": "787_female.ply",
         "scene": "scene",
         "showlegend": true,
         "type": "scatter3d",
         "x": [
          18311.694528495325
         ],
         "y": [
          1690.4985594445195
         ],
         "z": [
          5.005041878175446
         ]
        },
        {
         "hovertemplate": "Names=peanut<br>Entropy1=%{x}<br>Entropy2=%{y}<br>Entropy3=%{z}<extra></extra>",
         "legendgroup": "peanut",
         "marker": {
          "color": "#636efa",
          "symbol": "circle"
         },
         "mode": "markers",
         "name": "peanut",
         "scene": "scene",
         "showlegend": true,
         "type": "scatter3d",
         "x": [
          15724.883139017342
         ],
         "y": [
          1453.0718329079461
         ],
         "z": [
          5.335332622257522
         ]
        },
        {
         "hovertemplate": "Names=sphere<br>Entropy1=%{x}<br>Entropy2=%{y}<br>Entropy3=%{z}<extra></extra>",
         "legendgroup": "sphere",
         "marker": {
          "color": "#EF553B",
          "symbol": "circle"
         },
         "mode": "markers",
         "name": "sphere",
         "scene": "scene",
         "showlegend": true,
         "type": "scatter3d",
         "x": [
          6533.935299600258
         ],
         "y": [
          942.2158326112539
         ],
         "z": [
          1.4212503750926417
         ]
        },
        {
         "hovertemplate": "Names=cylinder<br>Entropy1=%{x}<br>Entropy2=%{y}<br>Entropy3=%{z}<extra></extra>",
         "legendgroup": "cylinder",
         "marker": {
          "color": "#00cc96",
          "symbol": "circle"
         },
         "mode": "markers",
         "name": "cylinder",
         "scene": "scene",
         "showlegend": true,
         "type": "scatter3d",
         "x": [
          5072.557970383153
         ],
         "y": [
          202.0668473233206
         ],
         "z": [
          10.259075720875344
         ]
        },
        {
         "hovertemplate": "Names=croisant<br>Entropy1=%{x}<br>Entropy2=%{y}<br>Entropy3=%{z}<extra></extra>",
         "legendgroup": "croisant",
         "marker": {
          "color": "#ab63fa",
          "symbol": "circle"
         },
         "mode": "markers",
         "name": "croisant",
         "scene": "scene",
         "showlegend": true,
         "type": "scatter3d",
         "x": [
          14670.854242290352
         ],
         "y": [
          559.0108373513503
         ],
         "z": [
          2.8679948010739236
         ]
        }
       ],
       "layout": {
        "legend": {
         "title": {
          "text": "Names"
         },
         "tracegroupgap": 0
        },
        "margin": {
         "t": 60
        },
        "scene": {
         "domain": {
          "x": [
           0,
           1
          ],
          "y": [
           0,
           1
          ]
         },
         "xaxis": {
          "title": {
           "text": "Entropy1"
          }
         },
         "yaxis": {
          "title": {
           "text": "Entropy2"
          }
         },
         "zaxis": {
          "title": {
           "text": "Entropy3"
          }
         }
        },
        "template": {
         "data": {
          "bar": [
           {
            "error_x": {
             "color": "#2a3f5f"
            },
            "error_y": {
             "color": "#2a3f5f"
            },
            "marker": {
             "line": {
              "color": "#E5ECF6",
              "width": 0.5
             },
             "pattern": {
              "fillmode": "overlay",
              "size": 10,
              "solidity": 0.2
             }
            },
            "type": "bar"
           }
          ],
          "barpolar": [
           {
            "marker": {
             "line": {
              "color": "#E5ECF6",
              "width": 0.5
             },
             "pattern": {
              "fillmode": "overlay",
              "size": 10,
              "solidity": 0.2
             }
            },
            "type": "barpolar"
           }
          ],
          "carpet": [
           {
            "aaxis": {
             "endlinecolor": "#2a3f5f",
             "gridcolor": "white",
             "linecolor": "white",
             "minorgridcolor": "white",
             "startlinecolor": "#2a3f5f"
            },
            "baxis": {
             "endlinecolor": "#2a3f5f",
             "gridcolor": "white",
             "linecolor": "white",
             "minorgridcolor": "white",
             "startlinecolor": "#2a3f5f"
            },
            "type": "carpet"
           }
          ],
          "choropleth": [
           {
            "colorbar": {
             "outlinewidth": 0,
             "ticks": ""
            },
            "type": "choropleth"
           }
          ],
          "contour": [
           {
            "colorbar": {
             "outlinewidth": 0,
             "ticks": ""
            },
            "colorscale": [
             [
              0,
              "#0d0887"
             ],
             [
              0.1111111111111111,
              "#46039f"
             ],
             [
              0.2222222222222222,
              "#7201a8"
             ],
             [
              0.3333333333333333,
              "#9c179e"
             ],
             [
              0.4444444444444444,
              "#bd3786"
             ],
             [
              0.5555555555555556,
              "#d8576b"
             ],
             [
              0.6666666666666666,
              "#ed7953"
             ],
             [
              0.7777777777777778,
              "#fb9f3a"
             ],
             [
              0.8888888888888888,
              "#fdca26"
             ],
             [
              1,
              "#f0f921"
             ]
            ],
            "type": "contour"
           }
          ],
          "contourcarpet": [
           {
            "colorbar": {
             "outlinewidth": 0,
             "ticks": ""
            },
            "type": "contourcarpet"
           }
          ],
          "heatmap": [
           {
            "colorbar": {
             "outlinewidth": 0,
             "ticks": ""
            },
            "colorscale": [
             [
              0,
              "#0d0887"
             ],
             [
              0.1111111111111111,
              "#46039f"
             ],
             [
              0.2222222222222222,
              "#7201a8"
             ],
             [
              0.3333333333333333,
              "#9c179e"
             ],
             [
              0.4444444444444444,
              "#bd3786"
             ],
             [
              0.5555555555555556,
              "#d8576b"
             ],
             [
              0.6666666666666666,
              "#ed7953"
             ],
             [
              0.7777777777777778,
              "#fb9f3a"
             ],
             [
              0.8888888888888888,
              "#fdca26"
             ],
             [
              1,
              "#f0f921"
             ]
            ],
            "type": "heatmap"
           }
          ],
          "heatmapgl": [
           {
            "colorbar": {
             "outlinewidth": 0,
             "ticks": ""
            },
            "colorscale": [
             [
              0,
              "#0d0887"
             ],
             [
              0.1111111111111111,
              "#46039f"
             ],
             [
              0.2222222222222222,
              "#7201a8"
             ],
             [
              0.3333333333333333,
              "#9c179e"
             ],
             [
              0.4444444444444444,
              "#bd3786"
             ],
             [
              0.5555555555555556,
              "#d8576b"
             ],
             [
              0.6666666666666666,
              "#ed7953"
             ],
             [
              0.7777777777777778,
              "#fb9f3a"
             ],
             [
              0.8888888888888888,
              "#fdca26"
             ],
             [
              1,
              "#f0f921"
             ]
            ],
            "type": "heatmapgl"
           }
          ],
          "histogram": [
           {
            "marker": {
             "pattern": {
              "fillmode": "overlay",
              "size": 10,
              "solidity": 0.2
             }
            },
            "type": "histogram"
           }
          ],
          "histogram2d": [
           {
            "colorbar": {
             "outlinewidth": 0,
             "ticks": ""
            },
            "colorscale": [
             [
              0,
              "#0d0887"
             ],
             [
              0.1111111111111111,
              "#46039f"
             ],
             [
              0.2222222222222222,
              "#7201a8"
             ],
             [
              0.3333333333333333,
              "#9c179e"
             ],
             [
              0.4444444444444444,
              "#bd3786"
             ],
             [
              0.5555555555555556,
              "#d8576b"
             ],
             [
              0.6666666666666666,
              "#ed7953"
             ],
             [
              0.7777777777777778,
              "#fb9f3a"
             ],
             [
              0.8888888888888888,
              "#fdca26"
             ],
             [
              1,
              "#f0f921"
             ]
            ],
            "type": "histogram2d"
           }
          ],
          "histogram2dcontour": [
           {
            "colorbar": {
             "outlinewidth": 0,
             "ticks": ""
            },
            "colorscale": [
             [
              0,
              "#0d0887"
             ],
             [
              0.1111111111111111,
              "#46039f"
             ],
             [
              0.2222222222222222,
              "#7201a8"
             ],
             [
              0.3333333333333333,
              "#9c179e"
             ],
             [
              0.4444444444444444,
              "#bd3786"
             ],
             [
              0.5555555555555556,
              "#d8576b"
             ],
             [
              0.6666666666666666,
              "#ed7953"
             ],
             [
              0.7777777777777778,
              "#fb9f3a"
             ],
             [
              0.8888888888888888,
              "#fdca26"
             ],
             [
              1,
              "#f0f921"
             ]
            ],
            "type": "histogram2dcontour"
           }
          ],
          "mesh3d": [
           {
            "colorbar": {
             "outlinewidth": 0,
             "ticks": ""
            },
            "type": "mesh3d"
           }
          ],
          "parcoords": [
           {
            "line": {
             "colorbar": {
              "outlinewidth": 0,
              "ticks": ""
             }
            },
            "type": "parcoords"
           }
          ],
          "pie": [
           {
            "automargin": true,
            "type": "pie"
           }
          ],
          "scatter": [
           {
            "fillpattern": {
             "fillmode": "overlay",
             "size": 10,
             "solidity": 0.2
            },
            "type": "scatter"
           }
          ],
          "scatter3d": [
           {
            "line": {
             "colorbar": {
              "outlinewidth": 0,
              "ticks": ""
             }
            },
            "marker": {
             "colorbar": {
              "outlinewidth": 0,
              "ticks": ""
             }
            },
            "type": "scatter3d"
           }
          ],
          "scattercarpet": [
           {
            "marker": {
             "colorbar": {
              "outlinewidth": 0,
              "ticks": ""
             }
            },
            "type": "scattercarpet"
           }
          ],
          "scattergeo": [
           {
            "marker": {
             "colorbar": {
              "outlinewidth": 0,
              "ticks": ""
             }
            },
            "type": "scattergeo"
           }
          ],
          "scattergl": [
           {
            "marker": {
             "colorbar": {
              "outlinewidth": 0,
              "ticks": ""
             }
            },
            "type": "scattergl"
           }
          ],
          "scattermapbox": [
           {
            "marker": {
             "colorbar": {
              "outlinewidth": 0,
              "ticks": ""
             }
            },
            "type": "scattermapbox"
           }
          ],
          "scatterpolar": [
           {
            "marker": {
             "colorbar": {
              "outlinewidth": 0,
              "ticks": ""
             }
            },
            "type": "scatterpolar"
           }
          ],
          "scatterpolargl": [
           {
            "marker": {
             "colorbar": {
              "outlinewidth": 0,
              "ticks": ""
             }
            },
            "type": "scatterpolargl"
           }
          ],
          "scatterternary": [
           {
            "marker": {
             "colorbar": {
              "outlinewidth": 0,
              "ticks": ""
             }
            },
            "type": "scatterternary"
           }
          ],
          "surface": [
           {
            "colorbar": {
             "outlinewidth": 0,
             "ticks": ""
            },
            "colorscale": [
             [
              0,
              "#0d0887"
             ],
             [
              0.1111111111111111,
              "#46039f"
             ],
             [
              0.2222222222222222,
              "#7201a8"
             ],
             [
              0.3333333333333333,
              "#9c179e"
             ],
             [
              0.4444444444444444,
              "#bd3786"
             ],
             [
              0.5555555555555556,
              "#d8576b"
             ],
             [
              0.6666666666666666,
              "#ed7953"
             ],
             [
              0.7777777777777778,
              "#fb9f3a"
             ],
             [
              0.8888888888888888,
              "#fdca26"
             ],
             [
              1,
              "#f0f921"
             ]
            ],
            "type": "surface"
           }
          ],
          "table": [
           {
            "cells": {
             "fill": {
              "color": "#EBF0F8"
             },
             "line": {
              "color": "white"
             }
            },
            "header": {
             "fill": {
              "color": "#C8D4E3"
             },
             "line": {
              "color": "white"
             }
            },
            "type": "table"
           }
          ]
         },
         "layout": {
          "annotationdefaults": {
           "arrowcolor": "#2a3f5f",
           "arrowhead": 0,
           "arrowwidth": 1
          },
          "autotypenumbers": "strict",
          "coloraxis": {
           "colorbar": {
            "outlinewidth": 0,
            "ticks": ""
           }
          },
          "colorscale": {
           "diverging": [
            [
             0,
             "#8e0152"
            ],
            [
             0.1,
             "#c51b7d"
            ],
            [
             0.2,
             "#de77ae"
            ],
            [
             0.3,
             "#f1b6da"
            ],
            [
             0.4,
             "#fde0ef"
            ],
            [
             0.5,
             "#f7f7f7"
            ],
            [
             0.6,
             "#e6f5d0"
            ],
            [
             0.7,
             "#b8e186"
            ],
            [
             0.8,
             "#7fbc41"
            ],
            [
             0.9,
             "#4d9221"
            ],
            [
             1,
             "#276419"
            ]
           ],
           "sequential": [
            [
             0,
             "#0d0887"
            ],
            [
             0.1111111111111111,
             "#46039f"
            ],
            [
             0.2222222222222222,
             "#7201a8"
            ],
            [
             0.3333333333333333,
             "#9c179e"
            ],
            [
             0.4444444444444444,
             "#bd3786"
            ],
            [
             0.5555555555555556,
             "#d8576b"
            ],
            [
             0.6666666666666666,
             "#ed7953"
            ],
            [
             0.7777777777777778,
             "#fb9f3a"
            ],
            [
             0.8888888888888888,
             "#fdca26"
            ],
            [
             1,
             "#f0f921"
            ]
           ],
           "sequentialminus": [
            [
             0,
             "#0d0887"
            ],
            [
             0.1111111111111111,
             "#46039f"
            ],
            [
             0.2222222222222222,
             "#7201a8"
            ],
            [
             0.3333333333333333,
             "#9c179e"
            ],
            [
             0.4444444444444444,
             "#bd3786"
            ],
            [
             0.5555555555555556,
             "#d8576b"
            ],
            [
             0.6666666666666666,
             "#ed7953"
            ],
            [
             0.7777777777777778,
             "#fb9f3a"
            ],
            [
             0.8888888888888888,
             "#fdca26"
            ],
            [
             1,
             "#f0f921"
            ]
           ]
          },
          "colorway": [
           "#636efa",
           "#EF553B",
           "#00cc96",
           "#ab63fa",
           "#FFA15A",
           "#19d3f3",
           "#FF6692",
           "#B6E880",
           "#FF97FF",
           "#FECB52"
          ],
          "font": {
           "color": "#2a3f5f"
          },
          "geo": {
           "bgcolor": "white",
           "lakecolor": "white",
           "landcolor": "#E5ECF6",
           "showlakes": true,
           "showland": true,
           "subunitcolor": "white"
          },
          "hoverlabel": {
           "align": "left"
          },
          "hovermode": "closest",
          "mapbox": {
           "style": "light"
          },
          "paper_bgcolor": "white",
          "plot_bgcolor": "#E5ECF6",
          "polar": {
           "angularaxis": {
            "gridcolor": "white",
            "linecolor": "white",
            "ticks": ""
           },
           "bgcolor": "#E5ECF6",
           "radialaxis": {
            "gridcolor": "white",
            "linecolor": "white",
            "ticks": ""
           }
          },
          "scene": {
           "xaxis": {
            "backgroundcolor": "#E5ECF6",
            "gridcolor": "white",
            "gridwidth": 2,
            "linecolor": "white",
            "showbackground": true,
            "ticks": "",
            "zerolinecolor": "white"
           },
           "yaxis": {
            "backgroundcolor": "#E5ECF6",
            "gridcolor": "white",
            "gridwidth": 2,
            "linecolor": "white",
            "showbackground": true,
            "ticks": "",
            "zerolinecolor": "white"
           },
           "zaxis": {
            "backgroundcolor": "#E5ECF6",
            "gridcolor": "white",
            "gridwidth": 2,
            "linecolor": "white",
            "showbackground": true,
            "ticks": "",
            "zerolinecolor": "white"
           }
          },
          "shapedefaults": {
           "line": {
            "color": "#2a3f5f"
           }
          },
          "ternary": {
           "aaxis": {
            "gridcolor": "white",
            "linecolor": "white",
            "ticks": ""
           },
           "baxis": {
            "gridcolor": "white",
            "linecolor": "white",
            "ticks": ""
           },
           "bgcolor": "#E5ECF6",
           "caxis": {
            "gridcolor": "white",
            "linecolor": "white",
            "ticks": ""
           }
          },
          "title": {
           "x": 0.05
          },
          "xaxis": {
           "automargin": true,
           "gridcolor": "white",
           "linecolor": "white",
           "ticks": "",
           "title": {
            "standoff": 15
           },
           "zerolinecolor": "white",
           "zerolinewidth": 2
          },
          "yaxis": {
           "automargin": true,
           "gridcolor": "white",
           "linecolor": "white",
           "ticks": "",
           "title": {
            "standoff": 15
           },
           "zerolinecolor": "white",
           "zerolinewidth": 2
          }
         }
        }
       }
      },
      "text/html": [
       "<div>                            <div id=\"472bc5ce-79fe-48be-a404-2c39bd399021\" class=\"plotly-graph-div\" style=\"height:525px; width:100%;\"></div>            <script type=\"text/javascript\">                require([\"plotly\"], function(Plotly) {                    window.PLOTLYENV=window.PLOTLYENV || {};                                    if (document.getElementById(\"472bc5ce-79fe-48be-a404-2c39bd399021\")) {                    Plotly.newPlot(                        \"472bc5ce-79fe-48be-a404-2c39bd399021\",                        [{\"hovertemplate\":\"Names=859_female.ply<br>Entropy1=%{x}<br>Entropy2=%{y}<br>Entropy3=%{z}<extra></extra>\",\"legendgroup\":\"859_female.ply\",\"marker\":{\"color\":\"#636efa\",\"symbol\":\"circle\"},\"mode\":\"markers\",\"name\":\"859_female.ply\",\"scene\":\"scene\",\"showlegend\":true,\"x\":[18403.180648687703],\"y\":[1752.2938499382965],\"z\":[3.3448595344236054],\"type\":\"scatter3d\"},{\"hovertemplate\":\"Names=26_male.ply<br>Entropy1=%{x}<br>Entropy2=%{y}<br>Entropy3=%{z}<extra></extra>\",\"legendgroup\":\"26_male.ply\",\"marker\":{\"color\":\"#EF553B\",\"symbol\":\"circle\"},\"mode\":\"markers\",\"name\":\"26_male.ply\",\"scene\":\"scene\",\"showlegend\":true,\"x\":[18448.84175516034],\"y\":[1611.6293260408308],\"z\":[4.392050314130041],\"type\":\"scatter3d\"},{\"hovertemplate\":\"Names=517_female.ply<br>Entropy1=%{x}<br>Entropy2=%{y}<br>Entropy3=%{z}<extra></extra>\",\"legendgroup\":\"517_female.ply\",\"marker\":{\"color\":\"#00cc96\",\"symbol\":\"circle\"},\"mode\":\"markers\",\"name\":\"517_female.ply\",\"scene\":\"scene\",\"showlegend\":true,\"x\":[18289.077450337514],\"y\":[1526.512865129178],\"z\":[3.5166177105976524],\"type\":\"scatter3d\"},{\"hovertemplate\":\"Names=850_male.ply<br>Entropy1=%{x}<br>Entropy2=%{y}<br>Entropy3=%{z}<extra></extra>\",\"legendgroup\":\"850_male.ply\",\"marker\":{\"color\":\"#ab63fa\",\"symbol\":\"circle\"},\"mode\":\"markers\",\"name\":\"850_male.ply\",\"scene\":\"scene\",\"showlegend\":true,\"x\":[18380.790615983806],\"y\":[1651.7657893023813],\"z\":[5.117621447119501],\"type\":\"scatter3d\"},{\"hovertemplate\":\"Names=439_female.ply<br>Entropy1=%{x}<br>Entropy2=%{y}<br>Entropy3=%{z}<extra></extra>\",\"legendgroup\":\"439_female.ply\",\"marker\":{\"color\":\"#FFA15A\",\"symbol\":\"circle\"},\"mode\":\"markers\",\"name\":\"439_female.ply\",\"scene\":\"scene\",\"showlegend\":true,\"x\":[18320.28161302527],\"y\":[1816.9969503567158],\"z\":[6.582353327812944],\"type\":\"scatter3d\"},{\"hovertemplate\":\"Names=705_female.ply<br>Entropy1=%{x}<br>Entropy2=%{y}<br>Entropy3=%{z}<extra></extra>\",\"legendgroup\":\"705_female.ply\",\"marker\":{\"color\":\"#19d3f3\",\"symbol\":\"circle\"},\"mode\":\"markers\",\"name\":\"705_female.ply\",\"scene\":\"scene\",\"showlegend\":true,\"x\":[18262.74826103574],\"y\":[1741.7681945718914],\"z\":[6.369399085194934],\"type\":\"scatter3d\"},{\"hovertemplate\":\"Names=195_female.ply<br>Entropy1=%{x}<br>Entropy2=%{y}<br>Entropy3=%{z}<extra></extra>\",\"legendgroup\":\"195_female.ply\",\"marker\":{\"color\":\"#FF6692\",\"symbol\":\"circle\"},\"mode\":\"markers\",\"name\":\"195_female.ply\",\"scene\":\"scene\",\"showlegend\":true,\"x\":[18677.622154051907],\"y\":[1552.6290898302377],\"z\":[6.086178130851294],\"type\":\"scatter3d\"},{\"hovertemplate\":\"Names=176_female.ply<br>Entropy1=%{x}<br>Entropy2=%{y}<br>Entropy3=%{z}<extra></extra>\",\"legendgroup\":\"176_female.ply\",\"marker\":{\"color\":\"#B6E880\",\"symbol\":\"circle\"},\"mode\":\"markers\",\"name\":\"176_female.ply\",\"scene\":\"scene\",\"showlegend\":true,\"x\":[18481.63471708215],\"y\":[1924.602015206795],\"z\":[3.7753415672555786],\"type\":\"scatter3d\"},{\"hovertemplate\":\"Names=439_male.ply<br>Entropy1=%{x}<br>Entropy2=%{y}<br>Entropy3=%{z}<extra></extra>\",\"legendgroup\":\"439_male.ply\",\"marker\":{\"color\":\"#FF97FF\",\"symbol\":\"circle\"},\"mode\":\"markers\",\"name\":\"439_male.ply\",\"scene\":\"scene\",\"showlegend\":true,\"x\":[18296.9300879449],\"y\":[1758.9628243894845],\"z\":[4.583840619784177],\"type\":\"scatter3d\"},{\"hovertemplate\":\"Names=59_female.ply<br>Entropy1=%{x}<br>Entropy2=%{y}<br>Entropy3=%{z}<extra></extra>\",\"legendgroup\":\"59_female.ply\",\"marker\":{\"color\":\"#FECB52\",\"symbol\":\"circle\"},\"mode\":\"markers\",\"name\":\"59_female.ply\",\"scene\":\"scene\",\"showlegend\":true,\"x\":[18020.24126846999],\"y\":[1505.5270572068837],\"z\":[7.900147340537477],\"type\":\"scatter3d\"},{\"hovertemplate\":\"Names=787_male.ply<br>Entropy1=%{x}<br>Entropy2=%{y}<br>Entropy3=%{z}<extra></extra>\",\"legendgroup\":\"787_male.ply\",\"marker\":{\"color\":\"#636efa\",\"symbol\":\"circle\"},\"mode\":\"markers\",\"name\":\"787_male.ply\",\"scene\":\"scene\",\"showlegend\":true,\"x\":[18121.686151750248],\"y\":[1664.6778163556671],\"z\":[14.016970582820404],\"type\":\"scatter3d\"},{\"hovertemplate\":\"Names=91_male.ply<br>Entropy1=%{x}<br>Entropy2=%{y}<br>Entropy3=%{z}<extra></extra>\",\"legendgroup\":\"91_male.ply\",\"marker\":{\"color\":\"#EF553B\",\"symbol\":\"circle\"},\"mode\":\"markers\",\"name\":\"91_male.ply\",\"scene\":\"scene\",\"showlegend\":true,\"x\":[18431.202215874335],\"y\":[1631.927401239556],\"z\":[4.174715407035952],\"type\":\"scatter3d\"},{\"hovertemplate\":\"Names=900_male.ply<br>Entropy1=%{x}<br>Entropy2=%{y}<br>Entropy3=%{z}<extra></extra>\",\"legendgroup\":\"900_male.ply\",\"marker\":{\"color\":\"#00cc96\",\"symbol\":\"circle\"},\"mode\":\"markers\",\"name\":\"900_male.ply\",\"scene\":\"scene\",\"showlegend\":true,\"x\":[18383.127882099187],\"y\":[1519.1756329899401],\"z\":[4.88316888108704],\"type\":\"scatter3d\"},{\"hovertemplate\":\"Names=359_female.ply<br>Entropy1=%{x}<br>Entropy2=%{y}<br>Entropy3=%{z}<extra></extra>\",\"legendgroup\":\"359_female.ply\",\"marker\":{\"color\":\"#ab63fa\",\"symbol\":\"circle\"},\"mode\":\"markers\",\"name\":\"359_female.ply\",\"scene\":\"scene\",\"showlegend\":true,\"x\":[18469.335771763974],\"y\":[1608.7664110867022],\"z\":[11.49104561619481],\"type\":\"scatter3d\"},{\"hovertemplate\":\"Names=853_female.ply<br>Entropy1=%{x}<br>Entropy2=%{y}<br>Entropy3=%{z}<extra></extra>\",\"legendgroup\":\"853_female.ply\",\"marker\":{\"color\":\"#FFA15A\",\"symbol\":\"circle\"},\"mode\":\"markers\",\"name\":\"853_female.ply\",\"scene\":\"scene\",\"showlegend\":true,\"x\":[18517.80183979425],\"y\":[1733.8395303372295],\"z\":[7.147497889955889],\"type\":\"scatter3d\"},{\"hovertemplate\":\"Names=359_male.ply<br>Entropy1=%{x}<br>Entropy2=%{y}<br>Entropy3=%{z}<extra></extra>\",\"legendgroup\":\"359_male.ply\",\"marker\":{\"color\":\"#19d3f3\",\"symbol\":\"circle\"},\"mode\":\"markers\",\"name\":\"359_male.ply\",\"scene\":\"scene\",\"showlegend\":true,\"x\":[18461.1429298508],\"y\":[1619.2141047618106],\"z\":[4.0626782759346405],\"type\":\"scatter3d\"},{\"hovertemplate\":\"Names=796_male.ply<br>Entropy1=%{x}<br>Entropy2=%{y}<br>Entropy3=%{z}<extra></extra>\",\"legendgroup\":\"796_male.ply\",\"marker\":{\"color\":\"#FF6692\",\"symbol\":\"circle\"},\"mode\":\"markers\",\"name\":\"796_male.ply\",\"scene\":\"scene\",\"showlegend\":true,\"x\":[18036.40113337964],\"y\":[1940.187118032125],\"z\":[6.809233167978073],\"type\":\"scatter3d\"},{\"hovertemplate\":\"Names=705_male.ply<br>Entropy1=%{x}<br>Entropy2=%{y}<br>Entropy3=%{z}<extra></extra>\",\"legendgroup\":\"705_male.ply\",\"marker\":{\"color\":\"#B6E880\",\"symbol\":\"circle\"},\"mode\":\"markers\",\"name\":\"705_male.ply\",\"scene\":\"scene\",\"showlegend\":true,\"x\":[18233.061481064826],\"y\":[1697.6959377201385],\"z\":[10.741877311127386],\"type\":\"scatter3d\"},{\"hovertemplate\":\"Names=176_male.ply<br>Entropy1=%{x}<br>Entropy2=%{y}<br>Entropy3=%{z}<extra></extra>\",\"legendgroup\":\"176_male.ply\",\"marker\":{\"color\":\"#FF97FF\",\"symbol\":\"circle\"},\"mode\":\"markers\",\"name\":\"176_male.ply\",\"scene\":\"scene\",\"showlegend\":true,\"x\":[18560.735429696146],\"y\":[1764.6648770856898],\"z\":[3.010561692031816],\"type\":\"scatter3d\"},{\"hovertemplate\":\"Names=595_male.ply<br>Entropy1=%{x}<br>Entropy2=%{y}<br>Entropy3=%{z}<extra></extra>\",\"legendgroup\":\"595_male.ply\",\"marker\":{\"color\":\"#FECB52\",\"symbol\":\"circle\"},\"mode\":\"markers\",\"name\":\"595_male.ply\",\"scene\":\"scene\",\"showlegend\":true,\"x\":[17811.82265674519],\"y\":[1583.1410834349506],\"z\":[2.9475242479166144],\"type\":\"scatter3d\"},{\"hovertemplate\":\"Names=321_female.ply<br>Entropy1=%{x}<br>Entropy2=%{y}<br>Entropy3=%{z}<extra></extra>\",\"legendgroup\":\"321_female.ply\",\"marker\":{\"color\":\"#636efa\",\"symbol\":\"circle\"},\"mode\":\"markers\",\"name\":\"321_female.ply\",\"scene\":\"scene\",\"showlegend\":true,\"x\":[18206.946207425775],\"y\":[1722.06244948358],\"z\":[5.952997713028969],\"type\":\"scatter3d\"},{\"hovertemplate\":\"Names=26_female.ply<br>Entropy1=%{x}<br>Entropy2=%{y}<br>Entropy3=%{z}<extra></extra>\",\"legendgroup\":\"26_female.ply\",\"marker\":{\"color\":\"#EF553B\",\"symbol\":\"circle\"},\"mode\":\"markers\",\"name\":\"26_female.ply\",\"scene\":\"scene\",\"showlegend\":true,\"x\":[18265.24129631916],\"y\":[1654.8948317141671],\"z\":[4.190538894068126],\"type\":\"scatter3d\"},{\"hovertemplate\":\"Names=365_female.ply<br>Entropy1=%{x}<br>Entropy2=%{y}<br>Entropy3=%{z}<extra></extra>\",\"legendgroup\":\"365_female.ply\",\"marker\":{\"color\":\"#00cc96\",\"symbol\":\"circle\"},\"mode\":\"markers\",\"name\":\"365_female.ply\",\"scene\":\"scene\",\"showlegend\":true,\"x\":[18460.814324431274],\"y\":[1505.9957404961065],\"z\":[5.56322146135681],\"type\":\"scatter3d\"},{\"hovertemplate\":\"Names=900_female.ply<br>Entropy1=%{x}<br>Entropy2=%{y}<br>Entropy3=%{z}<extra></extra>\",\"legendgroup\":\"900_female.ply\",\"marker\":{\"color\":\"#ab63fa\",\"symbol\":\"circle\"},\"mode\":\"markers\",\"name\":\"900_female.ply\",\"scene\":\"scene\",\"showlegend\":true,\"x\":[18279.642720742693],\"y\":[1644.234080150204],\"z\":[5.186210830139371],\"type\":\"scatter3d\"},{\"hovertemplate\":\"Names=853_male.ply<br>Entropy1=%{x}<br>Entropy2=%{y}<br>Entropy3=%{z}<extra></extra>\",\"legendgroup\":\"853_male.ply\",\"marker\":{\"color\":\"#FFA15A\",\"symbol\":\"circle\"},\"mode\":\"markers\",\"name\":\"853_male.ply\",\"scene\":\"scene\",\"showlegend\":true,\"x\":[18619.814902645707],\"y\":[1588.3217426398844],\"z\":[5.854509271740104],\"type\":\"scatter3d\"},{\"hovertemplate\":\"Names=362_male.ply<br>Entropy1=%{x}<br>Entropy2=%{y}<br>Entropy3=%{z}<extra></extra>\",\"legendgroup\":\"362_male.ply\",\"marker\":{\"color\":\"#19d3f3\",\"symbol\":\"circle\"},\"mode\":\"markers\",\"name\":\"362_male.ply\",\"scene\":\"scene\",\"showlegend\":true,\"x\":[18346.482394789113],\"y\":[1581.9510405033498],\"z\":[3.8652858967412445],\"type\":\"scatter3d\"},{\"hovertemplate\":\"Names=59_male.ply<br>Entropy1=%{x}<br>Entropy2=%{y}<br>Entropy3=%{z}<extra></extra>\",\"legendgroup\":\"59_male.ply\",\"marker\":{\"color\":\"#FF6692\",\"symbol\":\"circle\"},\"mode\":\"markers\",\"name\":\"59_male.ply\",\"scene\":\"scene\",\"showlegend\":true,\"x\":[18122.59968897464],\"y\":[1531.5410964045432],\"z\":[10.73993771805367],\"type\":\"scatter3d\"},{\"hovertemplate\":\"Names=321_male.ply<br>Entropy1=%{x}<br>Entropy2=%{y}<br>Entropy3=%{z}<extra></extra>\",\"legendgroup\":\"321_male.ply\",\"marker\":{\"color\":\"#B6E880\",\"symbol\":\"circle\"},\"mode\":\"markers\",\"name\":\"321_male.ply\",\"scene\":\"scene\",\"showlegend\":true,\"x\":[18183.983897486334],\"y\":[1460.8432405526598],\"z\":[10.150080637119178],\"type\":\"scatter3d\"},{\"hovertemplate\":\"Names=859_male.ply<br>Entropy1=%{x}<br>Entropy2=%{y}<br>Entropy3=%{z}<extra></extra>\",\"legendgroup\":\"859_male.ply\",\"marker\":{\"color\":\"#FF97FF\",\"symbol\":\"circle\"},\"mode\":\"markers\",\"name\":\"859_male.ply\",\"scene\":\"scene\",\"showlegend\":true,\"x\":[18148.637717699006],\"y\":[1633.1599553326778],\"z\":[6.877894822358899],\"type\":\"scatter3d\"},{\"hovertemplate\":\"Names=365_male.ply<br>Entropy1=%{x}<br>Entropy2=%{y}<br>Entropy3=%{z}<extra></extra>\",\"legendgroup\":\"365_male.ply\",\"marker\":{\"color\":\"#FECB52\",\"symbol\":\"circle\"},\"mode\":\"markers\",\"name\":\"365_male.ply\",\"scene\":\"scene\",\"showlegend\":true,\"x\":[18388.65854259467],\"y\":[1688.6097394753922],\"z\":[4.413536916971578],\"type\":\"scatter3d\"},{\"hovertemplate\":\"Names=739_male.ply<br>Entropy1=%{x}<br>Entropy2=%{y}<br>Entropy3=%{z}<extra></extra>\",\"legendgroup\":\"739_male.ply\",\"marker\":{\"color\":\"#636efa\",\"symbol\":\"circle\"},\"mode\":\"markers\",\"name\":\"739_male.ply\",\"scene\":\"scene\",\"showlegend\":true,\"x\":[18332.316676504088],\"y\":[1779.8302792425316],\"z\":[6.679969622444729],\"type\":\"scatter3d\"},{\"hovertemplate\":\"Names=395_female.ply<br>Entropy1=%{x}<br>Entropy2=%{y}<br>Entropy3=%{z}<extra></extra>\",\"legendgroup\":\"395_female.ply\",\"marker\":{\"color\":\"#EF553B\",\"symbol\":\"circle\"},\"mode\":\"markers\",\"name\":\"395_female.ply\",\"scene\":\"scene\",\"showlegend\":true,\"x\":[18343.12988147669],\"y\":[1781.2911401948736],\"z\":[4.516447529379339],\"type\":\"scatter3d\"},{\"hovertemplate\":\"Names=517_male.ply<br>Entropy1=%{x}<br>Entropy2=%{y}<br>Entropy3=%{z}<extra></extra>\",\"legendgroup\":\"517_male.ply\",\"marker\":{\"color\":\"#00cc96\",\"symbol\":\"circle\"},\"mode\":\"markers\",\"name\":\"517_male.ply\",\"scene\":\"scene\",\"showlegend\":true,\"x\":[18204.27599045069],\"y\":[1758.6415967546397],\"z\":[5.649876237210852],\"type\":\"scatter3d\"},{\"hovertemplate\":\"Names=405_female.ply<br>Entropy1=%{x}<br>Entropy2=%{y}<br>Entropy3=%{z}<extra></extra>\",\"legendgroup\":\"405_female.ply\",\"marker\":{\"color\":\"#ab63fa\",\"symbol\":\"circle\"},\"mode\":\"markers\",\"name\":\"405_female.ply\",\"scene\":\"scene\",\"showlegend\":true,\"x\":[18207.869140920582],\"y\":[1631.9782202500783],\"z\":[7.5571120255067585],\"type\":\"scatter3d\"},{\"hovertemplate\":\"Names=439_male_2.ply<br>Entropy1=%{x}<br>Entropy2=%{y}<br>Entropy3=%{z}<extra></extra>\",\"legendgroup\":\"439_male_2.ply\",\"marker\":{\"color\":\"#FFA15A\",\"symbol\":\"circle\"},\"mode\":\"markers\",\"name\":\"439_male_2.ply\",\"scene\":\"scene\",\"showlegend\":true,\"x\":[18325.45599114058],\"y\":[1834.8809114677829],\"z\":[3.6186414668502245],\"type\":\"scatter3d\"},{\"hovertemplate\":\"Names=796_female.ply<br>Entropy1=%{x}<br>Entropy2=%{y}<br>Entropy3=%{z}<extra></extra>\",\"legendgroup\":\"796_female.ply\",\"marker\":{\"color\":\"#19d3f3\",\"symbol\":\"circle\"},\"mode\":\"markers\",\"name\":\"796_female.ply\",\"scene\":\"scene\",\"showlegend\":true,\"x\":[18290.262438052778],\"y\":[1602.8651731572857],\"z\":[3.8049174273975357],\"type\":\"scatter3d\"},{\"hovertemplate\":\"Names=362_female.ply<br>Entropy1=%{x}<br>Entropy2=%{y}<br>Entropy3=%{z}<extra></extra>\",\"legendgroup\":\"362_female.ply\",\"marker\":{\"color\":\"#FF6692\",\"symbol\":\"circle\"},\"mode\":\"markers\",\"name\":\"362_female.ply\",\"scene\":\"scene\",\"showlegend\":true,\"x\":[17836.840171237607],\"y\":[1577.7316185869493],\"z\":[4.826834645845834],\"type\":\"scatter3d\"},{\"hovertemplate\":\"Names=595_female.ply<br>Entropy1=%{x}<br>Entropy2=%{y}<br>Entropy3=%{z}<extra></extra>\",\"legendgroup\":\"595_female.ply\",\"marker\":{\"color\":\"#B6E880\",\"symbol\":\"circle\"},\"mode\":\"markers\",\"name\":\"595_female.ply\",\"scene\":\"scene\",\"showlegend\":true,\"x\":[17923.410383478295],\"y\":[1817.9004767915737],\"z\":[5.528551409758763],\"type\":\"scatter3d\"},{\"hovertemplate\":\"Names=304_male.ply<br>Entropy1=%{x}<br>Entropy2=%{y}<br>Entropy3=%{z}<extra></extra>\",\"legendgroup\":\"304_male.ply\",\"marker\":{\"color\":\"#FF97FF\",\"symbol\":\"circle\"},\"mode\":\"markers\",\"name\":\"304_male.ply\",\"scene\":\"scene\",\"showlegend\":true,\"x\":[18279.012632317757],\"y\":[1727.2769325820348],\"z\":[11.408193325348583],\"type\":\"scatter3d\"},{\"hovertemplate\":\"Names=787_female.ply<br>Entropy1=%{x}<br>Entropy2=%{y}<br>Entropy3=%{z}<extra></extra>\",\"legendgroup\":\"787_female.ply\",\"marker\":{\"color\":\"#FECB52\",\"symbol\":\"circle\"},\"mode\":\"markers\",\"name\":\"787_female.ply\",\"scene\":\"scene\",\"showlegend\":true,\"x\":[18311.694528495325],\"y\":[1690.4985594445195],\"z\":[5.005041878175446],\"type\":\"scatter3d\"},{\"hovertemplate\":\"Names=peanut<br>Entropy1=%{x}<br>Entropy2=%{y}<br>Entropy3=%{z}<extra></extra>\",\"legendgroup\":\"peanut\",\"marker\":{\"color\":\"#636efa\",\"symbol\":\"circle\"},\"mode\":\"markers\",\"name\":\"peanut\",\"scene\":\"scene\",\"showlegend\":true,\"x\":[15724.883139017342],\"y\":[1453.0718329079461],\"z\":[5.335332622257522],\"type\":\"scatter3d\"},{\"hovertemplate\":\"Names=sphere<br>Entropy1=%{x}<br>Entropy2=%{y}<br>Entropy3=%{z}<extra></extra>\",\"legendgroup\":\"sphere\",\"marker\":{\"color\":\"#EF553B\",\"symbol\":\"circle\"},\"mode\":\"markers\",\"name\":\"sphere\",\"scene\":\"scene\",\"showlegend\":true,\"x\":[6533.935299600258],\"y\":[942.2158326112539],\"z\":[1.4212503750926417],\"type\":\"scatter3d\"},{\"hovertemplate\":\"Names=cylinder<br>Entropy1=%{x}<br>Entropy2=%{y}<br>Entropy3=%{z}<extra></extra>\",\"legendgroup\":\"cylinder\",\"marker\":{\"color\":\"#00cc96\",\"symbol\":\"circle\"},\"mode\":\"markers\",\"name\":\"cylinder\",\"scene\":\"scene\",\"showlegend\":true,\"x\":[5072.557970383153],\"y\":[202.0668473233206],\"z\":[10.259075720875344],\"type\":\"scatter3d\"},{\"hovertemplate\":\"Names=croisant<br>Entropy1=%{x}<br>Entropy2=%{y}<br>Entropy3=%{z}<extra></extra>\",\"legendgroup\":\"croisant\",\"marker\":{\"color\":\"#ab63fa\",\"symbol\":\"circle\"},\"mode\":\"markers\",\"name\":\"croisant\",\"scene\":\"scene\",\"showlegend\":true,\"x\":[14670.854242290352],\"y\":[559.0108373513503],\"z\":[2.8679948010739236],\"type\":\"scatter3d\"}],                        {\"template\":{\"data\":{\"histogram2dcontour\":[{\"type\":\"histogram2dcontour\",\"colorbar\":{\"outlinewidth\":0,\"ticks\":\"\"},\"colorscale\":[[0.0,\"#0d0887\"],[0.1111111111111111,\"#46039f\"],[0.2222222222222222,\"#7201a8\"],[0.3333333333333333,\"#9c179e\"],[0.4444444444444444,\"#bd3786\"],[0.5555555555555556,\"#d8576b\"],[0.6666666666666666,\"#ed7953\"],[0.7777777777777778,\"#fb9f3a\"],[0.8888888888888888,\"#fdca26\"],[1.0,\"#f0f921\"]]}],\"choropleth\":[{\"type\":\"choropleth\",\"colorbar\":{\"outlinewidth\":0,\"ticks\":\"\"}}],\"histogram2d\":[{\"type\":\"histogram2d\",\"colorbar\":{\"outlinewidth\":0,\"ticks\":\"\"},\"colorscale\":[[0.0,\"#0d0887\"],[0.1111111111111111,\"#46039f\"],[0.2222222222222222,\"#7201a8\"],[0.3333333333333333,\"#9c179e\"],[0.4444444444444444,\"#bd3786\"],[0.5555555555555556,\"#d8576b\"],[0.6666666666666666,\"#ed7953\"],[0.7777777777777778,\"#fb9f3a\"],[0.8888888888888888,\"#fdca26\"],[1.0,\"#f0f921\"]]}],\"heatmap\":[{\"type\":\"heatmap\",\"colorbar\":{\"outlinewidth\":0,\"ticks\":\"\"},\"colorscale\":[[0.0,\"#0d0887\"],[0.1111111111111111,\"#46039f\"],[0.2222222222222222,\"#7201a8\"],[0.3333333333333333,\"#9c179e\"],[0.4444444444444444,\"#bd3786\"],[0.5555555555555556,\"#d8576b\"],[0.6666666666666666,\"#ed7953\"],[0.7777777777777778,\"#fb9f3a\"],[0.8888888888888888,\"#fdca26\"],[1.0,\"#f0f921\"]]}],\"heatmapgl\":[{\"type\":\"heatmapgl\",\"colorbar\":{\"outlinewidth\":0,\"ticks\":\"\"},\"colorscale\":[[0.0,\"#0d0887\"],[0.1111111111111111,\"#46039f\"],[0.2222222222222222,\"#7201a8\"],[0.3333333333333333,\"#9c179e\"],[0.4444444444444444,\"#bd3786\"],[0.5555555555555556,\"#d8576b\"],[0.6666666666666666,\"#ed7953\"],[0.7777777777777778,\"#fb9f3a\"],[0.8888888888888888,\"#fdca26\"],[1.0,\"#f0f921\"]]}],\"contourcarpet\":[{\"type\":\"contourcarpet\",\"colorbar\":{\"outlinewidth\":0,\"ticks\":\"\"}}],\"contour\":[{\"type\":\"contour\",\"colorbar\":{\"outlinewidth\":0,\"ticks\":\"\"},\"colorscale\":[[0.0,\"#0d0887\"],[0.1111111111111111,\"#46039f\"],[0.2222222222222222,\"#7201a8\"],[0.3333333333333333,\"#9c179e\"],[0.4444444444444444,\"#bd3786\"],[0.5555555555555556,\"#d8576b\"],[0.6666666666666666,\"#ed7953\"],[0.7777777777777778,\"#fb9f3a\"],[0.8888888888888888,\"#fdca26\"],[1.0,\"#f0f921\"]]}],\"surface\":[{\"type\":\"surface\",\"colorbar\":{\"outlinewidth\":0,\"ticks\":\"\"},\"colorscale\":[[0.0,\"#0d0887\"],[0.1111111111111111,\"#46039f\"],[0.2222222222222222,\"#7201a8\"],[0.3333333333333333,\"#9c179e\"],[0.4444444444444444,\"#bd3786\"],[0.5555555555555556,\"#d8576b\"],[0.6666666666666666,\"#ed7953\"],[0.7777777777777778,\"#fb9f3a\"],[0.8888888888888888,\"#fdca26\"],[1.0,\"#f0f921\"]]}],\"mesh3d\":[{\"type\":\"mesh3d\",\"colorbar\":{\"outlinewidth\":0,\"ticks\":\"\"}}],\"scatter\":[{\"fillpattern\":{\"fillmode\":\"overlay\",\"size\":10,\"solidity\":0.2},\"type\":\"scatter\"}],\"parcoords\":[{\"type\":\"parcoords\",\"line\":{\"colorbar\":{\"outlinewidth\":0,\"ticks\":\"\"}}}],\"scatterpolargl\":[{\"type\":\"scatterpolargl\",\"marker\":{\"colorbar\":{\"outlinewidth\":0,\"ticks\":\"\"}}}],\"bar\":[{\"error_x\":{\"color\":\"#2a3f5f\"},\"error_y\":{\"color\":\"#2a3f5f\"},\"marker\":{\"line\":{\"color\":\"#E5ECF6\",\"width\":0.5},\"pattern\":{\"fillmode\":\"overlay\",\"size\":10,\"solidity\":0.2}},\"type\":\"bar\"}],\"scattergeo\":[{\"type\":\"scattergeo\",\"marker\":{\"colorbar\":{\"outlinewidth\":0,\"ticks\":\"\"}}}],\"scatterpolar\":[{\"type\":\"scatterpolar\",\"marker\":{\"colorbar\":{\"outlinewidth\":0,\"ticks\":\"\"}}}],\"histogram\":[{\"marker\":{\"pattern\":{\"fillmode\":\"overlay\",\"size\":10,\"solidity\":0.2}},\"type\":\"histogram\"}],\"scattergl\":[{\"type\":\"scattergl\",\"marker\":{\"colorbar\":{\"outlinewidth\":0,\"ticks\":\"\"}}}],\"scatter3d\":[{\"type\":\"scatter3d\",\"line\":{\"colorbar\":{\"outlinewidth\":0,\"ticks\":\"\"}},\"marker\":{\"colorbar\":{\"outlinewidth\":0,\"ticks\":\"\"}}}],\"scattermapbox\":[{\"type\":\"scattermapbox\",\"marker\":{\"colorbar\":{\"outlinewidth\":0,\"ticks\":\"\"}}}],\"scatterternary\":[{\"type\":\"scatterternary\",\"marker\":{\"colorbar\":{\"outlinewidth\":0,\"ticks\":\"\"}}}],\"scattercarpet\":[{\"type\":\"scattercarpet\",\"marker\":{\"colorbar\":{\"outlinewidth\":0,\"ticks\":\"\"}}}],\"carpet\":[{\"aaxis\":{\"endlinecolor\":\"#2a3f5f\",\"gridcolor\":\"white\",\"linecolor\":\"white\",\"minorgridcolor\":\"white\",\"startlinecolor\":\"#2a3f5f\"},\"baxis\":{\"endlinecolor\":\"#2a3f5f\",\"gridcolor\":\"white\",\"linecolor\":\"white\",\"minorgridcolor\":\"white\",\"startlinecolor\":\"#2a3f5f\"},\"type\":\"carpet\"}],\"table\":[{\"cells\":{\"fill\":{\"color\":\"#EBF0F8\"},\"line\":{\"color\":\"white\"}},\"header\":{\"fill\":{\"color\":\"#C8D4E3\"},\"line\":{\"color\":\"white\"}},\"type\":\"table\"}],\"barpolar\":[{\"marker\":{\"line\":{\"color\":\"#E5ECF6\",\"width\":0.5},\"pattern\":{\"fillmode\":\"overlay\",\"size\":10,\"solidity\":0.2}},\"type\":\"barpolar\"}],\"pie\":[{\"automargin\":true,\"type\":\"pie\"}]},\"layout\":{\"autotypenumbers\":\"strict\",\"colorway\":[\"#636efa\",\"#EF553B\",\"#00cc96\",\"#ab63fa\",\"#FFA15A\",\"#19d3f3\",\"#FF6692\",\"#B6E880\",\"#FF97FF\",\"#FECB52\"],\"font\":{\"color\":\"#2a3f5f\"},\"hovermode\":\"closest\",\"hoverlabel\":{\"align\":\"left\"},\"paper_bgcolor\":\"white\",\"plot_bgcolor\":\"#E5ECF6\",\"polar\":{\"bgcolor\":\"#E5ECF6\",\"angularaxis\":{\"gridcolor\":\"white\",\"linecolor\":\"white\",\"ticks\":\"\"},\"radialaxis\":{\"gridcolor\":\"white\",\"linecolor\":\"white\",\"ticks\":\"\"}},\"ternary\":{\"bgcolor\":\"#E5ECF6\",\"aaxis\":{\"gridcolor\":\"white\",\"linecolor\":\"white\",\"ticks\":\"\"},\"baxis\":{\"gridcolor\":\"white\",\"linecolor\":\"white\",\"ticks\":\"\"},\"caxis\":{\"gridcolor\":\"white\",\"linecolor\":\"white\",\"ticks\":\"\"}},\"coloraxis\":{\"colorbar\":{\"outlinewidth\":0,\"ticks\":\"\"}},\"colorscale\":{\"sequential\":[[0.0,\"#0d0887\"],[0.1111111111111111,\"#46039f\"],[0.2222222222222222,\"#7201a8\"],[0.3333333333333333,\"#9c179e\"],[0.4444444444444444,\"#bd3786\"],[0.5555555555555556,\"#d8576b\"],[0.6666666666666666,\"#ed7953\"],[0.7777777777777778,\"#fb9f3a\"],[0.8888888888888888,\"#fdca26\"],[1.0,\"#f0f921\"]],\"sequentialminus\":[[0.0,\"#0d0887\"],[0.1111111111111111,\"#46039f\"],[0.2222222222222222,\"#7201a8\"],[0.3333333333333333,\"#9c179e\"],[0.4444444444444444,\"#bd3786\"],[0.5555555555555556,\"#d8576b\"],[0.6666666666666666,\"#ed7953\"],[0.7777777777777778,\"#fb9f3a\"],[0.8888888888888888,\"#fdca26\"],[1.0,\"#f0f921\"]],\"diverging\":[[0,\"#8e0152\"],[0.1,\"#c51b7d\"],[0.2,\"#de77ae\"],[0.3,\"#f1b6da\"],[0.4,\"#fde0ef\"],[0.5,\"#f7f7f7\"],[0.6,\"#e6f5d0\"],[0.7,\"#b8e186\"],[0.8,\"#7fbc41\"],[0.9,\"#4d9221\"],[1,\"#276419\"]]},\"xaxis\":{\"gridcolor\":\"white\",\"linecolor\":\"white\",\"ticks\":\"\",\"title\":{\"standoff\":15},\"zerolinecolor\":\"white\",\"automargin\":true,\"zerolinewidth\":2},\"yaxis\":{\"gridcolor\":\"white\",\"linecolor\":\"white\",\"ticks\":\"\",\"title\":{\"standoff\":15},\"zerolinecolor\":\"white\",\"automargin\":true,\"zerolinewidth\":2},\"scene\":{\"xaxis\":{\"backgroundcolor\":\"#E5ECF6\",\"gridcolor\":\"white\",\"linecolor\":\"white\",\"showbackground\":true,\"ticks\":\"\",\"zerolinecolor\":\"white\",\"gridwidth\":2},\"yaxis\":{\"backgroundcolor\":\"#E5ECF6\",\"gridcolor\":\"white\",\"linecolor\":\"white\",\"showbackground\":true,\"ticks\":\"\",\"zerolinecolor\":\"white\",\"gridwidth\":2},\"zaxis\":{\"backgroundcolor\":\"#E5ECF6\",\"gridcolor\":\"white\",\"linecolor\":\"white\",\"showbackground\":true,\"ticks\":\"\",\"zerolinecolor\":\"white\",\"gridwidth\":2}},\"shapedefaults\":{\"line\":{\"color\":\"#2a3f5f\"}},\"annotationdefaults\":{\"arrowcolor\":\"#2a3f5f\",\"arrowhead\":0,\"arrowwidth\":1},\"geo\":{\"bgcolor\":\"white\",\"landcolor\":\"#E5ECF6\",\"subunitcolor\":\"white\",\"showland\":true,\"showlakes\":true,\"lakecolor\":\"white\"},\"title\":{\"x\":0.05},\"mapbox\":{\"style\":\"light\"}}},\"scene\":{\"domain\":{\"x\":[0.0,1.0],\"y\":[0.0,1.0]},\"xaxis\":{\"title\":{\"text\":\"Entropy1\"}},\"yaxis\":{\"title\":{\"text\":\"Entropy2\"}},\"zaxis\":{\"title\":{\"text\":\"Entropy3\"}}},\"legend\":{\"title\":{\"text\":\"Names\"},\"tracegroupgap\":0},\"margin\":{\"t\":60}},                        {\"responsive\": true}                    ).then(function(){\n",
       "                            \n",
       "var gd = document.getElementById('472bc5ce-79fe-48be-a404-2c39bd399021');\n",
       "var x = new MutationObserver(function (mutations, observer) {{\n",
       "        var display = window.getComputedStyle(gd).display;\n",
       "        if (!display || display === 'none') {{\n",
       "            console.log([gd, 'removed!']);\n",
       "            Plotly.purge(gd);\n",
       "            observer.disconnect();\n",
       "        }}\n",
       "}});\n",
       "\n",
       "// Listen for the removal of the full notebook cells\n",
       "var notebookContainer = gd.closest('#notebook-container');\n",
       "if (notebookContainer) {{\n",
       "    x.observe(notebookContainer, {childList: true});\n",
       "}}\n",
       "\n",
       "// Listen for the clearing of the current output cell\n",
       "var outputEl = gd.closest('.output');\n",
       "if (outputEl) {{\n",
       "    x.observe(outputEl, {childList: true});\n",
       "}}\n",
       "\n",
       "                        })                };                });            </script>        </div>"
      ]
     },
     "metadata": {},
     "output_type": "display_data"
    }
   ],
   "source": [
    "import plotly.express as px\n",
    "\n",
    "fig = px.scatter_3d(df2, x='Entropy1', y='Entropy2', z='Entropy3', color='Names')\n",
    "fig.show()"
   ]
  },
  {
   "cell_type": "code",
   "execution_count": 30,
   "id": "33d1cc54",
   "metadata": {},
   "outputs": [
    {
     "data": {
      "text/plain": [
       "PersistenceEntropy()"
      ]
     },
     "execution_count": 30,
     "metadata": {},
     "output_type": "execute_result"
    }
   ],
   "source": [
    "PE"
   ]
  },
  {
   "cell_type": "code",
   "execution_count": 31,
   "id": "1aad0d0d",
   "metadata": {},
   "outputs": [],
   "source": [
    "PE_X = np.array([[9.82027879, 7.46868098, 1.2074247 ],\n",
    "       [9.82275687, 7.38500095, 1.47979616],\n",
    "       [9.8140593 , 7.33074124, 1.25749965],\n",
    "       [9.81906141, 7.40960017, 1.63268977],\n",
    "       [9.81576401, 7.50494039, 1.88439233],\n",
    "       [9.81261865, 7.46265608, 1.85150513],\n",
    "       [9.83508141, 7.34770496, 1.80602032],\n",
    "       [9.8245328 , 7.56247448, 1.32849086],\n",
    "       [9.81448857, 7.47247961, 1.52253721],\n",
    "       [9.79925092, 7.31689832, 2.06688141],\n",
    "       [9.80486463, 7.41738688, 2.64026878],\n",
    "       [9.82180028, 7.39751705, 1.42904619],\n",
    "       [9.81918856, 7.32592312, 1.58579437],\n",
    "       [9.82386711, 7.38322296, 2.44156809],\n",
    "       [9.82648781, 7.45809361, 1.96676235],\n",
    "       [9.82342342, 7.38969619, 1.40184243],\n",
    "       [9.80014728, 7.5705397 , 1.91827951],\n",
    "       [9.81099179, 7.43702728, 2.37414987],\n",
    "       [9.82880363, 7.47571608, 1.10212667],\n",
    "       [9.78761771, 7.36716618, 1.08096558],\n",
    "       [9.80955846, 7.45127795, 1.78389491],\n",
    "       [9.81275515, 7.41149274, 1.43282934],\n",
    "       [9.82340562, 7.31720958, 1.71617734],\n",
    "       [9.8135433 , 7.40502995, 1.64600334],\n",
    "       [9.83198161, 7.37043323, 1.76721218],\n",
    "       [9.81719314, 7.3664142 , 1.35203565],\n",
    "       [9.80491504, 7.33402976, 2.37396929],\n",
    "       [9.80829648, 7.28676911, 2.31748165],\n",
    "       [9.80635078, 7.39827204, 1.92831262],\n",
    "       [9.81948937, 7.43166083, 1.48467639],\n",
    "       [9.81642072, 7.48427329, 1.89911344],\n",
    "       [9.81701039, 7.48509374, 1.50772574],\n",
    "       [9.80941179, 7.47229697, 1.73163364],\n",
    "       [9.80960915, 7.39754819, 2.02248911],\n",
    "       [9.81604641, 7.51473486, 1.28609867],\n",
    "       [9.81412409, 7.37954804, 1.33629429],\n",
    "       [9.78902127, 7.36374341, 1.5741909 ],\n",
    "       [9.79386298, 7.50543753, 1.70992583],\n",
    "       [9.81350883, 7.45430142, 2.43433181],\n",
    "       [9.81529518, 7.43277877, 1.61044578],\n",
    "       [9.66299965, 7.2814351,  1.67435123],\n",
    "       [8.78476469, 6.84823437, 0.35153703],\n",
    "       [8.5316005,  5.30859857, 2.32816275],\n",
    "       [9.5936181,  6.32616886, 1.05361311]])\n"
   ]
  },
  {
   "cell_type": "code",
   "execution_count": null,
   "id": "5d8a0e98",
   "metadata": {},
   "outputs": [],
   "source": [
    "np.array(PE)"
   ]
  },
  {
   "cell_type": "code",
   "execution_count": null,
   "id": "74166722",
   "metadata": {},
   "outputs": [],
   "source": [
    "import plotly.express as pltl"
   ]
  },
  {
   "cell_type": "code",
   "execution_count": null,
   "id": "67f87822",
   "metadata": {},
   "outputs": [],
   "source": [
    "from gtda.diagrams import PersistenceEntropy\n",
    "from gtda.plotting import plot_point_cloud\n",
    "#\n",
    "\n",
    "fig = plot_point_cloud(PE)\n",
    "fig.show()\n"
   ]
  },
  {
   "cell_type": "code",
   "execution_count": 53,
   "id": "cfa00824",
   "metadata": {},
   "outputs": [],
   "source": [
    "import pandas as pd"
   ]
  },
  {
   "cell_type": "code",
   "execution_count": 55,
   "id": "19b88b88",
   "metadata": {},
   "outputs": [],
   "source": [
    "df = pd.DataFrame(PE_X)"
   ]
  },
  {
   "cell_type": "code",
   "execution_count": 56,
   "id": "d108e752",
   "metadata": {},
   "outputs": [],
   "source": [
    "df.columns=['Entropy1', \"Entropy2\", \"Entropy3\"]"
   ]
  },
  {
   "cell_type": "code",
   "execution_count": 57,
   "id": "4947f772",
   "metadata": {},
   "outputs": [
    {
     "data": {
      "text/plain": [
       "44"
      ]
     },
     "execution_count": 57,
     "metadata": {},
     "output_type": "execute_result"
    }
   ],
   "source": [
    "len(df)"
   ]
  },
  {
   "cell_type": "code",
   "execution_count": 58,
   "id": "81853115",
   "metadata": {},
   "outputs": [],
   "source": [
    "df[\"Names\"] = arr"
   ]
  },
  {
   "cell_type": "code",
   "execution_count": 157,
   "id": "6c40ade4",
   "metadata": {},
   "outputs": [
    {
     "data": {
      "application/vnd.plotly.v1+json": {
       "config": {
        "plotlyServerURL": "https://plot.ly"
       },
       "data": [
        {
         "hovertemplate": "Entropy1=%{x}<br>Entropy2=%{y}<br>Entropy3=%{z}<extra></extra>",
         "legendgroup": "",
         "marker": {
          "color": "#636efa",
          "symbol": "circle"
         },
         "mode": "markers",
         "name": "",
         "scene": "scene",
         "showlegend": false,
         "type": "scatter3d",
         "x": [
          9.82027879,
          9.82275687,
          9.8140593,
          9.81906141,
          9.81576401,
          9.81261865,
          9.83508141,
          9.8245328,
          9.81448857,
          9.79925092,
          9.80486463,
          9.82180028,
          9.81918856,
          9.82386711,
          9.82648781,
          9.82342342,
          9.80014728,
          9.81099179,
          9.82880363,
          9.78761771,
          9.80955846,
          9.81275515,
          9.82340562,
          9.8135433,
          9.83198161,
          9.81719314,
          9.80491504,
          9.80829648,
          9.80635078,
          9.81948937,
          9.81642072,
          9.81701039,
          9.80941179,
          9.80960915,
          9.81604641,
          9.81412409,
          9.78902127,
          9.79386298,
          9.81350883,
          9.81529518,
          9.66299965,
          8.78476469,
          8.5316005,
          9.5936181
         ],
         "y": [
          7.46868098,
          7.38500095,
          7.33074124,
          7.40960017,
          7.50494039,
          7.46265608,
          7.34770496,
          7.56247448,
          7.47247961,
          7.31689832,
          7.41738688,
          7.39751705,
          7.32592312,
          7.38322296,
          7.45809361,
          7.38969619,
          7.5705397,
          7.43702728,
          7.47571608,
          7.36716618,
          7.45127795,
          7.41149274,
          7.31720958,
          7.40502995,
          7.37043323,
          7.3664142,
          7.33402976,
          7.28676911,
          7.39827204,
          7.43166083,
          7.48427329,
          7.48509374,
          7.47229697,
          7.39754819,
          7.51473486,
          7.37954804,
          7.36374341,
          7.50543753,
          7.45430142,
          7.43277877,
          7.2814351,
          6.84823437,
          5.30859857,
          6.32616886
         ],
         "z": [
          1.2074247,
          1.47979616,
          1.25749965,
          1.63268977,
          1.88439233,
          1.85150513,
          1.80602032,
          1.32849086,
          1.52253721,
          2.06688141,
          2.64026878,
          1.42904619,
          1.58579437,
          2.44156809,
          1.96676235,
          1.40184243,
          1.91827951,
          2.37414987,
          1.10212667,
          1.08096558,
          1.78389491,
          1.43282934,
          1.71617734,
          1.64600334,
          1.76721218,
          1.35203565,
          2.37396929,
          2.31748165,
          1.92831262,
          1.48467639,
          1.89911344,
          1.50772574,
          1.73163364,
          2.02248911,
          1.28609867,
          1.33629429,
          1.5741909,
          1.70992583,
          2.43433181,
          1.61044578,
          1.67435123,
          0.35153703,
          2.32816275,
          1.05361311
         ]
        }
       ],
       "layout": {
        "legend": {
         "tracegroupgap": 0
        },
        "margin": {
         "t": 60
        },
        "scene": {
         "domain": {
          "x": [
           0,
           1
          ],
          "y": [
           0,
           1
          ]
         },
         "xaxis": {
          "title": {
           "text": "Entropy1"
          }
         },
         "yaxis": {
          "title": {
           "text": "Entropy2"
          }
         },
         "zaxis": {
          "title": {
           "text": "Entropy3"
          }
         }
        },
        "template": {
         "data": {
          "bar": [
           {
            "error_x": {
             "color": "#2a3f5f"
            },
            "error_y": {
             "color": "#2a3f5f"
            },
            "marker": {
             "line": {
              "color": "#E5ECF6",
              "width": 0.5
             },
             "pattern": {
              "fillmode": "overlay",
              "size": 10,
              "solidity": 0.2
             }
            },
            "type": "bar"
           }
          ],
          "barpolar": [
           {
            "marker": {
             "line": {
              "color": "#E5ECF6",
              "width": 0.5
             },
             "pattern": {
              "fillmode": "overlay",
              "size": 10,
              "solidity": 0.2
             }
            },
            "type": "barpolar"
           }
          ],
          "carpet": [
           {
            "aaxis": {
             "endlinecolor": "#2a3f5f",
             "gridcolor": "white",
             "linecolor": "white",
             "minorgridcolor": "white",
             "startlinecolor": "#2a3f5f"
            },
            "baxis": {
             "endlinecolor": "#2a3f5f",
             "gridcolor": "white",
             "linecolor": "white",
             "minorgridcolor": "white",
             "startlinecolor": "#2a3f5f"
            },
            "type": "carpet"
           }
          ],
          "choropleth": [
           {
            "colorbar": {
             "outlinewidth": 0,
             "ticks": ""
            },
            "type": "choropleth"
           }
          ],
          "contour": [
           {
            "colorbar": {
             "outlinewidth": 0,
             "ticks": ""
            },
            "colorscale": [
             [
              0,
              "#0d0887"
             ],
             [
              0.1111111111111111,
              "#46039f"
             ],
             [
              0.2222222222222222,
              "#7201a8"
             ],
             [
              0.3333333333333333,
              "#9c179e"
             ],
             [
              0.4444444444444444,
              "#bd3786"
             ],
             [
              0.5555555555555556,
              "#d8576b"
             ],
             [
              0.6666666666666666,
              "#ed7953"
             ],
             [
              0.7777777777777778,
              "#fb9f3a"
             ],
             [
              0.8888888888888888,
              "#fdca26"
             ],
             [
              1,
              "#f0f921"
             ]
            ],
            "type": "contour"
           }
          ],
          "contourcarpet": [
           {
            "colorbar": {
             "outlinewidth": 0,
             "ticks": ""
            },
            "type": "contourcarpet"
           }
          ],
          "heatmap": [
           {
            "colorbar": {
             "outlinewidth": 0,
             "ticks": ""
            },
            "colorscale": [
             [
              0,
              "#0d0887"
             ],
             [
              0.1111111111111111,
              "#46039f"
             ],
             [
              0.2222222222222222,
              "#7201a8"
             ],
             [
              0.3333333333333333,
              "#9c179e"
             ],
             [
              0.4444444444444444,
              "#bd3786"
             ],
             [
              0.5555555555555556,
              "#d8576b"
             ],
             [
              0.6666666666666666,
              "#ed7953"
             ],
             [
              0.7777777777777778,
              "#fb9f3a"
             ],
             [
              0.8888888888888888,
              "#fdca26"
             ],
             [
              1,
              "#f0f921"
             ]
            ],
            "type": "heatmap"
           }
          ],
          "heatmapgl": [
           {
            "colorbar": {
             "outlinewidth": 0,
             "ticks": ""
            },
            "colorscale": [
             [
              0,
              "#0d0887"
             ],
             [
              0.1111111111111111,
              "#46039f"
             ],
             [
              0.2222222222222222,
              "#7201a8"
             ],
             [
              0.3333333333333333,
              "#9c179e"
             ],
             [
              0.4444444444444444,
              "#bd3786"
             ],
             [
              0.5555555555555556,
              "#d8576b"
             ],
             [
              0.6666666666666666,
              "#ed7953"
             ],
             [
              0.7777777777777778,
              "#fb9f3a"
             ],
             [
              0.8888888888888888,
              "#fdca26"
             ],
             [
              1,
              "#f0f921"
             ]
            ],
            "type": "heatmapgl"
           }
          ],
          "histogram": [
           {
            "marker": {
             "pattern": {
              "fillmode": "overlay",
              "size": 10,
              "solidity": 0.2
             }
            },
            "type": "histogram"
           }
          ],
          "histogram2d": [
           {
            "colorbar": {
             "outlinewidth": 0,
             "ticks": ""
            },
            "colorscale": [
             [
              0,
              "#0d0887"
             ],
             [
              0.1111111111111111,
              "#46039f"
             ],
             [
              0.2222222222222222,
              "#7201a8"
             ],
             [
              0.3333333333333333,
              "#9c179e"
             ],
             [
              0.4444444444444444,
              "#bd3786"
             ],
             [
              0.5555555555555556,
              "#d8576b"
             ],
             [
              0.6666666666666666,
              "#ed7953"
             ],
             [
              0.7777777777777778,
              "#fb9f3a"
             ],
             [
              0.8888888888888888,
              "#fdca26"
             ],
             [
              1,
              "#f0f921"
             ]
            ],
            "type": "histogram2d"
           }
          ],
          "histogram2dcontour": [
           {
            "colorbar": {
             "outlinewidth": 0,
             "ticks": ""
            },
            "colorscale": [
             [
              0,
              "#0d0887"
             ],
             [
              0.1111111111111111,
              "#46039f"
             ],
             [
              0.2222222222222222,
              "#7201a8"
             ],
             [
              0.3333333333333333,
              "#9c179e"
             ],
             [
              0.4444444444444444,
              "#bd3786"
             ],
             [
              0.5555555555555556,
              "#d8576b"
             ],
             [
              0.6666666666666666,
              "#ed7953"
             ],
             [
              0.7777777777777778,
              "#fb9f3a"
             ],
             [
              0.8888888888888888,
              "#fdca26"
             ],
             [
              1,
              "#f0f921"
             ]
            ],
            "type": "histogram2dcontour"
           }
          ],
          "mesh3d": [
           {
            "colorbar": {
             "outlinewidth": 0,
             "ticks": ""
            },
            "type": "mesh3d"
           }
          ],
          "parcoords": [
           {
            "line": {
             "colorbar": {
              "outlinewidth": 0,
              "ticks": ""
             }
            },
            "type": "parcoords"
           }
          ],
          "pie": [
           {
            "automargin": true,
            "type": "pie"
           }
          ],
          "scatter": [
           {
            "fillpattern": {
             "fillmode": "overlay",
             "size": 10,
             "solidity": 0.2
            },
            "type": "scatter"
           }
          ],
          "scatter3d": [
           {
            "line": {
             "colorbar": {
              "outlinewidth": 0,
              "ticks": ""
             }
            },
            "marker": {
             "colorbar": {
              "outlinewidth": 0,
              "ticks": ""
             }
            },
            "type": "scatter3d"
           }
          ],
          "scattercarpet": [
           {
            "marker": {
             "colorbar": {
              "outlinewidth": 0,
              "ticks": ""
             }
            },
            "type": "scattercarpet"
           }
          ],
          "scattergeo": [
           {
            "marker": {
             "colorbar": {
              "outlinewidth": 0,
              "ticks": ""
             }
            },
            "type": "scattergeo"
           }
          ],
          "scattergl": [
           {
            "marker": {
             "colorbar": {
              "outlinewidth": 0,
              "ticks": ""
             }
            },
            "type": "scattergl"
           }
          ],
          "scattermapbox": [
           {
            "marker": {
             "colorbar": {
              "outlinewidth": 0,
              "ticks": ""
             }
            },
            "type": "scattermapbox"
           }
          ],
          "scatterpolar": [
           {
            "marker": {
             "colorbar": {
              "outlinewidth": 0,
              "ticks": ""
             }
            },
            "type": "scatterpolar"
           }
          ],
          "scatterpolargl": [
           {
            "marker": {
             "colorbar": {
              "outlinewidth": 0,
              "ticks": ""
             }
            },
            "type": "scatterpolargl"
           }
          ],
          "scatterternary": [
           {
            "marker": {
             "colorbar": {
              "outlinewidth": 0,
              "ticks": ""
             }
            },
            "type": "scatterternary"
           }
          ],
          "surface": [
           {
            "colorbar": {
             "outlinewidth": 0,
             "ticks": ""
            },
            "colorscale": [
             [
              0,
              "#0d0887"
             ],
             [
              0.1111111111111111,
              "#46039f"
             ],
             [
              0.2222222222222222,
              "#7201a8"
             ],
             [
              0.3333333333333333,
              "#9c179e"
             ],
             [
              0.4444444444444444,
              "#bd3786"
             ],
             [
              0.5555555555555556,
              "#d8576b"
             ],
             [
              0.6666666666666666,
              "#ed7953"
             ],
             [
              0.7777777777777778,
              "#fb9f3a"
             ],
             [
              0.8888888888888888,
              "#fdca26"
             ],
             [
              1,
              "#f0f921"
             ]
            ],
            "type": "surface"
           }
          ],
          "table": [
           {
            "cells": {
             "fill": {
              "color": "#EBF0F8"
             },
             "line": {
              "color": "white"
             }
            },
            "header": {
             "fill": {
              "color": "#C8D4E3"
             },
             "line": {
              "color": "white"
             }
            },
            "type": "table"
           }
          ]
         },
         "layout": {
          "annotationdefaults": {
           "arrowcolor": "#2a3f5f",
           "arrowhead": 0,
           "arrowwidth": 1
          },
          "autotypenumbers": "strict",
          "coloraxis": {
           "colorbar": {
            "outlinewidth": 0,
            "ticks": ""
           }
          },
          "colorscale": {
           "diverging": [
            [
             0,
             "#8e0152"
            ],
            [
             0.1,
             "#c51b7d"
            ],
            [
             0.2,
             "#de77ae"
            ],
            [
             0.3,
             "#f1b6da"
            ],
            [
             0.4,
             "#fde0ef"
            ],
            [
             0.5,
             "#f7f7f7"
            ],
            [
             0.6,
             "#e6f5d0"
            ],
            [
             0.7,
             "#b8e186"
            ],
            [
             0.8,
             "#7fbc41"
            ],
            [
             0.9,
             "#4d9221"
            ],
            [
             1,
             "#276419"
            ]
           ],
           "sequential": [
            [
             0,
             "#0d0887"
            ],
            [
             0.1111111111111111,
             "#46039f"
            ],
            [
             0.2222222222222222,
             "#7201a8"
            ],
            [
             0.3333333333333333,
             "#9c179e"
            ],
            [
             0.4444444444444444,
             "#bd3786"
            ],
            [
             0.5555555555555556,
             "#d8576b"
            ],
            [
             0.6666666666666666,
             "#ed7953"
            ],
            [
             0.7777777777777778,
             "#fb9f3a"
            ],
            [
             0.8888888888888888,
             "#fdca26"
            ],
            [
             1,
             "#f0f921"
            ]
           ],
           "sequentialminus": [
            [
             0,
             "#0d0887"
            ],
            [
             0.1111111111111111,
             "#46039f"
            ],
            [
             0.2222222222222222,
             "#7201a8"
            ],
            [
             0.3333333333333333,
             "#9c179e"
            ],
            [
             0.4444444444444444,
             "#bd3786"
            ],
            [
             0.5555555555555556,
             "#d8576b"
            ],
            [
             0.6666666666666666,
             "#ed7953"
            ],
            [
             0.7777777777777778,
             "#fb9f3a"
            ],
            [
             0.8888888888888888,
             "#fdca26"
            ],
            [
             1,
             "#f0f921"
            ]
           ]
          },
          "colorway": [
           "#636efa",
           "#EF553B",
           "#00cc96",
           "#ab63fa",
           "#FFA15A",
           "#19d3f3",
           "#FF6692",
           "#B6E880",
           "#FF97FF",
           "#FECB52"
          ],
          "font": {
           "color": "#2a3f5f"
          },
          "geo": {
           "bgcolor": "white",
           "lakecolor": "white",
           "landcolor": "#E5ECF6",
           "showlakes": true,
           "showland": true,
           "subunitcolor": "white"
          },
          "hoverlabel": {
           "align": "left"
          },
          "hovermode": "closest",
          "mapbox": {
           "style": "light"
          },
          "paper_bgcolor": "white",
          "plot_bgcolor": "#E5ECF6",
          "polar": {
           "angularaxis": {
            "gridcolor": "white",
            "linecolor": "white",
            "ticks": ""
           },
           "bgcolor": "#E5ECF6",
           "radialaxis": {
            "gridcolor": "white",
            "linecolor": "white",
            "ticks": ""
           }
          },
          "scene": {
           "xaxis": {
            "backgroundcolor": "#E5ECF6",
            "gridcolor": "white",
            "gridwidth": 2,
            "linecolor": "white",
            "showbackground": true,
            "ticks": "",
            "zerolinecolor": "white"
           },
           "yaxis": {
            "backgroundcolor": "#E5ECF6",
            "gridcolor": "white",
            "gridwidth": 2,
            "linecolor": "white",
            "showbackground": true,
            "ticks": "",
            "zerolinecolor": "white"
           },
           "zaxis": {
            "backgroundcolor": "#E5ECF6",
            "gridcolor": "white",
            "gridwidth": 2,
            "linecolor": "white",
            "showbackground": true,
            "ticks": "",
            "zerolinecolor": "white"
           }
          },
          "shapedefaults": {
           "line": {
            "color": "#2a3f5f"
           }
          },
          "ternary": {
           "aaxis": {
            "gridcolor": "white",
            "linecolor": "white",
            "ticks": ""
           },
           "baxis": {
            "gridcolor": "white",
            "linecolor": "white",
            "ticks": ""
           },
           "bgcolor": "#E5ECF6",
           "caxis": {
            "gridcolor": "white",
            "linecolor": "white",
            "ticks": ""
           }
          },
          "title": {
           "x": 0.05
          },
          "xaxis": {
           "automargin": true,
           "gridcolor": "white",
           "linecolor": "white",
           "ticks": "",
           "title": {
            "standoff": 15
           },
           "zerolinecolor": "white",
           "zerolinewidth": 2
          },
          "yaxis": {
           "automargin": true,
           "gridcolor": "white",
           "linecolor": "white",
           "ticks": "",
           "title": {
            "standoff": 15
           },
           "zerolinecolor": "white",
           "zerolinewidth": 2
          }
         }
        }
       }
      },
      "text/html": [
       "<div>                            <div id=\"2bfd69ad-a1c2-4ea1-b06a-0bb0b6b6b80d\" class=\"plotly-graph-div\" style=\"height:525px; width:100%;\"></div>            <script type=\"text/javascript\">                require([\"plotly\"], function(Plotly) {                    window.PLOTLYENV=window.PLOTLYENV || {};                                    if (document.getElementById(\"2bfd69ad-a1c2-4ea1-b06a-0bb0b6b6b80d\")) {                    Plotly.newPlot(                        \"2bfd69ad-a1c2-4ea1-b06a-0bb0b6b6b80d\",                        [{\"hovertemplate\":\"Entropy1=%{x}<br>Entropy2=%{y}<br>Entropy3=%{z}<extra></extra>\",\"legendgroup\":\"\",\"marker\":{\"color\":\"#636efa\",\"symbol\":\"circle\"},\"mode\":\"markers\",\"name\":\"\",\"scene\":\"scene\",\"showlegend\":false,\"x\":[9.82027879,9.82275687,9.8140593,9.81906141,9.81576401,9.81261865,9.83508141,9.8245328,9.81448857,9.79925092,9.80486463,9.82180028,9.81918856,9.82386711,9.82648781,9.82342342,9.80014728,9.81099179,9.82880363,9.78761771,9.80955846,9.81275515,9.82340562,9.8135433,9.83198161,9.81719314,9.80491504,9.80829648,9.80635078,9.81948937,9.81642072,9.81701039,9.80941179,9.80960915,9.81604641,9.81412409,9.78902127,9.79386298,9.81350883,9.81529518,9.66299965,8.78476469,8.5316005,9.5936181],\"y\":[7.46868098,7.38500095,7.33074124,7.40960017,7.50494039,7.46265608,7.34770496,7.56247448,7.47247961,7.31689832,7.41738688,7.39751705,7.32592312,7.38322296,7.45809361,7.38969619,7.5705397,7.43702728,7.47571608,7.36716618,7.45127795,7.41149274,7.31720958,7.40502995,7.37043323,7.3664142,7.33402976,7.28676911,7.39827204,7.43166083,7.48427329,7.48509374,7.47229697,7.39754819,7.51473486,7.37954804,7.36374341,7.50543753,7.45430142,7.43277877,7.2814351,6.84823437,5.30859857,6.32616886],\"z\":[1.2074247,1.47979616,1.25749965,1.63268977,1.88439233,1.85150513,1.80602032,1.32849086,1.52253721,2.06688141,2.64026878,1.42904619,1.58579437,2.44156809,1.96676235,1.40184243,1.91827951,2.37414987,1.10212667,1.08096558,1.78389491,1.43282934,1.71617734,1.64600334,1.76721218,1.35203565,2.37396929,2.31748165,1.92831262,1.48467639,1.89911344,1.50772574,1.73163364,2.02248911,1.28609867,1.33629429,1.5741909,1.70992583,2.43433181,1.61044578,1.67435123,0.35153703,2.32816275,1.05361311],\"type\":\"scatter3d\"}],                        {\"template\":{\"data\":{\"histogram2dcontour\":[{\"type\":\"histogram2dcontour\",\"colorbar\":{\"outlinewidth\":0,\"ticks\":\"\"},\"colorscale\":[[0.0,\"#0d0887\"],[0.1111111111111111,\"#46039f\"],[0.2222222222222222,\"#7201a8\"],[0.3333333333333333,\"#9c179e\"],[0.4444444444444444,\"#bd3786\"],[0.5555555555555556,\"#d8576b\"],[0.6666666666666666,\"#ed7953\"],[0.7777777777777778,\"#fb9f3a\"],[0.8888888888888888,\"#fdca26\"],[1.0,\"#f0f921\"]]}],\"choropleth\":[{\"type\":\"choropleth\",\"colorbar\":{\"outlinewidth\":0,\"ticks\":\"\"}}],\"histogram2d\":[{\"type\":\"histogram2d\",\"colorbar\":{\"outlinewidth\":0,\"ticks\":\"\"},\"colorscale\":[[0.0,\"#0d0887\"],[0.1111111111111111,\"#46039f\"],[0.2222222222222222,\"#7201a8\"],[0.3333333333333333,\"#9c179e\"],[0.4444444444444444,\"#bd3786\"],[0.5555555555555556,\"#d8576b\"],[0.6666666666666666,\"#ed7953\"],[0.7777777777777778,\"#fb9f3a\"],[0.8888888888888888,\"#fdca26\"],[1.0,\"#f0f921\"]]}],\"heatmap\":[{\"type\":\"heatmap\",\"colorbar\":{\"outlinewidth\":0,\"ticks\":\"\"},\"colorscale\":[[0.0,\"#0d0887\"],[0.1111111111111111,\"#46039f\"],[0.2222222222222222,\"#7201a8\"],[0.3333333333333333,\"#9c179e\"],[0.4444444444444444,\"#bd3786\"],[0.5555555555555556,\"#d8576b\"],[0.6666666666666666,\"#ed7953\"],[0.7777777777777778,\"#fb9f3a\"],[0.8888888888888888,\"#fdca26\"],[1.0,\"#f0f921\"]]}],\"heatmapgl\":[{\"type\":\"heatmapgl\",\"colorbar\":{\"outlinewidth\":0,\"ticks\":\"\"},\"colorscale\":[[0.0,\"#0d0887\"],[0.1111111111111111,\"#46039f\"],[0.2222222222222222,\"#7201a8\"],[0.3333333333333333,\"#9c179e\"],[0.4444444444444444,\"#bd3786\"],[0.5555555555555556,\"#d8576b\"],[0.6666666666666666,\"#ed7953\"],[0.7777777777777778,\"#fb9f3a\"],[0.8888888888888888,\"#fdca26\"],[1.0,\"#f0f921\"]]}],\"contourcarpet\":[{\"type\":\"contourcarpet\",\"colorbar\":{\"outlinewidth\":0,\"ticks\":\"\"}}],\"contour\":[{\"type\":\"contour\",\"colorbar\":{\"outlinewidth\":0,\"ticks\":\"\"},\"colorscale\":[[0.0,\"#0d0887\"],[0.1111111111111111,\"#46039f\"],[0.2222222222222222,\"#7201a8\"],[0.3333333333333333,\"#9c179e\"],[0.4444444444444444,\"#bd3786\"],[0.5555555555555556,\"#d8576b\"],[0.6666666666666666,\"#ed7953\"],[0.7777777777777778,\"#fb9f3a\"],[0.8888888888888888,\"#fdca26\"],[1.0,\"#f0f921\"]]}],\"surface\":[{\"type\":\"surface\",\"colorbar\":{\"outlinewidth\":0,\"ticks\":\"\"},\"colorscale\":[[0.0,\"#0d0887\"],[0.1111111111111111,\"#46039f\"],[0.2222222222222222,\"#7201a8\"],[0.3333333333333333,\"#9c179e\"],[0.4444444444444444,\"#bd3786\"],[0.5555555555555556,\"#d8576b\"],[0.6666666666666666,\"#ed7953\"],[0.7777777777777778,\"#fb9f3a\"],[0.8888888888888888,\"#fdca26\"],[1.0,\"#f0f921\"]]}],\"mesh3d\":[{\"type\":\"mesh3d\",\"colorbar\":{\"outlinewidth\":0,\"ticks\":\"\"}}],\"scatter\":[{\"fillpattern\":{\"fillmode\":\"overlay\",\"size\":10,\"solidity\":0.2},\"type\":\"scatter\"}],\"parcoords\":[{\"type\":\"parcoords\",\"line\":{\"colorbar\":{\"outlinewidth\":0,\"ticks\":\"\"}}}],\"scatterpolargl\":[{\"type\":\"scatterpolargl\",\"marker\":{\"colorbar\":{\"outlinewidth\":0,\"ticks\":\"\"}}}],\"bar\":[{\"error_x\":{\"color\":\"#2a3f5f\"},\"error_y\":{\"color\":\"#2a3f5f\"},\"marker\":{\"line\":{\"color\":\"#E5ECF6\",\"width\":0.5},\"pattern\":{\"fillmode\":\"overlay\",\"size\":10,\"solidity\":0.2}},\"type\":\"bar\"}],\"scattergeo\":[{\"type\":\"scattergeo\",\"marker\":{\"colorbar\":{\"outlinewidth\":0,\"ticks\":\"\"}}}],\"scatterpolar\":[{\"type\":\"scatterpolar\",\"marker\":{\"colorbar\":{\"outlinewidth\":0,\"ticks\":\"\"}}}],\"histogram\":[{\"marker\":{\"pattern\":{\"fillmode\":\"overlay\",\"size\":10,\"solidity\":0.2}},\"type\":\"histogram\"}],\"scattergl\":[{\"type\":\"scattergl\",\"marker\":{\"colorbar\":{\"outlinewidth\":0,\"ticks\":\"\"}}}],\"scatter3d\":[{\"type\":\"scatter3d\",\"line\":{\"colorbar\":{\"outlinewidth\":0,\"ticks\":\"\"}},\"marker\":{\"colorbar\":{\"outlinewidth\":0,\"ticks\":\"\"}}}],\"scattermapbox\":[{\"type\":\"scattermapbox\",\"marker\":{\"colorbar\":{\"outlinewidth\":0,\"ticks\":\"\"}}}],\"scatterternary\":[{\"type\":\"scatterternary\",\"marker\":{\"colorbar\":{\"outlinewidth\":0,\"ticks\":\"\"}}}],\"scattercarpet\":[{\"type\":\"scattercarpet\",\"marker\":{\"colorbar\":{\"outlinewidth\":0,\"ticks\":\"\"}}}],\"carpet\":[{\"aaxis\":{\"endlinecolor\":\"#2a3f5f\",\"gridcolor\":\"white\",\"linecolor\":\"white\",\"minorgridcolor\":\"white\",\"startlinecolor\":\"#2a3f5f\"},\"baxis\":{\"endlinecolor\":\"#2a3f5f\",\"gridcolor\":\"white\",\"linecolor\":\"white\",\"minorgridcolor\":\"white\",\"startlinecolor\":\"#2a3f5f\"},\"type\":\"carpet\"}],\"table\":[{\"cells\":{\"fill\":{\"color\":\"#EBF0F8\"},\"line\":{\"color\":\"white\"}},\"header\":{\"fill\":{\"color\":\"#C8D4E3\"},\"line\":{\"color\":\"white\"}},\"type\":\"table\"}],\"barpolar\":[{\"marker\":{\"line\":{\"color\":\"#E5ECF6\",\"width\":0.5},\"pattern\":{\"fillmode\":\"overlay\",\"size\":10,\"solidity\":0.2}},\"type\":\"barpolar\"}],\"pie\":[{\"automargin\":true,\"type\":\"pie\"}]},\"layout\":{\"autotypenumbers\":\"strict\",\"colorway\":[\"#636efa\",\"#EF553B\",\"#00cc96\",\"#ab63fa\",\"#FFA15A\",\"#19d3f3\",\"#FF6692\",\"#B6E880\",\"#FF97FF\",\"#FECB52\"],\"font\":{\"color\":\"#2a3f5f\"},\"hovermode\":\"closest\",\"hoverlabel\":{\"align\":\"left\"},\"paper_bgcolor\":\"white\",\"plot_bgcolor\":\"#E5ECF6\",\"polar\":{\"bgcolor\":\"#E5ECF6\",\"angularaxis\":{\"gridcolor\":\"white\",\"linecolor\":\"white\",\"ticks\":\"\"},\"radialaxis\":{\"gridcolor\":\"white\",\"linecolor\":\"white\",\"ticks\":\"\"}},\"ternary\":{\"bgcolor\":\"#E5ECF6\",\"aaxis\":{\"gridcolor\":\"white\",\"linecolor\":\"white\",\"ticks\":\"\"},\"baxis\":{\"gridcolor\":\"white\",\"linecolor\":\"white\",\"ticks\":\"\"},\"caxis\":{\"gridcolor\":\"white\",\"linecolor\":\"white\",\"ticks\":\"\"}},\"coloraxis\":{\"colorbar\":{\"outlinewidth\":0,\"ticks\":\"\"}},\"colorscale\":{\"sequential\":[[0.0,\"#0d0887\"],[0.1111111111111111,\"#46039f\"],[0.2222222222222222,\"#7201a8\"],[0.3333333333333333,\"#9c179e\"],[0.4444444444444444,\"#bd3786\"],[0.5555555555555556,\"#d8576b\"],[0.6666666666666666,\"#ed7953\"],[0.7777777777777778,\"#fb9f3a\"],[0.8888888888888888,\"#fdca26\"],[1.0,\"#f0f921\"]],\"sequentialminus\":[[0.0,\"#0d0887\"],[0.1111111111111111,\"#46039f\"],[0.2222222222222222,\"#7201a8\"],[0.3333333333333333,\"#9c179e\"],[0.4444444444444444,\"#bd3786\"],[0.5555555555555556,\"#d8576b\"],[0.6666666666666666,\"#ed7953\"],[0.7777777777777778,\"#fb9f3a\"],[0.8888888888888888,\"#fdca26\"],[1.0,\"#f0f921\"]],\"diverging\":[[0,\"#8e0152\"],[0.1,\"#c51b7d\"],[0.2,\"#de77ae\"],[0.3,\"#f1b6da\"],[0.4,\"#fde0ef\"],[0.5,\"#f7f7f7\"],[0.6,\"#e6f5d0\"],[0.7,\"#b8e186\"],[0.8,\"#7fbc41\"],[0.9,\"#4d9221\"],[1,\"#276419\"]]},\"xaxis\":{\"gridcolor\":\"white\",\"linecolor\":\"white\",\"ticks\":\"\",\"title\":{\"standoff\":15},\"zerolinecolor\":\"white\",\"automargin\":true,\"zerolinewidth\":2},\"yaxis\":{\"gridcolor\":\"white\",\"linecolor\":\"white\",\"ticks\":\"\",\"title\":{\"standoff\":15},\"zerolinecolor\":\"white\",\"automargin\":true,\"zerolinewidth\":2},\"scene\":{\"xaxis\":{\"backgroundcolor\":\"#E5ECF6\",\"gridcolor\":\"white\",\"linecolor\":\"white\",\"showbackground\":true,\"ticks\":\"\",\"zerolinecolor\":\"white\",\"gridwidth\":2},\"yaxis\":{\"backgroundcolor\":\"#E5ECF6\",\"gridcolor\":\"white\",\"linecolor\":\"white\",\"showbackground\":true,\"ticks\":\"\",\"zerolinecolor\":\"white\",\"gridwidth\":2},\"zaxis\":{\"backgroundcolor\":\"#E5ECF6\",\"gridcolor\":\"white\",\"linecolor\":\"white\",\"showbackground\":true,\"ticks\":\"\",\"zerolinecolor\":\"white\",\"gridwidth\":2}},\"shapedefaults\":{\"line\":{\"color\":\"#2a3f5f\"}},\"annotationdefaults\":{\"arrowcolor\":\"#2a3f5f\",\"arrowhead\":0,\"arrowwidth\":1},\"geo\":{\"bgcolor\":\"white\",\"landcolor\":\"#E5ECF6\",\"subunitcolor\":\"white\",\"showland\":true,\"showlakes\":true,\"lakecolor\":\"white\"},\"title\":{\"x\":0.05},\"mapbox\":{\"style\":\"light\"}}},\"scene\":{\"domain\":{\"x\":[0.0,1.0],\"y\":[0.0,1.0]},\"xaxis\":{\"title\":{\"text\":\"Entropy1\"}},\"yaxis\":{\"title\":{\"text\":\"Entropy2\"}},\"zaxis\":{\"title\":{\"text\":\"Entropy3\"}}},\"legend\":{\"tracegroupgap\":0},\"margin\":{\"t\":60}},                        {\"responsive\": true}                    ).then(function(){\n",
       "                            \n",
       "var gd = document.getElementById('2bfd69ad-a1c2-4ea1-b06a-0bb0b6b6b80d');\n",
       "var x = new MutationObserver(function (mutations, observer) {{\n",
       "        var display = window.getComputedStyle(gd).display;\n",
       "        if (!display || display === 'none') {{\n",
       "            console.log([gd, 'removed!']);\n",
       "            Plotly.purge(gd);\n",
       "            observer.disconnect();\n",
       "        }}\n",
       "}});\n",
       "\n",
       "// Listen for the removal of the full notebook cells\n",
       "var notebookContainer = gd.closest('#notebook-container');\n",
       "if (notebookContainer) {{\n",
       "    x.observe(notebookContainer, {childList: true});\n",
       "}}\n",
       "\n",
       "// Listen for the clearing of the current output cell\n",
       "var outputEl = gd.closest('.output');\n",
       "if (outputEl) {{\n",
       "    x.observe(outputEl, {childList: true});\n",
       "}}\n",
       "\n",
       "                        })                };                });            </script>        </div>"
      ]
     },
     "metadata": {},
     "output_type": "display_data"
    }
   ],
   "source": [
    "import plotly.express as px\n",
    "\n",
    "fig = px.scatter_3d(df, x='Entropy1', y='Entropy2', z='Entropy3')\n",
    "fig.show()"
   ]
  },
  {
   "cell_type": "code",
   "execution_count": 66,
   "id": "dda9df62",
   "metadata": {},
   "outputs": [
    {
     "data": {
      "text/html": [
       "<div>\n",
       "<style scoped>\n",
       "    .dataframe tbody tr th:only-of-type {\n",
       "        vertical-align: middle;\n",
       "    }\n",
       "\n",
       "    .dataframe tbody tr th {\n",
       "        vertical-align: top;\n",
       "    }\n",
       "\n",
       "    .dataframe thead th {\n",
       "        text-align: right;\n",
       "    }\n",
       "</style>\n",
       "<table border=\"1\" class=\"dataframe\">\n",
       "  <thead>\n",
       "    <tr style=\"text-align: right;\">\n",
       "      <th></th>\n",
       "      <th>Entropy1</th>\n",
       "      <th>Entropy2</th>\n",
       "      <th>Entropy3</th>\n",
       "      <th>Names</th>\n",
       "    </tr>\n",
       "  </thead>\n",
       "  <tbody>\n",
       "    <tr>\n",
       "      <th>41</th>\n",
       "      <td>8.784765</td>\n",
       "      <td>6.848234</td>\n",
       "      <td>0.351537</td>\n",
       "      <td>sphere</td>\n",
       "    </tr>\n",
       "    <tr>\n",
       "      <th>43</th>\n",
       "      <td>9.593618</td>\n",
       "      <td>6.326169</td>\n",
       "      <td>1.053613</td>\n",
       "      <td>croisant</td>\n",
       "    </tr>\n",
       "    <tr>\n",
       "      <th>19</th>\n",
       "      <td>9.787618</td>\n",
       "      <td>7.367166</td>\n",
       "      <td>1.080966</td>\n",
       "      <td>595_male.ply</td>\n",
       "    </tr>\n",
       "    <tr>\n",
       "      <th>18</th>\n",
       "      <td>9.828804</td>\n",
       "      <td>7.475716</td>\n",
       "      <td>1.102127</td>\n",
       "      <td>176_male.ply</td>\n",
       "    </tr>\n",
       "    <tr>\n",
       "      <th>0</th>\n",
       "      <td>9.820279</td>\n",
       "      <td>7.468681</td>\n",
       "      <td>1.207425</td>\n",
       "      <td>859_female.ply</td>\n",
       "    </tr>\n",
       "    <tr>\n",
       "      <th>2</th>\n",
       "      <td>9.814059</td>\n",
       "      <td>7.330741</td>\n",
       "      <td>1.257500</td>\n",
       "      <td>517_female.ply</td>\n",
       "    </tr>\n",
       "    <tr>\n",
       "      <th>34</th>\n",
       "      <td>9.816046</td>\n",
       "      <td>7.514735</td>\n",
       "      <td>1.286099</td>\n",
       "      <td>439_male_2.ply</td>\n",
       "    </tr>\n",
       "    <tr>\n",
       "      <th>7</th>\n",
       "      <td>9.824533</td>\n",
       "      <td>7.562474</td>\n",
       "      <td>1.328491</td>\n",
       "      <td>176_female.ply</td>\n",
       "    </tr>\n",
       "    <tr>\n",
       "      <th>35</th>\n",
       "      <td>9.814124</td>\n",
       "      <td>7.379548</td>\n",
       "      <td>1.336294</td>\n",
       "      <td>796_female.ply</td>\n",
       "    </tr>\n",
       "    <tr>\n",
       "      <th>25</th>\n",
       "      <td>9.817193</td>\n",
       "      <td>7.366414</td>\n",
       "      <td>1.352036</td>\n",
       "      <td>362_male.ply</td>\n",
       "    </tr>\n",
       "    <tr>\n",
       "      <th>15</th>\n",
       "      <td>9.823423</td>\n",
       "      <td>7.389696</td>\n",
       "      <td>1.401842</td>\n",
       "      <td>359_male.ply</td>\n",
       "    </tr>\n",
       "    <tr>\n",
       "      <th>11</th>\n",
       "      <td>9.821800</td>\n",
       "      <td>7.397517</td>\n",
       "      <td>1.429046</td>\n",
       "      <td>91_male.ply</td>\n",
       "    </tr>\n",
       "    <tr>\n",
       "      <th>21</th>\n",
       "      <td>9.812755</td>\n",
       "      <td>7.411493</td>\n",
       "      <td>1.432829</td>\n",
       "      <td>26_female.ply</td>\n",
       "    </tr>\n",
       "    <tr>\n",
       "      <th>1</th>\n",
       "      <td>9.822757</td>\n",
       "      <td>7.385001</td>\n",
       "      <td>1.479796</td>\n",
       "      <td>26_male.ply</td>\n",
       "    </tr>\n",
       "    <tr>\n",
       "      <th>29</th>\n",
       "      <td>9.819489</td>\n",
       "      <td>7.431661</td>\n",
       "      <td>1.484676</td>\n",
       "      <td>365_male.ply</td>\n",
       "    </tr>\n",
       "    <tr>\n",
       "      <th>31</th>\n",
       "      <td>9.817010</td>\n",
       "      <td>7.485094</td>\n",
       "      <td>1.507726</td>\n",
       "      <td>395_female.ply</td>\n",
       "    </tr>\n",
       "    <tr>\n",
       "      <th>8</th>\n",
       "      <td>9.814489</td>\n",
       "      <td>7.472480</td>\n",
       "      <td>1.522537</td>\n",
       "      <td>439_male.ply</td>\n",
       "    </tr>\n",
       "    <tr>\n",
       "      <th>36</th>\n",
       "      <td>9.789021</td>\n",
       "      <td>7.363743</td>\n",
       "      <td>1.574191</td>\n",
       "      <td>362_female.ply</td>\n",
       "    </tr>\n",
       "    <tr>\n",
       "      <th>12</th>\n",
       "      <td>9.819189</td>\n",
       "      <td>7.325923</td>\n",
       "      <td>1.585794</td>\n",
       "      <td>900_male.ply</td>\n",
       "    </tr>\n",
       "    <tr>\n",
       "      <th>39</th>\n",
       "      <td>9.815295</td>\n",
       "      <td>7.432779</td>\n",
       "      <td>1.610446</td>\n",
       "      <td>787_female.ply</td>\n",
       "    </tr>\n",
       "    <tr>\n",
       "      <th>3</th>\n",
       "      <td>9.819061</td>\n",
       "      <td>7.409600</td>\n",
       "      <td>1.632690</td>\n",
       "      <td>850_male.ply</td>\n",
       "    </tr>\n",
       "    <tr>\n",
       "      <th>23</th>\n",
       "      <td>9.813543</td>\n",
       "      <td>7.405030</td>\n",
       "      <td>1.646003</td>\n",
       "      <td>900_female.ply</td>\n",
       "    </tr>\n",
       "    <tr>\n",
       "      <th>40</th>\n",
       "      <td>9.663000</td>\n",
       "      <td>7.281435</td>\n",
       "      <td>1.674351</td>\n",
       "      <td>peanut</td>\n",
       "    </tr>\n",
       "    <tr>\n",
       "      <th>37</th>\n",
       "      <td>9.793863</td>\n",
       "      <td>7.505438</td>\n",
       "      <td>1.709926</td>\n",
       "      <td>595_female.ply</td>\n",
       "    </tr>\n",
       "    <tr>\n",
       "      <th>22</th>\n",
       "      <td>9.823406</td>\n",
       "      <td>7.317210</td>\n",
       "      <td>1.716177</td>\n",
       "      <td>365_female.ply</td>\n",
       "    </tr>\n",
       "    <tr>\n",
       "      <th>32</th>\n",
       "      <td>9.809412</td>\n",
       "      <td>7.472297</td>\n",
       "      <td>1.731634</td>\n",
       "      <td>517_male.ply</td>\n",
       "    </tr>\n",
       "    <tr>\n",
       "      <th>24</th>\n",
       "      <td>9.831982</td>\n",
       "      <td>7.370433</td>\n",
       "      <td>1.767212</td>\n",
       "      <td>853_male.ply</td>\n",
       "    </tr>\n",
       "    <tr>\n",
       "      <th>20</th>\n",
       "      <td>9.809558</td>\n",
       "      <td>7.451278</td>\n",
       "      <td>1.783895</td>\n",
       "      <td>321_female.ply</td>\n",
       "    </tr>\n",
       "    <tr>\n",
       "      <th>6</th>\n",
       "      <td>9.835081</td>\n",
       "      <td>7.347705</td>\n",
       "      <td>1.806020</td>\n",
       "      <td>195_female.ply</td>\n",
       "    </tr>\n",
       "    <tr>\n",
       "      <th>5</th>\n",
       "      <td>9.812619</td>\n",
       "      <td>7.462656</td>\n",
       "      <td>1.851505</td>\n",
       "      <td>705_female.ply</td>\n",
       "    </tr>\n",
       "    <tr>\n",
       "      <th>4</th>\n",
       "      <td>9.815764</td>\n",
       "      <td>7.504940</td>\n",
       "      <td>1.884392</td>\n",
       "      <td>439_female.ply</td>\n",
       "    </tr>\n",
       "    <tr>\n",
       "      <th>30</th>\n",
       "      <td>9.816421</td>\n",
       "      <td>7.484273</td>\n",
       "      <td>1.899113</td>\n",
       "      <td>739_male.ply</td>\n",
       "    </tr>\n",
       "    <tr>\n",
       "      <th>16</th>\n",
       "      <td>9.800147</td>\n",
       "      <td>7.570540</td>\n",
       "      <td>1.918280</td>\n",
       "      <td>796_male.ply</td>\n",
       "    </tr>\n",
       "    <tr>\n",
       "      <th>28</th>\n",
       "      <td>9.806351</td>\n",
       "      <td>7.398272</td>\n",
       "      <td>1.928313</td>\n",
       "      <td>859_male.ply</td>\n",
       "    </tr>\n",
       "    <tr>\n",
       "      <th>14</th>\n",
       "      <td>9.826488</td>\n",
       "      <td>7.458094</td>\n",
       "      <td>1.966762</td>\n",
       "      <td>853_female.ply</td>\n",
       "    </tr>\n",
       "    <tr>\n",
       "      <th>33</th>\n",
       "      <td>9.809609</td>\n",
       "      <td>7.397548</td>\n",
       "      <td>2.022489</td>\n",
       "      <td>405_female.ply</td>\n",
       "    </tr>\n",
       "    <tr>\n",
       "      <th>9</th>\n",
       "      <td>9.799251</td>\n",
       "      <td>7.316898</td>\n",
       "      <td>2.066881</td>\n",
       "      <td>59_female.ply</td>\n",
       "    </tr>\n",
       "    <tr>\n",
       "      <th>27</th>\n",
       "      <td>9.808296</td>\n",
       "      <td>7.286769</td>\n",
       "      <td>2.317482</td>\n",
       "      <td>321_male.ply</td>\n",
       "    </tr>\n",
       "    <tr>\n",
       "      <th>42</th>\n",
       "      <td>8.531600</td>\n",
       "      <td>5.308599</td>\n",
       "      <td>2.328163</td>\n",
       "      <td>cylinder</td>\n",
       "    </tr>\n",
       "    <tr>\n",
       "      <th>26</th>\n",
       "      <td>9.804915</td>\n",
       "      <td>7.334030</td>\n",
       "      <td>2.373969</td>\n",
       "      <td>59_male.ply</td>\n",
       "    </tr>\n",
       "    <tr>\n",
       "      <th>17</th>\n",
       "      <td>9.810992</td>\n",
       "      <td>7.437027</td>\n",
       "      <td>2.374150</td>\n",
       "      <td>705_male.ply</td>\n",
       "    </tr>\n",
       "    <tr>\n",
       "      <th>38</th>\n",
       "      <td>9.813509</td>\n",
       "      <td>7.454301</td>\n",
       "      <td>2.434332</td>\n",
       "      <td>304_male.ply</td>\n",
       "    </tr>\n",
       "    <tr>\n",
       "      <th>13</th>\n",
       "      <td>9.823867</td>\n",
       "      <td>7.383223</td>\n",
       "      <td>2.441568</td>\n",
       "      <td>359_female.ply</td>\n",
       "    </tr>\n",
       "    <tr>\n",
       "      <th>10</th>\n",
       "      <td>9.804865</td>\n",
       "      <td>7.417387</td>\n",
       "      <td>2.640269</td>\n",
       "      <td>787_male.ply</td>\n",
       "    </tr>\n",
       "  </tbody>\n",
       "</table>\n",
       "</div>"
      ],
      "text/plain": [
       "    Entropy1  Entropy2  Entropy3           Names\n",
       "41  8.784765  6.848234  0.351537          sphere\n",
       "43  9.593618  6.326169  1.053613        croisant\n",
       "19  9.787618  7.367166  1.080966    595_male.ply\n",
       "18  9.828804  7.475716  1.102127    176_male.ply\n",
       "0   9.820279  7.468681  1.207425  859_female.ply\n",
       "2   9.814059  7.330741  1.257500  517_female.ply\n",
       "34  9.816046  7.514735  1.286099  439_male_2.ply\n",
       "7   9.824533  7.562474  1.328491  176_female.ply\n",
       "35  9.814124  7.379548  1.336294  796_female.ply\n",
       "25  9.817193  7.366414  1.352036    362_male.ply\n",
       "15  9.823423  7.389696  1.401842    359_male.ply\n",
       "11  9.821800  7.397517  1.429046     91_male.ply\n",
       "21  9.812755  7.411493  1.432829   26_female.ply\n",
       "1   9.822757  7.385001  1.479796     26_male.ply\n",
       "29  9.819489  7.431661  1.484676    365_male.ply\n",
       "31  9.817010  7.485094  1.507726  395_female.ply\n",
       "8   9.814489  7.472480  1.522537    439_male.ply\n",
       "36  9.789021  7.363743  1.574191  362_female.ply\n",
       "12  9.819189  7.325923  1.585794    900_male.ply\n",
       "39  9.815295  7.432779  1.610446  787_female.ply\n",
       "3   9.819061  7.409600  1.632690    850_male.ply\n",
       "23  9.813543  7.405030  1.646003  900_female.ply\n",
       "40  9.663000  7.281435  1.674351          peanut\n",
       "37  9.793863  7.505438  1.709926  595_female.ply\n",
       "22  9.823406  7.317210  1.716177  365_female.ply\n",
       "32  9.809412  7.472297  1.731634    517_male.ply\n",
       "24  9.831982  7.370433  1.767212    853_male.ply\n",
       "20  9.809558  7.451278  1.783895  321_female.ply\n",
       "6   9.835081  7.347705  1.806020  195_female.ply\n",
       "5   9.812619  7.462656  1.851505  705_female.ply\n",
       "4   9.815764  7.504940  1.884392  439_female.ply\n",
       "30  9.816421  7.484273  1.899113    739_male.ply\n",
       "16  9.800147  7.570540  1.918280    796_male.ply\n",
       "28  9.806351  7.398272  1.928313    859_male.ply\n",
       "14  9.826488  7.458094  1.966762  853_female.ply\n",
       "33  9.809609  7.397548  2.022489  405_female.ply\n",
       "9   9.799251  7.316898  2.066881   59_female.ply\n",
       "27  9.808296  7.286769  2.317482    321_male.ply\n",
       "42  8.531600  5.308599  2.328163        cylinder\n",
       "26  9.804915  7.334030  2.373969     59_male.ply\n",
       "17  9.810992  7.437027  2.374150    705_male.ply\n",
       "38  9.813509  7.454301  2.434332    304_male.ply\n",
       "13  9.823867  7.383223  2.441568  359_female.ply\n",
       "10  9.804865  7.417387  2.640269    787_male.ply"
      ]
     },
     "execution_count": 66,
     "metadata": {},
     "output_type": "execute_result"
    }
   ],
   "source": [
    "df.sort_values(by='Entropy3')"
   ]
  },
  {
   "cell_type": "code",
   "execution_count": null,
   "id": "a8714e9c",
   "metadata": {},
   "outputs": [],
   "source": []
  },
  {
   "cell_type": "code",
   "execution_count": null,
   "id": "09a4b9a3",
   "metadata": {},
   "outputs": [],
   "source": []
  },
  {
   "cell_type": "code",
   "execution_count": null,
   "id": "427f98a2",
   "metadata": {},
   "outputs": [],
   "source": []
  },
  {
   "cell_type": "code",
   "execution_count": null,
   "id": "b702ba8e",
   "metadata": {},
   "outputs": [],
   "source": []
  },
  {
   "cell_type": "code",
   "execution_count": 78,
   "id": "aa3fc7fe",
   "metadata": {},
   "outputs": [],
   "source": [
    "from scipy import stats"
   ]
  },
  {
   "cell_type": "code",
   "execution_count": null,
   "id": "55bac891",
   "metadata": {},
   "outputs": [],
   "source": []
  },
  {
   "cell_type": "code",
   "execution_count": null,
   "id": "46b7bf06",
   "metadata": {},
   "outputs": [],
   "source": []
  },
  {
   "cell_type": "code",
   "execution_count": 87,
   "id": "b2149d86",
   "metadata": {},
   "outputs": [],
   "source": [
    "from sklearn.cluster import AffinityPropagation"
   ]
  },
  {
   "cell_type": "code",
   "execution_count": 88,
   "id": "b96212ef",
   "metadata": {},
   "outputs": [],
   "source": [
    "clustering = AffinityPropagation(random_state=5).fit(PE_X)"
   ]
  },
  {
   "cell_type": "code",
   "execution_count": 89,
   "id": "baecf08b",
   "metadata": {},
   "outputs": [
    {
     "data": {
      "text/plain": [
       "AffinityPropagation(random_state=5)"
      ]
     },
     "execution_count": 89,
     "metadata": {},
     "output_type": "execute_result"
    }
   ],
   "source": [
    "clustering"
   ]
  },
  {
   "cell_type": "code",
   "execution_count": 124,
   "id": "62b8a10b",
   "metadata": {},
   "outputs": [
    {
     "data": {
      "text/plain": [
       "array([0, 2, 0, 3, 4, 4, 4, 0, 2, 4, 1, 2, 3, 1, 4, 2, 4, 1, 0, 0, 3, 2,\n",
       "       3, 3, 3, 2, 1, 1, 4, 2, 4, 2, 3, 4, 0, 2, 3, 3, 1, 3, 3, 5, 6, 7])"
      ]
     },
     "execution_count": 124,
     "metadata": {},
     "output_type": "execute_result"
    }
   ],
   "source": [
    "clustering.labels_"
   ]
  },
  {
   "cell_type": "code",
   "execution_count": 145,
   "id": "8d6c895e",
   "metadata": {},
   "outputs": [],
   "source": [
    "I=0\n",
    "\n",
    "X1=[]\n",
    "X2=[]\n",
    "X3=[]\n",
    "X4=[]\n",
    "X5=[]\n",
    "X6=[]\n",
    "X7=[]\n",
    "X8=[]\n",
    "\n",
    "for i in clustering.labels_:\n",
    "    if i == 0:\n",
    "        X1.append(PE_X[I].tolist())\n",
    "    elif i == 1:\n",
    "        X2.append(PE_X[I].tolist())\n",
    "    elif i == 2:\n",
    "        X3.append(PE_X[I].tolist())\n",
    "    elif i == 3:\n",
    "        X4.append(PE_X[I].tolist())\n",
    "    elif i == 4:\n",
    "        X5.append(PE_X[I].tolist())\n",
    "    elif i == 5:\n",
    "        X6.append(PE_X[I].tolist())\n",
    "    elif i == 6:\n",
    "        X7.append(PE_X[I].tolist())\n",
    "    elif i == 7:\n",
    "        X8.append(PE_X[I].tolist())\n",
    "    I+=1\n",
    "    "
   ]
  },
  {
   "cell_type": "code",
   "execution_count": 162,
   "id": "ba80b2a7",
   "metadata": {},
   "outputs": [
    {
     "data": {
      "text/plain": [
       "44"
      ]
     },
     "execution_count": 162,
     "metadata": {},
     "output_type": "execute_result"
    }
   ],
   "source": [
    "len(clustering.labels_)"
   ]
  },
  {
   "cell_type": "code",
   "execution_count": 104,
   "id": "f273c976",
   "metadata": {},
   "outputs": [],
   "source": [
    "df[\"Label\"] = clustering.labels_"
   ]
  },
  {
   "cell_type": "code",
   "execution_count": 119,
   "id": "de1a0dba",
   "metadata": {},
   "outputs": [
    {
     "data": {
      "text/html": [
       "<div>\n",
       "<style scoped>\n",
       "    .dataframe tbody tr th:only-of-type {\n",
       "        vertical-align: middle;\n",
       "    }\n",
       "\n",
       "    .dataframe tbody tr th {\n",
       "        vertical-align: top;\n",
       "    }\n",
       "\n",
       "    .dataframe thead th {\n",
       "        text-align: right;\n",
       "    }\n",
       "</style>\n",
       "<table border=\"1\" class=\"dataframe\">\n",
       "  <thead>\n",
       "    <tr style=\"text-align: right;\">\n",
       "      <th></th>\n",
       "      <th>Entropy1</th>\n",
       "      <th>Entropy2</th>\n",
       "      <th>Entropy3</th>\n",
       "      <th>Names</th>\n",
       "      <th>Label</th>\n",
       "    </tr>\n",
       "  </thead>\n",
       "  <tbody>\n",
       "    <tr>\n",
       "      <th>43</th>\n",
       "      <td>9.593618</td>\n",
       "      <td>6.326169</td>\n",
       "      <td>1.053613</td>\n",
       "      <td>croisant</td>\n",
       "      <td>7</td>\n",
       "    </tr>\n",
       "  </tbody>\n",
       "</table>\n",
       "</div>"
      ],
      "text/plain": [
       "    Entropy1  Entropy2  Entropy3     Names  Label\n",
       "43  9.593618  6.326169  1.053613  croisant      7"
      ]
     },
     "execution_count": 119,
     "metadata": {},
     "output_type": "execute_result"
    }
   ],
   "source": [
    "df[df[\"Label\"]==7]"
   ]
  },
  {
   "cell_type": "code",
   "execution_count": 121,
   "id": "6c196884",
   "metadata": {},
   "outputs": [],
   "source": [
    "from scipy import stats"
   ]
  },
  {
   "cell_type": "code",
   "execution_count": 146,
   "id": "7e1c8b18",
   "metadata": {},
   "outputs": [
    {
     "data": {
      "text/plain": [
       "MannwhitneyuResult(statistic=array([27., 27.,  0.]), pvalue=array([0.17965368, 0.17965368, 0.0021645 ]))"
      ]
     },
     "execution_count": 146,
     "metadata": {},
     "output_type": "execute_result"
    }
   ],
   "source": [
    "stats.mannwhitneyu(X1,X2)"
   ]
  },
  {
   "cell_type": "code",
   "execution_count": 150,
   "id": "0337f57d",
   "metadata": {},
   "outputs": [
    {
     "data": {
      "text/plain": [
       "[[9.81906141, 7.40960017, 1.63268977],\n",
       " [9.81918856, 7.32592312, 1.58579437],\n",
       " [9.80955846, 7.45127795, 1.78389491],\n",
       " [9.82340562, 7.31720958, 1.71617734],\n",
       " [9.8135433, 7.40502995, 1.64600334],\n",
       " [9.83198161, 7.37043323, 1.76721218],\n",
       " [9.80941179, 7.47229697, 1.73163364],\n",
       " [9.78902127, 7.36374341, 1.5741909],\n",
       " [9.79386298, 7.50543753, 1.70992583],\n",
       " [9.81529518, 7.43277877, 1.61044578],\n",
       " [9.66299965, 7.2814351, 1.67435123]]"
      ]
     },
     "execution_count": 150,
     "metadata": {},
     "output_type": "execute_result"
    }
   ],
   "source": [
    "X4"
   ]
  },
  {
   "cell_type": "code",
   "execution_count": 139,
   "id": "0a206da2",
   "metadata": {},
   "outputs": [
    {
     "data": {
      "text/plain": [
       "[9.82027879, 7.46868098, 1.2074247]"
      ]
     },
     "execution_count": 139,
     "metadata": {},
     "output_type": "execute_result"
    }
   ],
   "source": [
    "PE_X[0].tolist()"
   ]
  },
  {
   "cell_type": "code",
   "execution_count": 152,
   "id": "c9bf74c6",
   "metadata": {},
   "outputs": [],
   "source": [
    "from sklearn.model_selection import permutation_test_score\n"
   ]
  },
  {
   "cell_type": "code",
   "execution_count": 155,
   "id": "80561195",
   "metadata": {},
   "outputs": [
    {
     "name": "stdout",
     "output_type": "stream",
     "text": [
      "9.99990000099999e-06\n"
     ]
    }
   ],
   "source": [
    "from mlxtend.evaluate import permutation_test\n",
    "\n",
    "p_value = permutation_test(X1, X1,\n",
    "                           method='approximate',\n",
    "                           num_rounds=100000,\n",
    "                           seed=0)\n",
    "print(p_value)"
   ]
  },
  {
   "cell_type": "code",
   "execution_count": null,
   "id": "295a8e91",
   "metadata": {},
   "outputs": [],
   "source": []
  }
 ],
 "metadata": {
  "kernelspec": {
   "display_name": "Python 3 (ipykernel)",
   "language": "python",
   "name": "python3"
  },
  "language_info": {
   "codemirror_mode": {
    "name": "ipython",
    "version": 3
   },
   "file_extension": ".py",
   "mimetype": "text/x-python",
   "name": "python",
   "nbconvert_exporter": "python",
   "pygments_lexer": "ipython3",
   "version": "3.8.8"
  }
 },
 "nbformat": 4,
 "nbformat_minor": 5
}
