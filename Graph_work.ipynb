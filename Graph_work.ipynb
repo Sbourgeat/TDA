{
 "cells": [
  {
   "cell_type": "code",
   "execution_count": 1,
   "id": "302b8a84",
   "metadata": {},
   "outputs": [
    {
     "ename": "ModuleNotFoundError",
     "evalue": "No module named 'trimesh'",
     "output_type": "error",
     "traceback": [
      "\u001b[0;31m---------------------------------------------------------------------------\u001b[0m",
      "\u001b[0;31mModuleNotFoundError\u001b[0m                       Traceback (most recent call last)",
      "Input \u001b[0;32mIn [1]\u001b[0m, in \u001b[0;36m<cell line: 1>\u001b[0;34m()\u001b[0m\n\u001b[0;32m----> 1\u001b[0m \u001b[38;5;28;01mimport\u001b[39;00m \u001b[38;5;21;01mtrimesh\u001b[39;00m\n\u001b[1;32m      2\u001b[0m \u001b[38;5;28;01mfrom\u001b[39;00m \u001b[38;5;21;01mtrimesh\u001b[39;00m\u001b[38;5;21;01m.\u001b[39;00m\u001b[38;5;21;01mcurvature\u001b[39;00m \u001b[38;5;28;01mimport\u001b[39;00m discrete_gaussian_curvature_measure, discrete_mean_curvature_measure, sphere_ball_intersection\n\u001b[1;32m      3\u001b[0m \u001b[38;5;28;01mimport\u001b[39;00m \u001b[38;5;21;01mmatplotlib\u001b[39;00m\u001b[38;5;21;01m.\u001b[39;00m\u001b[38;5;21;01mpyplot\u001b[39;00m \u001b[38;5;28;01mas\u001b[39;00m \u001b[38;5;21;01mplt\u001b[39;00m\n",
      "\u001b[0;31mModuleNotFoundError\u001b[0m: No module named 'trimesh'"
     ]
    }
   ],
   "source": [
    "import trimesh\n",
    "from trimesh.curvature import discrete_gaussian_curvature_measure, discrete_mean_curvature_measure, sphere_ball_intersection\n",
    "import matplotlib.pyplot as plt\n",
    "import numpy as np\n",
    "%matplotlib inline\n"
   ]
  },
  {
   "cell_type": "code",
   "execution_count": 3,
   "id": "5bf295d2",
   "metadata": {},
   "outputs": [],
   "source": [
    "import pyvista as pv\n",
    "import ipywidgets \n",
    "import igraph\n",
    "import gudhi\n",
    "import numpy as np\n",
    "import matplotlib.pyplot as plt\n",
    "import velour"
   ]
  },
  {
   "cell_type": "code",
   "execution_count": 4,
   "id": "7ffc2b20",
   "metadata": {},
   "outputs": [
    {
     "data": {
      "application/vnd.jupyter.widget-view+json": {
       "model_id": "9d0f00bdd77e4c9f8ad7855be9e20fee",
       "version_major": 2,
       "version_minor": 0
      },
      "text/plain": [
       "ViewInteractiveWidget(height=768, layout=Layout(height='auto', width='100%'), width=1024)"
      ]
     },
     "metadata": {},
     "output_type": "display_data"
    }
   ],
   "source": [
    "mesh = pv.read('/Users/skumar/Desktop/Smooth195_female.ply')\n",
    "\n",
    "mesh.plot()"
   ]
  },
  {
   "cell_type": "code",
   "execution_count": 5,
   "id": "049639f0",
   "metadata": {},
   "outputs": [
    {
     "data": {
      "application/vnd.jupyter.widget-view+json": {
       "model_id": "fc9c147075cf4b669ec0a6853c8f7b11",
       "version_major": 2,
       "version_minor": 0
      },
      "text/plain": [
       "ViewInteractiveWidget(height=768, layout=Layout(height='auto', width='100%'), width=1024)"
      ]
     },
     "metadata": {},
     "output_type": "display_data"
    }
   ],
   "source": [
    "viewup = [0, 1, 0]\n",
    "p = pv.Plotter()\n",
    "p.add_mesh(mesh)\n",
    "p.show(auto_close=False)\n",
    "path = p.generate_orbital_path( n_points=36)\n",
    "p.open_gif(\"orbit.gif\")\n",
    "p.orbit_on_path(path, write_frames=True, step=0.05)\n",
    "p.close()"
   ]
  },
  {
   "cell_type": "code",
   "execution_count": 2,
   "id": "0bafc9ea",
   "metadata": {},
   "outputs": [],
   "source": [
    "mesh = trimesh.load('Mesh.ply')"
   ]
  },
  {
   "cell_type": "code",
   "execution_count": 3,
   "id": "57b35ca1",
   "metadata": {},
   "outputs": [
    {
     "data": {
      "text/plain": [
       "<trimesh.Trimesh(vertices.shape=(68742, 3), faces.shape=(137720, 3))>"
      ]
     },
     "execution_count": 3,
     "metadata": {},
     "output_type": "execute_result"
    }
   ],
   "source": [
    "mesh"
   ]
  },
  {
   "cell_type": "code",
   "execution_count": 4,
   "id": "96f9d7a1",
   "metadata": {},
   "outputs": [],
   "source": [
    "mesh2 = trimesh.sample.sample_surface(mesh,1000)"
   ]
  },
  {
   "cell_type": "code",
   "execution_count": 5,
   "id": "6091f33b",
   "metadata": {},
   "outputs": [
    {
     "data": {
      "text/plain": [
       "(TrackedArray([[0.00055833, 0.00024437, 0.00025801],\n",
       "               [0.00041851, 0.00043626, 0.00035606],\n",
       "               [0.00021103, 0.00048147, 0.00032185],\n",
       "               ...,\n",
       "               [0.00024151, 0.00051245, 0.00024903],\n",
       "               [0.00026706, 0.0003436 , 0.00033765],\n",
       "               [0.0002633 , 0.00035586, 0.00034491]]),\n",
       " array([ 51681, 103065,  82523,  30489,   3454, 115340, 114671, 109899,\n",
       "         98638,  83536, 116548, 132360,  13527, 137382, 103696,  57461,\n",
       "         59711,  42599,  61514,  56300,    791,  81810, 110668, 127297,\n",
       "          6490, 126625,  18271,  46105,  39529,  25146, 125366,  30419,\n",
       "          7644,  25576, 116030,  17723,  14508, 106025,   6479,  36674,\n",
       "        123352,  18282,  28950,  52031,  45186,  83097,  41448,  82830,\n",
       "         72503,  20158,  78985,  83024, 125664,  10204,  24302,  28345,\n",
       "        118675,  59303,  31310,   1415, 108621,  93987,  98623,  11009,\n",
       "         64613, 110103, 128520, 118442,  15383, 118632, 125486,  22850,\n",
       "         60393,  86181,  86089,  85952,  94159, 117457,  47012, 110845,\n",
       "         22988,  59205,  17970,  11401,  56626,  28675,  57659,  57922,\n",
       "        136193,  26065, 126667,  35811,  75257,  39287,  77159,   2413,\n",
       "         26346,  59809,   3312,  54764,  77926,  70044,  31444,  94722,\n",
       "         35649, 104623,  91442,  40714,   3467,  59170, 129849,  47874,\n",
       "         73981, 105325,  62412, 134072, 131985,  78062, 135342, 121998,\n",
       "         73172, 105748,  47206,  20848,  26205, 134279,  15051,   3579,\n",
       "          9138,  87276, 131963,  56683,  47784,  79789, 106133,  95257,\n",
       "         76875, 118871,  70450, 121731,  96156, 110365,  71838,  72517,\n",
       "         15330,  54680, 133510, 110109,  49250,  28430,  47087, 130782,\n",
       "         43756,  79476,  77158, 111174,  71083,  77297, 124323, 119900,\n",
       "        115234,  87919, 112896, 118122,  72082,  64749,  16206,  15636,\n",
       "        112684,  43910,  34775,  41228, 103937,   7297, 136536, 115172,\n",
       "        122116,  14785,  91587,  92982,   5525,   8899,  89045,  96267,\n",
       "         56604,  82091,  33487,   3153,  63339,  54125,   7861, 100021,\n",
       "         26918,  50341,  89664,  34433,    919,   2983,  31236,   9689,\n",
       "           653,  10692,  38566, 105782, 136633,  69989,  25008,  77500,\n",
       "         19532,  66336, 118433,  36120, 135318,  17266,  35351,  68063,\n",
       "         95909,  60397,  72338,  27381,  18442, 124655, 110343,  30723,\n",
       "        135958,  83947,  44427,  35110,  84820,  77155,  64167,  35757,\n",
       "        125083,  62682,  68550,  88657,  96581, 130663, 120885, 123034,\n",
       "         50637, 135329,   9205,  77808, 114342, 135222, 112981,  87355,\n",
       "         18494,  92265,  46093,  46524, 103764, 118134,  79071,  62282,\n",
       "          8033,  19617,  47175, 107106,  99925, 101962,  81850, 111218,\n",
       "         53468,  44447, 131347,  78213,  78949,  96524,  58223,  72517,\n",
       "         53790,  71061,  17196, 132511, 103749, 131281,   6171, 103387,\n",
       "         25508, 133270, 119678,  35321,  13701,   3085, 134523,  71749,\n",
       "         21613,  30621,  20652,  75637, 121185,  45055,  69333,  46613,\n",
       "         91867, 132420,  50818,  97331,  41706,  62840,  96656,  65030,\n",
       "        116415, 107541,  47827, 108169,   5034,  83852,  57892,  77960,\n",
       "         63778, 131313,  67045,  72880, 132263,  17694,  92691,  47397,\n",
       "         83965,  71315, 128006, 132694,   2494, 134692,  48502,  29863,\n",
       "         48298,  37204,  52283,   6706,  84937,  12802,  37485, 133917,\n",
       "         37832,  10786,  31531,  48844,  33595,  85655,  56522,  18371,\n",
       "        125404, 134147,  89811,  73676,  29573,  91058,   5396,  18241,\n",
       "         44875,  55247, 133251,  74437,  67251, 126863,  80957,  45472,\n",
       "         63404,  93051,  60817,  76729,  75285,  14680,  38985,  93203,\n",
       "          2483,  93862, 110542,  18431, 133685,  50689,  21968, 131657,\n",
       "         20459,  37311,  90858,  85300, 123695,  49119,  17670,  27575,\n",
       "         10789,  18972,  65142,  13132,  94195, 112077,  54407,  94092,\n",
       "         38349,   4327,   5813,  10240, 100295,   3720,    376,  94373,\n",
       "         27663, 117600,  17637,  85319,  70974,   4818, 129156,  49788,\n",
       "           944, 115635,  66148,    461, 100928,  73721, 109181,   9437,\n",
       "         28485,  45579,  82798, 118743,  64301,  57520,  84223, 111197,\n",
       "         97401,  16478,  81672, 118377,   5141,   1649, 113658,  33074,\n",
       "         27830,  95034, 108550, 103868,  97444,   6298,  51760, 133992,\n",
       "         67581,  60076, 130185,  29865,  45280, 105326,  34746,  14827,\n",
       "          9168,     61,  27406, 131180,  48788, 132526,  91255,  97197,\n",
       "        122662,  20341,   5736,  72323, 133660,  50653,  55714,  69193,\n",
       "        100041,  31246,  99816,  37049,  77946, 122904,  64906,  57980,\n",
       "         93033,  95812,  91893, 118664, 124917, 109302,  36875, 117026,\n",
       "        117578,  71047, 102630,  44296,  18520,  76820,  27502,  12348,\n",
       "         66827, 100400, 118635, 134348,  44507,  37202,   9366, 113913,\n",
       "        122291,  32718,  44446,  27521,  70913,  83932,  61934, 104036,\n",
       "         48535,  13251,  58854,  83658,   6001,  81768,  81730,   5906,\n",
       "         53853,  70538,  73353,  24888,  86710,  12054,  94677,  57506,\n",
       "        126614,  85695,  80532,  50766,  50041,  94669, 133736, 126343,\n",
       "        132717,  43875, 115781,  33943,  63189,  42753,  47168,  95181,\n",
       "        106401,  96283,  88085,  94055,  72389, 119570, 123692,  16259,\n",
       "        131791,  14785,   2743,  78311,  26749, 124420,  72770,  45300,\n",
       "         27269,  25784,  73441,  66778,  43222,  79120,  61677,  39298,\n",
       "        130212,  23774,  28667,  48954,  82155,  12001,  20463,  96853,\n",
       "        130643,  74584, 113179,  99353,  85962,  31808,  32370,  92061,\n",
       "         44361,  72795,  19370,  48111, 118122,  61907,  87577,   7817,\n",
       "         71359,  36754,  32973,    433,  46001,  78076,  92443,  75743,\n",
       "         32816, 116696,  71127,  54820,  55893,  97151, 130783,  22801,\n",
       "        113044, 113448, 100082,   2298,    693,  90357, 133111, 101123,\n",
       "         61327,  66681,  54744, 113621,  17487,  68884,  14895,  80696,\n",
       "         13985,  47307,  33934,  92583, 117927,  70608,  29234,  12078,\n",
       "        111092,  82665, 136477,  61636,  19620,  83117, 129621,  93164,\n",
       "        134001,  77052, 108483,  58741,   8040, 116506,  80099,  78589,\n",
       "         99263,   3947,  65700,  39085,  77409,  97324,  71416,    957,\n",
       "         86767, 130282,  50240,   9140, 101757, 116451, 133068,  78773,\n",
       "         20308,   2342,  23490,  29188,  99283,  43700,   8736,  53772,\n",
       "         49984, 122865, 110071,   3675, 110593, 107630, 114867, 137341,\n",
       "         23501,  61126,  32710,   4863,   1002,  22482,  43451, 104392,\n",
       "        123950, 122850,  91868,  55879,  85601, 130728,  95168,  85239,\n",
       "         94748,  66956, 113028,  29381, 104383, 102684,  53208, 100765,\n",
       "        125249,  78985,  44130,  45433,  12054,  44313,  10976,  64399,\n",
       "         54667,  39558,  47612, 131964,  54798,  83518,  54891,  24049,\n",
       "         92094, 123403,  91689,  13514,  36377, 123315, 119088,    570,\n",
       "        131595,  35040,  37695, 102569,  82610,  17786,  85754, 119790,\n",
       "        100083,  38080,  36604,  56399, 118206,  13212,   3767,   1498,\n",
       "         33598,  59382,  66720,  46948, 115173,  73038,  36242,  51524,\n",
       "         37116,  96113,  52292,  60433,  96470, 120797,  45472,  70752,\n",
       "         50652,  34310,  62151, 116974,    725,  31679,  53205,  10508,\n",
       "         97039,  12194,  65742,  84329,   9577,   2009,  65805,  11891,\n",
       "         67467,  72002, 122814,  12341,  73888,  49357,  51593,  24415,\n",
       "        102794,  40124, 114043, 114753,  57480,  67726,  34962,   9400,\n",
       "         34466,  70624,  57193, 126268,  35803,  86280,  51416, 128996,\n",
       "         32094, 124618,  10620,  73520,  42230,  32569, 122605,  53641,\n",
       "        111614,  50486,   8088, 120942,  90015,  53298,  43909,  87010,\n",
       "         94093,  81776, 133621,  34175,  44110,   6337,  72623,  78206,\n",
       "          6659,  51089,  47691,  67052, 107549,  59882,  51423, 108097,\n",
       "         63801,  88072,  78480,  76168,  70163,  80649,  22879,  33074,\n",
       "         62973,  23048,  23903,   6906,  89770,  85719,  33045, 122934,\n",
       "         39707,  44064,   7874,  98967, 100449,  81041,  49291, 113012,\n",
       "        123026,  96771,  92135,    694,   1944, 136075,  25000, 130695,\n",
       "         36125,  26469, 125107,  66886,  57655,   5447,  93326,  30042,\n",
       "         55851,  66135,  11967,   2357,  35914,  74605,   4667,  53073,\n",
       "         33238,  80946, 125263,  15200,  55329,   6209, 129912,  97000,\n",
       "        112901,  72270, 112163,  55640,  60918,  53874,   1937,  29527,\n",
       "          4271, 124288,  37094,  13996,  55857,  58140,  51190,  10267,\n",
       "        126359,  72136,  43560,  88188,   9897,  64721,  16570,  86107,\n",
       "         73725,  74130,  27116,  30110, 137443, 100886,  46565, 123934,\n",
       "         56454,  54626,  98115,  29115, 110852, 122915,  67809,  84402,\n",
       "          3639,  33691, 101440,  14189,  45993, 102095,  43557, 135542,\n",
       "         81805,  42619, 132507,  88222,  78601,  55857, 127903,  23362,\n",
       "        105544, 108340,  62123, 128192,  25573,  97547,  67750,  81524,\n",
       "         48762,  53380,  66227,  39056,  79041,  93338, 125789,  33577,\n",
       "          6869, 107652, 117407, 106740,  57674,  54315,  53961,   2249,\n",
       "        107548,  36078, 122803,  26787, 102058,   8838, 122169,  50206,\n",
       "         47518, 110010, 135316, 126337,  60777,  38679,  27713,  38512,\n",
       "         97257,  17478,  76517, 136095,  35993,  17914,   6472, 133122,\n",
       "        114502,  15640,  39764,  82354,  96829,  51887,  69229,  43938,\n",
       "         56368, 114942, 100063,  88001,  60793,  46041,  92656,  98817]))"
      ]
     },
     "execution_count": 5,
     "metadata": {},
     "output_type": "execute_result"
    }
   ],
   "source": [
    "mesh2"
   ]
  },
  {
   "cell_type": "code",
   "execution_count": 6,
   "id": "692eff84",
   "metadata": {},
   "outputs": [
    {
     "data": {
      "text/plain": [
       "False"
      ]
     },
     "execution_count": 6,
     "metadata": {},
     "output_type": "execute_result"
    }
   ],
   "source": [
    "\n",
    "\n",
    "# is the current mesh watertight?\n",
    "mesh.is_watertight\n",
    "\n"
   ]
  },
  {
   "cell_type": "code",
   "execution_count": 7,
   "id": "5a18ecef",
   "metadata": {},
   "outputs": [
    {
     "data": {
      "text/plain": [
       "262"
      ]
     },
     "execution_count": 7,
     "metadata": {},
     "output_type": "execute_result"
    }
   ],
   "source": [
    "\n",
    "\n",
    "# what's the euler number for the mesh?\n",
    "mesh.euler_number\n",
    "\n"
   ]
  },
  {
   "cell_type": "code",
   "execution_count": null,
   "id": "68f975ad",
   "metadata": {},
   "outputs": [],
   "source": [
    "\n",
    "\n",
    "# the convex hull is another Trimesh object that is available as a property\n",
    "# lets compare the volume of our mesh with the volume of its convex hull\n",
    "np.divide(mesh.volume, mesh.convex_hull.volume)\n",
    "\n"
   ]
  },
  {
   "cell_type": "code",
   "execution_count": null,
   "id": "de2ff55c",
   "metadata": {},
   "outputs": [],
   "source": [
    "\n",
    "\n",
    "# since the mesh is watertight, it means there is a\n",
    "# volumetric center of mass which we can set as the origin for our mesh\n",
    "mesh.vertices -= mesh.center_mass\n",
    "\n"
   ]
  },
  {
   "cell_type": "code",
   "execution_count": null,
   "id": "490fa69e",
   "metadata": {},
   "outputs": [],
   "source": [
    "# what's the moment of inertia for the mesh?\n",
    "mesh.moment_inertia"
   ]
  },
  {
   "cell_type": "code",
   "execution_count": null,
   "id": "344d5fe9",
   "metadata": {},
   "outputs": [],
   "source": [
    "\n",
    "\n",
    "# if there are multiple bodies in the mesh we can split the mesh by\n",
    "# connected components of face adjacency\n",
    "# since this example mesh is a single watertight body we get a list of one mesh\n",
    "mesh.split()\n",
    "\n"
   ]
  },
  {
   "cell_type": "code",
   "execution_count": null,
   "id": "dabcf268",
   "metadata": {},
   "outputs": [],
   "source": [
    "# preview mesh in a pyglet window from a terminal, or inline in a notebook\n",
    "mesh.show()"
   ]
  },
  {
   "cell_type": "code",
   "execution_count": null,
   "id": "fc35ea28",
   "metadata": {},
   "outputs": [],
   "source": [
    "\n",
    "\n",
    "# facets are groups of coplanar adjacent faces\n",
    "# set each facet to a random color\n",
    "# colors are 8 bit RGBA by default (n,4) np.uint8\n",
    "for facet in mesh.facets:\n",
    "    mesh.visual.face_colors[facet] = trimesh.visual.random_color()\n",
    "\n"
   ]
  },
  {
   "cell_type": "code",
   "execution_count": null,
   "id": "e38911d0",
   "metadata": {},
   "outputs": [],
   "source": [
    "\n",
    "\n",
    "# transform method can be passed a (4,4) matrix and will cleanly apply the transform\n",
    "mesh.apply_transform(trimesh.transformations.random_rotation_matrix())\n",
    "\n"
   ]
  },
  {
   "cell_type": "code",
   "execution_count": null,
   "id": "21bf65a8",
   "metadata": {},
   "outputs": [],
   "source": [
    "# an axis aligned bounding box is available\n",
    "mesh.bounding_box.primitive.extents"
   ]
  },
  {
   "cell_type": "code",
   "execution_count": null,
   "id": "5029c78b",
   "metadata": {},
   "outputs": [],
   "source": [
    "\n",
    "\n",
    "# a minimum volume oriented bounding box is available\n",
    "mesh.bounding_box_oriented.primitive.extents\n",
    "\n"
   ]
  },
  {
   "cell_type": "code",
   "execution_count": null,
   "id": "f11d2825",
   "metadata": {},
   "outputs": [],
   "source": [
    "\n",
    "\n",
    "mesh.bounding_box_oriented.primitive.transform\n",
    "\n"
   ]
  },
  {
   "cell_type": "code",
   "execution_count": null,
   "id": "5d10604a",
   "metadata": {},
   "outputs": [],
   "source": [
    "\n",
    "\n",
    "# the bounding box is a trimesh.primitives.Box object, which subclasses\n",
    "# Trimesh and lazily evaluates to fill in vertices and faces when requested\n",
    "mesh.bounding_box_oriented.show()\n",
    "\n"
   ]
  },
  {
   "cell_type": "code",
   "execution_count": null,
   "id": "4fab5445",
   "metadata": {},
   "outputs": [],
   "source": [
    "\n",
    "\n",
    "# bounding spheres and bounding cylinders of meshes are also\n",
    "# available, and will be the minimum volume version of each\n",
    "# except in certain degenerate cases, where they will be no worse\n",
    "# than a least squares fit version of the primitive.\n",
    "print(mesh.bounding_box_oriented.volume, \n",
    "      mesh.bounding_cylinder.volume,\n",
    "      mesh.bounding_sphere.volume)\n",
    "\n"
   ]
  },
  {
   "cell_type": "code",
   "execution_count": null,
   "id": "58964cfe",
   "metadata": {},
   "outputs": [],
   "source": [
    "radii = np.linspace(0.1, 2.0, 10)\n",
    "gauss = np.array([discrete_gaussian_curvature_measure(mesh, mesh.vertices, r)/sphere_ball_intersection(1, r) for r in radii])\n",
    "mean = np.array([discrete_mean_curvature_measure(mesh, mesh.vertices, r)/sphere_ball_intersection(1, r) for r in radii])"
   ]
  },
  {
   "cell_type": "code",
   "execution_count": null,
   "id": "b462762a",
   "metadata": {},
   "outputs": [],
   "source": [
    "plt.figure()\n",
    "plt.plot(radii, gauss.mean(axis=1))\n",
    "plt.title('Gaussian Curvature')\n",
    "plt.show()\n",
    "plt.figure()\n",
    "plt.plot(radii, mean.mean(axis=1))\n",
    "plt.title('Mean Curvature')\n",
    "plt.show();"
   ]
  },
  {
   "cell_type": "code",
   "execution_count": null,
   "id": "4dab295d",
   "metadata": {},
   "outputs": [],
   "source": []
  }
 ],
 "metadata": {
  "kernelspec": {
   "display_name": "Python 3 (ipykernel)",
   "language": "python",
   "name": "python3"
  },
  "language_info": {
   "codemirror_mode": {
    "name": "ipython",
    "version": 3
   },
   "file_extension": ".py",
   "mimetype": "text/x-python",
   "name": "python",
   "nbconvert_exporter": "python",
   "pygments_lexer": "ipython3",
   "version": "3.8.13"
  }
 },
 "nbformat": 4,
 "nbformat_minor": 5
}
